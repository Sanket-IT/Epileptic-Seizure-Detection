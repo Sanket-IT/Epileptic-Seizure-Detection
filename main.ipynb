{
  "nbformat": 4,
  "nbformat_minor": 0,
  "metadata": {
    "colab": {
      "provenance": [],
      "collapsed_sections": [
        "HjXaPE6m4X-R",
        "nuMY_vws4gzy",
        "5SCMo2Zu9o-q"
      ]
    },
    "kernelspec": {
      "name": "python3",
      "display_name": "Python 3"
    },
    "language_info": {
      "name": "python"
    },
    "gpuClass": "standard"
  },
  "cells": [
    {
      "cell_type": "markdown",
      "source": [
        "### Mounting Gdrive"
      ],
      "metadata": {
        "id": "R5Jjxx4d0-Zv"
      }
    },
    {
      "cell_type": "code",
      "source": [
        "from google.colab import drive\n",
        "drive.mount('/content/drive')"
      ],
      "metadata": {
        "colab": {
          "base_uri": "https://localhost:8080/"
        },
        "id": "OGu62BQOwbpf",
        "outputId": "054a508e-3e05-4fe4-823a-d7aaf561624d"
      },
      "execution_count": null,
      "outputs": [
        {
          "output_type": "stream",
          "name": "stdout",
          "text": [
            "Drive already mounted at /content/drive; to attempt to forcibly remount, call drive.mount(\"/content/drive\", force_remount=True).\n"
          ]
        }
      ]
    },
    {
      "cell_type": "markdown",
      "source": [
        "###Import Required Libraries"
      ],
      "metadata": {
        "id": "D6MjSbhg1DPj"
      }
    },
    {
      "cell_type": "code",
      "source": [
        "import pandas as pd\n",
        "import numpy as np\n",
        "import tensorflow as tf\n",
        "from tensorflow.keras.utils import to_categorical\n",
        "from sklearn.preprocessing import StandardScaler\n",
        "from sklearn.model_selection import train_test_split, cross_val_score\n",
        "from tensorflow.keras import Sequential\n",
        "from tensorflow.keras.layers import Dense, Dropout\n",
        "from tensorflow.keras.layers import Embedding\n",
        "from tensorflow.keras.layers import LSTM\n",
        "from sklearn.linear_model import LogisticRegression\n",
        "from sklearn.svm import SVC\n",
        "from sklearn.neighbors import KNeighborsClassifier\n",
        "from sklearn.svm import LinearSVC\n",
        "import warnings\n",
        "from sklearn.metrics import accuracy_score\n",
        "from sklearn.metrics import classification_report\n",
        "warnings.filterwarnings('ignore')\n",
        "import seaborn as sns\n",
        "from sklearn.metrics import confusion_matrix\n",
        "import matplotlib.pyplot as plt"
      ],
      "metadata": {
        "id": "asRxxUrTzjIr"
      },
      "execution_count": null,
      "outputs": []
    },
    {
      "cell_type": "markdown",
      "source": [
        "### Dataframe Enquiry\n"
      ],
      "metadata": {
        "id": "Zq7h6i0S1UoC"
      }
    },
    {
      "cell_type": "code",
      "source": [
        "df = pd.read_csv(\"/content/drive/MyDrive/EDI/Sanket_Im/back_up/Dataset/dataset.csv\")\n",
        "df\n",
        "print(df.shape)"
      ],
      "metadata": {
        "colab": {
          "base_uri": "https://localhost:8080/"
        },
        "id": "XPNuTLB8zx-M",
        "outputId": "50211819-94c6-4de0-a98b-4f58ec30be9e"
      },
      "execution_count": null,
      "outputs": [
        {
          "output_type": "stream",
          "name": "stdout",
          "text": [
            "(11500, 180)\n"
          ]
        }
      ]
    },
    {
      "cell_type": "markdown",
      "source": [
        "### Feature Label extraction"
      ],
      "metadata": {
        "id": "K_XZO5QQ3Jsu"
      }
    },
    {
      "cell_type": "code",
      "source": [
        "X = df.iloc[:,1:-1]\n",
        "y = df.iloc[:,-1:]"
      ],
      "metadata": {
        "id": "X0XkQefh13Ri"
      },
      "execution_count": null,
      "outputs": []
    },
    {
      "cell_type": "markdown",
      "source": [
        "Feature"
      ],
      "metadata": {
        "id": "apBxECNK3OGk"
      }
    },
    {
      "cell_type": "code",
      "source": [
        "X"
      ],
      "metadata": {
        "id": "NH3iED4k3DcC",
        "colab": {
          "base_uri": "https://localhost:8080/",
          "height": 424
        },
        "outputId": "e7bd7a4e-bc75-450f-a6e8-c4a69accdedb"
      },
      "execution_count": null,
      "outputs": [
        {
          "output_type": "execute_result",
          "data": {
            "text/plain": [
              "        X1   X2   X3   X4   X5   X6   X7   X8   X9  X10  ...  X169  X170  \\\n",
              "0      135  190  229  223  192  125   55   -9  -33  -38  ...     8   -17   \n",
              "1      386  382  356  331  320  315  307  272  244  232  ...   168   164   \n",
              "2      -32  -39  -47  -37  -32  -36  -57  -73  -85  -94  ...    29    57   \n",
              "3     -105 -101  -96  -92  -89  -95 -102 -100  -87  -79  ...   -80   -82   \n",
              "4       -9  -65  -98 -102  -78  -48  -16    0  -21  -59  ...    10     4   \n",
              "...    ...  ...  ...  ...  ...  ...  ...  ...  ...  ...  ...   ...   ...   \n",
              "11495  -22  -22  -23  -26  -36  -42  -45  -42  -45  -49  ...    20    15   \n",
              "11496  -47  -11   28   77  141  211  246  240  193  136  ...   -94   -65   \n",
              "11497   14    6  -13  -16   10   26   27   -9    4   14  ...   -42   -65   \n",
              "11498  -40  -25   -9  -12   -2   12    7   19   22   29  ...   114   121   \n",
              "11499   29   41   57   72   74   62   54   43   31   23  ...   -94   -59   \n",
              "\n",
              "       X171  X172  X173  X174  X175  X176  X177  X178  \n",
              "0       -15   -31   -77  -103  -127  -116   -83   -51  \n",
              "1       150   146   152   157   156   154   143   129  \n",
              "2        64    48    19   -12   -30   -35   -35   -36  \n",
              "3       -81   -80   -77   -85   -77   -72   -69   -65  \n",
              "4         2   -12   -32   -41   -65   -83   -89   -73  \n",
              "...     ...   ...   ...   ...   ...   ...   ...   ...  \n",
              "11495    16    12     5    -1   -18   -37   -47   -48  \n",
              "11496   -33    -7    14    27    48    77   117   170  \n",
              "11497   -48   -61   -62   -67   -30    -2    -1    -8  \n",
              "11498   135   148   143   116    86    68    59    55  \n",
              "11499   -25    -4     2     5     4    -2     2    20  \n",
              "\n",
              "[11500 rows x 178 columns]"
            ],
            "text/html": [
              "\n",
              "  <div id=\"df-04ee2de8-06bb-4bda-84c9-7a901721ed6c\">\n",
              "    <div class=\"colab-df-container\">\n",
              "      <div>\n",
              "<style scoped>\n",
              "    .dataframe tbody tr th:only-of-type {\n",
              "        vertical-align: middle;\n",
              "    }\n",
              "\n",
              "    .dataframe tbody tr th {\n",
              "        vertical-align: top;\n",
              "    }\n",
              "\n",
              "    .dataframe thead th {\n",
              "        text-align: right;\n",
              "    }\n",
              "</style>\n",
              "<table border=\"1\" class=\"dataframe\">\n",
              "  <thead>\n",
              "    <tr style=\"text-align: right;\">\n",
              "      <th></th>\n",
              "      <th>X1</th>\n",
              "      <th>X2</th>\n",
              "      <th>X3</th>\n",
              "      <th>X4</th>\n",
              "      <th>X5</th>\n",
              "      <th>X6</th>\n",
              "      <th>X7</th>\n",
              "      <th>X8</th>\n",
              "      <th>X9</th>\n",
              "      <th>X10</th>\n",
              "      <th>...</th>\n",
              "      <th>X169</th>\n",
              "      <th>X170</th>\n",
              "      <th>X171</th>\n",
              "      <th>X172</th>\n",
              "      <th>X173</th>\n",
              "      <th>X174</th>\n",
              "      <th>X175</th>\n",
              "      <th>X176</th>\n",
              "      <th>X177</th>\n",
              "      <th>X178</th>\n",
              "    </tr>\n",
              "  </thead>\n",
              "  <tbody>\n",
              "    <tr>\n",
              "      <th>0</th>\n",
              "      <td>135</td>\n",
              "      <td>190</td>\n",
              "      <td>229</td>\n",
              "      <td>223</td>\n",
              "      <td>192</td>\n",
              "      <td>125</td>\n",
              "      <td>55</td>\n",
              "      <td>-9</td>\n",
              "      <td>-33</td>\n",
              "      <td>-38</td>\n",
              "      <td>...</td>\n",
              "      <td>8</td>\n",
              "      <td>-17</td>\n",
              "      <td>-15</td>\n",
              "      <td>-31</td>\n",
              "      <td>-77</td>\n",
              "      <td>-103</td>\n",
              "      <td>-127</td>\n",
              "      <td>-116</td>\n",
              "      <td>-83</td>\n",
              "      <td>-51</td>\n",
              "    </tr>\n",
              "    <tr>\n",
              "      <th>1</th>\n",
              "      <td>386</td>\n",
              "      <td>382</td>\n",
              "      <td>356</td>\n",
              "      <td>331</td>\n",
              "      <td>320</td>\n",
              "      <td>315</td>\n",
              "      <td>307</td>\n",
              "      <td>272</td>\n",
              "      <td>244</td>\n",
              "      <td>232</td>\n",
              "      <td>...</td>\n",
              "      <td>168</td>\n",
              "      <td>164</td>\n",
              "      <td>150</td>\n",
              "      <td>146</td>\n",
              "      <td>152</td>\n",
              "      <td>157</td>\n",
              "      <td>156</td>\n",
              "      <td>154</td>\n",
              "      <td>143</td>\n",
              "      <td>129</td>\n",
              "    </tr>\n",
              "    <tr>\n",
              "      <th>2</th>\n",
              "      <td>-32</td>\n",
              "      <td>-39</td>\n",
              "      <td>-47</td>\n",
              "      <td>-37</td>\n",
              "      <td>-32</td>\n",
              "      <td>-36</td>\n",
              "      <td>-57</td>\n",
              "      <td>-73</td>\n",
              "      <td>-85</td>\n",
              "      <td>-94</td>\n",
              "      <td>...</td>\n",
              "      <td>29</td>\n",
              "      <td>57</td>\n",
              "      <td>64</td>\n",
              "      <td>48</td>\n",
              "      <td>19</td>\n",
              "      <td>-12</td>\n",
              "      <td>-30</td>\n",
              "      <td>-35</td>\n",
              "      <td>-35</td>\n",
              "      <td>-36</td>\n",
              "    </tr>\n",
              "    <tr>\n",
              "      <th>3</th>\n",
              "      <td>-105</td>\n",
              "      <td>-101</td>\n",
              "      <td>-96</td>\n",
              "      <td>-92</td>\n",
              "      <td>-89</td>\n",
              "      <td>-95</td>\n",
              "      <td>-102</td>\n",
              "      <td>-100</td>\n",
              "      <td>-87</td>\n",
              "      <td>-79</td>\n",
              "      <td>...</td>\n",
              "      <td>-80</td>\n",
              "      <td>-82</td>\n",
              "      <td>-81</td>\n",
              "      <td>-80</td>\n",
              "      <td>-77</td>\n",
              "      <td>-85</td>\n",
              "      <td>-77</td>\n",
              "      <td>-72</td>\n",
              "      <td>-69</td>\n",
              "      <td>-65</td>\n",
              "    </tr>\n",
              "    <tr>\n",
              "      <th>4</th>\n",
              "      <td>-9</td>\n",
              "      <td>-65</td>\n",
              "      <td>-98</td>\n",
              "      <td>-102</td>\n",
              "      <td>-78</td>\n",
              "      <td>-48</td>\n",
              "      <td>-16</td>\n",
              "      <td>0</td>\n",
              "      <td>-21</td>\n",
              "      <td>-59</td>\n",
              "      <td>...</td>\n",
              "      <td>10</td>\n",
              "      <td>4</td>\n",
              "      <td>2</td>\n",
              "      <td>-12</td>\n",
              "      <td>-32</td>\n",
              "      <td>-41</td>\n",
              "      <td>-65</td>\n",
              "      <td>-83</td>\n",
              "      <td>-89</td>\n",
              "      <td>-73</td>\n",
              "    </tr>\n",
              "    <tr>\n",
              "      <th>...</th>\n",
              "      <td>...</td>\n",
              "      <td>...</td>\n",
              "      <td>...</td>\n",
              "      <td>...</td>\n",
              "      <td>...</td>\n",
              "      <td>...</td>\n",
              "      <td>...</td>\n",
              "      <td>...</td>\n",
              "      <td>...</td>\n",
              "      <td>...</td>\n",
              "      <td>...</td>\n",
              "      <td>...</td>\n",
              "      <td>...</td>\n",
              "      <td>...</td>\n",
              "      <td>...</td>\n",
              "      <td>...</td>\n",
              "      <td>...</td>\n",
              "      <td>...</td>\n",
              "      <td>...</td>\n",
              "      <td>...</td>\n",
              "      <td>...</td>\n",
              "    </tr>\n",
              "    <tr>\n",
              "      <th>11495</th>\n",
              "      <td>-22</td>\n",
              "      <td>-22</td>\n",
              "      <td>-23</td>\n",
              "      <td>-26</td>\n",
              "      <td>-36</td>\n",
              "      <td>-42</td>\n",
              "      <td>-45</td>\n",
              "      <td>-42</td>\n",
              "      <td>-45</td>\n",
              "      <td>-49</td>\n",
              "      <td>...</td>\n",
              "      <td>20</td>\n",
              "      <td>15</td>\n",
              "      <td>16</td>\n",
              "      <td>12</td>\n",
              "      <td>5</td>\n",
              "      <td>-1</td>\n",
              "      <td>-18</td>\n",
              "      <td>-37</td>\n",
              "      <td>-47</td>\n",
              "      <td>-48</td>\n",
              "    </tr>\n",
              "    <tr>\n",
              "      <th>11496</th>\n",
              "      <td>-47</td>\n",
              "      <td>-11</td>\n",
              "      <td>28</td>\n",
              "      <td>77</td>\n",
              "      <td>141</td>\n",
              "      <td>211</td>\n",
              "      <td>246</td>\n",
              "      <td>240</td>\n",
              "      <td>193</td>\n",
              "      <td>136</td>\n",
              "      <td>...</td>\n",
              "      <td>-94</td>\n",
              "      <td>-65</td>\n",
              "      <td>-33</td>\n",
              "      <td>-7</td>\n",
              "      <td>14</td>\n",
              "      <td>27</td>\n",
              "      <td>48</td>\n",
              "      <td>77</td>\n",
              "      <td>117</td>\n",
              "      <td>170</td>\n",
              "    </tr>\n",
              "    <tr>\n",
              "      <th>11497</th>\n",
              "      <td>14</td>\n",
              "      <td>6</td>\n",
              "      <td>-13</td>\n",
              "      <td>-16</td>\n",
              "      <td>10</td>\n",
              "      <td>26</td>\n",
              "      <td>27</td>\n",
              "      <td>-9</td>\n",
              "      <td>4</td>\n",
              "      <td>14</td>\n",
              "      <td>...</td>\n",
              "      <td>-42</td>\n",
              "      <td>-65</td>\n",
              "      <td>-48</td>\n",
              "      <td>-61</td>\n",
              "      <td>-62</td>\n",
              "      <td>-67</td>\n",
              "      <td>-30</td>\n",
              "      <td>-2</td>\n",
              "      <td>-1</td>\n",
              "      <td>-8</td>\n",
              "    </tr>\n",
              "    <tr>\n",
              "      <th>11498</th>\n",
              "      <td>-40</td>\n",
              "      <td>-25</td>\n",
              "      <td>-9</td>\n",
              "      <td>-12</td>\n",
              "      <td>-2</td>\n",
              "      <td>12</td>\n",
              "      <td>7</td>\n",
              "      <td>19</td>\n",
              "      <td>22</td>\n",
              "      <td>29</td>\n",
              "      <td>...</td>\n",
              "      <td>114</td>\n",
              "      <td>121</td>\n",
              "      <td>135</td>\n",
              "      <td>148</td>\n",
              "      <td>143</td>\n",
              "      <td>116</td>\n",
              "      <td>86</td>\n",
              "      <td>68</td>\n",
              "      <td>59</td>\n",
              "      <td>55</td>\n",
              "    </tr>\n",
              "    <tr>\n",
              "      <th>11499</th>\n",
              "      <td>29</td>\n",
              "      <td>41</td>\n",
              "      <td>57</td>\n",
              "      <td>72</td>\n",
              "      <td>74</td>\n",
              "      <td>62</td>\n",
              "      <td>54</td>\n",
              "      <td>43</td>\n",
              "      <td>31</td>\n",
              "      <td>23</td>\n",
              "      <td>...</td>\n",
              "      <td>-94</td>\n",
              "      <td>-59</td>\n",
              "      <td>-25</td>\n",
              "      <td>-4</td>\n",
              "      <td>2</td>\n",
              "      <td>5</td>\n",
              "      <td>4</td>\n",
              "      <td>-2</td>\n",
              "      <td>2</td>\n",
              "      <td>20</td>\n",
              "    </tr>\n",
              "  </tbody>\n",
              "</table>\n",
              "<p>11500 rows × 178 columns</p>\n",
              "</div>\n",
              "      <button class=\"colab-df-convert\" onclick=\"convertToInteractive('df-04ee2de8-06bb-4bda-84c9-7a901721ed6c')\"\n",
              "              title=\"Convert this dataframe to an interactive table.\"\n",
              "              style=\"display:none;\">\n",
              "        \n",
              "  <svg xmlns=\"http://www.w3.org/2000/svg\" height=\"24px\"viewBox=\"0 0 24 24\"\n",
              "       width=\"24px\">\n",
              "    <path d=\"M0 0h24v24H0V0z\" fill=\"none\"/>\n",
              "    <path d=\"M18.56 5.44l.94 2.06.94-2.06 2.06-.94-2.06-.94-.94-2.06-.94 2.06-2.06.94zm-11 1L8.5 8.5l.94-2.06 2.06-.94-2.06-.94L8.5 2.5l-.94 2.06-2.06.94zm10 10l.94 2.06.94-2.06 2.06-.94-2.06-.94-.94-2.06-.94 2.06-2.06.94z\"/><path d=\"M17.41 7.96l-1.37-1.37c-.4-.4-.92-.59-1.43-.59-.52 0-1.04.2-1.43.59L10.3 9.45l-7.72 7.72c-.78.78-.78 2.05 0 2.83L4 21.41c.39.39.9.59 1.41.59.51 0 1.02-.2 1.41-.59l7.78-7.78 2.81-2.81c.8-.78.8-2.07 0-2.86zM5.41 20L4 18.59l7.72-7.72 1.47 1.35L5.41 20z\"/>\n",
              "  </svg>\n",
              "      </button>\n",
              "      \n",
              "  <style>\n",
              "    .colab-df-container {\n",
              "      display:flex;\n",
              "      flex-wrap:wrap;\n",
              "      gap: 12px;\n",
              "    }\n",
              "\n",
              "    .colab-df-convert {\n",
              "      background-color: #E8F0FE;\n",
              "      border: none;\n",
              "      border-radius: 50%;\n",
              "      cursor: pointer;\n",
              "      display: none;\n",
              "      fill: #1967D2;\n",
              "      height: 32px;\n",
              "      padding: 0 0 0 0;\n",
              "      width: 32px;\n",
              "    }\n",
              "\n",
              "    .colab-df-convert:hover {\n",
              "      background-color: #E2EBFA;\n",
              "      box-shadow: 0px 1px 2px rgba(60, 64, 67, 0.3), 0px 1px 3px 1px rgba(60, 64, 67, 0.15);\n",
              "      fill: #174EA6;\n",
              "    }\n",
              "\n",
              "    [theme=dark] .colab-df-convert {\n",
              "      background-color: #3B4455;\n",
              "      fill: #D2E3FC;\n",
              "    }\n",
              "\n",
              "    [theme=dark] .colab-df-convert:hover {\n",
              "      background-color: #434B5C;\n",
              "      box-shadow: 0px 1px 3px 1px rgba(0, 0, 0, 0.15);\n",
              "      filter: drop-shadow(0px 1px 2px rgba(0, 0, 0, 0.3));\n",
              "      fill: #FFFFFF;\n",
              "    }\n",
              "  </style>\n",
              "\n",
              "      <script>\n",
              "        const buttonEl =\n",
              "          document.querySelector('#df-04ee2de8-06bb-4bda-84c9-7a901721ed6c button.colab-df-convert');\n",
              "        buttonEl.style.display =\n",
              "          google.colab.kernel.accessAllowed ? 'block' : 'none';\n",
              "\n",
              "        async function convertToInteractive(key) {\n",
              "          const element = document.querySelector('#df-04ee2de8-06bb-4bda-84c9-7a901721ed6c');\n",
              "          const dataTable =\n",
              "            await google.colab.kernel.invokeFunction('convertToInteractive',\n",
              "                                                     [key], {});\n",
              "          if (!dataTable) return;\n",
              "\n",
              "          const docLinkHtml = 'Like what you see? Visit the ' +\n",
              "            '<a target=\"_blank\" href=https://colab.research.google.com/notebooks/data_table.ipynb>data table notebook</a>'\n",
              "            + ' to learn more about interactive tables.';\n",
              "          element.innerHTML = '';\n",
              "          dataTable['output_type'] = 'display_data';\n",
              "          await google.colab.output.renderOutput(dataTable, element);\n",
              "          const docLink = document.createElement('div');\n",
              "          docLink.innerHTML = docLinkHtml;\n",
              "          element.appendChild(docLink);\n",
              "        }\n",
              "      </script>\n",
              "    </div>\n",
              "  </div>\n",
              "  "
            ]
          },
          "metadata": {},
          "execution_count": 123
        }
      ]
    },
    {
      "cell_type": "markdown",
      "source": [
        "Label\n"
      ],
      "metadata": {
        "id": "GGy_lI3b3RPZ"
      }
    },
    {
      "cell_type": "code",
      "source": [
        "y"
      ],
      "metadata": {
        "id": "1DfH6WnK3SjB",
        "colab": {
          "base_uri": "https://localhost:8080/",
          "height": 424
        },
        "outputId": "87e3caf5-b438-4e20-dc96-12e7d2e4d6e0"
      },
      "execution_count": null,
      "outputs": [
        {
          "output_type": "execute_result",
          "data": {
            "text/plain": [
              "       y\n",
              "0      4\n",
              "1      1\n",
              "2      5\n",
              "3      5\n",
              "4      5\n",
              "...   ..\n",
              "11495  2\n",
              "11496  1\n",
              "11497  5\n",
              "11498  3\n",
              "11499  4\n",
              "\n",
              "[11500 rows x 1 columns]"
            ],
            "text/html": [
              "\n",
              "  <div id=\"df-1b4abdbf-b8b1-403c-8102-11fac9966317\">\n",
              "    <div class=\"colab-df-container\">\n",
              "      <div>\n",
              "<style scoped>\n",
              "    .dataframe tbody tr th:only-of-type {\n",
              "        vertical-align: middle;\n",
              "    }\n",
              "\n",
              "    .dataframe tbody tr th {\n",
              "        vertical-align: top;\n",
              "    }\n",
              "\n",
              "    .dataframe thead th {\n",
              "        text-align: right;\n",
              "    }\n",
              "</style>\n",
              "<table border=\"1\" class=\"dataframe\">\n",
              "  <thead>\n",
              "    <tr style=\"text-align: right;\">\n",
              "      <th></th>\n",
              "      <th>y</th>\n",
              "    </tr>\n",
              "  </thead>\n",
              "  <tbody>\n",
              "    <tr>\n",
              "      <th>0</th>\n",
              "      <td>4</td>\n",
              "    </tr>\n",
              "    <tr>\n",
              "      <th>1</th>\n",
              "      <td>1</td>\n",
              "    </tr>\n",
              "    <tr>\n",
              "      <th>2</th>\n",
              "      <td>5</td>\n",
              "    </tr>\n",
              "    <tr>\n",
              "      <th>3</th>\n",
              "      <td>5</td>\n",
              "    </tr>\n",
              "    <tr>\n",
              "      <th>4</th>\n",
              "      <td>5</td>\n",
              "    </tr>\n",
              "    <tr>\n",
              "      <th>...</th>\n",
              "      <td>...</td>\n",
              "    </tr>\n",
              "    <tr>\n",
              "      <th>11495</th>\n",
              "      <td>2</td>\n",
              "    </tr>\n",
              "    <tr>\n",
              "      <th>11496</th>\n",
              "      <td>1</td>\n",
              "    </tr>\n",
              "    <tr>\n",
              "      <th>11497</th>\n",
              "      <td>5</td>\n",
              "    </tr>\n",
              "    <tr>\n",
              "      <th>11498</th>\n",
              "      <td>3</td>\n",
              "    </tr>\n",
              "    <tr>\n",
              "      <th>11499</th>\n",
              "      <td>4</td>\n",
              "    </tr>\n",
              "  </tbody>\n",
              "</table>\n",
              "<p>11500 rows × 1 columns</p>\n",
              "</div>\n",
              "      <button class=\"colab-df-convert\" onclick=\"convertToInteractive('df-1b4abdbf-b8b1-403c-8102-11fac9966317')\"\n",
              "              title=\"Convert this dataframe to an interactive table.\"\n",
              "              style=\"display:none;\">\n",
              "        \n",
              "  <svg xmlns=\"http://www.w3.org/2000/svg\" height=\"24px\"viewBox=\"0 0 24 24\"\n",
              "       width=\"24px\">\n",
              "    <path d=\"M0 0h24v24H0V0z\" fill=\"none\"/>\n",
              "    <path d=\"M18.56 5.44l.94 2.06.94-2.06 2.06-.94-2.06-.94-.94-2.06-.94 2.06-2.06.94zm-11 1L8.5 8.5l.94-2.06 2.06-.94-2.06-.94L8.5 2.5l-.94 2.06-2.06.94zm10 10l.94 2.06.94-2.06 2.06-.94-2.06-.94-.94-2.06-.94 2.06-2.06.94z\"/><path d=\"M17.41 7.96l-1.37-1.37c-.4-.4-.92-.59-1.43-.59-.52 0-1.04.2-1.43.59L10.3 9.45l-7.72 7.72c-.78.78-.78 2.05 0 2.83L4 21.41c.39.39.9.59 1.41.59.51 0 1.02-.2 1.41-.59l7.78-7.78 2.81-2.81c.8-.78.8-2.07 0-2.86zM5.41 20L4 18.59l7.72-7.72 1.47 1.35L5.41 20z\"/>\n",
              "  </svg>\n",
              "      </button>\n",
              "      \n",
              "  <style>\n",
              "    .colab-df-container {\n",
              "      display:flex;\n",
              "      flex-wrap:wrap;\n",
              "      gap: 12px;\n",
              "    }\n",
              "\n",
              "    .colab-df-convert {\n",
              "      background-color: #E8F0FE;\n",
              "      border: none;\n",
              "      border-radius: 50%;\n",
              "      cursor: pointer;\n",
              "      display: none;\n",
              "      fill: #1967D2;\n",
              "      height: 32px;\n",
              "      padding: 0 0 0 0;\n",
              "      width: 32px;\n",
              "    }\n",
              "\n",
              "    .colab-df-convert:hover {\n",
              "      background-color: #E2EBFA;\n",
              "      box-shadow: 0px 1px 2px rgba(60, 64, 67, 0.3), 0px 1px 3px 1px rgba(60, 64, 67, 0.15);\n",
              "      fill: #174EA6;\n",
              "    }\n",
              "\n",
              "    [theme=dark] .colab-df-convert {\n",
              "      background-color: #3B4455;\n",
              "      fill: #D2E3FC;\n",
              "    }\n",
              "\n",
              "    [theme=dark] .colab-df-convert:hover {\n",
              "      background-color: #434B5C;\n",
              "      box-shadow: 0px 1px 3px 1px rgba(0, 0, 0, 0.15);\n",
              "      filter: drop-shadow(0px 1px 2px rgba(0, 0, 0, 0.3));\n",
              "      fill: #FFFFFF;\n",
              "    }\n",
              "  </style>\n",
              "\n",
              "      <script>\n",
              "        const buttonEl =\n",
              "          document.querySelector('#df-1b4abdbf-b8b1-403c-8102-11fac9966317 button.colab-df-convert');\n",
              "        buttonEl.style.display =\n",
              "          google.colab.kernel.accessAllowed ? 'block' : 'none';\n",
              "\n",
              "        async function convertToInteractive(key) {\n",
              "          const element = document.querySelector('#df-1b4abdbf-b8b1-403c-8102-11fac9966317');\n",
              "          const dataTable =\n",
              "            await google.colab.kernel.invokeFunction('convertToInteractive',\n",
              "                                                     [key], {});\n",
              "          if (!dataTable) return;\n",
              "\n",
              "          const docLinkHtml = 'Like what you see? Visit the ' +\n",
              "            '<a target=\"_blank\" href=https://colab.research.google.com/notebooks/data_table.ipynb>data table notebook</a>'\n",
              "            + ' to learn more about interactive tables.';\n",
              "          element.innerHTML = '';\n",
              "          dataTable['output_type'] = 'display_data';\n",
              "          await google.colab.output.renderOutput(dataTable, element);\n",
              "          const docLink = document.createElement('div');\n",
              "          docLink.innerHTML = docLinkHtml;\n",
              "          element.appendChild(docLink);\n",
              "        }\n",
              "      </script>\n",
              "    </div>\n",
              "  </div>\n",
              "  "
            ]
          },
          "metadata": {},
          "execution_count": 124
        }
      ]
    },
    {
      "cell_type": "markdown",
      "source": [
        "### Feature Engineering"
      ],
      "metadata": {
        "id": "iebCP7AR3vYC"
      }
    },
    {
      "cell_type": "markdown",
      "source": [
        "#### Multi label to binary label conversion"
      ],
      "metadata": {
        "id": "4rh7-z-m4EnZ"
      }
    },
    {
      "cell_type": "code",
      "source": [
        "def toBinary(x):\n",
        "    if x != 1: return 0;\n",
        "    else: return 1;"
      ],
      "metadata": {
        "id": "GWe5qER_0pIN"
      },
      "execution_count": null,
      "outputs": []
    },
    {
      "cell_type": "code",
      "source": [
        "y = y['y'].apply(toBinary)\n",
        "y = pd.DataFrame(data=y)\n",
        "y"
      ],
      "metadata": {
        "colab": {
          "base_uri": "https://localhost:8080/",
          "height": 424
        },
        "id": "4HXmsAwD1a90",
        "outputId": "5fde8e0d-414c-4731-fcaf-dd5524d42413"
      },
      "execution_count": null,
      "outputs": [
        {
          "output_type": "execute_result",
          "data": {
            "text/plain": [
              "       y\n",
              "0      0\n",
              "1      1\n",
              "2      0\n",
              "3      0\n",
              "4      0\n",
              "...   ..\n",
              "11495  0\n",
              "11496  1\n",
              "11497  0\n",
              "11498  0\n",
              "11499  0\n",
              "\n",
              "[11500 rows x 1 columns]"
            ],
            "text/html": [
              "\n",
              "  <div id=\"df-4d53802a-c0d0-45fb-9d5b-8bb2b3e87b68\">\n",
              "    <div class=\"colab-df-container\">\n",
              "      <div>\n",
              "<style scoped>\n",
              "    .dataframe tbody tr th:only-of-type {\n",
              "        vertical-align: middle;\n",
              "    }\n",
              "\n",
              "    .dataframe tbody tr th {\n",
              "        vertical-align: top;\n",
              "    }\n",
              "\n",
              "    .dataframe thead th {\n",
              "        text-align: right;\n",
              "    }\n",
              "</style>\n",
              "<table border=\"1\" class=\"dataframe\">\n",
              "  <thead>\n",
              "    <tr style=\"text-align: right;\">\n",
              "      <th></th>\n",
              "      <th>y</th>\n",
              "    </tr>\n",
              "  </thead>\n",
              "  <tbody>\n",
              "    <tr>\n",
              "      <th>0</th>\n",
              "      <td>0</td>\n",
              "    </tr>\n",
              "    <tr>\n",
              "      <th>1</th>\n",
              "      <td>1</td>\n",
              "    </tr>\n",
              "    <tr>\n",
              "      <th>2</th>\n",
              "      <td>0</td>\n",
              "    </tr>\n",
              "    <tr>\n",
              "      <th>3</th>\n",
              "      <td>0</td>\n",
              "    </tr>\n",
              "    <tr>\n",
              "      <th>4</th>\n",
              "      <td>0</td>\n",
              "    </tr>\n",
              "    <tr>\n",
              "      <th>...</th>\n",
              "      <td>...</td>\n",
              "    </tr>\n",
              "    <tr>\n",
              "      <th>11495</th>\n",
              "      <td>0</td>\n",
              "    </tr>\n",
              "    <tr>\n",
              "      <th>11496</th>\n",
              "      <td>1</td>\n",
              "    </tr>\n",
              "    <tr>\n",
              "      <th>11497</th>\n",
              "      <td>0</td>\n",
              "    </tr>\n",
              "    <tr>\n",
              "      <th>11498</th>\n",
              "      <td>0</td>\n",
              "    </tr>\n",
              "    <tr>\n",
              "      <th>11499</th>\n",
              "      <td>0</td>\n",
              "    </tr>\n",
              "  </tbody>\n",
              "</table>\n",
              "<p>11500 rows × 1 columns</p>\n",
              "</div>\n",
              "      <button class=\"colab-df-convert\" onclick=\"convertToInteractive('df-4d53802a-c0d0-45fb-9d5b-8bb2b3e87b68')\"\n",
              "              title=\"Convert this dataframe to an interactive table.\"\n",
              "              style=\"display:none;\">\n",
              "        \n",
              "  <svg xmlns=\"http://www.w3.org/2000/svg\" height=\"24px\"viewBox=\"0 0 24 24\"\n",
              "       width=\"24px\">\n",
              "    <path d=\"M0 0h24v24H0V0z\" fill=\"none\"/>\n",
              "    <path d=\"M18.56 5.44l.94 2.06.94-2.06 2.06-.94-2.06-.94-.94-2.06-.94 2.06-2.06.94zm-11 1L8.5 8.5l.94-2.06 2.06-.94-2.06-.94L8.5 2.5l-.94 2.06-2.06.94zm10 10l.94 2.06.94-2.06 2.06-.94-2.06-.94-.94-2.06-.94 2.06-2.06.94z\"/><path d=\"M17.41 7.96l-1.37-1.37c-.4-.4-.92-.59-1.43-.59-.52 0-1.04.2-1.43.59L10.3 9.45l-7.72 7.72c-.78.78-.78 2.05 0 2.83L4 21.41c.39.39.9.59 1.41.59.51 0 1.02-.2 1.41-.59l7.78-7.78 2.81-2.81c.8-.78.8-2.07 0-2.86zM5.41 20L4 18.59l7.72-7.72 1.47 1.35L5.41 20z\"/>\n",
              "  </svg>\n",
              "      </button>\n",
              "      \n",
              "  <style>\n",
              "    .colab-df-container {\n",
              "      display:flex;\n",
              "      flex-wrap:wrap;\n",
              "      gap: 12px;\n",
              "    }\n",
              "\n",
              "    .colab-df-convert {\n",
              "      background-color: #E8F0FE;\n",
              "      border: none;\n",
              "      border-radius: 50%;\n",
              "      cursor: pointer;\n",
              "      display: none;\n",
              "      fill: #1967D2;\n",
              "      height: 32px;\n",
              "      padding: 0 0 0 0;\n",
              "      width: 32px;\n",
              "    }\n",
              "\n",
              "    .colab-df-convert:hover {\n",
              "      background-color: #E2EBFA;\n",
              "      box-shadow: 0px 1px 2px rgba(60, 64, 67, 0.3), 0px 1px 3px 1px rgba(60, 64, 67, 0.15);\n",
              "      fill: #174EA6;\n",
              "    }\n",
              "\n",
              "    [theme=dark] .colab-df-convert {\n",
              "      background-color: #3B4455;\n",
              "      fill: #D2E3FC;\n",
              "    }\n",
              "\n",
              "    [theme=dark] .colab-df-convert:hover {\n",
              "      background-color: #434B5C;\n",
              "      box-shadow: 0px 1px 3px 1px rgba(0, 0, 0, 0.15);\n",
              "      filter: drop-shadow(0px 1px 2px rgba(0, 0, 0, 0.3));\n",
              "      fill: #FFFFFF;\n",
              "    }\n",
              "  </style>\n",
              "\n",
              "      <script>\n",
              "        const buttonEl =\n",
              "          document.querySelector('#df-4d53802a-c0d0-45fb-9d5b-8bb2b3e87b68 button.colab-df-convert');\n",
              "        buttonEl.style.display =\n",
              "          google.colab.kernel.accessAllowed ? 'block' : 'none';\n",
              "\n",
              "        async function convertToInteractive(key) {\n",
              "          const element = document.querySelector('#df-4d53802a-c0d0-45fb-9d5b-8bb2b3e87b68');\n",
              "          const dataTable =\n",
              "            await google.colab.kernel.invokeFunction('convertToInteractive',\n",
              "                                                     [key], {});\n",
              "          if (!dataTable) return;\n",
              "\n",
              "          const docLinkHtml = 'Like what you see? Visit the ' +\n",
              "            '<a target=\"_blank\" href=https://colab.research.google.com/notebooks/data_table.ipynb>data table notebook</a>'\n",
              "            + ' to learn more about interactive tables.';\n",
              "          element.innerHTML = '';\n",
              "          dataTable['output_type'] = 'display_data';\n",
              "          await google.colab.output.renderOutput(dataTable, element);\n",
              "          const docLink = document.createElement('div');\n",
              "          docLink.innerHTML = docLinkHtml;\n",
              "          element.appendChild(docLink);\n",
              "        }\n",
              "      </script>\n",
              "    </div>\n",
              "  </div>\n",
              "  "
            ]
          },
          "metadata": {},
          "execution_count": 126
        }
      ]
    },
    {
      "cell_type": "markdown",
      "source": [
        "#### Feature Scaling"
      ],
      "metadata": {
        "id": "HjXaPE6m4X-R"
      }
    },
    {
      "cell_type": "code",
      "source": [
        "X"
      ],
      "metadata": {
        "id": "wRHvTMhS5Not",
        "colab": {
          "base_uri": "https://localhost:8080/"
        },
        "outputId": "62126a86-584d-49ca-f152-7c83cf589f98"
      },
      "execution_count": null,
      "outputs": [
        {
          "output_type": "execute_result",
          "data": {
            "text/plain": [
              "        X1   X2   X3   X4   X5   X6   X7   X8   X9  X10  ...  X169  X170  \\\n",
              "0      135  190  229  223  192  125   55   -9  -33  -38  ...     8   -17   \n",
              "1      386  382  356  331  320  315  307  272  244  232  ...   168   164   \n",
              "2      -32  -39  -47  -37  -32  -36  -57  -73  -85  -94  ...    29    57   \n",
              "3     -105 -101  -96  -92  -89  -95 -102 -100  -87  -79  ...   -80   -82   \n",
              "4       -9  -65  -98 -102  -78  -48  -16    0  -21  -59  ...    10     4   \n",
              "...    ...  ...  ...  ...  ...  ...  ...  ...  ...  ...  ...   ...   ...   \n",
              "11495  -22  -22  -23  -26  -36  -42  -45  -42  -45  -49  ...    20    15   \n",
              "11496  -47  -11   28   77  141  211  246  240  193  136  ...   -94   -65   \n",
              "11497   14    6  -13  -16   10   26   27   -9    4   14  ...   -42   -65   \n",
              "11498  -40  -25   -9  -12   -2   12    7   19   22   29  ...   114   121   \n",
              "11499   29   41   57   72   74   62   54   43   31   23  ...   -94   -59   \n",
              "\n",
              "       X171  X172  X173  X174  X175  X176  X177  X178  \n",
              "0       -15   -31   -77  -103  -127  -116   -83   -51  \n",
              "1       150   146   152   157   156   154   143   129  \n",
              "2        64    48    19   -12   -30   -35   -35   -36  \n",
              "3       -81   -80   -77   -85   -77   -72   -69   -65  \n",
              "4         2   -12   -32   -41   -65   -83   -89   -73  \n",
              "...     ...   ...   ...   ...   ...   ...   ...   ...  \n",
              "11495    16    12     5    -1   -18   -37   -47   -48  \n",
              "11496   -33    -7    14    27    48    77   117   170  \n",
              "11497   -48   -61   -62   -67   -30    -2    -1    -8  \n",
              "11498   135   148   143   116    86    68    59    55  \n",
              "11499   -25    -4     2     5     4    -2     2    20  \n",
              "\n",
              "[11500 rows x 178 columns]"
            ],
            "text/html": [
              "\n",
              "  <div id=\"df-d5f39b7a-4bcb-4596-ae40-ece9d86fd98c\">\n",
              "    <div class=\"colab-df-container\">\n",
              "      <div>\n",
              "<style scoped>\n",
              "    .dataframe tbody tr th:only-of-type {\n",
              "        vertical-align: middle;\n",
              "    }\n",
              "\n",
              "    .dataframe tbody tr th {\n",
              "        vertical-align: top;\n",
              "    }\n",
              "\n",
              "    .dataframe thead th {\n",
              "        text-align: right;\n",
              "    }\n",
              "</style>\n",
              "<table border=\"1\" class=\"dataframe\">\n",
              "  <thead>\n",
              "    <tr style=\"text-align: right;\">\n",
              "      <th></th>\n",
              "      <th>X1</th>\n",
              "      <th>X2</th>\n",
              "      <th>X3</th>\n",
              "      <th>X4</th>\n",
              "      <th>X5</th>\n",
              "      <th>X6</th>\n",
              "      <th>X7</th>\n",
              "      <th>X8</th>\n",
              "      <th>X9</th>\n",
              "      <th>X10</th>\n",
              "      <th>...</th>\n",
              "      <th>X169</th>\n",
              "      <th>X170</th>\n",
              "      <th>X171</th>\n",
              "      <th>X172</th>\n",
              "      <th>X173</th>\n",
              "      <th>X174</th>\n",
              "      <th>X175</th>\n",
              "      <th>X176</th>\n",
              "      <th>X177</th>\n",
              "      <th>X178</th>\n",
              "    </tr>\n",
              "  </thead>\n",
              "  <tbody>\n",
              "    <tr>\n",
              "      <th>0</th>\n",
              "      <td>135</td>\n",
              "      <td>190</td>\n",
              "      <td>229</td>\n",
              "      <td>223</td>\n",
              "      <td>192</td>\n",
              "      <td>125</td>\n",
              "      <td>55</td>\n",
              "      <td>-9</td>\n",
              "      <td>-33</td>\n",
              "      <td>-38</td>\n",
              "      <td>...</td>\n",
              "      <td>8</td>\n",
              "      <td>-17</td>\n",
              "      <td>-15</td>\n",
              "      <td>-31</td>\n",
              "      <td>-77</td>\n",
              "      <td>-103</td>\n",
              "      <td>-127</td>\n",
              "      <td>-116</td>\n",
              "      <td>-83</td>\n",
              "      <td>-51</td>\n",
              "    </tr>\n",
              "    <tr>\n",
              "      <th>1</th>\n",
              "      <td>386</td>\n",
              "      <td>382</td>\n",
              "      <td>356</td>\n",
              "      <td>331</td>\n",
              "      <td>320</td>\n",
              "      <td>315</td>\n",
              "      <td>307</td>\n",
              "      <td>272</td>\n",
              "      <td>244</td>\n",
              "      <td>232</td>\n",
              "      <td>...</td>\n",
              "      <td>168</td>\n",
              "      <td>164</td>\n",
              "      <td>150</td>\n",
              "      <td>146</td>\n",
              "      <td>152</td>\n",
              "      <td>157</td>\n",
              "      <td>156</td>\n",
              "      <td>154</td>\n",
              "      <td>143</td>\n",
              "      <td>129</td>\n",
              "    </tr>\n",
              "    <tr>\n",
              "      <th>2</th>\n",
              "      <td>-32</td>\n",
              "      <td>-39</td>\n",
              "      <td>-47</td>\n",
              "      <td>-37</td>\n",
              "      <td>-32</td>\n",
              "      <td>-36</td>\n",
              "      <td>-57</td>\n",
              "      <td>-73</td>\n",
              "      <td>-85</td>\n",
              "      <td>-94</td>\n",
              "      <td>...</td>\n",
              "      <td>29</td>\n",
              "      <td>57</td>\n",
              "      <td>64</td>\n",
              "      <td>48</td>\n",
              "      <td>19</td>\n",
              "      <td>-12</td>\n",
              "      <td>-30</td>\n",
              "      <td>-35</td>\n",
              "      <td>-35</td>\n",
              "      <td>-36</td>\n",
              "    </tr>\n",
              "    <tr>\n",
              "      <th>3</th>\n",
              "      <td>-105</td>\n",
              "      <td>-101</td>\n",
              "      <td>-96</td>\n",
              "      <td>-92</td>\n",
              "      <td>-89</td>\n",
              "      <td>-95</td>\n",
              "      <td>-102</td>\n",
              "      <td>-100</td>\n",
              "      <td>-87</td>\n",
              "      <td>-79</td>\n",
              "      <td>...</td>\n",
              "      <td>-80</td>\n",
              "      <td>-82</td>\n",
              "      <td>-81</td>\n",
              "      <td>-80</td>\n",
              "      <td>-77</td>\n",
              "      <td>-85</td>\n",
              "      <td>-77</td>\n",
              "      <td>-72</td>\n",
              "      <td>-69</td>\n",
              "      <td>-65</td>\n",
              "    </tr>\n",
              "    <tr>\n",
              "      <th>4</th>\n",
              "      <td>-9</td>\n",
              "      <td>-65</td>\n",
              "      <td>-98</td>\n",
              "      <td>-102</td>\n",
              "      <td>-78</td>\n",
              "      <td>-48</td>\n",
              "      <td>-16</td>\n",
              "      <td>0</td>\n",
              "      <td>-21</td>\n",
              "      <td>-59</td>\n",
              "      <td>...</td>\n",
              "      <td>10</td>\n",
              "      <td>4</td>\n",
              "      <td>2</td>\n",
              "      <td>-12</td>\n",
              "      <td>-32</td>\n",
              "      <td>-41</td>\n",
              "      <td>-65</td>\n",
              "      <td>-83</td>\n",
              "      <td>-89</td>\n",
              "      <td>-73</td>\n",
              "    </tr>\n",
              "    <tr>\n",
              "      <th>...</th>\n",
              "      <td>...</td>\n",
              "      <td>...</td>\n",
              "      <td>...</td>\n",
              "      <td>...</td>\n",
              "      <td>...</td>\n",
              "      <td>...</td>\n",
              "      <td>...</td>\n",
              "      <td>...</td>\n",
              "      <td>...</td>\n",
              "      <td>...</td>\n",
              "      <td>...</td>\n",
              "      <td>...</td>\n",
              "      <td>...</td>\n",
              "      <td>...</td>\n",
              "      <td>...</td>\n",
              "      <td>...</td>\n",
              "      <td>...</td>\n",
              "      <td>...</td>\n",
              "      <td>...</td>\n",
              "      <td>...</td>\n",
              "      <td>...</td>\n",
              "    </tr>\n",
              "    <tr>\n",
              "      <th>11495</th>\n",
              "      <td>-22</td>\n",
              "      <td>-22</td>\n",
              "      <td>-23</td>\n",
              "      <td>-26</td>\n",
              "      <td>-36</td>\n",
              "      <td>-42</td>\n",
              "      <td>-45</td>\n",
              "      <td>-42</td>\n",
              "      <td>-45</td>\n",
              "      <td>-49</td>\n",
              "      <td>...</td>\n",
              "      <td>20</td>\n",
              "      <td>15</td>\n",
              "      <td>16</td>\n",
              "      <td>12</td>\n",
              "      <td>5</td>\n",
              "      <td>-1</td>\n",
              "      <td>-18</td>\n",
              "      <td>-37</td>\n",
              "      <td>-47</td>\n",
              "      <td>-48</td>\n",
              "    </tr>\n",
              "    <tr>\n",
              "      <th>11496</th>\n",
              "      <td>-47</td>\n",
              "      <td>-11</td>\n",
              "      <td>28</td>\n",
              "      <td>77</td>\n",
              "      <td>141</td>\n",
              "      <td>211</td>\n",
              "      <td>246</td>\n",
              "      <td>240</td>\n",
              "      <td>193</td>\n",
              "      <td>136</td>\n",
              "      <td>...</td>\n",
              "      <td>-94</td>\n",
              "      <td>-65</td>\n",
              "      <td>-33</td>\n",
              "      <td>-7</td>\n",
              "      <td>14</td>\n",
              "      <td>27</td>\n",
              "      <td>48</td>\n",
              "      <td>77</td>\n",
              "      <td>117</td>\n",
              "      <td>170</td>\n",
              "    </tr>\n",
              "    <tr>\n",
              "      <th>11497</th>\n",
              "      <td>14</td>\n",
              "      <td>6</td>\n",
              "      <td>-13</td>\n",
              "      <td>-16</td>\n",
              "      <td>10</td>\n",
              "      <td>26</td>\n",
              "      <td>27</td>\n",
              "      <td>-9</td>\n",
              "      <td>4</td>\n",
              "      <td>14</td>\n",
              "      <td>...</td>\n",
              "      <td>-42</td>\n",
              "      <td>-65</td>\n",
              "      <td>-48</td>\n",
              "      <td>-61</td>\n",
              "      <td>-62</td>\n",
              "      <td>-67</td>\n",
              "      <td>-30</td>\n",
              "      <td>-2</td>\n",
              "      <td>-1</td>\n",
              "      <td>-8</td>\n",
              "    </tr>\n",
              "    <tr>\n",
              "      <th>11498</th>\n",
              "      <td>-40</td>\n",
              "      <td>-25</td>\n",
              "      <td>-9</td>\n",
              "      <td>-12</td>\n",
              "      <td>-2</td>\n",
              "      <td>12</td>\n",
              "      <td>7</td>\n",
              "      <td>19</td>\n",
              "      <td>22</td>\n",
              "      <td>29</td>\n",
              "      <td>...</td>\n",
              "      <td>114</td>\n",
              "      <td>121</td>\n",
              "      <td>135</td>\n",
              "      <td>148</td>\n",
              "      <td>143</td>\n",
              "      <td>116</td>\n",
              "      <td>86</td>\n",
              "      <td>68</td>\n",
              "      <td>59</td>\n",
              "      <td>55</td>\n",
              "    </tr>\n",
              "    <tr>\n",
              "      <th>11499</th>\n",
              "      <td>29</td>\n",
              "      <td>41</td>\n",
              "      <td>57</td>\n",
              "      <td>72</td>\n",
              "      <td>74</td>\n",
              "      <td>62</td>\n",
              "      <td>54</td>\n",
              "      <td>43</td>\n",
              "      <td>31</td>\n",
              "      <td>23</td>\n",
              "      <td>...</td>\n",
              "      <td>-94</td>\n",
              "      <td>-59</td>\n",
              "      <td>-25</td>\n",
              "      <td>-4</td>\n",
              "      <td>2</td>\n",
              "      <td>5</td>\n",
              "      <td>4</td>\n",
              "      <td>-2</td>\n",
              "      <td>2</td>\n",
              "      <td>20</td>\n",
              "    </tr>\n",
              "  </tbody>\n",
              "</table>\n",
              "<p>11500 rows × 178 columns</p>\n",
              "</div>\n",
              "      <button class=\"colab-df-convert\" onclick=\"convertToInteractive('df-d5f39b7a-4bcb-4596-ae40-ece9d86fd98c')\"\n",
              "              title=\"Convert this dataframe to an interactive table.\"\n",
              "              style=\"display:none;\">\n",
              "        \n",
              "  <svg xmlns=\"http://www.w3.org/2000/svg\" height=\"24px\"viewBox=\"0 0 24 24\"\n",
              "       width=\"24px\">\n",
              "    <path d=\"M0 0h24v24H0V0z\" fill=\"none\"/>\n",
              "    <path d=\"M18.56 5.44l.94 2.06.94-2.06 2.06-.94-2.06-.94-.94-2.06-.94 2.06-2.06.94zm-11 1L8.5 8.5l.94-2.06 2.06-.94-2.06-.94L8.5 2.5l-.94 2.06-2.06.94zm10 10l.94 2.06.94-2.06 2.06-.94-2.06-.94-.94-2.06-.94 2.06-2.06.94z\"/><path d=\"M17.41 7.96l-1.37-1.37c-.4-.4-.92-.59-1.43-.59-.52 0-1.04.2-1.43.59L10.3 9.45l-7.72 7.72c-.78.78-.78 2.05 0 2.83L4 21.41c.39.39.9.59 1.41.59.51 0 1.02-.2 1.41-.59l7.78-7.78 2.81-2.81c.8-.78.8-2.07 0-2.86zM5.41 20L4 18.59l7.72-7.72 1.47 1.35L5.41 20z\"/>\n",
              "  </svg>\n",
              "      </button>\n",
              "      \n",
              "  <style>\n",
              "    .colab-df-container {\n",
              "      display:flex;\n",
              "      flex-wrap:wrap;\n",
              "      gap: 12px;\n",
              "    }\n",
              "\n",
              "    .colab-df-convert {\n",
              "      background-color: #E8F0FE;\n",
              "      border: none;\n",
              "      border-radius: 50%;\n",
              "      cursor: pointer;\n",
              "      display: none;\n",
              "      fill: #1967D2;\n",
              "      height: 32px;\n",
              "      padding: 0 0 0 0;\n",
              "      width: 32px;\n",
              "    }\n",
              "\n",
              "    .colab-df-convert:hover {\n",
              "      background-color: #E2EBFA;\n",
              "      box-shadow: 0px 1px 2px rgba(60, 64, 67, 0.3), 0px 1px 3px 1px rgba(60, 64, 67, 0.15);\n",
              "      fill: #174EA6;\n",
              "    }\n",
              "\n",
              "    [theme=dark] .colab-df-convert {\n",
              "      background-color: #3B4455;\n",
              "      fill: #D2E3FC;\n",
              "    }\n",
              "\n",
              "    [theme=dark] .colab-df-convert:hover {\n",
              "      background-color: #434B5C;\n",
              "      box-shadow: 0px 1px 3px 1px rgba(0, 0, 0, 0.15);\n",
              "      filter: drop-shadow(0px 1px 2px rgba(0, 0, 0, 0.3));\n",
              "      fill: #FFFFFF;\n",
              "    }\n",
              "  </style>\n",
              "\n",
              "      <script>\n",
              "        const buttonEl =\n",
              "          document.querySelector('#df-d5f39b7a-4bcb-4596-ae40-ece9d86fd98c button.colab-df-convert');\n",
              "        buttonEl.style.display =\n",
              "          google.colab.kernel.accessAllowed ? 'block' : 'none';\n",
              "\n",
              "        async function convertToInteractive(key) {\n",
              "          const element = document.querySelector('#df-d5f39b7a-4bcb-4596-ae40-ece9d86fd98c');\n",
              "          const dataTable =\n",
              "            await google.colab.kernel.invokeFunction('convertToInteractive',\n",
              "                                                     [key], {});\n",
              "          if (!dataTable) return;\n",
              "\n",
              "          const docLinkHtml = 'Like what you see? Visit the ' +\n",
              "            '<a target=\"_blank\" href=https://colab.research.google.com/notebooks/data_table.ipynb>data table notebook</a>'\n",
              "            + ' to learn more about interactive tables.';\n",
              "          element.innerHTML = '';\n",
              "          dataTable['output_type'] = 'display_data';\n",
              "          await google.colab.output.renderOutput(dataTable, element);\n",
              "          const docLink = document.createElement('div');\n",
              "          docLink.innerHTML = docLinkHtml;\n",
              "          element.appendChild(docLink);\n",
              "        }\n",
              "      </script>\n",
              "    </div>\n",
              "  </div>\n",
              "  "
            ]
          },
          "metadata": {},
          "execution_count": 127
        }
      ]
    },
    {
      "cell_type": "code",
      "source": [
        "y"
      ],
      "metadata": {
        "id": "nMwtOiCh5jkd",
        "colab": {
          "base_uri": "https://localhost:8080/"
        },
        "outputId": "baebaf72-272b-43cf-d483-06af07b3404c"
      },
      "execution_count": null,
      "outputs": [
        {
          "output_type": "execute_result",
          "data": {
            "text/plain": [
              "       y\n",
              "0      0\n",
              "1      1\n",
              "2      0\n",
              "3      0\n",
              "4      0\n",
              "...   ..\n",
              "11495  0\n",
              "11496  1\n",
              "11497  0\n",
              "11498  0\n",
              "11499  0\n",
              "\n",
              "[11500 rows x 1 columns]"
            ],
            "text/html": [
              "\n",
              "  <div id=\"df-b0dbf329-8cd8-41bc-b645-bf39ddddcd0b\">\n",
              "    <div class=\"colab-df-container\">\n",
              "      <div>\n",
              "<style scoped>\n",
              "    .dataframe tbody tr th:only-of-type {\n",
              "        vertical-align: middle;\n",
              "    }\n",
              "\n",
              "    .dataframe tbody tr th {\n",
              "        vertical-align: top;\n",
              "    }\n",
              "\n",
              "    .dataframe thead th {\n",
              "        text-align: right;\n",
              "    }\n",
              "</style>\n",
              "<table border=\"1\" class=\"dataframe\">\n",
              "  <thead>\n",
              "    <tr style=\"text-align: right;\">\n",
              "      <th></th>\n",
              "      <th>y</th>\n",
              "    </tr>\n",
              "  </thead>\n",
              "  <tbody>\n",
              "    <tr>\n",
              "      <th>0</th>\n",
              "      <td>0</td>\n",
              "    </tr>\n",
              "    <tr>\n",
              "      <th>1</th>\n",
              "      <td>1</td>\n",
              "    </tr>\n",
              "    <tr>\n",
              "      <th>2</th>\n",
              "      <td>0</td>\n",
              "    </tr>\n",
              "    <tr>\n",
              "      <th>3</th>\n",
              "      <td>0</td>\n",
              "    </tr>\n",
              "    <tr>\n",
              "      <th>4</th>\n",
              "      <td>0</td>\n",
              "    </tr>\n",
              "    <tr>\n",
              "      <th>...</th>\n",
              "      <td>...</td>\n",
              "    </tr>\n",
              "    <tr>\n",
              "      <th>11495</th>\n",
              "      <td>0</td>\n",
              "    </tr>\n",
              "    <tr>\n",
              "      <th>11496</th>\n",
              "      <td>1</td>\n",
              "    </tr>\n",
              "    <tr>\n",
              "      <th>11497</th>\n",
              "      <td>0</td>\n",
              "    </tr>\n",
              "    <tr>\n",
              "      <th>11498</th>\n",
              "      <td>0</td>\n",
              "    </tr>\n",
              "    <tr>\n",
              "      <th>11499</th>\n",
              "      <td>0</td>\n",
              "    </tr>\n",
              "  </tbody>\n",
              "</table>\n",
              "<p>11500 rows × 1 columns</p>\n",
              "</div>\n",
              "      <button class=\"colab-df-convert\" onclick=\"convertToInteractive('df-b0dbf329-8cd8-41bc-b645-bf39ddddcd0b')\"\n",
              "              title=\"Convert this dataframe to an interactive table.\"\n",
              "              style=\"display:none;\">\n",
              "        \n",
              "  <svg xmlns=\"http://www.w3.org/2000/svg\" height=\"24px\"viewBox=\"0 0 24 24\"\n",
              "       width=\"24px\">\n",
              "    <path d=\"M0 0h24v24H0V0z\" fill=\"none\"/>\n",
              "    <path d=\"M18.56 5.44l.94 2.06.94-2.06 2.06-.94-2.06-.94-.94-2.06-.94 2.06-2.06.94zm-11 1L8.5 8.5l.94-2.06 2.06-.94-2.06-.94L8.5 2.5l-.94 2.06-2.06.94zm10 10l.94 2.06.94-2.06 2.06-.94-2.06-.94-.94-2.06-.94 2.06-2.06.94z\"/><path d=\"M17.41 7.96l-1.37-1.37c-.4-.4-.92-.59-1.43-.59-.52 0-1.04.2-1.43.59L10.3 9.45l-7.72 7.72c-.78.78-.78 2.05 0 2.83L4 21.41c.39.39.9.59 1.41.59.51 0 1.02-.2 1.41-.59l7.78-7.78 2.81-2.81c.8-.78.8-2.07 0-2.86zM5.41 20L4 18.59l7.72-7.72 1.47 1.35L5.41 20z\"/>\n",
              "  </svg>\n",
              "      </button>\n",
              "      \n",
              "  <style>\n",
              "    .colab-df-container {\n",
              "      display:flex;\n",
              "      flex-wrap:wrap;\n",
              "      gap: 12px;\n",
              "    }\n",
              "\n",
              "    .colab-df-convert {\n",
              "      background-color: #E8F0FE;\n",
              "      border: none;\n",
              "      border-radius: 50%;\n",
              "      cursor: pointer;\n",
              "      display: none;\n",
              "      fill: #1967D2;\n",
              "      height: 32px;\n",
              "      padding: 0 0 0 0;\n",
              "      width: 32px;\n",
              "    }\n",
              "\n",
              "    .colab-df-convert:hover {\n",
              "      background-color: #E2EBFA;\n",
              "      box-shadow: 0px 1px 2px rgba(60, 64, 67, 0.3), 0px 1px 3px 1px rgba(60, 64, 67, 0.15);\n",
              "      fill: #174EA6;\n",
              "    }\n",
              "\n",
              "    [theme=dark] .colab-df-convert {\n",
              "      background-color: #3B4455;\n",
              "      fill: #D2E3FC;\n",
              "    }\n",
              "\n",
              "    [theme=dark] .colab-df-convert:hover {\n",
              "      background-color: #434B5C;\n",
              "      box-shadow: 0px 1px 3px 1px rgba(0, 0, 0, 0.15);\n",
              "      filter: drop-shadow(0px 1px 2px rgba(0, 0, 0, 0.3));\n",
              "      fill: #FFFFFF;\n",
              "    }\n",
              "  </style>\n",
              "\n",
              "      <script>\n",
              "        const buttonEl =\n",
              "          document.querySelector('#df-b0dbf329-8cd8-41bc-b645-bf39ddddcd0b button.colab-df-convert');\n",
              "        buttonEl.style.display =\n",
              "          google.colab.kernel.accessAllowed ? 'block' : 'none';\n",
              "\n",
              "        async function convertToInteractive(key) {\n",
              "          const element = document.querySelector('#df-b0dbf329-8cd8-41bc-b645-bf39ddddcd0b');\n",
              "          const dataTable =\n",
              "            await google.colab.kernel.invokeFunction('convertToInteractive',\n",
              "                                                     [key], {});\n",
              "          if (!dataTable) return;\n",
              "\n",
              "          const docLinkHtml = 'Like what you see? Visit the ' +\n",
              "            '<a target=\"_blank\" href=https://colab.research.google.com/notebooks/data_table.ipynb>data table notebook</a>'\n",
              "            + ' to learn more about interactive tables.';\n",
              "          element.innerHTML = '';\n",
              "          dataTable['output_type'] = 'display_data';\n",
              "          await google.colab.output.renderOutput(dataTable, element);\n",
              "          const docLink = document.createElement('div');\n",
              "          docLink.innerHTML = docLinkHtml;\n",
              "          element.appendChild(docLink);\n",
              "        }\n",
              "      </script>\n",
              "    </div>\n",
              "  </div>\n",
              "  "
            ]
          },
          "metadata": {},
          "execution_count": 128
        }
      ]
    },
    {
      "cell_type": "markdown",
      "source": [
        "### Splitting Data (Train-Test)"
      ],
      "metadata": {
        "id": "nuMY_vws4gzy"
      }
    },
    {
      "cell_type": "code",
      "source": [
        "x_train, x_test, y_train, y_test = train_test_split(X, y, test_size = 0.33, random_state=42)"
      ],
      "metadata": {
        "id": "bkEFX9kK4hL4"
      },
      "execution_count": null,
      "outputs": []
    },
    {
      "cell_type": "code",
      "source": [
        "x_test.iloc[1]"
      ],
      "metadata": {
        "colab": {
          "base_uri": "https://localhost:8080/"
        },
        "id": "xCJ-bFv9XAbj",
        "outputId": "6bce87a1-9c33-4667-a454-a14ff61e11ac"
      },
      "execution_count": null,
      "outputs": [
        {
          "output_type": "execute_result",
          "data": {
            "text/plain": [
              "X1      -39\n",
              "X2      -32\n",
              "X3      -21\n",
              "X4      -14\n",
              "X5       -9\n",
              "       ... \n",
              "X174   -154\n",
              "X175   -129\n",
              "X176    -94\n",
              "X177    -46\n",
              "X178      1\n",
              "Name: 1570, Length: 178, dtype: int64"
            ]
          },
          "metadata": {},
          "execution_count": 130
        }
      ]
    },
    {
      "cell_type": "markdown",
      "source": [
        "### Logistic Regression - Model 1"
      ],
      "metadata": {
        "id": "9o8MoRr22YQj"
      }
    },
    {
      "cell_type": "markdown",
      "source": [
        "**Training data accuracy evaluation**"
      ],
      "metadata": {
        "id": "W05ryyZX4437"
      }
    },
    {
      "cell_type": "code",
      "source": [
        "clf = LogisticRegression() #initializing logistic regression\n",
        "clf.fit(x_train, y_train) #training the model with train data(input, output)\n",
        "acc_log_reg = clf.score(x_train, y_train) * 100\n",
        "print(\"Training Accuracy: \",round(acc_log_reg,2), \"%\")"
      ],
      "metadata": {
        "colab": {
          "base_uri": "https://localhost:8080/"
        },
        "id": "tygNnA9w2X4e",
        "outputId": "36974326-e5fd-4dbe-89f3-a64072bfb46e"
      },
      "execution_count": null,
      "outputs": [
        {
          "output_type": "stream",
          "name": "stdout",
          "text": [
            "Training Accuracy:  66.92 %\n"
          ]
        }
      ]
    },
    {
      "cell_type": "markdown",
      "source": [
        "**Validation Data accuracy evaluation**"
      ],
      "metadata": {
        "id": "T87vtDes5BIm"
      }
    },
    {
      "cell_type": "code",
      "source": [
        "y_pred_log_reg = clf.predict(x_test)\n",
        "acc_log_reg2 = round(clf.score(x_test, y_test) * 100, 2)\n",
        "print(\"Validation Accuracy: \",acc_log_reg2, \"%\")"
      ],
      "metadata": {
        "colab": {
          "base_uri": "https://localhost:8080/"
        },
        "id": "-6XEP0Xm43v3",
        "outputId": "ddea047e-0130-4ec8-d3ee-74cd63e9827a"
      },
      "execution_count": null,
      "outputs": [
        {
          "output_type": "stream",
          "name": "stdout",
          "text": [
            "Validation Accuracy:  63.9 %\n"
          ]
        }
      ]
    },
    {
      "cell_type": "markdown",
      "source": [
        "***Confusion Matrix***"
      ],
      "metadata": {
        "id": "deS2zzhXcKlT"
      }
    },
    {
      "cell_type": "code",
      "source": [
        "cf_matrix = confusion_matrix(np.argmax(y_test, axis=1), predictions)\n",
        "\n",
        "\n",
        "group_names = ['True Neg','False Pos','False Neg','True Pos']\n",
        "group_counts = [\"{0:0.0f}\".format(value) for value in\n",
        "                cf_matrix.flatten()]\n",
        "group_percentages = [\"{0:.2%}\".format(value) for value in\n",
        "                     cf_matrix.flatten()/np.sum(cf_matrix)]\n",
        "labels = [f\"{v1}\\n{v2}\\n{v3}\" for v1, v2, v3 in\n",
        "          zip(group_names,group_counts,group_percentages)]\n",
        "labels = np.asarray(labels).reshape(2,2)\n",
        "ax = plt.axes() # label\n",
        "sns.heatmap(cf_matrix, annot=labels, fmt='', cmap='Blues',ax=ax)\n",
        "ax.set_title('Logistic Refression')\n",
        "plt.show()"
      ],
      "metadata": {
        "colab": {
          "base_uri": "https://localhost:8080/",
          "height": 281
        },
        "id": "U2Y8JtoHcMM6",
        "outputId": "eb89535f-04c4-4048-8590-c5a14f179318"
      },
      "execution_count": null,
      "outputs": [
        {
          "output_type": "display_data",
          "data": {
            "text/plain": [
              "<Figure size 432x288 with 2 Axes>"
            ],
            "image/png": "[encoded data removed]"
          },
          "metadata": {
            "needs_background": "light"
          }
        }
      ]
    },
    {
      "cell_type": "markdown",
      "source": [
        "***Model Report***\n"
      ],
      "metadata": {
        "id": "WdCf2gb-PtEd"
      }
    },
    {
      "cell_type": "code",
      "source": [
        "predictions = clf.predict(x_test)\n",
        "print(classification_report(y_test, predictions))"
      ],
      "metadata": {
        "colab": {
          "base_uri": "https://localhost:8080/"
        },
        "id": "AJbbEySSPtbw",
        "outputId": "2b21e763-4060-4ca1-943d-54479812a6a6"
      },
      "execution_count": null,
      "outputs": [
        {
          "output_type": "stream",
          "name": "stdout",
          "text": [
            "              precision    recall  f1-score   support\n",
            "\n",
            "           0       0.82      0.69      0.75      3025\n",
            "           1       0.26      0.42      0.32       770\n",
            "\n",
            "    accuracy                           0.64      3795\n",
            "   macro avg       0.54      0.56      0.54      3795\n",
            "weighted avg       0.71      0.64      0.67      3795\n",
            "\n"
          ]
        }
      ]
    },
    {
      "cell_type": "markdown",
      "source": [
        "### SVM - Model 2"
      ],
      "metadata": {
        "id": "W50yLMiJ68qe"
      }
    },
    {
      "cell_type": "markdown",
      "source": [
        "**Training data accuracy evaluation**"
      ],
      "metadata": {
        "id": "Py0B_fMR-ak4"
      }
    },
    {
      "cell_type": "code",
      "source": [
        "clf = SVC(probability=True) #initializing svm classifier\n",
        "clf.fit(x_train, y_train) #training the model with train data(input, output)\n",
        "acc_svc1 = clf.score(x_train, y_train) * 100\n",
        "print(\"Training Accuracy: \",round(acc_svc1,2), '%')"
      ],
      "metadata": {
        "colab": {
          "base_uri": "https://localhost:8080/"
        },
        "id": "C_tLS9J569Fl",
        "outputId": "b36a68bf-029f-4691-e8b0-16b451405908"
      },
      "execution_count": null,
      "outputs": [
        {
          "output_type": "stream",
          "name": "stdout",
          "text": [
            "Training Accuracy:  98.09 %\n"
          ]
        }
      ]
    },
    {
      "cell_type": "markdown",
      "source": [
        "**Validation Data accuracy evaluation**"
      ],
      "metadata": {
        "id": "vAh1nvp_-nJj"
      }
    },
    {
      "cell_type": "code",
      "source": [
        "y_pred_svc = clf.predict(x_test)\n",
        "acc_svc2 = round(clf.score(x_test, y_test) * 100, 2)\n",
        "print(\"Validation Accuracy: \",acc_svc2, \"%\")"
      ],
      "metadata": {
        "colab": {
          "base_uri": "https://localhost:8080/"
        },
        "outputId": "3aec941a-2ccb-43a5-84b8-dd200a30d285",
        "id": "Lj2qa-Vv-v6z"
      },
      "execution_count": null,
      "outputs": [
        {
          "output_type": "stream",
          "name": "stdout",
          "text": [
            "Validation Accuracy:  97.23 %\n"
          ]
        }
      ]
    },
    {
      "cell_type": "markdown",
      "source": [
        "***Confusion Matrix***"
      ],
      "metadata": {
        "id": "wVf3jh85bUX-"
      }
    },
    {
      "cell_type": "code",
      "source": [
        "cf_matrix = confusion_matrix(np.argmax(y_test, axis=1), predictions)\n",
        "\n",
        "group_names = ['True Neg','False Pos','False Neg','True Pos']\n",
        "group_counts = [\"{0:0.0f}\".format(value) for value in\n",
        "                cf_matrix.flatten()]\n",
        "group_percentages = [\"{0:.2%}\".format(value) for value in\n",
        "                     cf_matrix.flatten()/np.sum(cf_matrix)]\n",
        "labels = [f\"{v1}\\n{v2}\\n{v3}\" for v1, v2, v3 in\n",
        "          zip(group_names,group_counts,group_percentages)]\n",
        "labels = np.asarray(labels).reshape(2,2)\n",
        "ax = plt.axes() # label\n",
        "sns.heatmap(cf_matrix, annot=labels, fmt='', cmap='Blues',ax=ax)\n",
        "ax.set_title('SVM')\n",
        "plt.show()"
      ],
      "metadata": {
        "colab": {
          "base_uri": "https://localhost:8080/",
          "height": 281
        },
        "id": "O1ZsjfbIbUJS",
        "outputId": "ba02c4b9-4a7a-442c-849b-f4dc12804129"
      },
      "execution_count": null,
      "outputs": [
        {
          "output_type": "display_data",
          "data": {
            "text/plain": [
              "<Figure size 432x288 with 2 Axes>"
            ],
            "image/png": "[encoded data removed]"
          },
          "metadata": {
            "needs_background": "light"
          }
        }
      ]
    },
    {
      "cell_type": "markdown",
      "source": [
        "***Model Report***\n"
      ],
      "metadata": {
        "id": "IG3c4bptSlcS"
      }
    },
    {
      "cell_type": "code",
      "source": [
        "predictions = clf.predict(x_test)\n",
        "print(classification_report(y_test, predictions))"
      ],
      "metadata": {
        "colab": {
          "base_uri": "https://localhost:8080/"
        },
        "outputId": "2064ca9d-8893-4532-bbc2-3ffc7f4a9734",
        "id": "KnY5PZzESlcT"
      },
      "execution_count": null,
      "outputs": [
        {
          "output_type": "stream",
          "name": "stdout",
          "text": [
            "              precision    recall  f1-score   support\n",
            "\n",
            "           0       0.98      0.99      0.98      3025\n",
            "           1       0.96      0.90      0.93       770\n",
            "\n",
            "    accuracy                           0.97      3795\n",
            "   macro avg       0.97      0.95      0.96      3795\n",
            "weighted avg       0.97      0.97      0.97      3795\n",
            "\n"
          ]
        }
      ]
    },
    {
      "cell_type": "markdown",
      "source": [
        "### KNN - Model 4"
      ],
      "metadata": {
        "id": "_anjVb808NzB"
      }
    },
    {
      "cell_type": "markdown",
      "source": [
        "**Train Data accuracy evaluation**"
      ],
      "metadata": {
        "id": "SXfdDfW5_d7_"
      }
    },
    {
      "cell_type": "code",
      "source": [
        "clf = KNeighborsClassifier() #initializing svm classifier\n",
        "clf.fit(x_train, y_train) #training the model with train data(input, output)\n",
        "acc_knn1 = clf.score(x_train, y_train) * 100\n",
        "print(\"Training Accuracy: \",round(acc_knn1,2), '%')"
      ],
      "metadata": {
        "colab": {
          "base_uri": "https://localhost:8080/"
        },
        "id": "xsPHCC3j8Oiz",
        "outputId": "d7fe7710-40c9-47bc-fd4c-7a7503f9e559"
      },
      "execution_count": null,
      "outputs": [
        {
          "output_type": "stream",
          "name": "stdout",
          "text": [
            "Training Accuracy:  93.61 %\n"
          ]
        }
      ]
    },
    {
      "cell_type": "markdown",
      "source": [
        "**Test Data accuracy evaluation**"
      ],
      "metadata": {
        "id": "3R80tO4O_aCJ"
      }
    },
    {
      "cell_type": "code",
      "source": [
        "y_pred_knn = clf.predict(x_test)\n",
        "acc_knn2 = round(clf.score(x_test, y_test) * 100, 2)\n",
        "print(\"Validation Accuracy: \",acc_knn2, \"%\")"
      ],
      "metadata": {
        "colab": {
          "base_uri": "https://localhost:8080/"
        },
        "outputId": "8f078a71-ccfc-475b-f1f4-9cee77eadf31",
        "id": "i04OzWhD_aCM"
      },
      "execution_count": null,
      "outputs": [
        {
          "output_type": "stream",
          "name": "stdout",
          "text": [
            "Validation Accuracy:  91.96 %\n"
          ]
        }
      ]
    },
    {
      "cell_type": "markdown",
      "source": [
        "***Confusion Matrix***"
      ],
      "metadata": {
        "id": "baWr-iYDWHB0"
      }
    },
    {
      "cell_type": "code",
      "source": [
        "cf_matrix = confusion_matrix(np.argmax(y_test, axis=1), predictions)\n",
        "\n",
        "\n",
        "group_names = ['True Neg','False Pos','False Neg','True Pos']\n",
        "group_counts = [\"{0:0.0f}\".format(value) for value in\n",
        "                cf_matrix.flatten()]\n",
        "group_percentages = [\"{0:.2%}\".format(value) for value in\n",
        "                     cf_matrix.flatten()/np.sum(cf_matrix)]\n",
        "labels = [f\"{v1}\\n{v2}\\n{v3}\" for v1, v2, v3 in\n",
        "          zip(group_names,group_counts,group_percentages)]\n",
        "labels = np.asarray(labels).reshape(2,2)\n",
        "ax = plt.axes() # label\n",
        "sns.heatmap(cf_matrix, annot=labels, fmt='', cmap='Blues',ax=ax)\n",
        "ax.set_title('KNN')\n",
        "plt.show()"
      ],
      "metadata": {
        "colab": {
          "base_uri": "https://localhost:8080/",
          "height": 281
        },
        "id": "tcifXulbWNcq",
        "outputId": "578df3b4-efca-43ca-d201-92e6d2dc3c8e"
      },
      "execution_count": null,
      "outputs": [
        {
          "output_type": "display_data",
          "data": {
            "text/plain": [
              "<Figure size 432x288 with 2 Axes>"
            ],
            "image/png": "[encoded data removed]"
          },
          "metadata": {
            "needs_background": "light"
          }
        }
      ]
    },
    {
      "cell_type": "markdown",
      "source": [
        "***Model Report***\n"
      ],
      "metadata": {
        "id": "Pp1tU6W9TJd9"
      }
    },
    {
      "cell_type": "code",
      "source": [
        "predictions = clf.predict(x_test)\n",
        "print(classification_report(y_test, predictions))"
      ],
      "metadata": {
        "colab": {
          "base_uri": "https://localhost:8080/"
        },
        "outputId": "b0e7f302-7174-45cb-c5a9-819bb6d0c425",
        "id": "O-AC0KmPTJd9"
      },
      "execution_count": null,
      "outputs": [
        {
          "output_type": "stream",
          "name": "stdout",
          "text": [
            "              precision    recall  f1-score   support\n",
            "\n",
            "           0       0.91      1.00      0.95      3025\n",
            "           1       0.99      0.61      0.75       770\n",
            "\n",
            "    accuracy                           0.92      3795\n",
            "   macro avg       0.95      0.80      0.85      3795\n",
            "weighted avg       0.93      0.92      0.91      3795\n",
            "\n"
          ]
        }
      ]
    },
    {
      "cell_type": "markdown",
      "source": [
        "### feature engineering"
      ],
      "metadata": {
        "id": "5SCMo2Zu9o-q"
      }
    },
    {
      "cell_type": "code",
      "source": [
        "y = to_categorical(y)\n",
        "x_train, x_test, y_train, y_test = train_test_split(X, y, test_size = 0.33, random_state=42)\n",
        "\n",
        "x_train, x_test, y_train, y_test = train_test_split(X, y, test_size = 0.33, random_state=42)\n",
        "X_train = x_train\n",
        "X_test = x_test\n",
        "\n",
        "scaler = StandardScaler()\n",
        "\n",
        "x_train = scaler.fit_transform(x_train)\n",
        "x_train = np.reshape(x_train, (x_train.shape[0],1,X.shape[1]))\n",
        "\n",
        "x_test = scaler.fit_transform(x_test)\n",
        "x_test = np.reshape(x_test, (x_test.shape[0],1,X.shape[1]))"
      ],
      "metadata": {
        "id": "u76-M9hFpZpr"
      },
      "execution_count": null,
      "outputs": []
    },
    {
      "cell_type": "code",
      "source": [
        "print(type(x_train))\n",
        "print(type(x_test))\n",
        "print(type(X_train))\n",
        "print(type(X_test))\n",
        "print(type(y_train))\n",
        "print(type(y_test))"
      ],
      "metadata": {
        "id": "jjxGycsxduxE",
        "colab": {
          "base_uri": "https://localhost:8080/"
        },
        "outputId": "a0577666-b387-4d9e-9c0e-701c97d3e389"
      },
      "execution_count": null,
      "outputs": [
        {
          "output_type": "stream",
          "name": "stdout",
          "text": [
            "<class 'numpy.ndarray'>\n",
            "<class 'numpy.ndarray'>\n",
            "<class 'pandas.core.frame.DataFrame'>\n",
            "<class 'pandas.core.frame.DataFrame'>\n",
            "<class 'numpy.ndarray'>\n",
            "<class 'numpy.ndarray'>\n"
          ]
        }
      ]
    },
    {
      "cell_type": "markdown",
      "source": [
        "### LSTM / BiLSTM - NN Model- 1"
      ],
      "metadata": {
        "id": "ZQX1XBJc4htc"
      }
    },
    {
      "cell_type": "code",
      "source": [
        "tf.keras.backend.clear_session()\n",
        "\n",
        "model = Sequential()\n",
        "model.add(LSTM(64, input_shape=(1,178),activation=\"relu\",return_sequences=True))\n",
        "model.add(LSTM(32,activation=\"sigmoid\"))\n",
        "model.add(Dense(2, activation='softmax'))\n",
        "model.compile(loss = 'categorical_crossentropy', optimizer = \"adam\", metrics = ['accuracy'])\n",
        "model.summary()"
      ],
      "metadata": {
        "id": "1bMOc7Ac4iHt",
        "colab": {
          "base_uri": "https://localhost:8080/"
        },
        "outputId": "2ec29161-4a18-4ee5-dda7-3fb065bfd996"
      },
      "execution_count": null,
      "outputs": [
        {
          "output_type": "stream",
          "name": "stdout",
          "text": [
            "Model: \"sequential\"\n",
            "_________________________________________________________________\n",
            " Layer (type)                Output Shape              Param #   \n",
            "=================================================================\n",
            " lstm (LSTM)                 (None, 1, 64)             62208     \n",
            "                                                                 \n",
            " lstm_1 (LSTM)               (None, 32)                12416     \n",
            "                                                                 \n",
            " dense (Dense)               (None, 2)                 66        \n",
            "                                                                 \n",
            "=================================================================\n",
            "Total params: 74,690\n",
            "Trainable params: 74,690\n",
            "Non-trainable params: 0\n",
            "_________________________________________________________________\n"
          ]
        }
      ]
    },
    {
      "cell_type": "code",
      "source": [
        "history = model.fit(x_train, y_train, epochs = 10)"
      ],
      "metadata": {
        "id": "qZYHIlFi4jBX",
        "colab": {
          "base_uri": "https://localhost:8080/"
        },
        "outputId": "df574255-ff1d-4f04-a74b-2ac5c98b5ea4"
      },
      "execution_count": null,
      "outputs": [
        {
          "output_type": "stream",
          "name": "stdout",
          "text": [
            "Epoch 1/10\n",
            "241/241 [==============================] - 4s 5ms/step - loss: 0.3540 - accuracy: 0.8671\n",
            "Epoch 2/10\n",
            "241/241 [==============================] - 1s 5ms/step - loss: 0.1226 - accuracy: 0.9709\n",
            "Epoch 3/10\n",
            "241/241 [==============================] - 1s 5ms/step - loss: 0.0746 - accuracy: 0.9795\n",
            "Epoch 4/10\n",
            "241/241 [==============================] - 1s 5ms/step - loss: 0.0538 - accuracy: 0.9855\n",
            "Epoch 5/10\n",
            "241/241 [==============================] - 1s 5ms/step - loss: 0.0409 - accuracy: 0.9897\n",
            "Epoch 6/10\n",
            "241/241 [==============================] - 1s 5ms/step - loss: 0.0298 - accuracy: 0.9933\n",
            "Epoch 7/10\n",
            "241/241 [==============================] - 1s 5ms/step - loss: 0.0236 - accuracy: 0.9947\n",
            "Epoch 8/10\n",
            "241/241 [==============================] - 1s 5ms/step - loss: 0.0190 - accuracy: 0.9962\n",
            "Epoch 9/10\n",
            "241/241 [==============================] - 1s 4ms/step - loss: 0.0157 - accuracy: 0.9968\n",
            "Epoch 10/10\n",
            "241/241 [==============================] - 1s 5ms/step - loss: 0.0119 - accuracy: 0.9977\n"
          ]
        }
      ]
    },
    {
      "cell_type": "markdown",
      "source": [
        "Train data\n"
      ],
      "metadata": {
        "id": "On1LrUhEAYOw"
      }
    },
    {
      "cell_type": "code",
      "source": [
        "scoreTrain, accTrain = model.evaluate(x_train, y_train)\n",
        "print(\"Training Accuracy: \",round(accTrain*100, 2), '%')"
      ],
      "metadata": {
        "colab": {
          "base_uri": "https://localhost:8080/"
        },
        "outputId": "d0286dca-db60-4817-d66c-5e57155a4e23",
        "id": "z-LAzi0eAXfj"
      },
      "execution_count": null,
      "outputs": [
        {
          "output_type": "stream",
          "name": "stdout",
          "text": [
            "241/241 [==============================] - 1s 2ms/step - loss: 0.0082 - accuracy: 0.9986\n",
            "Training Accuracy:  99.86 %\n"
          ]
        }
      ]
    },
    {
      "cell_type": "markdown",
      "source": [
        "Validation Data"
      ],
      "metadata": {
        "id": "azGu4-3ZAaTH"
      }
    },
    {
      "cell_type": "code",
      "source": [
        "scoreTest, accTest = model.evaluate(x_test, y_test)\n",
        "print(y_test)\n",
        "print(\"Validation Accuracy: \",round(accTest*100, 2), '%')"
      ],
      "metadata": {
        "id": "ez6CVqLS4kb8",
        "colab": {
          "base_uri": "https://localhost:8080/"
        },
        "outputId": "e8e61d74-c75c-40cc-e27b-5b342ee1b743"
      },
      "execution_count": null,
      "outputs": [
        {
          "output_type": "stream",
          "name": "stdout",
          "text": [
            "119/119 [==============================] - 0s 2ms/step - loss: 0.1083 - accuracy: 0.9736\n",
            "[[1. 0.]\n",
            " [1. 0.]\n",
            " [1. 0.]\n",
            " ...\n",
            " [1. 0.]\n",
            " [1. 0.]\n",
            " [1. 0.]]\n",
            "Validation Accuracy:  97.36 %\n"
          ]
        }
      ]
    },
    {
      "cell_type": "markdown",
      "source": [
        "Individual check"
      ],
      "metadata": {
        "id": "G5vKlM9ACXAs"
      }
    },
    {
      "cell_type": "code",
      "source": [
        "print(x_test[22,:])\n",
        "print(y_test[22,:])"
      ],
      "metadata": {
        "colab": {
          "base_uri": "https://localhost:8080/"
        },
        "id": "M9L7FX9VBgFV",
        "outputId": "bd380e4a-02c9-43c5-86e3-9a2cc96c6691"
      },
      "execution_count": null,
      "outputs": [
        {
          "output_type": "stream",
          "name": "stdout",
          "text": [
            "[[-3.92375681e-01 -3.44224854e-01 -2.13054865e-01 -1.29073181e-01\n",
            "  -3.78346245e-02  1.88792268e-02  5.79765664e-02  1.04270602e-01\n",
            "   9.58408565e-02 -7.75820900e-03 -6.81683622e-02 -1.20903956e-02\n",
            "   1.73987705e-01  2.34631785e-01  1.07039395e-01 -9.88647517e-02\n",
            "  -2.87377839e-01 -2.91177934e-01 -9.12416840e-02  9.42496244e-02\n",
            "   1.09010807e-01  3.70842359e-02  4.47212217e-02  8.98404876e-02\n",
            "   1.89762491e-01  1.87153014e-01  1.68213482e-01  2.85922606e-02\n",
            "   9.43183470e-03  4.71008313e-02  9.89321501e-02  4.61208583e-02\n",
            "  -1.84027584e-01 -3.62864044e-01 -4.34865856e-01 -2.45344922e-01\n",
            "   9.53280717e-02  2.80913244e-01  2.14808703e-01  1.07427444e-02\n",
            "  -2.21193610e-01 -4.16265980e-01 -4.35770586e-01 -3.79887095e-01\n",
            "  -2.47724067e-01 -8.48721739e-02  7.83488730e-02  1.87322251e-01\n",
            "   1.59646952e-01  5.26479041e-02 -7.18363235e-02 -1.37043626e-01\n",
            "  -1.85482043e-01 -9.42084584e-02  6.55838754e-02  2.34866353e-01\n",
            "   3.50056630e-01  3.03029298e-01  1.10762367e-01 -7.49188306e-02\n",
            "  -5.82197962e-02  5.06080307e-02  1.40240346e-01  8.50627209e-02\n",
            "  -7.09695252e-02 -2.22964847e-01 -3.03735777e-01 -2.61256165e-01\n",
            "  -2.44233681e-01 -2.81852687e-01 -3.43706826e-01 -3.54049086e-01\n",
            "  -3.13527211e-01 -2.11459093e-01 -1.78561542e-04  1.87800411e-01\n",
            "   3.20345741e-01  3.55812812e-01  3.21638150e-01  2.62750783e-01\n",
            "   2.58837666e-01  3.11281458e-01  3.55589106e-01  4.80786290e-01\n",
            "   5.39355882e-01  5.78201821e-01  3.60066703e-01  1.78898539e-01\n",
            "   1.76662915e-01  3.45668903e-01  5.29075465e-01  6.60711400e-01\n",
            "   7.73003758e-01  7.97996910e-01  8.17690935e-01  7.72580850e-01\n",
            "   6.36544297e-01  4.24599273e-01  1.88486712e-01  8.55807771e-02\n",
            "   2.16136698e-03  1.55137994e-02  7.24981420e-02  1.34556923e-01\n",
            "   1.69557558e-01  2.21132497e-01  2.65547451e-01  2.08851765e-01\n",
            "   4.51632936e-02 -1.02971374e-01 -2.35492123e-01 -2.18503637e-01\n",
            "  -8.04637996e-02  4.59731056e-02  4.43326357e-02 -3.96490604e-02\n",
            "  -1.45889845e-01 -2.42192219e-01 -3.72622987e-01 -4.30416803e-01\n",
            "  -5.22717187e-01 -4.61053576e-01 -3.45587588e-01 -2.13100286e-02\n",
            "   3.48569375e-01  5.71802718e-01  5.09314955e-01  1.82929566e-01\n",
            "  -9.80147063e-02 -1.47724932e-01  2.74480987e-02  1.73221486e-01\n",
            "   1.56043861e-01  6.41173303e-02 -6.01623374e-02 -1.44078727e-01\n",
            "  -1.82542617e-01 -1.80463984e-01 -2.01081275e-01 -1.19720869e-01\n",
            "   1.04312710e-01  3.24065683e-01  4.34763932e-01  4.26868927e-01\n",
            "   3.63414270e-01  2.18910403e-01  9.41154478e-02  8.69696773e-03\n",
            "  -1.48581190e-02 -8.14836454e-03  4.01433518e-03  5.55194838e-02\n",
            "   9.14698174e-02  1.42638552e-01  9.44109730e-02 -3.63825953e-02\n",
            "  -2.10277683e-01 -2.96916050e-01 -2.04758216e-01 -8.75767272e-02\n",
            "  -3.87850796e-02 -6.10901127e-02 -1.64530049e-01 -2.68376398e-01\n",
            "  -2.53200106e-01 -1.85210201e-01 -1.60636014e-01 -1.60267441e-01\n",
            "  -1.99780235e-01 -2.00915111e-01 -1.88263825e-01 -1.41672322e-01\n",
            "  -1.33412010e-01 -2.09492477e-01 -2.17305417e-01 -6.93449498e-02\n",
            "   2.59467950e-01  5.38884662e-01]]\n",
            "[1. 0.]\n"
          ]
        }
      ]
    },
    {
      "cell_type": "code",
      "source": [
        "scoreTest, accTest = model.evaluate(x_test[[44],:], y_test[[44],:])\n",
        "print(round(accTest*100, 2), '%')"
      ],
      "metadata": {
        "colab": {
          "base_uri": "https://localhost:8080/"
        },
        "id": "g_Bj2DOACd-a",
        "outputId": "e9cfd136-eb78-460a-8d7f-4aee27ffb9ad"
      },
      "execution_count": null,
      "outputs": [
        {
          "output_type": "stream",
          "name": "stdout",
          "text": [
            "1/1 [==============================] - 0s 20ms/step - loss: 0.0030 - accuracy: 1.0000\n",
            "100.0 %\n"
          ]
        }
      ]
    },
    {
      "cell_type": "code",
      "source": [
        "print(model.predict(x_test[[44],:]))"
      ],
      "metadata": {
        "colab": {
          "base_uri": "https://localhost:8080/"
        },
        "id": "QpsN8THxE20h",
        "outputId": "1dc6be60-3609-4d8d-8b16-5210b3a7f618"
      },
      "execution_count": null,
      "outputs": [
        {
          "output_type": "stream",
          "name": "stdout",
          "text": [
            "1/1 [==============================] - 0s 286ms/step\n",
            "[[0.9970258  0.00297427]]\n"
          ]
        }
      ]
    },
    {
      "cell_type": "code",
      "source": [
        "temp = model.predict(x_test)\n",
        "print(temp.tolist())\n",
        "y_pred_lstm = []\n",
        "for i in temp.tolist():\n",
        "  y_pred_lstm.append(i.index(max(i)))\n",
        "print(y_pred_lstm)\n",
        "\n",
        "\n",
        "print(temp.tolist())\n",
        "y_act_lstm = []\n",
        "for i in y_test.tolist():\n",
        "  y_act_lstm.append(i.index(max(i)))\n",
        "print(y_act_lstm)\n",
        "\n"
      ],
      "metadata": {
        "colab": {
          "base_uri": "https://localhost:8080/"
        },
        "id": "8Y3gsKXN8WqA",
        "outputId": "b6676951-4ef7-47f9-d49b-637547859f3b"
      },
      "execution_count": null,
      "outputs": [
        {
          "output_type": "stream",
          "name": "stdout",
          "text": [
            "119/119 [==============================] - 0s 2ms/step\n",
            "[[0.9999151825904846, 8.48101481096819e-05], [0.9998416900634766, 0.00015835618251003325], [0.9997369050979614, 0.000263118912698701], [0.9997307062149048, 0.00026934919878840446], [0.9997341632843018, 0.00026591599453240633], [0.9998397827148438, 0.0001601345429662615], [0.9994717240333557, 0.0005282341153360903], [0.9995250105857849, 0.0004749984946101904], [0.9998025894165039, 0.00019741227151826024], [0.011451223865151405, 0.9885486960411072], [0.9918886423110962, 0.008111312985420227], [0.9997460842132568, 0.0002539335691835731], [0.9998927712440491, 0.00010715677490225062], [0.006777600385248661, 0.9932222962379456], [0.9998902678489685, 0.0001096954511012882], [0.002420021453872323, 0.9975799322128296], [0.9999493956565857, 5.0562295655254275e-05], [0.002589904936030507, 0.9974100589752197], [0.9985926151275635, 0.0014073261991143227], [0.002388153225183487, 0.9976118206977844], [0.9997307062149048, 0.0002693260903470218], [0.0024008818436414003, 0.9975990056991577], [0.9996790885925293, 0.00032091111643239856], [0.9998459815979004, 0.00015406384773086756], [0.999926745891571, 7.3138129664585e-05], [0.9998846650123596, 0.00011528428149176762], [0.9989137053489685, 0.001086249016225338], [0.99989253282547, 0.00010736511467257515], [0.9999446272850037, 5.5328138842014596e-05], [0.0032437739428132772, 0.9967563152313232], [0.9996490478515625, 0.00035093925544060767], [0.9998362064361572, 0.00016371754463762045], [0.9997496604919434, 0.00025035213911905885], [0.996496319770813, 0.0035036865156143904], [0.015907928347587585, 0.9840919971466064], [0.003261737758293748, 0.9967382550239563], [0.9989165663719177, 0.001083425129763782], [0.002671773312613368, 0.9973282217979431], [0.9981934428215027, 0.001806592452339828], [0.002390331821516156, 0.997609555721283], [0.9998819231987, 0.00011801031359937042], [0.9957894086837769, 0.0042105307802557945], [0.9974204897880554, 0.0025793968234211206], [0.9999200701713562, 7.987162825884297e-05], [0.9970257878303528, 0.002974270610138774], [0.999800443649292, 0.0001995117636397481], [0.0062294285744428635, 0.9937705397605896], [0.0325617752969265, 0.9674381017684937], [0.9971904754638672, 0.0028094234876334667], [0.0023903546389192343, 0.997609555721283], [0.9849482774734497, 0.015051688998937607], [0.0024332806933671236, 0.9975666403770447], [0.9999518990516663, 4.8037778469733894e-05], [0.9997916221618652, 0.00020834682800341398], [0.9999244809150696, 7.549725705757737e-05], [0.9979090690612793, 0.0020909260492771864], [0.9998853802680969, 0.00011455981439212337], [0.9998988509178162, 0.00010102958913194016], [0.99983811378479, 0.00016202543338295072], [0.9997497797012329, 0.00025033162091858685], [0.9994379281997681, 0.0005620291922241449], [0.002388142980635166, 0.9976118206977844], [0.9972029328346252, 0.0027970727533102036], [0.9998445510864258, 0.0001554514019517228], [0.9999001622200012, 9.974923159461468e-05], [0.9991489052772522, 0.0008510699262842536], [0.999586284160614, 0.0004137724463362247], [0.9999213814735413, 7.857166929170489e-05], [0.9996190667152405, 0.00038101180689409375], [0.999835729598999, 0.00016440151375718415], [0.9996999502182007, 0.00030011124908924103], [0.999698281288147, 0.00030175145366229117], [0.9971142411231995, 0.00288567622192204], [0.9998593330383301, 0.00014080709661357105], [0.999946653842926, 5.332376895239577e-05], [0.9999096989631653, 9.024974860949442e-05], [0.9998214244842529, 0.00017852730525191873], [0.9998478889465332, 0.00015208682452794164], [0.9995949864387512, 0.0004050618736073375], [0.005402837414294481, 0.9945971965789795], [0.9998853802680969, 0.00011456287757027894], [0.9992644786834717, 0.0007356118294410408], [0.0023881567176431417, 0.9976118206977844], [0.9998803734779358, 0.00011958124377997592], [0.9998488426208496, 0.000151179832755588], [0.9621233344078064, 0.037876661866903305], [0.997755765914917, 0.002244157250970602], [0.999627411365509, 0.0003726792929228395], [0.9999273419380188, 7.255205127876252e-05], [0.9990382790565491, 0.0009617332834750414], [0.9998987317085266, 0.00010125045810127631], [0.0023881441447883844, 0.9976118206977844], [0.9998078346252441, 0.00019222569244448096], [0.2791846692562103, 0.7208153009414673], [0.9998190402984619, 0.00018088780052494258], [0.2669413983821869, 0.7330585718154907], [0.999767541885376, 0.0002324393717572093], [0.9996633529663086, 0.0003366379824001342], [0.0023946771398186684, 0.9976052641868591], [0.002948269946500659, 0.9970517158508301], [0.0023890859447419643, 0.997610867023468], [0.9999062418937683, 9.367842721985653e-05], [0.004590469412505627, 0.9954094886779785], [0.9997458457946777, 0.00025421116151846945], [0.9998648166656494, 0.00013519605272449553], [0.9996558427810669, 0.00034418777795508504], [0.9991277456283569, 0.0008721950580365956], [0.9998595714569092, 0.0001403527712682262], [0.9999315142631531, 6.84193437336944e-05], [0.9996041655540466, 0.0003958834568038583], [0.9999061226844788, 9.376878006150946e-05], [0.002388142980635166, 0.9976118206977844], [0.9988986253738403, 0.0011013078037649393], [0.9993261694908142, 0.0006737829535268247], [0.9990482926368713, 0.0009517346625216305], [0.9997252225875854, 0.0002748328261077404], [0.7019613981246948, 0.2980385720729828], [0.9999505877494812, 4.9327954911859706e-05], [0.999649167060852, 0.0003508343652356416], [0.999612033367157, 0.0003880487638525665], [0.9999114871025085, 8.849469304550439e-05], [0.9999149441719055, 8.493234781781211e-05], [0.9894766807556152, 0.010523340664803982], [0.9999914765357971, 8.480170436087064e-06], [0.9999217391014099, 7.816601282684132e-05], [0.005396233405917883, 0.9946038126945496], [0.9999554753303528, 4.450760752661154e-05], [0.9991278648376465, 0.0008720504702068865], [0.9999688267707825, 3.110902980552055e-05], [0.9999005198478699, 9.938900620909408e-05], [0.9999257922172546, 7.416706648655236e-05], [0.998986005783081, 0.0010138964280486107], [0.9997665882110596, 0.0002335260942345485], [0.778379499912262, 0.22162054479122162], [0.9990238547325134, 0.000976075476501137], [0.49572715163230896, 0.5042729377746582], [0.9996208548545837, 0.00037912678089924157], [0.9908823370933533, 0.00911766942590475], [0.997211754322052, 0.0027882298454642296], [0.9998794198036194, 0.00012052142847096547], [0.002389080123975873, 0.997610867023468], [0.9321904182434082, 0.06780949980020523], [0.9983640909194946, 0.001635885564610362], [0.9995511174201965, 0.0004488297563511878], [0.9996352195739746, 0.00036474232911132276], [0.9999228119850159, 7.714331150054932e-05], [0.9991320371627808, 0.0008678779122419655], [0.999802827835083, 0.00019714573863893747], [0.0032498228829354048, 0.9967502355575562], [0.05124980956315994, 0.9487501978874207], [0.9998776912689209, 0.00012238635099492967], [0.9994617700576782, 0.0005381501978263259], [0.9994021654129028, 0.0005977040273137391], [0.003709254087880254, 0.9962907433509827], [0.9997515678405762, 0.0002484931901562959], [0.9999112486839294, 8.868273289408535e-05], [0.9999435544013977, 5.635436900774948e-05], [0.9996638298034668, 0.00033619010355323553], [0.9998741149902344, 0.00012589643301907927], [0.005332532338798046, 0.9946675300598145], [0.0023882018867880106, 0.9976117014884949], [0.9996988773345947, 0.00030119300936348736], [0.9950367212295532, 0.004963352344930172], [0.998034656047821, 0.0019653853960335255], [0.999602735042572, 0.0003973421116825193], [0.9893184900283813, 0.010681403800845146], [0.9998323917388916, 0.00016758225683588535], [0.0024147822987288237, 0.9975851774215698], [0.9998593330383301, 0.00014078091771807522], [0.9994491338729858, 0.0005509009351953864], [0.9923969507217407, 0.007603015750646591], [0.9998779892921448, 0.00012191715359222144], [0.9994825720787048, 0.0005173863610252738], [0.9997668266296387, 0.0002331551950192079], [0.9994322061538696, 0.0005677459994331002], [0.0024046949110925198, 0.9975951910018921], [0.9996708631515503, 0.0003291250905022025], [0.9992995262145996, 0.0007005318766459823], [0.9998526573181152, 0.00014726231165695935], [0.9996781349182129, 0.00032193033257499337], [0.9999166131019592, 8.333448204211891e-05], [0.9998854994773865, 0.00011443709809100255], [0.9998292922973633, 0.00017071595357265323], [0.9999541640281677, 4.581136818160303e-05], [0.002553821075707674, 0.9974461793899536], [0.9953408241271973, 0.0046591926366090775], [0.9997808933258057, 0.00021909625502303243], [0.9999217391014099, 7.816668949089944e-05], [0.9997259378433228, 0.000274052785243839], [0.003604988567531109, 0.9963949918746948], [0.9998693466186523, 0.00013059121556580067], [0.9998197555541992, 0.00018033124797511846], [0.9997133016586304, 0.000286679103737697], [0.9999478459358215, 5.204077024245635e-05], [0.9998878836631775, 0.00011201223969692364], [0.9996672868728638, 0.00033277872717007995], [0.9993082880973816, 0.0006915985140949488], [0.9998681545257568, 0.00013194256462156773], [0.9998641014099121, 0.00013594090705737472], [0.0802960991859436, 0.9197038412094116], [0.9919422268867493, 0.008057856000959873], [0.03402029722929001, 0.9659796357154846], [0.999468207359314, 0.0005318165640346706], [0.0024511106312274933, 0.9975488781929016], [0.9763534665107727, 0.023646600544452667], [0.9985611438751221, 0.0014387626433745027], [0.0037139977794140577, 0.9962860941886902], [0.9997254610061646, 0.00027453608345240355], [0.999961793422699, 3.810964699368924e-05], [0.9998352527618408, 0.0001647523749852553], [0.9992274045944214, 0.0007726082112640142], [0.9998211860656738, 0.00017872742319013923], [0.9998988509178162, 0.00010108607239089906], [0.9998173713684082, 0.00018277119670528919], [0.9998753070831299, 0.00012463411258067936], [0.9996821880340576, 0.00031780105200596154], [0.9997889995574951, 0.00021113014372531325], [0.9997773170471191, 0.0002227353397756815], [0.002392775611951947, 0.9976071715354919], [0.9998314380645752, 0.00016866451187524945], [0.9992737770080566, 0.0007261303253471851], [0.9998207092285156, 0.0001793329429347068], [0.9997832775115967, 0.00021683250088244677], [0.9999606013298035, 3.9329079299932346e-05], [0.9999225735664368, 7.740527507849038e-05], [0.9991307258605957, 0.000869221577886492], [0.997471034526825, 0.0025289657060056925], [0.9999156594276428, 8.429774607066065e-05], [0.999896228313446, 0.00010375661076977849], [0.999786376953125, 0.00021367170847952366], [0.9999086260795593, 9.13573894649744e-05], [0.9926117062568665, 0.007388157304376364], [0.9997142553329468, 0.0002857475192286074], [0.0023883655667304993, 0.9976115822792053], [0.99866783618927, 0.0013321393635123968], [0.9998219013214111, 0.00017822781228460371], [0.002388222375884652, 0.9976117014884949], [0.9996532201766968, 0.00034677094663493335], [0.9998934864997864, 0.00010638694948283955], [0.9959585666656494, 0.004041389096528292], [0.002477070549502969, 0.9975228905677795], [0.9998757839202881, 0.0001242424186784774], [0.9990679025650024, 0.0009321168181486428], [0.9996417760848999, 0.0003582074132282287], [0.9994319677352905, 0.0005681079346686602], [0.9995619654655457, 0.0004380691971164197], [0.9995524287223816, 0.0004475811729207635], [0.9998595714569092, 0.0001403593341819942], [0.9995943903923035, 0.00040566857205703855], [0.002388227032497525, 0.9976117014884949], [0.9998877644538879, 0.00011221024033147842], [0.0023882610257714987, 0.9976117014884949], [0.9990485310554504, 0.0009514381526969373], [0.002388570923358202, 0.9976113438606262], [0.9907451272010803, 0.009254910051822662], [0.002388142980635166, 0.9976118206977844], [0.9998791813850403, 0.00012070509546902031], [0.18163606524467468, 0.8183638453483582], [0.9990617632865906, 0.0009382349671795964], [0.002409896347671747, 0.9975900650024414], [0.9998667240142822, 0.000133297304273583], [0.9998987317085266, 0.00010120653314515948], [0.9999427199363708, 5.720428089261986e-05], [0.0024019421543926, 0.9975980520248413], [0.9990694522857666, 0.0009304698323830962], [0.0025040896143764257, 0.9974958896636963], [0.9997247457504272, 0.00027528806822374463], [0.999936044216156, 6.3835468608886e-05], [0.9999306797981262, 6.931484676897526e-05], [0.9058352112770081, 0.09416474401950836], [0.9989503622055054, 0.0010495720198377967], [0.9993453621864319, 0.0006545705255120993], [0.999911367893219, 8.859550871420652e-05], [0.9993442893028259, 0.0006557144806720316], [0.9998269081115723, 0.00017315770674031228], [0.999896228313446, 0.00010368796210968867], [0.9986753463745117, 0.0013246843591332436], [0.9999411702156067, 5.879510717932135e-05], [0.9992324113845825, 0.000767650839406997], [0.006290349178016186, 0.9937096238136292], [0.9999296069145203, 7.031023415038362e-05], [0.998846709728241, 0.0011532920179888606], [0.9984326362609863, 0.0015672962181270123], [0.002408028347417712, 0.9975918531417847], [0.9997639656066895, 0.000236145977396518], [0.9998176097869873, 0.00018242730584461242], [0.9992525577545166, 0.0007475013844668865], [0.9997968673706055, 0.0002031102922046557], [0.999912679195404, 8.731212437851354e-05], [0.002390845911577344, 0.9976090788841248], [0.9994801878929138, 0.0005197182763367891], [0.9989138245582581, 0.0010861674090847373], [0.9999319911003113, 6.792747444706038e-05], [0.9995877146720886, 0.0004123187100049108], [0.9999538064002991, 4.6190823923097923e-05], [0.0023881476372480392, 0.9976118206977844], [0.9995538592338562, 0.00044611096382141113], [0.004662353545427322, 0.9953376054763794], [0.9997763633728027, 0.0002236970904050395], [0.9901115894317627, 0.009888323955237865], [0.9982427954673767, 0.001757118385285139], [0.0024247607216238976, 0.9975751638412476], [0.9998969435691833, 0.00010294630192220211], [0.996078372001648, 0.003921575378626585], [0.9994417428970337, 0.000558287079911679], [0.999845027923584, 0.00015506531053688377], [0.0027276508044451475, 0.9972723722457886], [0.008862612769007683, 0.9911373257637024], [0.999513566493988, 0.00048643388436175883], [0.003063602140173316, 0.9969364404678345], [0.359624445438385, 0.640375554561615], [0.0025183246470987797, 0.9974815845489502], [0.9842901825904846, 0.015709850937128067], [0.9993700385093689, 0.0006299987435340881], [0.9998533725738525, 0.00014668423682451248], [0.0023887224961072206, 0.9976112246513367], [0.004677043296396732, 0.9953230023384094], [0.9998930096626282, 0.00010690825001802295], [0.002388142980635166, 0.9976118206977844], [0.9998102188110352, 0.0001897856272989884], [0.0024314967449754477, 0.9975684285163879], [0.9997298717498779, 0.0002702235069591552], [0.0023882235400378704, 0.9976117014884949], [0.9998385906219482, 0.00016141646483447403], [0.998325526714325, 0.0016744567546993494], [0.9985472559928894, 0.0014526635641232133], [0.9997037649154663, 0.00029624506714753807], [0.9995772242546082, 0.0004228318575769663], [0.9989957809448242, 0.0010042585199698806], [0.9999008774757385, 9.908448555506766e-05], [0.9997797012329102, 0.00022041253396309912], [0.9997051954269409, 0.00029488292057067156], [0.9957718253135681, 0.004228177014738321], [0.9955217242240906, 0.004478230606764555], [0.9991226196289062, 0.0008772901492193341], [0.9972986578941345, 0.0027013279031962156], [0.9999873042106628, 1.2694595170614775e-05], [0.9999273419380188, 7.257668767124414e-05], [0.9993329644203186, 0.0006669596768915653], [0.0023883883841335773, 0.9976115822792053], [0.01715545542538166, 0.9828445315361023], [0.0029100023675709963, 0.9970899820327759], [0.0030183468479663134, 0.9969816207885742], [0.6302816271781921, 0.36971840262413025], [0.9981181025505066, 0.001881902921013534], [0.9994508028030396, 0.0005492640193551779], [0.9994965195655823, 0.0005033835186623037], [0.0023924512788653374, 0.9976075291633606], [0.9998295307159424, 0.00017053651390597224], [0.9999352097511292, 6.472520180977881e-05], [0.9996370077133179, 0.0003629912680480629], [0.007460558321326971, 0.9925394058227539], [0.00239440705627203, 0.9976055026054382], [0.9997942447662354, 0.0002058419049717486], [0.02560770884156227, 0.974392294883728], [0.9998464584350586, 0.00015354322385974228], [0.9996501207351685, 0.0003498551086522639], [0.9998235702514648, 0.00017653849499765784], [0.9998995661735535, 0.00010033765283878893], [0.002388154389336705, 0.9976118206977844], [0.999821662902832, 0.0001783007028279826], [0.003031608648598194, 0.9969683885574341], [0.9996635913848877, 0.0003364390868227929], [0.9999112486839294, 8.867766155162826e-05], [0.9999282956123352, 7.167049625422806e-05], [0.9998555183410645, 0.00014463522529695183], [0.9470228552818298, 0.05297718197107315], [0.9984564185142517, 0.0015435662353411317], [0.9997495412826538, 0.00025052143610082567], [0.876589834690094, 0.12341012060642242], [0.9988481402397156, 0.0011518460232764482], [0.9996713399887085, 0.00032866510446183383], [0.9998550415039062, 0.00014503432612400502], [0.8748500943183899, 0.1251499056816101], [0.0023925616405904293, 0.997607409954071], [0.9998409748077393, 0.00015914742834866047], [0.0024370094761252403, 0.9975629448890686], [0.9999273419380188, 7.264358282554895e-05], [0.9997670650482178, 0.0002329367707716301], [0.9998517036437988, 0.00014845312398392707], [0.9998624324798584, 0.00013767210475634784], [0.039040062576532364, 0.9609599709510803], [0.9975918531417847, 0.0024080327711999416], [0.9998149871826172, 0.00018502028251532465], [0.9994720816612244, 0.0005278223543427885], [0.9995948672294617, 0.0004051267169415951], [0.002388440305367112, 0.9976114630699158], [0.9988260865211487, 0.0011739145265892148], [0.9998838305473328, 0.00011611648369580507], [0.7290893793106079, 0.2709106504917145], [0.9999449849128723, 5.4928277677390724e-05], [0.9997587203979492, 0.00024135819694492966], [0.9996781349182129, 0.0003218898200429976], [0.9993845820426941, 0.000615499506238848], [0.8005934953689575, 0.1994064897298813], [0.9998776912689209, 0.00012240280921105295], [0.06518768519163132, 0.9348122477531433], [0.9998466968536377, 0.0001534043694846332], [0.9981960654258728, 0.0018039185088127851], [0.9998378753662109, 0.00016207763110287488], [0.9994271993637085, 0.0005728326505050063], [0.9998164176940918, 0.00018368297605775297], [0.9998509883880615, 0.00014915148494765162], [0.9948140978813171, 0.005185866262763739], [0.9993742108345032, 0.0006257732748053968], [0.9994443655014038, 0.0005556936957873404], [0.9995775818824768, 0.0004224646254442632], [0.9998600482940674, 0.00013998856593389064], [0.002388142980635166, 0.9976118206977844], [0.9984591603279114, 0.0015408400213345885], [0.009409718215465546, 0.9905903339385986], [0.9986454844474792, 0.0013545505935326219], [0.9997577667236328, 0.00024231302086263895], [0.9998779892921448, 0.00012197995238238946], [0.0023881441447883844, 0.9976118206977844], [0.9997797012329102, 0.0002202051691710949], [0.9998512268066406, 0.00014883550466038287], [0.9987978935241699, 0.001202126033604145], [0.9982770681381226, 0.0017229649238288403], [0.998855710029602, 0.0011443328112363815], [0.999774694442749, 0.0002254232531413436], [0.9998345375061035, 0.0001654336811043322], [0.9999009966850281, 9.889493958326057e-05], [0.9980919361114502, 0.0019080279162153602], [0.9995954632759094, 0.000404543214244768], [0.0023897462524473667, 0.9976101517677307], [0.9998976588249207, 0.00010226824815617874], [0.9999187588691711, 8.11829449958168e-05], [0.9995562434196472, 0.00044375492143444717], [0.999873161315918, 0.00012690018047578633], [0.998763918876648, 0.0012360976543277502], [0.9996235966682434, 0.0003764252469409257], [0.9964554905891418, 0.003544562729075551], [0.9983856081962585, 0.0016143441898748279], [0.8310436010360718, 0.16895638406276703], [0.9817086458206177, 0.01829138584434986], [0.9986011981964111, 0.0013987753773108125], [0.9998536109924316, 0.00014653160178568214], [0.9998219013214111, 0.00017816222680266947], [0.9980776309967041, 0.00192231812980026], [0.9996311068534851, 0.00036890656338073313], [0.9991109371185303, 0.0008890425669960678], [0.9666174054145813, 0.033382583409547806], [0.9969469308853149, 0.0030530758667737246], [0.9997985363006592, 0.00020151982607785612], [0.002388142980635166, 0.9976118206977844], [0.002394028939306736, 0.9976058602333069], [0.014755438081920147, 0.9852445721626282], [0.999260663986206, 0.0007393527776002884], [0.9987831115722656, 0.0012168990215286613], [0.9997603893280029, 0.0002395975316176191], [0.7694259285926819, 0.23057401180267334], [0.9998085498809814, 0.0001915414322866127], [0.9996252655982971, 0.0003747431037481874], [0.9991228580474854, 0.0008770849090069532], [0.9996488094329834, 0.0003511813993100077], [0.9998863339424133, 0.00011361140786902979], [0.9860027432441711, 0.013997307978570461], [0.9997715950012207, 0.00022844156774226576], [0.9999433159828186, 5.661728937411681e-05], [0.9999508261680603, 4.913799784844741e-05], [0.002388142980635166, 0.9976118206977844], [0.9999058842658997, 9.402656723977998e-05], [0.9998757839202881, 0.00012433879601303488], [0.002389088273048401, 0.997610867023468], [0.9999011158943176, 9.880237485049292e-05], [0.002388142980635166, 0.9976118206977844], [0.9984467029571533, 0.0015533847035840154], [0.9994762539863586, 0.0005235981661826372], [0.999875545501709, 0.00012456403055693954], [0.999744176864624, 0.00025585124967619777], [0.9997591972351074, 0.00024068598577287048], [0.002388142980635166, 0.9976118206977844], [0.9997555017471313, 0.00024457211839035153], [0.9989869594573975, 0.0010129971196874976], [0.9998894333839417, 0.00011043652921216562], [0.99983811378479, 0.00016199593665078282], [0.9998056888580322, 0.0001942579838214442], [0.999127984046936, 0.0008719615871086717], [0.9969910979270935, 0.0030088541097939014], [0.002388142980635166, 0.9976118206977844], [0.9987264275550842, 0.001273584901355207], [0.00693355081602931, 0.9930664300918579], [0.017996370792388916, 0.9820036888122559], [0.0023919332306832075, 0.9976080060005188], [0.9999282956123352, 7.159479719121009e-05], [0.002388379303738475, 0.9976115822792053], [0.9999036192893982, 9.628806583350524e-05], [0.0023888894356787205, 0.9976111054420471], [0.9998593330383301, 0.00014074963110033423], [0.9998971819877625, 0.00010271792416460812], [0.9997735023498535, 0.00022643804550170898], [0.9997577667236328, 0.0002422178367851302], [0.9997649192810059, 0.000235178682487458], [0.9994560480117798, 0.0005440333625301719], [0.9999223351478577, 7.757841376587749e-05], [0.0033870809711515903, 0.9966128468513489], [0.9989394545555115, 0.0010605950374156237], [0.999523937702179, 0.00047598197124898434], [0.9998106956481934, 0.0001893066946649924], [0.9998502731323242, 0.00014980883861426264], [0.9991744160652161, 0.0008255981374531984], [0.9955720901489258, 0.004427941050380468], [0.9978032112121582, 0.0021968360524624586], [0.9999253153800964, 7.460785855073482e-05], [0.999854326248169, 0.00014562270371243358], [0.9932659864425659, 0.006734067108482122], [0.999774694442749, 0.0002253063430543989], [0.9998757839202881, 0.0001241449499502778], [0.999883234500885, 0.0001166433867183514], [0.006718822289258242, 0.9932811260223389], [0.8462930917739868, 0.1537068784236908], [0.9988378882408142, 0.0011621287558227777], [0.9996569156646729, 0.00034306885208934546], [0.9997420310974121, 0.0002580630243755877], [0.9981178641319275, 0.0018821627600118518], [0.002388295251876116, 0.9976117014884949], [0.3520422577857971, 0.6479577422142029], [0.9925809502601624, 0.007419001776725054], [0.0023900249507278204, 0.9976099133491516], [0.999916136264801, 8.373946911888197e-05], [0.9999038577079773, 9.605055674910545e-05], [0.9997618198394775, 0.00023816537577658892], [0.9998964667320251, 0.00010343614121666178], [0.9999729990959167, 2.699245851545129e-05], [0.9999249577522278, 7.495457248296589e-05], [0.0033035522792488337, 0.996696412563324], [0.9998919367790222, 0.00010797189315780997], [0.9762858748435974, 0.02371412143111229], [0.9998359680175781, 0.00016394906560890377], [0.9990492463111877, 0.0009507222566753626], [0.10960546135902405, 0.8903944492340088], [0.03672606125473976, 0.9632739424705505], [0.9993739724159241, 0.0006260650116018951], [0.9998455047607422, 0.00015461618022527546], [0.9999197125434875, 8.023492409847677e-05], [0.9999533295631409, 4.65927914774511e-05], [0.0026845885440707207, 0.9973154067993164], [0.9999452233314514, 5.4765721870353445e-05], [0.9999238848686218, 7.601275865454227e-05], [0.9999142289161682, 8.569913916289806e-05], [0.9998672008514404, 0.0001329588849330321], [0.9997603893280029, 0.00023966106527950615], [0.006185936275869608, 0.9938141107559204], [0.9981648921966553, 0.0018351139733567834], [0.9998409748077393, 0.00015894690295681357], [0.9997215270996094, 0.00027849420439451933], [0.002450227038934827, 0.997549831867218], [0.9999037384986877, 9.616171882953495e-05], [0.010995889082551003, 0.9890040159225464], [0.36615869402885437, 0.6338412761688232], [0.8851973414421082, 0.11480267345905304], [0.9997844696044922, 0.00021553883561864495], [0.9998018741607666, 0.00019810220692306757], [0.9997937679290771, 0.00020618365670088679], [0.014240802265703678, 0.9857591986656189], [0.9863723516464233, 0.01362777128815651], [0.9999075531959534, 9.23261686693877e-05], [0.9992562532424927, 0.0007437780150212348], [0.9998833537101746, 0.00011654666013782844], [0.999708890914917, 0.0002911840274464339], [0.12967118620872498, 0.8703286647796631], [0.9699111580848694, 0.030088897794485092], [0.0023882132954895496, 0.9976117014884949], [0.9998335838317871, 0.00016649127064738423], [0.002467237412929535, 0.9975327253341675], [0.0023888552095741034, 0.9976111054420471], [0.9998462200164795, 0.00015379261458292603], [0.9985212683677673, 0.0014786665560677648], [0.9998035430908203, 0.00019638851517811418], [0.00241245049983263, 0.9975875616073608], [0.9569547772407532, 0.04304526746273041], [0.9997457265853882, 0.00025436782743781805], [0.9999057650566101, 9.415199019713327e-05], [0.999762773513794, 0.0002372214657953009], [0.9999107718467712, 8.91926174517721e-05], [0.9965813755989075, 0.003418493550270796], [0.9998676776885986, 0.00013232204946689308], [0.9999386668205261, 6.12620497122407e-05], [0.999006450176239, 0.0009934550616890192], [0.002388142980635166, 0.9976118206977844], [0.9998629093170166, 0.0001372483529848978], [0.9989176392555237, 0.0010822692420333624], [0.9998889565467834, 0.00011092412751168013], [0.5614071488380432, 0.4385928213596344], [0.9999392628669739, 6.070874587749131e-05], [0.9998691082000732, 0.00013097560440655798], [0.9993216395378113, 0.0006783310091122985], [0.9999473690986633, 5.251006587059237e-05], [0.9543326497077942, 0.0456673726439476], [0.9940645098686218, 0.0059353942051529884], [0.999638557434082, 0.0003613817098084837], [0.9996602535247803, 0.0003397931868676096], [0.9999092221260071, 9.074543777387589e-05], [0.9833433628082275, 0.01665661856532097], [0.8491657972335815, 0.15083417296409607], [0.002388188149780035, 0.9976117014884949], [0.9998719692230225, 0.00012806997983716428], [0.007443893700838089, 0.992556095123291], [0.9998354911804199, 0.00016452600539196283], [0.9997529983520508, 0.0002470799663569778], [0.9989429116249084, 0.0010571138700470328], [0.9964885115623474, 0.003511580405756831], [0.9988085627555847, 0.0011913921916857362], [0.0023922747932374477, 0.9976076483726501], [0.9995289444923401, 0.000471056264359504], [0.12093258649110794, 0.8790673613548279], [0.999923050403595, 7.691845530644059e-05], [0.9998173713684082, 0.00018260272918269038], [0.9988962411880493, 0.0011037624208256602], [0.9982839822769165, 0.0017161008436232805], [0.0023881567176431417, 0.9976118206977844], [0.9613956212997437, 0.03860432654619217], [0.999793291091919, 0.000206753597012721], [0.999626100063324, 0.0003739968524314463], [0.0034616137854754925, 0.9965384006500244], [0.9994718432426453, 0.000528078293427825], [0.9999030232429504, 9.696374763734639e-05], [0.9997949600219727, 0.00020497600780799985], [0.0027517355047166348, 0.9972482323646545], [0.9998838305473328, 0.0001160697647719644], [0.0023898009676486254, 0.9976101517677307], [0.9998605251312256, 0.00013940232747700065], [0.9991852641105652, 0.0008147621410898864], [0.9999157786369324, 8.409524889430031e-05], [0.07756154239177704, 0.9224385023117065], [0.9995148777961731, 0.000485082040540874], [0.0023881769739091396, 0.9976118206977844], [0.9999106526374817, 8.92496173037216e-05], [0.9998066425323486, 0.00019326273468323052], [0.9997037649154663, 0.0002962151193059981], [0.002388227032497525, 0.9976117014884949], [0.9999033808708191, 9.657700138632208e-05], [0.9908498525619507, 0.009150025434792042], [0.9457714557647705, 0.0542285330593586], [0.9999043345451355, 9.562641935190186e-05], [0.9999060034751892, 9.395907545695081e-05], [0.9731743335723877, 0.02682565338909626], [0.9995827078819275, 0.00041734345722943544], [0.9999343752861023, 6.561957707162946e-05], [0.9976806044578552, 0.0023194323293864727], [0.002463782439008355, 0.9975360631942749], [0.9998083114624023, 0.00019171189342159778], [0.002994717564433813, 0.9970052242279053], [0.9994975924491882, 0.0005023079575039446], [0.9998681545257568, 0.00013182032853364944], [0.00238879956305027, 0.9976111054420471], [0.9989290833473206, 0.0010709143243730068], [0.9999205470085144, 7.940193609101698e-05], [0.9997773170471191, 0.0002226183278253302], [0.9985291361808777, 0.0014707811642438173], [0.9982907772064209, 0.0017093161586672068], [0.9999223351478577, 7.754127727821469e-05], [0.9996684789657593, 0.0003315709182061255], [0.9998481273651123, 0.00015202014765236527], [0.0023884952533990145, 0.9976114630699158], [0.9999123215675354, 8.760234049987048e-05], [0.9996829032897949, 0.00031713067437522113], [0.9999460577964783, 5.393254468799569e-05], [0.9997172355651855, 0.0002827947319019586], [0.9999225735664368, 7.736830593785271e-05], [0.9999275803565979, 7.23741904948838e-05], [0.999755859375, 0.0002441126707708463], [0.9997494220733643, 0.00025067722890526056], [0.9994751811027527, 0.0005246727960184216], [0.018060235306620598, 0.9819397926330566], [0.00272966455668211, 0.9972703456878662], [0.9958146810531616, 0.004185199737548828], [0.9998902678489685, 0.00010962203668896109], [0.002393267350271344, 0.9976066946983337], [0.0023895155172795057, 0.9976103901863098], [0.9996059536933899, 0.0003940362366847694], [0.9971268177032471, 0.002873167162761092], [0.9995371699333191, 0.0004627930175047368], [0.9999313950538635, 6.857257540104911e-05], [0.999404788017273, 0.0005952601204626262], [0.9994605779647827, 0.0005394521285779774], [0.9998321533203125, 0.00016793067334219813], [0.9998505115509033, 0.00014960671251174062], [0.9997925758361816, 0.00020737707382068038], [0.9999107718467712, 8.919669926399365e-05], [0.9998197555541992, 0.0001801717298803851], [0.9984161853790283, 0.0015837165992707014], [0.9998466968536377, 0.00015345249266829342], [0.999888002872467, 0.00011187240306753665], [0.9956385493278503, 0.004361508879810572], [0.9999162554740906, 8.365598478121683e-05], [0.9994855523109436, 0.0005144068854860961], [0.9985076189041138, 0.0014924444258213043], [0.9982854127883911, 0.0017145787132903934], [0.9998288154602051, 0.0001711883523967117], [0.9997028112411499, 0.0002971830836031586], [0.9998655319213867, 0.00013458431931212544], [0.9997217655181885, 0.0002783015079330653], [0.9992113709449768, 0.0007887111860327423], [0.9999222159385681, 7.776996062602848e-05], [0.9999628663063049, 3.703742186189629e-05], [0.9998323917388916, 0.00016763084568083286], [0.9997799396514893, 0.00022004650963936], [0.9999036192893982, 9.629082342144102e-05], [0.0023883020039647818, 0.9976117014884949], [0.999626100063324, 0.0003739300009328872], [0.9947742819786072, 0.00522578926756978], [0.9976555705070496, 0.002344307256862521], [0.999407172203064, 0.0005927734891884029], [0.9996647834777832, 0.0003352082276251167], [0.9970768094062805, 0.00292314519174397], [0.9998576641082764, 0.00014232935791369528], [0.9999074339866638, 9.247093112207949e-05], [0.9892996549606323, 0.010700195096433163], [0.9998219013214111, 0.00017817497428040951], [0.9998033046722412, 0.0001966521522263065], [0.9997156858444214, 0.00028434034902602434], [0.9994450807571411, 0.0005548837943933904], [0.9995148777961731, 0.0004851123667322099], [0.9999430775642395, 5.690981197403744e-05], [0.9998849034309387, 0.00011502260895213112], [0.9998648166656494, 0.00013521513028535992], [0.9998825192451477, 0.00011738998728105798], [0.9999119639396667, 8.792999869911e-05], [0.9118145108222961, 0.0881853997707367], [0.9999600052833557, 3.998853571829386e-05], [0.9998875260353088, 0.0001123962429119274], [0.9996721744537354, 0.0003278536314610392], [0.9987733364105225, 0.001226765918545425], [0.9999160170555115, 8.392670133616775e-05], [0.9988566637039185, 0.0011433385079726577], [0.9997959136962891, 0.00020402291556820273], [0.9984300136566162, 0.001569848507642746], [0.999879777431488, 0.00012018207780783996], [0.9990620017051697, 0.0009379980619996786], [0.9851590394973755, 0.014840953052043915], [0.0023884358815848827, 0.9976114630699158], [0.9998982548713684, 0.00010163593833567575], [0.9683599472045898, 0.031639985740184784], [0.9966439008712769, 0.0033561126329004765], [0.99958735704422, 0.00041266297921538353], [0.9998871684074402, 0.00011275532597210258], [0.9994481801986694, 0.0005518757971003652], [0.9998641014099121, 0.00013582324027083814], [0.9985294938087463, 0.0014704366913065314], [0.9996210932731628, 0.0003788982576224953], [0.9994894862174988, 0.0005104627343825996], [0.9995152354240417, 0.0004847208329010755], [0.9997074604034424, 0.0002926027518697083], [0.9999107718467712, 8.912017074180767e-05], [0.9997180700302124, 0.00028201768873259425], [0.9999398589134216, 6.002503141644411e-05], [0.9999048113822937, 9.50923640630208e-05], [0.9987037181854248, 0.00129628274589777], [0.9999602437019348, 3.969661702285521e-05], [0.9999147057533264, 8.52768644108437e-05], [0.9997718334197998, 0.00022806850029155612], [0.9999086260795593, 9.12767427507788e-05], [0.997693657875061, 0.002306367037817836], [0.999126672744751, 0.0008732511196285486], [0.9999539256095886, 4.5995657274033874e-05], [0.9991572499275208, 0.0008426683489233255], [0.99959796667099, 0.00040202890522778034], [0.5882147550582886, 0.4117853045463562], [0.9998893141746521, 0.00011059091775678098], [0.0023921565152704716, 0.9976077675819397], [0.9990306496620178, 0.0009693455649539828], [0.9942787885665894, 0.005721204448491335], [0.9998369216918945, 0.000163217555382289], [0.9996873140335083, 0.0003127198724541813], [0.9997899532318115, 0.00021003864821977913], [0.9998350143432617, 0.00016500816855113953], [0.9995785355567932, 0.00042144148028455675], [0.005418199580162764, 0.9945817589759827], [0.9998295307159424, 0.00017055017815437168], [0.9994169473648071, 0.0005830711452290416], [0.002388142980635166, 0.9976118206977844], [0.9987403750419617, 0.0012595981825143099], [0.9995399117469788, 0.0004600146203301847], [0.9988943338394165, 0.0011057916563004255], [0.9998641014099121, 0.00013585822307504714], [0.7903734445571899, 0.20962652564048767], [0.9967077970504761, 0.003292167093604803], [0.99981689453125, 0.0001832187408581376], [0.9999306797981262, 6.92254543537274e-05], [0.9992066025733948, 0.0007934694294817746], [0.002388142980635166, 0.9976118206977844], [0.9997161626815796, 0.0002838888030964881], [0.9991905093193054, 0.0008094743825495243], [0.9997315406799316, 0.0002685168874450028], [0.9996985197067261, 0.00030156626598909497], [0.9998969435691833, 0.00010295140964444727], [0.9981009364128113, 0.0018990121316164732], [0.999891459941864, 0.00010851109982468188], [0.002388222375884652, 0.9976117014884949], [0.9999573826789856, 4.2538529669400305e-05], [0.9983029365539551, 0.0016970183933153749], [0.956527054309845, 0.043472860008478165], [0.999961793422699, 3.8093803595984355e-05], [0.9996209740638733, 0.00037906915531493723], [0.9998722076416016, 0.00012787034211214632], [0.9999580979347229, 4.188173625152558e-05], [0.9998490810394287, 0.00015089049702510238], [0.9997513294219971, 0.0002487617894075811], [0.0023889541625976562, 0.9976109862327576], [0.9974124431610107, 0.0025874990969896317], [0.9998524188995361, 0.00014753654249943793], [0.999687671661377, 0.00031233459594659507], [0.999886691570282, 0.00011327595711918548], [0.9991810917854309, 0.0008188772480934858], [0.9993857741355896, 0.0006142940255813301], [0.0024056604597717524, 0.9975942373275757], [0.9996497631072998, 0.0003502338659018278], [0.9996981620788574, 0.0003018797724507749], [0.9980237483978271, 0.001976094441488385], [0.9998481273651123, 0.0001518490316811949], [0.9999427199363708, 5.726994641008787e-05], [0.9978091716766357, 0.002190936589613557], [0.9987804889678955, 0.0012194807641208172], [0.9996697902679443, 0.0003302434051875025], [0.9998750686645508, 0.00012504923506639898], [0.9993708729743958, 0.0006291772588156164], [0.9997804164886475, 0.00021954395924694836], [0.9998714923858643, 0.00012853769294451922], [0.9998995661735535, 0.00010034741717390716], [0.9997854232788086, 0.00021469587227329612], [0.9990227818489075, 0.0009771846234798431], [0.002396506955847144, 0.9976033568382263], [0.0076539283618330956, 0.9923461079597473], [0.9997204542160034, 0.00027960442821495235], [0.9995004534721375, 0.0004994571208953857], [0.9969431161880493, 0.0030568023212254047], [0.9981245398521423, 0.0018754578195512295], [0.999873161315918, 0.00012694326869677752], [0.0472804456949234, 0.9527196288108826], [0.002409806940704584, 0.997590184211731], [0.9992415904998779, 0.000758398266043514], [0.9996347427368164, 0.0003651841834653169], [0.002388142980635166, 0.9976118206977844], [0.9995786547660828, 0.000421293661929667], [0.002390083856880665, 0.9976097941398621], [0.9984945058822632, 0.0015055184485390782], [0.9992583990097046, 0.0007416200242005289], [0.9992281198501587, 0.0007719319546595216], [0.9948312044143677, 0.0051687113009393215], [0.9983356595039368, 0.0016643195413053036], [0.9998071193695068, 0.00019285058078821748], [0.9996004700660706, 0.0003995336883235723], [0.99994295835495, 5.695672007277608e-05], [0.9998900294303894, 0.00010993021714966744], [0.9988349080085754, 0.0011650831438601017], [0.999175488948822, 0.0008244801429100335], [0.9973263144493103, 0.0026736902073025703], [0.0023882200475782156, 0.9976117014884949], [0.9992343187332153, 0.0007656789384782314], [0.9998476505279541, 0.0001524021354271099], [0.9997272491455078, 0.00027275466709397733], [0.002388565568253398, 0.9976113438606262], [0.005246154963970184, 0.9947538375854492], [0.0023892042227089405, 0.9976107478141785], [0.9998970627784729, 0.00010283150913892314], [0.9993698000907898, 0.0006302783731371164], [0.9998950362205505, 0.00010491948341950774], [0.9997245073318481, 0.0002755598397925496], [0.9998478889465332, 0.00015209190314635634], [0.9997870922088623, 0.00021281732188072056], [0.9999392628669739, 6.067922731745057e-05], [0.002388494089245796, 0.9976114630699158], [0.9999647736549377, 3.518007724778727e-05], [0.002388142980635166, 0.9976118206977844], [0.9988754987716675, 0.001124500297009945], [0.3209284842014313, 0.6790715456008911], [0.9987814426422119, 0.0012186610838398337], [0.9997159242630005, 0.00028416013810783625], [0.9997191429138184, 0.00028088424005545676], [0.9996104836463928, 0.0003895424015354365], [0.9997727870941162, 0.00022722224821336567], [0.002513880142942071, 0.9974861145019531], [0.9997240304946899, 0.0002760255301836878], [0.0023903672117739916, 0.997609555721283], [0.9997866153717041, 0.0002133927628165111], [0.017291057854890823, 0.9827088713645935], [0.9995130896568298, 0.0004867989046033472], [0.9999040961265564, 9.577871969668195e-05], [0.9997156858444214, 0.0002843162219505757], [0.9969098567962646, 0.0030901844147592783], [0.9982003569602966, 0.001799729885533452], [0.0023881508968770504, 0.9976118206977844], [0.9998865723609924, 0.00011334056034684181], [0.7484250664710999, 0.25157490372657776], [0.9997603893280029, 0.00023965946456883103], [0.9998025894165039, 0.00019741529831662774], [0.002388142980635166, 0.9976118206977844], [0.7001270055770874, 0.29987308382987976], [0.002388142980635166, 0.9976118206977844], [0.9724903106689453, 0.027509724721312523], [0.9999120831489563, 8.781487122178078e-05], [0.999588668346405, 0.00041133331251330674], [0.9999029040336609, 9.696881897980347e-05], [0.999720573425293, 0.00027941519510932267], [0.9991785883903503, 0.0008213733090087771], [0.9997507333755493, 0.00024936874979175627], [0.9990812540054321, 0.0009187055402435362], [0.9998300075531006, 0.00017008831491693854], [0.0032782230991870165, 0.9967218637466431], [0.9996839761734009, 0.0003160995547659695], [0.0023915579076856375, 0.9976083636283875], [0.9997751712799072, 0.00022488141257781535], [0.9997718334197998, 0.0002282060158904642], [0.9996125102043152, 0.0003875131078530103], [0.9999364018440247, 6.35117685305886e-05], [0.9991975426673889, 0.0008024249691516161], [0.9997421503067017, 0.0002579476567916572], [0.9805800914764404, 0.019419953227043152], [0.9997828006744385, 0.00021732387540396303], [0.14112624526023865, 0.858873724937439], [0.9993230700492859, 0.0006769448518753052], [0.9995771050453186, 0.0004228418692946434], [0.9997502565383911, 0.00024983304319903255], [0.0023896724451333284, 0.9976102709770203], [0.9996172785758972, 0.0003827008476946503], [0.9998745918273926, 0.00012550711107905954], [0.9997414350509644, 0.0002585686161182821], [0.9853463768959045, 0.014653515070676804], [0.9997497797012329, 0.00025026575895026326], [0.9998383522033691, 0.00016168804722838104], [0.9997001886367798, 0.0002998195413965732], [0.9998831152915955, 0.0001167591181001626], [0.9999273419380188, 7.263208681251854e-05], [0.9821365475654602, 0.01786349155008793], [0.999946653842926, 5.332915679900907e-05], [0.9996961355209351, 0.000303841196000576], [0.9993595480918884, 0.0006404072628356516], [0.9999592900276184, 4.064198583364487e-05], [0.9998794198036194, 0.00012054361286573112], [0.9982917308807373, 0.0017082080012187362], [0.9997117519378662, 0.0002882945991586894], [0.0024005312006920576, 0.9975993633270264], [0.999849796295166, 0.000150306208524853], [0.9986409544944763, 0.001358997542411089], [0.9997708797454834, 0.00022908912796992809], [0.9997916221618652, 0.0002083637227769941], [0.9979764223098755, 0.002023687120527029], [0.9971955418586731, 0.002804367570206523], [0.0024501837324351072, 0.997549831867218], [0.9997968673706055, 0.00020319224859122187], [0.9948624968528748, 0.005137529224157333], [0.002388142980635166, 0.9976118206977844], [0.9997951984405518, 0.0002049250470008701], [0.9997973442077637, 0.00020255619892850518], [0.002480562776327133, 0.9975194334983826], [0.0026385318487882614, 0.9973615407943726], [0.002388142980635166, 0.9976118206977844], [0.9997715950012207, 0.0002284426591359079], [0.9998438358306885, 0.00015610553964506835], [0.9995110630989075, 0.000488847668748349], [0.9990766048431396, 0.0009234084864147007], [0.9995599389076233, 0.00044006016105413437], [0.04222654178738594, 0.9577734470367432], [0.9998820424079895, 0.00011785489186877385], [0.9656583070755005, 0.03434169664978981], [0.9996078610420227, 0.00039221940096467733], [0.9999149441719055, 8.496856753481552e-05], [0.9999157786369324, 8.419596269959584e-05], [0.9982287883758545, 0.0017711474793031812], [0.9996885061264038, 0.00031156226759776473], [0.9978852868080139, 0.00211469572968781], [0.002392977010458708, 0.9976069331169128], [0.9998986124992371, 0.00010137643403140828], [0.999868631362915, 0.00013137435598764569], [0.9994831681251526, 0.0005167879862710834], [0.993305504322052, 0.006694468203932047], [0.9997320175170898, 0.00026797904865816236], [0.9998633861541748, 0.0001366326614515856], [0.002388868946582079, 0.9976111054420471], [0.9995985627174377, 0.0004014540754724294], [0.9993426203727722, 0.0006573381251655519], [0.0023881453089416027, 0.9976118206977844], [0.9994997382164001, 0.0005001798854209483], [0.999707818031311, 0.00029219628777354956], [0.9995884299278259, 0.00041154882637783885], [0.002640936989337206, 0.9973591566085815], [0.9999057650566101, 9.417731780558825e-05], [0.9993557333946228, 0.0006442447192966938], [0.9996837377548218, 0.00031625686096958816], [0.9993681311607361, 0.0006318474770523608], [0.0024147273506969213, 0.9975852966308594], [0.9795370697975159, 0.020462898537516594], [0.002388149732723832, 0.9976118206977844], [0.9978526830673218, 0.0021473949309438467], [0.9998300075531006, 0.0001700195571174845], [0.9970468282699585, 0.0029531139880418777], [0.9998428821563721, 0.00015721455565653741], [0.9998455047607422, 0.00015461411385331303], [0.9979493021965027, 0.002050774870440364], [0.9990929365158081, 0.000907059118617326], [0.9951611757278442, 0.004838734399527311], [0.0024038576520979404, 0.997596025466919], [0.9998986124992371, 0.00010129187285201624], [0.1669800877571106, 0.8330199122428894], [0.999783992767334, 0.0002161146403523162], [0.002661818638443947, 0.9973381161689758], [0.9886167049407959, 0.011383303441107273], [0.9996197819709778, 0.00038025304093025625], [0.9923062324523926, 0.007693677209317684], [0.981259822845459, 0.018740125000476837], [0.9998466968536377, 0.0001532679161755368], [0.9999026656150818, 9.72965281107463e-05], [0.9971905946731567, 0.0028093326836824417], [0.9994620084762573, 0.0005380928632803261], [0.9998292922973633, 0.00017079460667446256], [0.9995576739311218, 0.00044235613313503563], [0.999576985836029, 0.00042299507185816765], [0.9878802299499512, 0.012119700200855732], [0.9993888735771179, 0.0006111807306297123], [0.9997011423110962, 0.0002989230561070144], [0.00238879956305027, 0.9976111054420471], [0.9997247457504272, 0.00027533085085451603], [0.9983226656913757, 0.0016773134702816606], [0.9805712103843689, 0.019428811967372894], [0.19446875154972076, 0.8055313229560852], [0.9998884797096252, 0.00011147117038490251], [0.9982576966285706, 0.00174229359254241], [0.9978058338165283, 0.002194071887061], [0.9977813363075256, 0.0022186399437487125], [0.9998288154602051, 0.00017120549455285072], [0.33837735652923584, 0.6616226434707642], [0.9997596740722656, 0.0002402345708105713], [0.9992120862007141, 0.0007879080949351192], [0.998302698135376, 0.0016973328310996294], [0.9998971819877625, 0.0001027354592224583], [0.999828577041626, 0.00017145625315606594], [0.8927045464515686, 0.10729546844959259], [0.9998629093170166, 0.00013703804870601743], [0.3334963917732239, 0.6665036678314209], [0.9998940825462341, 0.00010590173042146489], [0.9999582171440125, 4.1673643863759935e-05], [0.0023894519545137882, 0.9976105093955994], [0.9998579025268555, 0.00014202823513187468], [0.9998883605003357, 0.00011155378888361156], [0.9996497631072998, 0.0003502455656416714], [0.9991520047187805, 0.0008479902753606439], [0.999896228313446, 0.00010372357064625248], [0.9994224309921265, 0.0005776470643468201], [0.9987117648124695, 0.001288238214328885], [0.9998118877410889, 0.0001881401112768799], [0.9998838305473328, 0.00011613863171078265], [0.999679446220398, 0.0003205992397852242], [0.9999257922172546, 7.409912359435111e-05], [0.9996784925460815, 0.00032151839695870876], [0.9514756798744202, 0.04852433130145073], [0.8674312829971313, 0.13256873190402985], [0.9996858835220337, 0.0003141416236758232], [0.0023916978389024734, 0.9976082444190979], [0.999821662902832, 0.00017834339814726263], [0.9997152090072632, 0.00028483933419920504], [0.9994214773178101, 0.0005784337408840656], [0.9997507333755493, 0.000249295262619853], [0.9998667240142822, 0.0001331988169113174], [0.9998714923858643, 0.00012855167733505368], [0.030742499977350235, 0.9692575335502625], [0.9998283386230469, 0.00017160343122668564], [0.9997599124908447, 0.00024020163982640952], [0.002388142980635166, 0.9976118206977844], [0.9998512268066406, 0.00014872881001792848], [0.9991105794906616, 0.0008893780177459121], [0.9997632503509521, 0.00023670679365750402], [0.9997601509094238, 0.00023989379405975342], [0.9159314036369324, 0.08406858891248703], [0.9999056458473206, 9.424200106877834e-05], [0.9997861385345459, 0.00021380964608397335], [0.9998782277107239, 0.00012168335524620488], [0.002839979249984026, 0.997160017490387], [0.9998221397399902, 0.00017779259360395372], [0.9997808933258057, 0.00021901499712839723], [0.999972403049469, 2.749795385170728e-05], [0.9996756315231323, 0.00032444021780975163], [0.9995728135108948, 0.0004272189107723534], [0.9835740327835083, 0.016425911337137222], [0.8438950181007385, 0.15610496699810028], [0.00239088898524642, 0.9976090788841248], [0.9976592659950256, 0.0023406289983540773], [0.038364097476005554, 0.9616360068321228], [0.9995965361595154, 0.0004034648591186851], [0.0048254928551614285, 0.9951745867729187], [0.9997961521148682, 0.00020395663159433752], [0.9977262616157532, 0.0022737407125532627], [0.9999187588691711, 8.120494021568447e-05], [0.9997545480728149, 0.0002454846107866615], [0.9998176097869873, 0.000182359479367733], [0.9997069835662842, 0.00029308602097444236], [0.9974863529205322, 0.0025136335752904415], [0.9998180866241455, 0.0001819473400246352], [0.999847412109375, 0.00015261430235113949], [0.0031249765306711197, 0.9968751072883606], [0.9998976588249207, 0.00010233020293526351], [0.9999389052391052, 6.107859371695668e-05], [0.0023881453089416027, 0.9976118206977844], [0.9997307062149048, 0.00026936951326206326], [0.9999455809593201, 5.43741844012402e-05], [0.9987772703170776, 0.0012227812549099326], [0.0023882018867880106, 0.9976117014884949], [0.9998688697814941, 0.00013122135715093464], [0.9983254075050354, 0.0016745259054005146], [0.992093563079834, 0.007906525395810604], [0.9999164938926697, 8.33840822451748e-05], [0.9998035430908203, 0.00019636997603811324], [0.0029406938701868057, 0.9970593452453613], [0.9997692108154297, 0.00023088903981260955], [0.0023881441447883844, 0.9976118206977844], [0.9995145201683044, 0.00048537319526076317], [0.9971690773963928, 0.0028309584595263004], [0.9964303970336914, 0.003569516586139798], [0.0023996729869395494, 0.997600257396698], [0.002403541002422571, 0.9975963830947876], [0.9998326301574707, 0.00016737706027925014], [0.9997411966323853, 0.000258852553088218], [0.9995564818382263, 0.0004435346054378897], [0.999861478805542, 0.0001385783834848553], [0.9999250769615173, 7.486406684620306e-05], [0.0023884179536253214, 0.9976115822792053], [0.9995281100273132, 0.000471877574454993], [0.9999372363090515, 6.27589033683762e-05], [0.9999057650566101, 9.420517017133534e-05], [0.999204695224762, 0.0007953376625664532], [0.9998273849487305, 0.00017254719568882138], [0.9998897910118103, 0.00011014805204467848], [0.9986680746078491, 0.0013319954741746187], [0.9996159672737122, 0.0003841011202894151], [0.9999191164970398, 8.079432882368565e-05], [0.9993533492088318, 0.0006466603954322636], [0.9998166561126709, 0.00018331238243263215], [0.9998488426208496, 0.0001511579321231693], [0.9981701970100403, 0.0018297395436093211], [0.9999342560768127, 6.562276394106448e-05], [0.0026328980457037687, 0.9973670244216919], [0.9973765015602112, 0.0026234514079988003], [0.9459686875343323, 0.05403117462992668], [0.9999083876609802, 9.15033306227997e-05], [0.9991022348403931, 0.000897807243745774], [0.002408447675406933, 0.997591495513916], [0.9999263882637024, 7.354973786277696e-05], [0.9997454881668091, 0.0002545126189943403], [0.9996156096458435, 0.00038440441130660474], [0.0023882384411990643, 0.9976117014884949], [0.9994823336601257, 0.0005175807164050639], [0.9999099373817444, 9.001321450341493e-05], [0.9999662041664124, 3.368899706401862e-05], [0.9997061491012573, 0.00029382712091319263], [0.9999657273292542, 3.421767905820161e-05], [0.9982905387878418, 0.0017094934592023492], [0.9983102679252625, 0.001689713797532022], [0.9976699948310852, 0.0023299548774957657], [0.9989473223686218, 0.0010527331614866853], [0.9992219805717468, 0.0007780348532833159], [0.9998006820678711, 0.00019943782535847276], [0.01345980167388916, 0.9865402579307556], [0.9945583343505859, 0.005441713612526655], [0.9986668825149536, 0.0013331001391634345], [0.9998593330383301, 0.00014064805873204023], [0.9998283386230469, 0.00017161358846351504], [0.278039813041687, 0.721960186958313], [0.0023923679254949093, 0.9976075291633606], [0.9999051690101624, 9.47400985751301e-05], [0.011569883674383163, 0.9884301424026489], [0.9946754574775696, 0.005324418656527996], [0.002388142980635166, 0.9976118206977844], [0.9986506104469299, 0.0013494124868884683], [0.0023881453089416027, 0.9976118206977844], [0.9928038120269775, 0.00719616562128067], [0.0023901292588561773, 0.9976097941398621], [0.0023881476372480392, 0.9976118206977844], [0.9998705387115479, 0.00012962159235030413], [0.9947476983070374, 0.00525227515026927], [0.9998871684074402, 0.00011280394392088056], [0.9997823238372803, 0.00021763736731372774], [0.9999470114707947, 5.287179374136031e-05], [0.9997395277023315, 0.0002605501504149288], [0.9994229078292847, 0.0005770622519776225], [0.9993566870689392, 0.0006432753289118409], [0.9998311996459961, 0.00016871387197170407], [0.9998920559883118, 0.00010782886965898797], [0.9998023509979248, 0.00019757100380957127], [0.9998776912689209, 0.00012233361485414207], [0.0023948035668581724, 0.9976051449775696], [0.002388142980635166, 0.9976118206977844], [0.9946619272232056, 0.005338091403245926], [0.9997061491012573, 0.0002939355908893049], [0.9995278716087341, 0.000472090148832649], [0.9998555183410645, 0.00014447406283579767], [0.995623767375946, 0.004376107361167669], [0.002388276858255267, 0.9976117014884949], [0.9998772144317627, 0.0001229274203069508], [0.7435445189476013, 0.2564553916454315], [0.9490634799003601, 0.050936508923769], [0.9980731010437012, 0.0019269254989922047], [0.9999502301216125, 4.975883712177165e-05], [0.9998883605003357, 0.00011152453953400254], [0.8663833737373352, 0.1336165815591812], [0.9998882412910461, 0.00011169184290338308], [0.9993558526039124, 0.0006441127043217421], [0.006747775711119175, 0.9932522177696228], [0.999666690826416, 0.0003332771884743124], [0.9998951554298401, 0.00010472716530784965], [0.9662606716156006, 0.033739328384399414], [0.9998378753662109, 0.0001621980918571353], [0.9991911053657532, 0.0008089531329460442], [0.999933660030365, 6.63054597680457e-05], [0.9998316764831543, 0.0001682807196630165], [0.006043370813131332, 0.9939566850662231], [0.0025291424244642258, 0.9974707961082458], [0.9996674060821533, 0.0003325474972371012], [0.11469845473766327, 0.8853015899658203], [0.0025343731977045536, 0.9974655508995056], [0.9998853802680969, 0.00011455544154159725], [0.9542564749717712, 0.04574351757764816], [0.002432322595268488, 0.9975675940513611], [0.999870777130127, 0.00012918253196403384], [0.999854564666748, 0.00014541194832418114], [0.002388142980635166, 0.9976118206977844], [0.9973971843719482, 0.002602771855890751], [0.9997596740722656, 0.0002402620593784377], [0.9999541640281677, 4.5714830775978044e-05], [0.9973526000976562, 0.0026474043261259794], [0.9999679923057556, 3.198522608727217e-05], [0.9978970885276794, 0.0021029808558523655], [0.9999406933784485, 5.9222882555332035e-05], [0.9996660947799683, 0.00033386421273462474], [0.9998073577880859, 0.0001926021504914388], [0.9989199042320251, 0.0010800043819472194], [0.009248030371963978, 0.9907519817352295], [0.9962469339370728, 0.0037531580310314894], [0.002388142980635166, 0.9976118206977844], [0.9998130798339844, 0.0001868676918093115], [0.999098539352417, 0.0009014630923047662], [0.9982242584228516, 0.0017757897730916739], [0.9997625350952148, 0.0002374099422013387], [0.058171048760414124, 0.9418290257453918], [0.9999507069587708, 4.9248475988861173e-05], [0.9975100159645081, 0.002489920239895582], [0.9999324679374695, 6.744112761225551e-05], [0.9998795390129089, 0.00012039943976560608], [0.9998748302459717, 0.00012533132394310087], [0.9998040199279785, 0.00019608599541243166], [0.9989350438117981, 0.001064965734258294], [0.9995548129081726, 0.00044511654414236546], [0.3354357182979584, 0.6645642518997192], [0.9999428391456604, 5.713733480661176e-05], [0.9999293684959412, 7.050889689708129e-05], [0.9996036887168884, 0.00039630517130717635], [0.9997169971466064, 0.00028300294070504606], [0.9997599124908447, 0.0002400571247562766], [0.9998438358306885, 0.00015619609621353447], [0.0023896724451333284, 0.9976102709770203], [0.26727768778800964, 0.732722282409668], [0.9878026247024536, 0.012197268195450306], [0.9988132119178772, 0.0011867128778249025], [0.9994069337844849, 0.0005931098130531609], [0.999873161315918, 0.0001268875930691138], [0.8912269473075867, 0.10877300798892975], [0.9984537959098816, 0.0015461558941751719], [0.9997514486312866, 0.00024861263227649033], [0.9986644983291626, 0.0013354815309867263], [0.9998471736907959, 0.00015278931823559105], [0.996705174446106, 0.0032947463914752007], [0.999912679195404, 8.727375097805634e-05], [0.9914422631263733, 0.008557761088013649], [0.8072282075881958, 0.1927717924118042], [0.9979459643363953, 0.0020539897959679365], [0.0023967979941517115, 0.9976031184196472], [0.9998147487640381, 0.00018521922174841166], [0.002458309754729271, 0.9975415468215942], [0.01090396847575903, 0.9890961050987244], [0.9992501735687256, 0.000749887665733695], [0.9999536871910095, 4.624768189387396e-05], [0.998811662197113, 0.0011882925173267722], [0.9996546506881714, 0.0003453998942859471], [0.9995402693748474, 0.00045973542728461325], [0.8076533675193787, 0.19234661757946014], [0.9998488426208496, 0.00015117536531761289], [0.9998552799224854, 0.0001446917449356988], [0.9998154640197754, 0.00018462254956830293], [0.9997156858444214, 0.0002843078109435737], [0.9998605251312256, 0.0001394019345752895], [0.999652624130249, 0.0003473923425190151], [0.9978215098381042, 0.0021784105338156223], [0.9999225735664368, 7.74115469539538e-05], [0.9998056888580322, 0.00019438288290984929], [0.8414173126220703, 0.15858258306980133], [0.9992672204971313, 0.0007328451611101627], [0.958002507686615, 0.041997525840997696], [0.9997591972351074, 0.00024072593078017235], [0.9998800158500671, 0.00011989705672021955], [0.9999447464942932, 5.5199445341713727e-05], [0.9997992515563965, 0.00020070331811439246], [0.9998023509979248, 0.0001975934428628534], [0.988808810710907, 0.011191178113222122], [0.002392333000898361, 0.9976076483726501], [0.9997367858886719, 0.000263205700321123], [0.9998559951782227, 0.00014404997637029737], [0.9998352527618408, 0.00016473619325552136], [0.9996850490570068, 0.0003149333060719073], [0.9997433423995972, 0.0002567429328337312], [0.999687671661377, 0.00031234504422172904], [0.9998459815979004, 0.00015415130474139005], [0.9997451305389404, 0.00025486957747489214], [0.0023883143439888954, 0.9976115822792053], [0.15523755550384521, 0.84476238489151], [0.0038914200849831104, 0.9961085319519043], [0.002389989560469985, 0.9976099133491516], [0.9999409317970276, 5.894583955523558e-05], [0.9998981356620789, 0.0001017575414152816], [0.9999111294746399, 8.878570952219889e-05], [0.011167041957378387, 0.988832950592041], [0.9883834719657898, 0.011616574600338936], [0.9999247193336487, 7.51709594624117e-05], [0.9998295307159424, 0.00017042124818544835], [0.9994369745254517, 0.0005630565574392676], [0.9997599124908447, 0.00024008484615478665], [0.9998211860656738, 0.0001787378132576123], [0.9990744590759277, 0.0009255039039999247], [0.05365742743015289, 0.9463424682617188], [0.9995363354682922, 0.00046365539310500026], [0.002388173481449485, 0.9976118206977844], [0.9997837543487549, 0.00021618591563310474], [0.9980790615081787, 0.0019209033343940973], [0.9998624324798584, 0.00013757668784819543], [0.9997035264968872, 0.0002965024905279279], [0.9959089756011963, 0.004090976435691118], [0.943097710609436, 0.05690232664346695], [0.9861303567886353, 0.013869627378880978], [0.9992669820785522, 0.0007330183289013803], [0.9996427297592163, 0.00035720583400689065], [0.9923202991485596, 0.007679619360715151], [0.002388142980635166, 0.9976118206977844], [0.9998149871826172, 0.0001849525433499366], [0.9998833537101746, 0.00011657000868581235], [0.9976829290390015, 0.002317036734893918], [0.0023881441447883844, 0.9976118206977844], [0.9998814463615417, 0.0001184437787742354], [0.9993166327476501, 0.000683322548866272], [0.002388142980635166, 0.9976118206977844], [0.9997751712799072, 0.00022487304522655904], [0.9999366402626038, 6.326351285679266e-05], [0.999842643737793, 0.0001574368798173964], [0.9994795918464661, 0.0005203731707297266], [0.9235637187957764, 0.07643632590770721], [0.0023919607046991587, 0.9976080060005188], [0.0023915772326290607, 0.9976083636283875], [0.9998371601104736, 0.00016298038826789707], [0.002388142980635166, 0.9976118206977844], [0.999732255935669, 0.0002678179007489234], [0.0042749070562422276, 0.9957250952720642], [0.999748945236206, 0.0002511465863790363], [0.9998872876167297, 0.00011264807835686952], [0.999871015548706, 0.00012901093577966094], [0.9998409748077393, 0.00015905532927718014], [0.9998610019683838, 0.00013898516772314906], [0.9997224807739258, 0.00027754579787142575], [0.9942030310630798, 0.005796917248517275], [0.9569374322891235, 0.04306263476610184], [0.002667055930942297, 0.9973328709602356], [0.9995447993278503, 0.0004551486053969711], [0.0028442926704883575, 0.9971556067466736], [0.9998912215232849, 0.00010873877181438729], [0.006491686217486858, 0.9935083985328674], [0.9983648061752319, 0.0016350874211639166], [0.9878302216529846, 0.012169740162789822], [0.999904215335846, 9.567064262228087e-05], [0.0033276756294071674, 0.9966722726821899], [0.9932254552841187, 0.006774416659027338], [0.0023881441447883844, 0.9976118206977844], [0.9997751712799072, 0.00022494039149023592], [0.9999285340309143, 7.134726183721796e-05], [0.9986989498138428, 0.001301049836911261], [0.9996621608734131, 0.0003378544352017343], [0.9966698884963989, 0.0033300407230854034], [0.9999642968177795, 3.561763878678903e-05], [0.9998085498809814, 0.00019149795116391033], [0.6068305373191833, 0.3931693732738495], [0.9995315670967102, 0.0004683916922658682], [0.9997799396514893, 0.0002201804454671219], [0.0023882563691586256, 0.9976117014884949], [0.002388268942013383, 0.9976117014884949], [0.0023881476372480392, 0.9976118206977844], [0.9997255802154541, 0.0002744703961070627], [0.002388142980635166, 0.9976118206977844], [0.9997711181640625, 0.00022880751930642873], [0.003107198514044285, 0.9968928098678589], [0.9998726844787598, 0.000127371764392592], [0.9992754459381104, 0.000724464247468859], [0.9952213168144226, 0.004778681788593531], [0.9999119639396667, 8.800625801086426e-05], [0.9990615248680115, 0.0009384289151057601], [0.9986810684204102, 0.0013190335594117641], [0.9997369050979614, 0.00026315305149182677], [0.9997040033340454, 0.0002960090641863644], [0.020518364384770393, 0.97948157787323], [0.9998818039894104, 0.00011811072909040377], [0.003605110105127096, 0.9963948726654053], [0.002527888398617506, 0.9974721074104309], [0.9744721055030823, 0.02552802674472332], [0.0023883029352873564, 0.9976115822792053], [0.9997668266296387, 0.0002331171854166314], [0.9832900166511536, 0.01670999825000763], [0.9984084963798523, 0.0015915025724098086], [0.979900598526001, 0.020099319517612457], [0.588165819644928, 0.411834180355072], [0.9997522830963135, 0.0002477286325301975], [0.9993988275527954, 0.0006011875229887664], [0.9998878836631775, 0.0001119857479352504], [0.9967318177223206, 0.003268137341365218], [0.9999274611473083, 7.248137990245596e-05], [0.9998724460601807, 0.00012762889673467726], [0.003750578500330448, 0.9962493777275085], [0.999230146408081, 0.0007698492263443768], [0.003039746545255184, 0.9969602227210999], [0.002458409406244755, 0.9975415468215942], [0.0024196025915443897, 0.9975804090499878], [0.9998264312744141, 0.00017369564739055932], [0.9998433589935303, 0.00015659215569030493], [0.18812687695026398, 0.811873197555542], [0.9995494484901428, 0.00045056809904053807], [0.9996753931045532, 0.0003245951666031033], [0.17448361217975616, 0.8255163431167603], [0.9994916319847107, 0.0005083214491605759], [0.9998278617858887, 0.00017215903790201992], [0.996529221534729, 0.003470738185569644], [0.03418075293302536, 0.9658192992210388], [0.9988709688186646, 0.00112895667552948], [0.9997665882110596, 0.00023344505461864173], [0.9984897375106812, 0.001510104164481163], [0.9846809506416321, 0.015318927355110645], [0.9998936057090759, 0.00010627855954226106], [0.99931401014328, 0.0006858984124846756], [0.9994186162948608, 0.0005813569878228009], [0.0023883883841335773, 0.9976115822792053], [0.0023881441447883844, 0.9976118206977844], [0.9986053705215454, 0.0013946135295554996], [0.9996716976165771, 0.000328262074617669], [0.9990008473396301, 0.0009990136604756117], [0.9998672008514404, 0.0001327888312516734], [0.9997315406799316, 0.00026848388370126486], [0.9995842576026917, 0.00041579571552574635], [0.9995599389076233, 0.00044007317046634853], [0.9995610117912292, 0.00043898719013668597], [0.9998278617858887, 0.00017213572573382407], [0.9992075562477112, 0.000792493112385273], [0.02768719755113125, 0.9723128080368042], [0.9534357190132141, 0.0465642511844635], [0.9998922944068909, 0.00010769119398901239], [0.002965396037325263, 0.99703449010849], [0.9998900294303894, 0.0001099168075597845], [0.9940478801727295, 0.005952039267867804], [0.0023881441447883844, 0.9976118206977844], [0.999938428401947, 6.151546403998509e-05], [0.9998936057090759, 0.0001063638337654993], [0.9998281002044678, 0.00017203138850163668], [0.999870777130127, 0.00012917304411530495], [0.9959771037101746, 0.004022923298180103], [0.9990587830543518, 0.0009412074577994645], [0.0023881476372480392, 0.9976118206977844], [0.9995643496513367, 0.0004356014833319932], [0.9998700618743896, 0.00013000828039366752], [0.9998600482940674, 0.0001400206092512235], [0.9995058178901672, 0.0004941750667057931], [0.0023890086449682713, 0.9976109862327576], [0.9945708513259888, 0.0054290383122861385], [0.9993200898170471, 0.0006798817776143551], [0.9998152256011963, 0.0001849115069489926], [0.0023883404210209846, 0.9976115822792053], [0.9998695850372314, 0.00013047797256149352], [0.9996189475059509, 0.00038113261689431965], [0.9998111724853516, 0.0001887691905722022], [0.9999073147773743, 9.264896652894095e-05], [0.9999358057975769, 6.416589894797653e-05], [0.9992256760597229, 0.0007744274917058647], [0.9814229011535645, 0.018577134236693382], [0.9999200701713562, 7.984520198078826e-05], [0.9999558329582214, 4.413928400026634e-05], [0.9998371601104736, 0.0001629909675102681], [0.12330346554517746, 0.8766964673995972], [0.9984790682792664, 0.00152096978854388], [0.9996911287307739, 0.00030886117019690573], [0.9998569488525391, 0.00014301514602266252], [0.9998326301574707, 0.00016732215590309352], [0.9993983507156372, 0.0006017012055963278], [0.999902069568634, 9.782382403500378e-05], [0.9995409846305847, 0.00045900981058366597], [0.9998881220817566, 0.00011186377378180623], [0.0023887406568974257, 0.9976112246513367], [0.0023881657980382442, 0.9976118206977844], [0.9999273419380188, 7.260659913299605e-05], [0.9997975826263428, 0.00020237144781276584], [0.9996020197868347, 0.0003979981120210141], [0.9964720010757446, 0.0035280506126582623], [0.9985717535018921, 0.00142819678876549], [0.9949561953544617, 0.005043854005634785], [0.9999043345451355, 9.564548236085102e-05], [0.9997851848602295, 0.00021482053853105754], [0.9999163746833801, 8.357298065675423e-05], [0.9987459778785706, 0.0012540670577436686], [0.007813521660864353, 0.992186427116394], [0.0023978562094271183, 0.9976020455360413], [0.9999405741691589, 5.9338151913834736e-05], [0.9957911968231201, 0.004208725411444902], [0.9997711181640625, 0.0002288954856339842], [0.9963266253471375, 0.003673320170491934], [0.9998054504394531, 0.00019462915952317417], [0.9997186660766602, 0.0002813677419908345], [0.9998810887336731, 0.00011880585952894762], [0.9999282956123352, 7.16016220394522e-05], [0.9992423057556152, 0.0007576816715300083], [0.9998109340667725, 0.00018920007278211415], [0.9991415739059448, 0.000858370796777308], [0.9609260559082031, 0.039073921740055084], [0.9946584105491638, 0.005341570824384689], [0.9993995428085327, 0.000600327446591109], [0.002390878740698099, 0.9976090788841248], [0.9994763731956482, 0.000523479888215661], [0.9999644160270691, 3.550014298525639e-05], [0.9979268908500671, 0.0020730984397232533], [0.9997673034667969, 0.00023281024186871946], [0.9998128414154053, 0.00018713159079197794], [0.9998490810394287, 0.00015092705143615603], [0.9993588328361511, 0.0006411863141693175], [0.9998802542686462, 0.00011971279309364036], [0.9993519186973572, 0.0006480980082415044], [0.9997637271881104, 0.00023621958098374307], [0.99932461977005, 0.0006753361085429788], [0.0023881441447883844, 0.9976118206977844], [0.006737017072737217, 0.9932628870010376], [0.9990091919898987, 0.0009907344356179237], [0.999833345413208, 0.0001666581811150536], [0.9991788268089294, 0.0008211302920244634], [0.935015857219696, 0.06498415768146515], [0.002867019735276699, 0.9971330165863037], [0.9999083876609802, 9.156731539405882e-05], [0.0023918289225548506, 0.9976081252098083], [0.9996737241744995, 0.0003262814716435969], [0.9990256428718567, 0.0009742957772687078], [0.9998893141746521, 0.00011057541996706277], [0.997723400592804, 0.0022766427136957645], [0.9997434616088867, 0.00025664479471743107], [0.9972473978996277, 0.002752620493993163], [0.99983811378479, 0.00016200271784327924], [0.9998538494110107, 0.0001462037325836718], [0.9974257349967957, 0.0025742033030837774], [0.9994043111801147, 0.0005955789820291102], [0.9807429909706116, 0.019256938248872757], [0.9997799396514893, 0.00022014894057065248], [0.9999327063560486, 6.719634984619915e-05], [0.9993547797203064, 0.0006452383240684867], [0.0023951646871864796, 0.9976047873497009], [0.9998703002929688, 0.0001296356349484995], [0.9990683794021606, 0.0009315405040979385], [0.9997309446334839, 0.00026913921465165913], [0.0023913076147437096, 0.9976086020469666], [0.14381276071071625, 0.856187105178833], [0.999873161315918, 0.00012683423119597137], [0.017285743728280067, 0.9827142357826233], [0.9994909167289734, 0.0005090473568998277], [0.9992856979370117, 0.000714401772711426], [0.9986353516578674, 0.0013646763982251287], [0.9989408850669861, 0.0010590814054012299], [0.0023904612753540277, 0.9976094365119934], [0.9991447925567627, 0.000855147372931242], [0.9998971819877625, 0.00010270000348100439], [0.9996387958526611, 0.0003612165746744722], [0.9972751140594482, 0.002724903868511319], [0.9998772144317627, 0.0001228404580615461], [0.9998040199279785, 0.00019597625941969454], [0.9999290108680725, 7.087285484885797e-05], [0.9999179244041443, 8.197722490876913e-05], [0.9997920989990234, 0.00020796418539248407], [0.9999893307685852, 1.0603992450342048e-05], [0.9996916055679321, 0.00030837158556096256], [0.9998288154602051, 0.00017115389346145093], [0.9999099373817444, 8.994208474177867e-05], [0.999888002872467, 0.00011187187192263082], [0.9997830390930176, 0.00021705693507101387], [0.999504029750824, 0.0004959574434906244], [0.9997808933258057, 0.00021922102314420044], [0.9997092485427856, 0.00029081114917062223], [0.9997502565383911, 0.00024982160539366305], [0.9998583793640137, 0.0001416794111719355], [0.9998760223388672, 0.00012404461449477822], [0.9998219013214111, 0.00017806827963795513], [0.9911912083625793, 0.008808835409581661], [0.9998693466186523, 0.0001307749334955588], [0.9988507628440857, 0.001149228890426457], [0.99981689453125, 0.00018315586203243583], [0.9997801780700684, 0.00021986407227814198], [0.9950791597366333, 0.0049207634292542934], [0.9987715482711792, 0.0012285023694857955], [0.9999489188194275, 5.100483031128533e-05], [0.9997594356536865, 0.00024057176779024303], [0.9998300075531006, 0.00016998955106828362], [0.9997801780700684, 0.0002197873400291428], [0.9988824129104614, 0.0011176618281751871], [0.9994774460792542, 0.0005224149790592492], [0.4663357436656952, 0.5336642265319824], [0.9998837113380432, 0.0001162472108262591], [0.9992368221282959, 0.0007631497574038804], [0.9997390508651733, 0.0002609941584523767], [0.9999261498451233, 7.38109738449566e-05], [0.9998440742492676, 0.00015590860857628286], [0.9988002777099609, 0.0011998284608125687], [0.9989886283874512, 0.0010113375028595328], [0.999781608581543, 0.00021842046407982707], [0.9998378753662109, 0.00016211179899983108], [0.999190628528595, 0.0008093381766229868], [0.9988495707511902, 0.0011504457797855139], [0.9998421669006348, 0.00015780403919052333], [0.9998657703399658, 0.00013427129306364805], [0.9998352527618408, 0.00016466283705085516], [0.9997897148132324, 0.00021030115021858364], [0.0023881590459495783, 0.9976118206977844], [0.9998540878295898, 0.00014591182116419077], [0.002388142980635166, 0.9976118206977844], [0.9998431205749512, 0.00015697024355176836], [0.002388142980635166, 0.9976118206977844], [0.9995730519294739, 0.0004268850607331842], [0.9999521374702454, 4.781998723046854e-05], [0.9998889565467834, 0.00011101355630671605], [0.9780113101005554, 0.021988604217767715], [0.9998750686645508, 0.00012501596938818693], [0.9999478459358215, 5.206534478929825e-05], [0.9997518062591553, 0.00024828762980178], [0.999380886554718, 0.0006191437714733183], [0.9809570908546448, 0.019042881205677986], [0.9997978210449219, 0.00020217378914821893], [0.9954663515090942, 0.004533600062131882], [0.002388330176472664, 0.9976115822792053], [0.9994907975196838, 0.0005091016064397991], [0.9998946785926819, 0.00010525206744205207], [0.9997813701629639, 0.00021874728554394096], [0.999840259552002, 0.0001598248927621171], [0.9996837377548218, 0.0003162402717862278], [0.0023882791865617037, 0.9976117014884949], [0.9998135566711426, 0.00018648004333954304], [0.9952426552772522, 0.004757280927151442], [0.9997730255126953, 0.00022687111049890518], [0.9998907446861267, 0.0001091882586479187], [0.9981738924980164, 0.001826027175411582], [0.9998459815979004, 0.000154158056830056], [0.9997550249099731, 0.00024505925830453634], [0.9999532103538513, 4.670943599194288e-05], [0.954357922077179, 0.04564208164811134], [0.9208958745002747, 0.07910414040088654], [0.9998371601104736, 0.00016288793995045125], [0.9998266696929932, 0.00017331841809209436], [0.9998818039894104, 0.00011808550334535539], [0.0193870197981596, 0.9806130528450012], [0.9992007613182068, 0.0007992343744263053], [0.0024454703088849783, 0.9975544810295105], [0.99992436170578, 7.55826840759255e-05], [0.9993016719818115, 0.0006982942577451468], [0.9998371601104736, 0.00016286494792439044], [0.9999342560768127, 6.568850949406624e-05], [0.019101064652204514, 0.9808988571166992], [0.9996645450592041, 0.0003354687651153654], [0.9998486042022705, 0.00015153807180467993], [0.002388148568570614, 0.9976118206977844], [0.9997572898864746, 0.0002427998260827735], [0.9109792113304138, 0.08902076631784439], [0.999034583568573, 0.0009653483284637332], [0.008967039175331593, 0.9910328388214111], [0.00541265681385994, 0.994587242603302], [0.9998526573181152, 0.00014745006046723574], [0.011554265394806862, 0.9884456992149353], [0.9996282458305359, 0.00037174782482907176], [0.9998102188110352, 0.00018988321244250983], [0.8603911399841309, 0.13960881531238556], [0.9999046921730042, 9.5287716249004e-05], [0.9997618198394775, 0.00023820785281714052], [0.9998602867126465, 0.000139640731504187], [0.00262458180077374, 0.9973753094673157], [0.9998366832733154, 0.00016329131904058158], [0.999812126159668, 0.00018797445227392018], [0.9944530725479126, 0.005546991713345051], [0.9999595284461975, 4.043165245093405e-05], [0.9997303485870361, 0.0002696894225664437], [0.9997127056121826, 0.00028734432999044657], [0.9998787045478821, 0.0001212157221743837], [0.9995760321617126, 0.0004239546542521566], [0.9989282488822937, 0.0010716832475736737], [0.999842643737793, 0.0001574227644596249], [0.9998813271522522, 0.00011863718827953562], [0.9995120167732239, 0.00048794454778544605], [0.0025610451120883226, 0.997438907623291], [0.004086517263203859, 0.9959135055541992], [0.9998776912689209, 0.00012239381612744182], [0.0029809288680553436, 0.9970189332962036], [0.9284901022911072, 0.07150990515947342], [0.9998717308044434, 0.0001282570738112554], [0.002388142980635166, 0.9976118206977844], [0.5119115710258484, 0.488088458776474], [0.002391277812421322, 0.9976086020469666], [0.9997632503509521, 0.00023679033620283008], [0.99916011095047, 0.00083986233221367], [0.9991441965103149, 0.0008558048284612596], [0.9998946785926819, 0.00010522778757149354], [0.9997227191925049, 0.000277304818155244], [0.9998013973236084, 0.00019872958364430815], [0.999970018863678, 2.990668872371316e-05], [0.009415427222847939, 0.9905845522880554], [0.00266479910351336, 0.9973351359367371], [0.002388142980635166, 0.9976118206977844], [0.9980199337005615, 0.0019800523295998573], [0.9996064305305481, 0.00039360488881357014], [0.9998364448547363, 0.00016356963897123933], [0.9939372539520264, 0.00606286246329546], [0.9993738532066345, 0.0006261664675548673], [0.9996469020843506, 0.0003531134279910475], [0.9999237656593323, 7.61240953579545e-05], [0.0023882132954895496, 0.9976117014884949], [0.9997847080230713, 0.00021532337996177375], [0.0023881623055785894, 0.9976118206977844], [0.002388146473094821, 0.9976118206977844], [0.999733567237854, 0.0002664529893081635], [0.9989457726478577, 0.0010542671661823988], [0.009743462316691875, 0.9902565479278564], [0.9990884065628052, 0.0009115517605096102], [0.9998016357421875, 0.0001984783011721447], [0.9996589422225952, 0.00034112005960196257], [0.9997445344924927, 0.0002555625978857279], [0.9998531341552734, 0.00014691239630337805], [0.0024000403936952353, 0.9975998997688293], [0.9997491836547852, 0.00025084480876103044], [0.1264132708311081, 0.8735868334770203], [0.9994837641716003, 0.0005161957815289497], [0.011950541287660599, 0.9880493879318237], [0.9997215270996094, 0.000278553954558447], [0.9998562335968018, 0.00014375564933288842], [0.002388179302215576, 0.9976118206977844], [0.9998214244842529, 0.00017868434952106327], [0.9929400682449341, 0.007059899624437094], [0.9999256730079651, 7.431623816955835e-05], [0.002731118816882372, 0.9972689151763916], [0.9997859001159668, 0.00021411178749985993], [0.9985567927360535, 0.001443148241378367], [0.9986281991004944, 0.0013718068366870284], [0.9997110366821289, 0.0002890087489504367], [0.005864298436790705, 0.9941356778144836], [0.999765157699585, 0.00023484142730012536], [0.9998621940612793, 0.00013794569531455636], [0.999941885471344, 5.8110555983148515e-05], [0.9990789890289307, 0.0009210114949382842], [0.9998869299888611, 0.00011300548067083582], [0.9996594190597534, 0.00034062578924931586], [0.9999272227287292, 7.267738692462444e-05], [0.99968421459198, 0.00031577330082654953], [0.0023967830929905176, 0.9976031184196472], [0.9998447895050049, 0.000155195317347534], [0.9999386668205261, 6.127214874140918e-05], [0.043964605778455734, 0.9560354351997375], [0.9996322989463806, 0.00036769453436136246], [0.02009386010468006, 0.9799061417579651], [0.6128489971160889, 0.3871510624885559], [0.9992499351501465, 0.0007500408682972193], [0.0023881804663687944, 0.9976118206977844], [0.002388146473094821, 0.9976118206977844], [0.9986782073974609, 0.0013218335807323456], [0.002388142980635166, 0.9976118206977844], [0.9998466968536377, 0.00015343332779593766], [0.011131051927804947, 0.9888688921928406], [0.9997899532318115, 0.00021001300774514675], [0.0025502501521259546, 0.9974497556686401], [0.999884307384491, 0.00011564399028429762], [0.9992097020149231, 0.0007902940269559622], [0.999883234500885, 0.00011673374683596194], [0.9996752738952637, 0.0003247025888413191], [0.9995656609535217, 0.0004342863103374839], [0.8888763189315796, 0.11112357676029205], [0.9998087882995605, 0.00019134045578539371], [0.9998726844787598, 0.00012743397383019328], [0.9999081492424011, 9.183419751934707e-05], [0.9998860955238342, 0.00011379691568436101], [0.9998851418495178, 0.00011480171087896451], [0.9175865650177002, 0.08241349458694458], [0.999097466468811, 0.0009025929030030966], [0.9998838305473328, 0.00011609057401074097], [0.9998328685760498, 0.0001672655635047704], [0.9997085332870483, 0.00029147675377316773], [0.36709246039390564, 0.6329076290130615], [0.999791145324707, 0.00020877177303191274], [0.9999449849128723, 5.499148755916394e-05], [0.9989133477210999, 0.0010865807998925447], [0.09624439477920532, 0.9037555456161499], [0.9996953010559082, 0.0003046702186111361], [0.999643087387085, 0.00035693251993507147], [0.9975922107696533, 0.0024077328853309155], [0.9990383982658386, 0.0009615123271942139], [0.9998154640197754, 0.00018457925762049854], [0.9993413090705872, 0.0006586286472156644], [0.0023881669621914625, 0.9976118206977844], [0.9991061687469482, 0.0008938036626204848], [0.9650382399559021, 0.03496173769235611], [0.9999063611030579, 9.358744136989117e-05], [0.9997978210449219, 0.00020212751405779272], [0.9999571442604065, 4.276985418982804e-05], [0.9995772242546082, 0.0004227226017974317], [0.04617013782262802, 0.9538297057151794], [0.9372349977493286, 0.06276493519544601], [0.9961119890213013, 0.0038880095817148685], [0.9998700618743896, 0.00013001373736187816], [0.9995447993278503, 0.0004551138845272362], [0.9961069822311401, 0.003892906242981553], [0.0023884312249720097, 0.9976114630699158], [0.9995713829994202, 0.0004286241892259568], [0.9998555183410645, 0.00014446275599766523], [0.9979515671730042, 0.0020484935957938433], [0.0036380242090672255, 0.996362030506134], [0.0026721772737801075, 0.9973277449607849], [0.9997483491897583, 0.00025168544379994273], [0.9998939633369446, 0.00010596859647193924], [0.0023881441447883844, 0.9976118206977844], [0.002388306427747011, 0.9976115822792053], [0.9998247623443604, 0.00017521867994219065], [0.9999173283576965, 8.255979628302157e-05], [0.9997680187225342, 0.00023208950005937368], [0.9999076724052429, 9.230407886207104e-05], [0.9996933937072754, 0.00030661793425679207], [0.9993365406990051, 0.0006634838646277785], [0.9999276995658875, 7.223959255497903e-05], [0.9997202157974243, 0.0002798225323203951], [0.9998040199279785, 0.0001960409281309694], [0.04534772038459778, 0.9546523094177246], [0.002400537021458149, 0.9975993633270264], [0.9992249608039856, 0.0007750556687824428], [0.9998762607574463, 0.00012387984315864742], [0.6531375050544739, 0.34686246514320374], [0.9998359680175781, 0.00016414649144280702], [0.9995352625846863, 0.0004647155583370477], [0.999612033367157, 0.00038795513682998717], [0.9997639656066895, 0.000235960484133102], [0.9910793900489807, 0.008920645341277122], [0.9997493028640747, 0.00025072693824768066], [0.9997376203536987, 0.0002623986511025578], [0.9991920590400696, 0.0008079689578153193], [0.46086016297340393, 0.5391399264335632], [0.9992371797561646, 0.0007628829916939139], [0.9998276233673096, 0.00017251564713660628], [0.999276876449585, 0.0007230506162159145], [0.999883234500885, 0.00011670769890770316], [0.9859962463378906, 0.014003664255142212], [0.9996380805969238, 0.00036187126534059644], [0.0023881816305220127, 0.9976118206977844], [0.9883632063865662, 0.011636649258434772], [0.9999491572380066, 5.0762890168698505e-05], [0.9995883107185364, 0.00041173386853188276], [0.9998557567596436, 0.00014430691953748465], [0.9994186162948608, 0.0005813714233227074], [0.9997901916503906, 0.00020980364934075624], [0.9989021420478821, 0.001097910339012742], [0.934955894947052, 0.06504403799772263], [0.0023885779082775116, 0.9976113438606262], [0.9999228119850159, 7.708109478699043e-05], [0.002388142980635166, 0.9976118206977844], [0.999454140663147, 0.0005458996747620404], [0.002388142980635166, 0.9976118206977844], [0.9999669194221497, 3.3078653359552845e-05], [0.9997342824935913, 0.0002657887525856495], [0.999366819858551, 0.000633228337392211], [0.0023881804663687944, 0.9976118206977844], [0.9989898204803467, 0.0010101618245244026], [0.999886691570282, 0.00011326310050208122], [0.9990845918655396, 0.000915396143682301], [0.0024434933438897133, 0.9975563883781433], [0.9602903723716736, 0.0397096648812294], [0.9998049736022949, 0.00019494356820359826], [0.0034571571741253138, 0.9965428709983826], [0.9999485611915588, 5.1358932978473604e-05], [0.9996625185012817, 0.0003375405794940889], [0.9998495578765869, 0.00015045260079205036], [0.9998171329498291, 0.0001828926760936156], [0.002407624153420329, 0.9975923299789429], [0.9998533725738525, 0.00014665444905404001], [0.9999262690544128, 7.371882384177297e-05], [0.002910605864599347, 0.9970893859863281], [0.9998610019683838, 0.00013910385314375162], [0.9996873140335083, 0.00031269213650375605], [0.9965519309043884, 0.0034479659516364336], [0.9987218976020813, 0.0012780651450157166], [0.279096782207489, 0.7209032773971558], [0.002388142980635166, 0.9976118206977844], [0.0023881634697318077, 0.9976118206977844], [0.987371027469635, 0.0126289501786232], [0.9997920989990234, 0.00020791581482626498], [0.004704057704657316, 0.9952959418296814], [0.9998852610588074, 0.00011461116082500666], [0.9985182881355286, 0.0014815493486821651], [0.9996007084846497, 0.0003993583668489009], [0.9997565746307373, 0.00024336716160178185], [0.9998230934143066, 0.00017682014731690288], [0.9996925592422485, 0.0003074512933380902], [0.9998899102210999, 0.000110023764136713], [0.9998393058776855, 0.0001607537124073133], [0.9991856217384338, 0.0008143896120600402], [0.9951064586639404, 0.004893598146736622], [0.9998803734779358, 0.00011952081695199013], [0.9996282458305359, 0.00037181517109274864], [0.999975860118866, 2.4096312699839473e-05], [0.9997493028640747, 0.0002507936442270875], [0.0032225381582975388, 0.9967774748802185], [0.0023881520610302687, 0.9976118206977844], [0.9997951984405518, 0.00020491235773079097], [0.9992612600326538, 0.0007387695950455964], [0.99990314245224, 9.674890316091478e-05], [0.999912440776825, 8.7456610344816e-05], [0.9998812079429626, 0.00011870825255755335], [0.9985590577125549, 0.0014409751165658236], [0.9998228549957275, 0.00017717947775963694], [0.002388142980635166, 0.9976118206977844], [0.9991791844367981, 0.0008207833743654191], [0.002388159977272153, 0.9976118206977844], [0.9977850317955017, 0.0022149549331516027], [0.9088379740715027, 0.0911620557308197], [0.9997446537017822, 0.0002553981903474778], [0.9998838305473328, 0.00011607839405769482], [0.9998047351837158, 0.00019523898663464934], [0.9998981356620789, 0.00010182170808548108], [0.9939111471176147, 0.006088710390031338], [0.9974765181541443, 0.0025235179346054792], [0.997134804725647, 0.0028652141336351633], [0.9997497797012329, 0.00025026549701578915], [0.00238868803717196, 0.9976112246513367], [0.9998447895050049, 0.00015529421216342598], [0.9991199970245361, 0.0008799347560852766], [0.0024206731468439102, 0.9975793361663818], [0.9996447563171387, 0.00035526262945495546], [0.0023883029352873564, 0.9976115822792053], [0.999842643737793, 0.00015746541612315923], [0.0029192925430834293, 0.9970806241035461], [0.999637246131897, 0.00036271935096010566], [0.9992117285728455, 0.0007883204380050302], [0.9995636343955994, 0.0004362975596450269], [0.9997944831848145, 0.00020552634669002146], [0.9994860291481018, 0.0005139320273883641], [0.002388164633885026, 0.9976118206977844], [0.0023890710435807705, 0.997610867023468], [0.008669610135257244, 0.9913303256034851], [0.9994419813156128, 0.0005580087890848517], [0.9998953938484192, 0.00010455873416503891], [0.9974884986877441, 0.002511389320716262], [0.9999013543128967, 9.860698628472164e-05], [0.9987189173698425, 0.0012810510816052556], [0.9997427463531494, 0.00025735836243256927], [0.0023881804663687944, 0.9976118206977844], [0.9999300837516785, 6.98613075655885e-05], [0.999933660030365, 6.622608634643257e-05], [0.998501181602478, 0.001498722587712109], [0.02649342454969883, 0.973506510257721], [0.9999039769172668, 9.591655543772504e-05], [0.999883234500885, 0.00011664783960441127], [0.9996905326843262, 0.00030943413730710745], [0.0023886915296316147, 0.9976112246513367], [0.9996944665908813, 0.000305594177916646], [0.9994159936904907, 0.0005840010708197951], [0.9998876452445984, 0.00011232628457946703], [0.999722957611084, 0.0002771293220575899], [0.9999536871910095, 4.6228586143115535e-05], [0.9996531009674072, 0.0003468542417977005], [0.00238819164223969, 0.9976117014884949], [0.9997634887695312, 0.00023644015891477466], [0.002388142980635166, 0.9976118206977844], [0.002393601927906275, 0.9976063370704651], [0.029351383447647095, 0.9706485867500305], [0.9997875690460205, 0.00021245889365673065], [0.9834659695625305, 0.016534006223082542], [0.9993589520454407, 0.000641029269900173], [0.9993860125541687, 0.0006139904726296663], [0.04855597764253616, 0.9514440298080444], [0.9993336796760559, 0.0006663179956376553], [0.9998321533203125, 0.00016790152585599571], [0.9999471306800842, 5.275198054732755e-05], [0.9996258616447449, 0.0003741352120414376], [0.999748945236206, 0.0002511322090867907], [0.9785182476043701, 0.02148178033530712], [0.9927724599838257, 0.0072275204584002495], [0.999986469745636, 1.349228659819346e-05], [0.002388325519859791, 0.9976115822792053], [0.9997830390930176, 0.0002170883963117376], [0.9999318718910217, 6.810116610722616e-05], [0.9998447895050049, 0.0001553124311612919], [0.9984725117683411, 0.0015274996403604746], [0.9998154640197754, 0.0001846310042310506], [0.0023882496170699596, 0.9976117014884949], [0.9995332360267639, 0.00046671187737956643], [0.999606192111969, 0.0003938770096283406], [0.9995338320732117, 0.00046613524318672717], [0.9997402429580688, 0.0002597506972961128], [0.9997847080230713, 0.00021524206385947764], [0.00238819164223969, 0.9976117014884949], [0.002388142980635166, 0.9976118206977844], [0.0024073123931884766, 0.997592568397522], [0.002388192806392908, 0.9976117014884949], [0.9975079894065857, 0.002492086496204138], [0.9970631003379822, 0.0029367238748818636], [0.9997415542602539, 0.00025845327763818204], [0.9999008774757385, 9.904008766170591e-05], [0.9991198778152466, 0.0008800785872153938], [0.9996981620788574, 0.00030191606492735445], [0.9998359680175781, 0.0001640871778363362], [0.9997540712356567, 0.0002459834504406899], [0.9998943209648132, 0.00010560927330516279], [0.9996927976608276, 0.00030727608827874064], [0.9997477531433105, 0.00025230267783626914], [0.9998388290405273, 0.00016129031428135931], [0.9953408241271973, 0.0046591307036578655], [0.999914824962616, 8.510869520250708e-05], [0.9998816847801208, 0.00011829964932985604], [0.9997572898864746, 0.00024264682724606246], [0.007165387272834778, 0.9928346872329712], [0.002388251945376396, 0.9976117014884949], [0.4683709740638733, 0.5316290855407715], [0.8758895397186279, 0.12411046773195267], [0.9993788599967957, 0.0006211645668372512], [0.9833751320838928, 0.016624797135591507], [0.9996918439865112, 0.00030822932603769004], [0.9953528046607971, 0.004647275898605585], [0.9980534911155701, 0.0019465208752080798], [0.9992961883544922, 0.0007037423201836646], [0.9996538162231445, 0.00034616878838278353], [0.9999149441719055, 8.493851055391133e-05], [0.9983314871788025, 0.0016685558948665857], [0.9970762133598328, 0.0029237151611596346], [0.9999192357063293, 8.065914880717173e-05], [0.002388142980635166, 0.9976118206977844], [0.9990609288215637, 0.0009390536579303443], [0.998605489730835, 0.0013944667298346758], [0.9974038600921631, 0.0025960139464586973], [0.9995793700218201, 0.00042063475120812654], [0.9995473027229309, 0.0004526917764451355], [0.004873583093285561, 0.9951263666152954], [0.0023894747719168663, 0.9976105093955994], [0.9992697238922119, 0.0007303011952899396], [0.9996803998947144, 0.00031963756191544235], [0.999870777130127, 0.0001293274835916236], [0.9997940063476562, 0.0002059867838397622], [0.9998307228088379, 0.0001691940997261554], [0.9997323751449585, 0.00026769613032229245], [0.9998350143432617, 0.00016493312432430685], [0.8922865986824036, 0.107713483273983], [0.9991204738616943, 0.0008794653695076704], [0.9998813271522522, 0.00011858809739351273], [0.9988370537757874, 0.0011629726504907012], [0.9998583793640137, 0.0001416994200553745], [0.9996275305747986, 0.00037253720802254975], [0.9997258186340332, 0.000274172198260203], [0.9996931552886963, 0.0003068457299377769], [0.9999375939369202, 6.239274080144241e-05], [0.9999465346336365, 5.3404066420625895e-05], [0.9997421503067017, 0.00025795650435611606], [0.9964724779129028, 0.0035275830887258053], [0.9860783815383911, 0.013921472243964672], [0.9998743534088135, 0.00012576636800076813], [0.9998959898948669, 0.0001039764829329215], [0.9989012479782104, 0.0010988651774823666], [0.9998562335968018, 0.00014380020729731768], [0.002397925825789571, 0.9976019263267517], [0.002608890412375331, 0.9973911643028259], [0.9887358546257019, 0.011264177970588207], [0.9962794780731201, 0.003720605745911598], [0.9488806128501892, 0.05111945793032646], [0.0024144379422068596, 0.9975855350494385], [0.9997701644897461, 0.0002299526968272403], [0.9997401237487793, 0.0002599647850729525], [0.9905475378036499, 0.009452433325350285], [0.9998779296875, 0.00012200891796965152], [0.9996591806411743, 0.0003408349584788084], [0.9983388781547546, 0.0016611820319667459], [0.06625384837388992, 0.9337460994720459], [0.9957680702209473, 0.004231949336826801], [0.00238859374076128, 0.9976113438606262], [0.0024091925006359816, 0.9975907802581787], [0.9998002052307129, 0.0001997055223910138], [0.9985085725784302, 0.0014913908671587706], [0.002613601041957736, 0.9973863959312439], [0.9997601509094238, 0.00023989401233848184], [0.9998586177825928, 0.0001413646969012916], [0.9998878836631775, 0.00011204194015590474], [0.9997222423553467, 0.00027785002021119], [0.002388164633885026, 0.9976118206977844], [0.022914430126547813, 0.977085530757904], [0.9998829960823059, 0.00011689258099067956], [0.9999023079872131, 9.767897427082062e-05], [0.9997818470001221, 0.00021826685406267643], [0.0023883008398115635, 0.9976117014884949], [0.9995463490486145, 0.00045361617230810225], [0.9996726512908936, 0.0003273198672104627], [0.9998056888580322, 0.0001943871466210112], [0.9998787045478821, 0.00012126139336032793], [0.999554455280304, 0.0004455054004210979], [0.9994381666183472, 0.0005618191789835691], [0.9996747970581055, 0.0003252302121836692], [0.9996570348739624, 0.0003429980715736747], [0.9991401433944702, 0.0008597832056693733], [0.9999164938926697, 8.342687215190381e-05], [0.9998846650123596, 0.0001152140466729179], [0.999960720539093, 3.9192345866467804e-05], [0.9913814067840576, 0.008618475869297981], [0.9998688697814941, 0.00013116330956108868], [0.999125599861145, 0.000874354736879468], [0.9997313022613525, 0.00026874945615418255], [0.9999186396598816, 8.128706394927576e-05], [0.002388203050941229, 0.9976117014884949], [0.9998839497566223, 0.00011592364171519876], [0.9999497532844543, 5.015065471525304e-05], [0.9997203350067139, 0.00027971825329586864], [0.9995279908180237, 0.00047200106200762093], [0.002388142980635166, 0.9976118206977844], [0.9998083114624023, 0.00019161280943080783], [0.9997751712799072, 0.00022478062601294369], [0.01322584692388773, 0.986774206161499], [0.9986579418182373, 0.0013420038158074021], [0.9997735023498535, 0.00022658469970338047], [0.9992482662200928, 0.0007517331978306174], [0.9997193813323975, 0.0002806021075230092], [0.0025362474843859673, 0.9974637627601624], [0.0023881476372480392, 0.9976118206977844], [0.999875545501709, 0.00012441063881851733], [0.9998207092285156, 0.00017940632824320346], [0.9999392628669739, 6.062601460143924e-05], [0.9999240040779114, 7.597036164952442e-05], [0.9321255087852478, 0.06787452101707458], [0.9999247193336487, 7.522941450588405e-05], [0.002388250781223178, 0.9976117014884949], [0.9992215037345886, 0.0007786012720316648], [0.9998619556427002, 0.00013804818445350975], [0.0032335000578314066, 0.9967663884162903], [0.9998230934143066, 0.00017681997269392014], [0.9998104572296143, 0.0001895962777780369], [0.9999009966850281, 9.897325071506202e-05], [0.9986550211906433, 0.001345027587376535], [0.9996079802513123, 0.00039206387009471655], [0.9997668266296387, 0.00023311206314247102], [0.9996616840362549, 0.00033837647060863674], [0.9941230416297913, 0.005876915995031595], [0.9996923208236694, 0.0003077328437939286], [0.9995959401130676, 0.00040405875188298523], [0.9996539354324341, 0.0003460930602159351], [0.9998519420623779, 0.00014800899953115731], [0.002413385082036257, 0.9975866079330444], [0.9998199939727783, 0.00017993446090258658], [0.9997080564498901, 0.0002919971593655646], [0.999826192855835, 0.00017379932978656143], [0.002390330657362938, 0.997609555721283], [0.9997847080230713, 0.00021523694158531725], [0.9994596242904663, 0.0005403720424510539], [0.9999081492424011, 9.179277549264953e-05], [0.9964904189109802, 0.0035096118226647377], [0.0023881804663687944, 0.9976118206977844], [0.9998624324798584, 0.00013761264563072473], [0.998023271560669, 0.001976753119379282], [0.019771449267864227, 0.9802284836769104], [0.9999683499336243, 3.155765443807468e-05], [0.9998111724853516, 0.00018881600408349186], [0.999907910823822, 9.204390516970307e-05], [0.9995273947715759, 0.0004726027837023139], [0.9999242424964905, 7.574041228508577e-05], [0.9998869299888611, 0.00011301561607979238], [0.9998918175697327, 0.00010808253136929125], [0.9989776611328125, 0.0010222078999504447], [0.0023903069086372852, 0.9976096749305725], [0.9984754920005798, 0.0015245520044118166], [0.999904215335846, 9.572668932378292e-05], [0.002388142980635166, 0.9976118206977844], [0.999737024307251, 0.0002629804366733879], [0.9992916584014893, 0.0007083488162606955], [0.9995293021202087, 0.0004706258187070489], [0.9946643114089966, 0.005335663445293903], [0.9998078346252441, 0.00019220002286601812], [0.9998645782470703, 0.000135447146021761], [0.9997488260269165, 0.0002511757775209844], [0.999546229839325, 0.0004537866043392569], [0.9999551177024841, 4.4775679270969704e-05], [0.9996383190155029, 0.0003616358735598624], [0.9999459385871887, 5.401726593845524e-05], [0.999928891658783, 7.0990550739225e-05], [0.002388142980635166, 0.9976118206977844], [0.9998767375946045, 0.00012331365724094212], [0.1790134310722351, 0.8209865689277649], [0.9997217655181885, 0.0002782861120067537], [0.9997994899749756, 0.00020050840976182371], [0.9992491006851196, 0.0007508833659812808], [0.9997801780700684, 0.00021973473485559225], [0.9998919367790222, 0.0001079893991118297], [0.9998223781585693, 0.00017768889665603638], [0.9998869299888611, 0.00011297326273052022], [0.9996201395988464, 0.00037993330624885857], [0.9991309642791748, 0.0008690078975632787], [0.002388192806392908, 0.9976117014884949], [0.9994674921035767, 0.0005325845559127629], [0.0023882086388766766, 0.9976117014884949], [0.9999104142189026, 8.955712837632746e-05], [0.9984492659568787, 0.001550739980302751], [0.9998940825462341, 0.0001058504349202849], [0.9995835423469543, 0.00041647962643764913], [0.9961547255516052, 0.0038452569860965014], [0.9998300075531006, 0.0001699151616776362], [0.9996558427810669, 0.0003441936569288373], [0.9998486042022705, 0.00015138322487473488], [0.9997601509094238, 0.00023994458024390042], [0.008564040996134281, 0.9914358854293823], [0.0023927458096295595, 0.9976071715354919], [0.9996998310089111, 0.000300143234198913], [0.9982221126556396, 0.001777899800799787], [0.0024782114196568727, 0.9975218176841736], [0.9997155666351318, 0.0002844645350705832], [0.9999131560325623, 8.680795144755393e-05], [0.9995418190956116, 0.00045813771430402994], [0.9998528957366943, 0.00014715452562086284], [0.9993579983711243, 0.0006420473218895495], [0.002388471271842718, 0.9976114630699158], [0.9996808767318726, 0.0003190831048414111], [0.9992538690567017, 0.0007461601635441184], [0.8548969030380249, 0.14510317146778107], [0.9977599382400513, 0.0022400058805942535], [0.9752146601676941, 0.024785276502370834], [0.9999019503593445, 9.793302888283506e-05], [0.9999211430549622, 7.875777373556048e-05], [0.3505983054637909, 0.6494016647338867], [0.9994341135025024, 0.0005659701419062912], [0.9979546070098877, 0.0020453589968383312], [0.9996519088745117, 0.0003481390012893826], [0.9999397397041321, 6.025380571372807e-05], [0.9993484616279602, 0.0006515258573926985], [0.004296808037906885, 0.9957031011581421], [0.0024041805882006884, 0.9975957870483398], [0.9996566772460938, 0.0003433666133787483], [0.9999344944953918, 6.538545858347788e-05], [0.9996362924575806, 0.00036372095928527415], [0.9998359680175781, 0.0001640424452489242], [0.0023881441447883844, 0.9976118206977844], [0.9999293684959412, 7.061912765493616e-05], [0.9986585378646851, 0.0013414121931418777], [0.9998593330383301, 0.00014063181879464537], [0.9995903372764587, 0.0004097104538232088], [0.9987659454345703, 0.0012340612011030316], [0.9996852874755859, 0.0003147610113956034], [0.9996644258499146, 0.00033559257281012833], [0.9997570514678955, 0.00024292785383295268], [0.019795237109065056, 0.9802047610282898], [0.9998061656951904, 0.0001939679787028581], [0.9997470378875732, 0.0002529655466787517], [0.9988857507705688, 0.0011141871800646186], [0.002388142980635166, 0.9976118206977844], [0.9998652935028076, 0.00013474200386554003], [0.9997994899749756, 0.00020046328427270055], [0.9998990893363953, 0.00010088606359204277], [0.9811837673187256, 0.018816282972693443], [0.9998803734779358, 0.00011960359552176669], [0.002650825772434473, 0.9973491430282593], [0.9994198083877563, 0.0005802139057777822], [0.9939263463020325, 0.0060736811719834805], [0.9997754096984863, 0.00022457883460447192], [0.0023881769739091396, 0.9976118206977844], [0.9997459650039673, 0.0002541178837418556], [0.9988295435905457, 0.001170503324829042], [0.9998342990875244, 0.00016578251961618662], [0.9998211860656738, 0.00017872742319013923], [0.019162574782967567, 0.980837345123291], [0.9998302459716797, 0.00016971470904536545], [0.01661882922053337, 0.9833812117576599], [0.999800443649292, 0.00019966441323049366], [0.9999328255653381, 6.714524351991713e-05], [0.9966637492179871, 0.003336194669827819], [0.997610867023468, 0.0023890542797744274], [0.999783992767334, 0.00021610618568956852], [0.002954726340249181, 0.9970452785491943], [0.003158645238727331, 0.9968413710594177], [0.0023932126350700855, 0.9976066946983337], [0.8105806112289429, 0.18941938877105713], [0.9998536109924316, 0.00014639903383795172], [0.999828577041626, 0.00017147538892459124], [0.999284029006958, 0.0007158966036513448], [0.9981405735015869, 0.0018594576977193356], [0.0032669040374457836, 0.9967330098152161], [0.0033960165455937386, 0.9966039657592773], [0.006557471118867397, 0.9934425354003906], [0.9990295767784119, 0.0009703211835585535], [0.9977347254753113, 0.0022653178311884403], [0.9995433688163757, 0.0004565423587337136], [0.9999067187309265, 9.32499096961692e-05], [0.9997192621231079, 0.0002807897108141333], [0.9996732473373413, 0.0003267166030127555], [0.9992168545722961, 0.0007831765105947852], [0.0023896759375929832, 0.9976102709770203], [0.9993602633476257, 0.0006397502729669213], [0.9972943663597107, 0.00270561664365232], [0.9994860291481018, 0.000513927370775491], [0.002388565568253398, 0.9976113438606262], [0.9996923208236694, 0.0003076967259403318], [0.0028998993802815676, 0.9971001148223877], [0.0024117380380630493, 0.9975882768630981], [0.999840497970581, 0.00015949241060297936], [0.9997813701629639, 0.00021858775289729238], [0.9542428255081177, 0.04575718566775322], [0.9990223050117493, 0.0009776027873158455], [0.9983827471733093, 0.0016172071918845177], [0.0024326408747583628, 0.997567355632782], [0.9998729228973389, 0.0001270905340788886], [0.9978422522544861, 0.0021578441374003887], [0.9999306797981262, 6.93124602548778e-05], [0.9994897246360779, 0.0005102184950374067], [0.003326829755678773, 0.9966731071472168], [0.9994672536849976, 0.0005326702957972884], [0.9996116757392883, 0.00038835848681628704], [0.9998230934143066, 0.00017684594786260277], [0.4140320420265198, 0.5859679579734802], [0.999883234500885, 0.00011666696809697896], [0.0023885471746325493, 0.9976113438606262], [0.9950357675552368, 0.004964272957295179], [0.9998235702514648, 0.00017656460113357753], [0.9996314644813538, 0.0003686009149532765], [0.9997074604034424, 0.0002925776061601937], [0.9800659418106079, 0.01993401348590851], [0.002390519483014941, 0.9976094365119934], [0.0023882826790213585, 0.9976117014884949], [0.9992479085922241, 0.0007521348306909204], [0.9999070763587952, 9.283644612878561e-05], [0.017192848026752472, 0.9828071594238281], [0.9999502301216125, 4.971989255864173e-05], [0.005059350281953812, 0.9949406385421753], [0.0034239464439451694, 0.9965758919715881], [0.002388142980635166, 0.9976118206977844], [0.9998557567596436, 0.0001443803048459813], [0.9999118447303772, 8.814265311229974e-05], [0.9821532964706421, 0.01784668117761612], [0.008976482786238194, 0.9910235404968262], [0.9991927742958069, 0.0008072243654169142], [0.9995548129081726, 0.000445196550572291], [0.9860533475875854, 0.013946558348834515], [0.999894917011261, 0.00010502758959773928], [0.0023881453089416027, 0.9976118206977844], [0.9998512268066406, 0.0001487584668211639], [0.9999106526374817, 8.924927533371374e-05], [0.9996503591537476, 0.0003495796991046518], [0.99961918592453, 0.0003808258625213057], [0.9998049736022949, 0.00019497517496347427], [0.002877018181607127, 0.9971229434013367], [0.9996482133865356, 0.0003517402510624379], [0.9996548891067505, 0.00034513408900238574], [0.002388142980635166, 0.9976118206977844], [0.9993708729743958, 0.0006291287136264145], [0.9995214343070984, 0.0004784839693456888], [0.9892807602882385, 0.01071928907185793], [0.9968646764755249, 0.0031352574005723], [0.9999249577522278, 7.492255826946348e-05], [0.9996166825294495, 0.00038331246469169855], [0.9996678829193115, 0.00033214481663890183], [0.9999174475669861, 8.25335955596529e-05], [0.9449589252471924, 0.05504097416996956], [0.0023947281297296286, 0.9976051449775696], [0.9999108910560608, 8.909010648494586e-05], [0.9996720552444458, 0.000327927409671247], [0.9997227191925049, 0.0002773188170976937], [0.9999887347221375, 1.1222472494409885e-05], [0.9999307990074158, 6.908163049956784e-05], [0.9995353817939758, 0.0004645640728995204], [0.006489954423159361, 0.9935100674629211], [0.002388142980635166, 0.9976118206977844], [0.9998073577880859, 0.00019267342577222735], [0.9997861385345459, 0.00021395855583250523], [0.9999189972877502, 8.093251381069422e-05], [0.9997997283935547, 0.0002003436820814386], [0.9999069571495056, 9.298157237935811e-05], [0.9997341632843018, 0.000265847280388698], [0.9999054074287415, 9.456572297494859e-05], [0.9999316334724426, 6.826449680374935e-05], [0.9998837113380432, 0.0001161669788416475], [0.9999403357505798, 5.9651389165082946e-05], [0.9997892379760742, 0.00021078475401736796], [0.9997556209564209, 0.00024443177971988916], [0.2213377058506012, 0.7786622643470764], [0.9994426965713501, 0.0005573784001171589], [0.002390750451013446, 0.9976091980934143], [0.999894917011261, 0.00010497241601115093], [0.003565496066585183, 0.9964344501495361], [0.9993836283683777, 0.0006163632497191429], [0.9982497096061707, 0.0017503168201074004], [0.003423471236601472, 0.9965763688087463], [0.999669075012207, 0.00033096392871811986], [0.999905526638031, 9.444028546568006e-05], [0.9996498823165894, 0.000350067944964394], [0.002424753736704588, 0.9975751638412476], [0.9982486367225647, 0.0017512916820123792], [0.7402440905570984, 0.2597559094429016], [0.999499499797821, 0.0005004353006370366], [0.002388986060395837, 0.9976109862327576], [0.9371187090873718, 0.06288128346204758], [0.0024107573553919792, 0.9975892305374146], [0.9995773434638977, 0.00042265531374141574], [0.0023890745360404253, 0.997610867023468], [0.002391930902376771, 0.9976080060005188], [0.9998424053192139, 0.00015765846183057874], [0.9998714923858643, 0.00012862464063800871], [0.999859094619751, 0.00014098039537202567], [0.9987888336181641, 0.0012111796531826258], [0.9998395442962646, 0.0001604325807420537], [0.9999176859855652, 8.224430348491296e-05], [0.999945342540741, 5.459890599013306e-05], [0.9997432231903076, 0.0002568312920629978], [0.01747955195605755, 0.9825204014778137], [0.9995396733283997, 0.0004602624394465238], [0.002388142980635166, 0.9976118206977844], [0.002388142980635166, 0.9976118206977844], [0.9994403123855591, 0.0005596839473582804], [0.9999129176139832, 8.69605501065962e-05], [0.9999387860298157, 6.111832044553012e-05], [0.999950110912323, 4.979666482540779e-05], [0.9997897148132324, 0.00021027309412602335], [0.9999114871025085, 8.841168892104179e-05], [0.0026964263524860144, 0.9973036050796509], [0.999861478805542, 0.00013865347136743367], [0.9996647834777832, 0.000335231568897143], [0.9996004700660706, 0.0003995739098172635], [0.9998550415039062, 0.00014508677122648805], [0.9989562034606934, 0.0010436775628477335], [0.003401110414415598, 0.9965988397598267], [0.0024193355347961187, 0.9975806474685669], [0.9997137784957886, 0.0002862192050088197], [0.9993301033973694, 0.0006698216893710196], [0.9997937679290771, 0.00020634004613384604], [0.9999374747276306, 6.242695963010192e-05], [0.9996195435523987, 0.00038051887531764805], [0.9998161792755127, 0.00018382366397418082], [0.05876096338033676, 0.9412389397621155], [0.0033243184443563223, 0.9966757297515869], [0.9997656345367432, 0.000234461112995632], [0.0023882018867880106, 0.9976117014884949], [0.9954906702041626, 0.004509280901402235], [0.9997471570968628, 0.00025293685030192137], [0.9998745918273926, 0.00012556555157061666], [0.9961115121841431, 0.003888415638357401], [0.9998975396156311, 0.00010239803668810055], [0.9997847080230713, 0.00021534513507504016], [0.9994586706161499, 0.0005412769387476146], [0.9999127984046936, 8.717767923371866e-05], [0.999718189239502, 0.0002818136417772621], [0.9996756315231323, 0.0003244213294237852], [0.9997715950012207, 0.0002283535577589646], [0.9991791844367981, 0.0008208365761674941], [0.9997369050979614, 0.00026313873240724206], [0.9999023079872131, 9.75635412032716e-05], [0.0026891054585576057, 0.9973108768463135], [0.7099599838256836, 0.2900400459766388], [0.9992161393165588, 0.0007838528836145997], [0.9983700513839722, 0.0016300319693982601], [0.9595432281494141, 0.04045678302645683], [0.9999197125434875, 8.02187787485309e-05], [0.9997540712356567, 0.0002459311217535287], [0.9998433589935303, 0.0001567382860230282], [0.99944007396698, 0.0005600260919891298], [0.002424438949674368, 0.9975755214691162], [0.99977707862854, 0.00022303922742139548], [0.9998803734779358, 0.0001195191071019508], [0.9997546672821045, 0.0002453683118801564], [0.999592125415802, 0.0004078356723766774], [0.9997289180755615, 0.0002711318957153708], [0.005141837056726217, 0.9948580861091614], [0.9998307228088379, 0.00016929271805565804], [0.9995114207267761, 0.0004884740919806063], [0.9997484683990479, 0.00025159932556562126], [0.9999157786369324, 8.419113873969764e-05], [0.002388964407145977, 0.9976109862327576], [0.9998631477355957, 0.00013683892029803246], [0.002388313179835677, 0.9976115822792053], [0.9998087882995605, 0.00019128480926156044], [0.999868631362915, 0.0001314990659011528], [0.0023882940877228975, 0.9976117014884949], [0.9998102188110352, 0.00018991327669937164], [0.9994238615036011, 0.0005760019412264228], [0.002388142980635166, 0.9976118206977844], [0.999781608581543, 0.00021839297551196069], [0.999912679195404, 8.730396803002805e-05], [0.99995356798172, 4.631078991224058e-05], [0.3774653673171997, 0.6225346326828003], [0.9673837423324585, 0.032616179436445236], [0.0023910212330520153, 0.9976089596748352], [0.9999082684516907, 9.161857451545075e-05], [0.9997808933258057, 0.0002190695086028427], [0.002388142980635166, 0.9976118206977844], [0.9996656179428101, 0.0003343697462696582], [0.9999373555183411, 6.259309884626418e-05], [0.10816580802202225, 0.8918341398239136], [0.9999479651451111, 5.202772808843292e-05], [0.9992976188659668, 0.0007024090155027807], [0.999845027923584, 0.00015508424257859588], [0.9999526143074036, 4.738158168038353e-05], [0.9997940063476562, 0.00020592784858308733], [0.9998502731323242, 0.00014969274343457073], [0.9996711015701294, 0.0003288518637418747], [0.002388142980635166, 0.9976118206977844], [0.8911781311035156, 0.10882172733545303], [0.9870863556861877, 0.012913701124489307], [0.9998992085456848, 0.00010067558469017968], [0.9931581616401672, 0.0068417321890592575], [0.9997971057891846, 0.00020300208416301757], [0.002388142980635166, 0.9976118206977844], [0.999906599521637, 9.338285599369556e-05], [0.9998300075531006, 0.00017004337860271335], [0.9995589852333069, 0.0004410168039612472], [0.9998944401741028, 0.00010552532330621034], [0.9980571866035461, 0.0019427763763815165], [0.9999006390571594, 9.931814565788954e-05], [0.0024081473238766193, 0.9975917339324951], [0.9981940388679504, 0.0018059907015413046], [0.999912679195404, 8.727632666705176e-05], [0.9814726114273071, 0.018527409061789513], [0.9997339248657227, 0.0002660729514900595], [0.0023922838736325502, 0.9976076483726501], [0.9995042681694031, 0.0004956109914928675], [0.998579740524292, 0.001420311164110899], [0.9983557462692261, 0.0016442436026409268], [0.01697179675102234, 0.9830281734466553], [0.9997063875198364, 0.0002936935634352267], [0.9998722076416016, 0.00012780196266248822], [0.9997018575668335, 0.000298182392725721], [0.9998571872711182, 0.00014283812197390944], [0.9998459815979004, 0.00015406562306452543], [0.9998383522033691, 0.00016161204257514328], [0.0024000494740903378, 0.9975997805595398], [0.9998762607574463, 0.00012380615225993097], [0.9996941089630127, 0.0003059227019548416], [0.9992266297340393, 0.0007733809179626405], [0.9997519254684448, 0.0002481337869539857], [0.9996943473815918, 0.00030570197850465775], [0.0031367228366434574, 0.9968632459640503], [0.999517023563385, 0.00048293740837834775], [0.9999563097953796, 4.368460213299841e-05], [0.9817335605621338, 0.01826646737754345], [0.9999323487281799, 6.755338836228475e-05], [0.002388142980635166, 0.9976118206977844], [0.9999189972877502, 8.08947006589733e-05], [0.9706397652626038, 0.02936013787984848], [0.9999211430549622, 7.87489116191864e-05], [0.9989209771156311, 0.0010789529187604785], [0.9999005198478699, 9.937800496118143e-05], [0.9990906715393066, 0.0009093449334613979], [0.9996486902236938, 0.0003512607072480023], [0.9990856647491455, 0.0009143140050582588], [0.9997889995574951, 0.00021089731308165938], [0.995099663734436, 0.004900294356048107], [0.006044713780283928, 0.9939552545547485], [0.9987496733665466, 0.0012503924081102014], [0.1553160399198532, 0.8446839451789856], [0.9980893135070801, 0.0019105812534689903], [0.9995569586753845, 0.0004429696418810636], [0.9992926120758057, 0.0007073665619827807], [0.0023885087575763464, 0.9976114630699158], [0.0110018914565444, 0.9889981150627136], [0.002414318500086665, 0.997585654258728], [0.9924415946006775, 0.007558504585176706], [0.24465960264205933, 0.7553403973579407], [0.9998667240142822, 0.00013334880350157619], [0.9999448657035828, 5.507666355697438e-05], [0.9997159242630005, 0.0002840753295458853], [0.9998788237571716, 0.0001210859845741652], [0.999849796295166, 0.00015029589121695608], [0.9999281764030457, 7.178875966928899e-05], [0.022217193618416786, 0.9777828454971313], [0.9985616207122803, 0.001438306411728263], [0.9998433589935303, 0.00015663309022784233], [0.9990038275718689, 0.0009960836032405496], [0.3637845516204834, 0.6362154483795166], [0.9996158480644226, 0.00038419064367190003], [0.0024121077731251717, 0.9975879192352295], [0.9997909069061279, 0.00020918785594403744], [0.9996802806854248, 0.0003197908808942884], [0.002662103623151779, 0.9973378777503967], [0.9999012351036072, 9.874718671198934e-05], [0.999928891658783, 7.109549915185198e-05], [0.002388268942013383, 0.9976117014884949], [0.999690055847168, 0.00030996030545793474], [0.9808071851730347, 0.019192788749933243], [0.9997849464416504, 0.00021513109095394611], [0.03405879810452461, 0.9659411907196045], [0.9979897141456604, 0.002010267460718751], [0.9996656179428101, 0.00033439366961829364], [0.9997889995574951, 0.0002109759661834687], [0.9998500347137451, 0.00014993273362051696], [0.9995817542076111, 0.00041826325468719006], [0.9998373985290527, 0.00016253264038823545], [0.9997940063476562, 0.0002059791295323521], [0.9999350905418396, 6.482280150521547e-05], [0.00238980446010828, 0.9976101517677307], [0.9996219277381897, 0.00037805252941325307], [0.002388142980635166, 0.9976118206977844], [0.9998937249183655, 0.00010620035754982382], [0.9994417428970337, 0.0005582513986155391], [0.9959613084793091, 0.004038595128804445], [0.9997009038925171, 0.00029906697454862297], [0.9968165755271912, 0.0031835006084293127], [0.9994391202926636, 0.0005607972852885723], [0.9985308051109314, 0.0014691476244479418], [0.0023881520610302687, 0.9976118206977844], [0.9994455575942993, 0.0005544291925616562], [0.0027517182752490044, 0.9972482323646545], [0.9992947578430176, 0.0007052274304442108], [0.00459826597943902, 0.9954017996788025], [0.11734075844287872, 0.8826592564582825], [0.999943196773529, 5.6684330047573894e-05], [0.9997951984405518, 0.00020490610040724277], [0.00899244099855423, 0.9910074472427368], [0.0031317572575062513, 0.9968682527542114], [0.7408405542373657, 0.2591594457626343], [0.9999315142631531, 6.838972331024706e-05], [0.9999131560325623, 8.676863217260689e-05], [0.9994086027145386, 0.0005913114291615784], [0.00240353518165648, 0.9975963830947876], [0.9723501205444336, 0.02764981985092163], [0.9993351101875305, 0.0006648729904554784], [0.9995906949043274, 0.0004093413008376956], [0.999779462814331, 0.00022056809393689036], [0.9997859001159668, 0.00021407096937764436], [0.999631941318512, 0.000368092063581571], [0.9998364448547363, 0.00016361659800168127], [0.9999623894691467, 3.749529423657805e-05], [0.08220218867063522, 0.9177979230880737], [0.0023887723218649626, 0.9976112246513367], [0.0023881567176431417, 0.9976118206977844], [0.9998657703399658, 0.0001341791357845068], [0.9998023509979248, 0.0001975719496840611], [0.002399526536464691, 0.9976003766059875], [0.9849081039428711, 0.015091881155967712], [0.9998223781585693, 0.00017758843023329973], [0.9992082715034485, 0.0007917420007288456], [0.9215915203094482, 0.07840846478939056], [0.9997291564941406, 0.00027094301185570657], [0.002423442667350173, 0.9975764751434326], [0.9950423836708069, 0.004957547411322594], [0.9986914396286011, 0.001308456645347178], [0.9704427719116211, 0.029557298868894577], [0.999596893787384, 0.00040310193435288966], [0.9946209192276001, 0.005379010457545519], [0.9998016357421875, 0.00019843004702124745], [0.9996777772903442, 0.0003222874947823584], [0.999830961227417, 0.00016911703278310597], [0.839212954044342, 0.1607869565486908], [0.0023881476372480392, 0.9976118206977844], [0.0024097999557852745, 0.997590184211731], [0.0023885720875114202, 0.9976113438606262], [0.999904453754425, 9.547962690703571e-05], [0.9991881251335144, 0.0008118543191812932], [0.9998314380645752, 0.0001686566392891109], [0.9996938705444336, 0.00030616458388976753], [0.0023881590459495783, 0.9976118206977844], [0.9979226589202881, 0.0020772803109139204], [0.9999082684516907, 9.166113886749372e-05], [0.22238071262836456, 0.7776191830635071], [0.002388443797826767, 0.9976114630699158], [0.0023881508968770504, 0.9976118206977844], [0.999925434589386, 7.453341095242649e-05], [0.9996539354324341, 0.0003460070875007659], [0.9981325268745422, 0.001867528771981597], [0.9962876439094543, 0.003712268313392997], [0.999220073223114, 0.0007799199665896595], [0.999907910823822, 9.198853513225913e-05], [0.002388142980635166, 0.9976118206977844], [0.9990736246109009, 0.0009263521642424166], [0.9998013973236084, 0.00019852860714308918], [0.9992661476135254, 0.0007339649018831551], [0.997767984867096, 0.002231983467936516], [0.9994639158248901, 0.0005360512295737863], [0.0024277581833302975, 0.9975722432136536], [0.0053664096631109715, 0.9946334362030029], [0.9998486042022705, 0.0001514919858891517], [0.20426766574382782, 0.7957323789596558], [0.9992030262947083, 0.0007969873840920627], [0.9998714923858643, 0.00012858894478995353], [0.002388250781223178, 0.9976117014884949], [0.9999085068702698, 9.137654706137255e-05], [0.9998852610588074, 0.00011468288721516728], [0.9998185634613037, 0.00018151414406020194], [0.0027340154629200697, 0.9972660541534424], [0.999419093132019, 0.0005808729329146445], [0.9988547563552856, 0.0011451549362391233], [0.9998984932899475, 0.00010138725338038057], [0.9999231696128845, 7.673076470382512e-05], [0.9998600482940674, 0.00013990582374390215], [0.9999337792396545, 6.618878251174465e-05], [0.9981103539466858, 0.0018895656103268266], [0.9998087882995605, 0.0001912545267259702], [0.9996288418769836, 0.00037118548061698675], [0.0023884654510766268, 0.9976114630699158], [0.9998729228973389, 0.00012714449258055538], [0.9997422695159912, 0.00025782323791645467], [0.9997249841690063, 0.0002750535204540938], [0.9998528957366943, 0.00014703458873555064], [0.9996340274810791, 0.0003659481299109757], [0.999830961227417, 0.00016896662418730557], [0.002394427778199315, 0.9976055026054382], [0.9998447895050049, 0.00015513006655965], [0.9999639391899109, 3.599773481255397e-05], [0.99985671043396, 0.0001433659199392423], [0.9998798966407776, 0.00012001144204987213], [0.9970139265060425, 0.0029861293733119965], [0.9997613430023193, 0.0002387685963185504], [0.9979523420333862, 0.0020476211793720722], [0.9992344379425049, 0.0007656016387045383], [0.9856830835342407, 0.014316841959953308], [0.999828577041626, 0.00017139839474111795], [0.9998877644538879, 0.00011221451859455556], [0.9834774732589722, 0.016522441059350967], [0.9997780323028564, 0.00022203645494300872], [0.9998018741607666, 0.00019823979528155178], [0.9997618198394775, 0.00023827305994927883], [0.9945977926254272, 0.005402225069701672], [0.9998581409454346, 0.00014178399578668177], [0.9998016357421875, 0.0001982968533411622], [0.9997830390930176, 0.00021698656200896949], [0.981975793838501, 0.01802421733736992], [0.9999546408653259, 4.530457954388112e-05], [0.9998507499694824, 0.00014937166997697204], [0.999809741973877, 0.0001903147785924375], [0.9992659091949463, 0.000734134519007057], [0.998745858669281, 0.0012542003532871604], [0.9938793182373047, 0.006120608188211918], [0.9868994951248169, 0.013100465759634972], [0.9995377659797668, 0.0004621876869350672], [0.9995331168174744, 0.0004668830370064825], [0.9993777871131897, 0.0006222151569090784], [0.8062105774879456, 0.1937893033027649], [0.9935674667358398, 0.0064325169660151005], [0.0046623824164271355, 0.9953376054763794], [0.9997131824493408, 0.00028681251569651067], [0.9998741149902344, 0.00012601281923707575], [0.9996283650398254, 0.0003716762294061482], [0.9998066425323486, 0.0001934487809194252], [0.9974024295806885, 0.002597436774522066], [0.002388142980635166, 0.9976118206977844], [0.9999287724494934, 7.112349703675136e-05], [0.9981903433799744, 0.0018097002757713199], [0.9998414516448975, 0.00015857255493756384], [0.9995846152305603, 0.0004153590998612344], [0.002398796146735549, 0.9976010918617249], [0.9211922287940979, 0.0788077563047409], [0.9991951584815979, 0.000804872892331332], [0.9999275803565979, 7.236570672830567e-05], [0.002407381311058998, 0.997592568397522], [0.9998538494110107, 0.00014620360161643475], [0.9841941595077515, 0.015805836766958237], [0.9977914094924927, 0.0022085884120315313], [0.9997365474700928, 0.00026356082526035607], [0.3238220512866974, 0.676177978515625], [0.9996840953826904, 0.00031592597952112556], [0.9999449849128723, 5.496296944329515e-05], [0.9998835921287537, 0.00011637398711172864], [0.9997354745864868, 0.0002645446511451155], [0.9998641014099121, 0.00013602183025795966], [0.9998912215232849, 0.00010865501099033281], [0.9999517798423767, 4.8124664317583665e-05], [0.9995844960212708, 0.0004155395436100662], [0.9958621859550476, 0.00413772277534008], [0.9995976090431213, 0.0004024591762572527], [0.9950782060623169, 0.00492175854742527], [0.002389290602877736, 0.9976106286048889], [0.0071615371853113174, 0.9928383827209473], [0.9999198317527771, 8.015272032935172e-05], [0.9988417029380798, 0.0011583379236981273], [0.9999515414237976, 4.840699693886563e-05], [0.9990641474723816, 0.0009359283722005785], [0.9993830323219299, 0.0006169489352032542], [0.8868365287780762, 0.11316348612308502], [0.9984961748123169, 0.0015036650002002716], [0.003945785574615002, 0.9960541725158691], [0.998802661895752, 0.0011973937507718801], [0.9999287724494934, 7.118368375813589e-05], [0.9998395442962646, 0.0001604509452590719], [0.0023884461261332035, 0.9976114630699158], [0.999600350856781, 0.00039965444011613727], [0.9998185634613037, 0.0001814764109440148], [0.9971723556518555, 0.0028276192024350166], [0.9998271465301514, 0.0001728134520817548], [0.9998395442962646, 0.0001604852150194347], [0.9999507069587708, 4.928812995785847e-05], [0.005241454113274813, 0.9947586059570312], [0.9998552799224854, 0.0001448106049792841], [0.9997897148132324, 0.00021026186004746705], [0.9997923374176025, 0.00020765764929819852], [0.9996054768562317, 0.0003945869393646717], [0.999891459941864, 0.00010842244955711067], [0.9997493028640747, 0.0002506992022972554], [0.9999002814292908, 9.965986100723967e-05], [0.002388598397374153, 0.9976113438606262], [0.9998540878295898, 0.00014588385238312185], [0.9999068379402161, 9.31386457523331e-05], [0.9999485611915588, 5.134125240147114e-05], [0.9999503493309021, 4.961237937095575e-05], [0.9996557235717773, 0.0003442297747824341], [0.9996689558029175, 0.0003310434112790972], [0.9979813694953918, 0.002018716186285019], [0.9992818832397461, 0.0007181474938988686], [0.044078607112169266, 0.955921471118927], [0.999899685382843, 0.00010029422992374748], [0.9790281057357788, 0.020971884950995445], [0.999293327331543, 0.0007066496764309704], [0.9995681643486023, 0.00043178521445952356], [0.002388142980635166, 0.9976118206977844], [0.9983469247817993, 0.001653095125220716], [0.9997951984405518, 0.0002047115413006395], [0.0023881657980382442, 0.9976118206977844], [0.9997859001159668, 0.00021420166012831032], [0.002476976253092289, 0.9975230097770691], [0.9998648166656494, 0.00013517632032744586], [0.9987647533416748, 0.0012352584162726998], [0.9999131560325623, 8.673843694850802e-05], [0.9999446272850037, 5.5319695093203336e-05], [0.9990500807762146, 0.0009499114821664989], [0.9997104406356812, 0.0002895973448175937], [0.00240135146304965, 0.9975986480712891], [0.003247883403673768, 0.996752142906189], [0.0025378582067787647, 0.9974620938301086], [0.9997541904449463, 0.00024589247186668217], [0.002388161141425371, 0.9976118206977844], [0.9993976354598999, 0.0006022070883773267], [0.9998915791511536, 0.00010837087756954134], [0.09485255926847458, 0.9051474928855896], [0.9890897274017334, 0.01091023813933134], [0.9997761249542236, 0.00022392308164853603], [0.9996542930603027, 0.0003456497215665877], [0.9997280836105347, 0.00027201120974496007], [0.9998965859413147, 0.00010332356032449752], [0.9999598860740662, 4.003516005468555e-05], [0.9994312524795532, 0.0005686666117981076], [0.9865499138832092, 0.01345009170472622], [0.9990412592887878, 0.0009586721425876021], [0.9986501336097717, 0.0013498937478289008], [0.47570157051086426, 0.5242984294891357], [0.9990657567977905, 0.0009342573466710746], [0.9998619556427002, 0.00013797645806334913], [0.999937117099762, 6.287559517659247e-05], [0.9965347051620483, 0.0034652871545404196], [0.9997608661651611, 0.00023924760171212256], [0.5709068179130554, 0.42909324169158936], [0.9997426271438599, 0.00025742556317709386], [0.9998953938484192, 0.00010450409899931401], [0.0023883541580289602, 0.9976115822792053], [0.9995301365852356, 0.00046982214553281665], [0.9989709854125977, 0.0010289085330441594], [0.9997837543487549, 0.00021620899497065693], [0.9999228119850159, 7.708881457801908e-05], [0.9992907047271729, 0.0007092633750289679], [0.9979948401451111, 0.0020051023457199335], [0.9999491572380066, 5.081025665276684e-05], [0.9998137950897217, 0.00018631760030984879], [0.9984689354896545, 0.001531022135168314], [0.9978681802749634, 0.002131801098585129], [0.9988110661506653, 0.001188902766443789], [0.9998939633369446, 0.00010597223445074633], [0.9993507266044617, 0.0006492345710285008], [0.9652426242828369, 0.03475739806890488], [0.9998674392700195, 0.00013267886242829263], [0.9999350905418396, 6.480839510913938e-05], [0.99989253282547, 0.00010743312304839492], [0.9998610019683838, 0.0001390517281834036], [0.9999075531959534, 9.235830657416955e-05], [0.9993131756782532, 0.0006867500487715006], [0.9997603893280029, 0.00023972621420398355], [0.9994763731956482, 0.0005235250573605299], [0.9819415211677551, 0.01805843599140644], [0.9994574785232544, 0.0005424420814961195], [0.9999513030052185, 4.858199099544436e-05], [0.0023883357644081116, 0.9976115822792053], [0.999849796295166, 0.0001502341328887269], [0.9996281266212463, 0.000371869740774855], [0.9993276000022888, 0.0006723306723870337], [0.9995717406272888, 0.0004283056186977774], [0.9997718334197998, 0.00022823779727332294], [0.9971436262130737, 0.0028563900850713253], [0.9999282956123352, 7.167213334469125e-05], [0.9994586706161499, 0.0005412206519395113], [0.9809986352920532, 0.019001267850399017], [0.9998569488525391, 0.00014318941975943744], [0.9979197978973389, 0.002080167643725872], [0.9982625842094421, 0.001737396465614438], [0.002388142980635166, 0.9976118206977844], [0.9953064918518066, 0.004693473223596811], [0.9998700618743896, 0.0001299883151659742], [0.9998626708984375, 0.00013743116869591177], [0.9998975396156311, 0.00010244491568300873], [0.007303876802325249, 0.9926960468292236], [0.9993962049484253, 0.0006036120466887951], [0.9996795654296875, 0.00032044886029325426], [0.9989041686058044, 0.0010957885533571243], [0.9997947216033936, 0.00020527938613668084], [0.0031606697011739016, 0.9968392252922058], [0.005225080531090498, 0.9947749376296997], [0.007316116243600845, 0.9926838874816895], [0.999859094619751, 0.0001410075492458418], [0.999582827091217, 0.00041718053398653865], [0.9998562335968018, 0.00014377592015080154], [0.9996603727340698, 0.00033963771420530975], [0.0028704076539725065, 0.9971295595169067], [0.7274736166000366, 0.2725263833999634], [0.9993545413017273, 0.0006454825634136796], [0.9987278580665588, 0.0012721737148240209], [0.9998939633369446, 0.00010598810331430286], [0.999781608581543, 0.00021831176127307117], [0.9998909831047058, 0.00010893959552049637], [0.9997410774230957, 0.000258995481999591], [0.9997272491455078, 0.00027283738018013537], [0.9999238848686218, 7.603870471939445e-05], [0.9986357092857361, 0.0013642390258610249], [0.9998147487640381, 0.0001853589783422649], [0.9995030760765076, 0.0004968323046341538], [0.9995660185813904, 0.00043401154107414186], [0.734455943107605, 0.2655441164970398], [0.002388142980635166, 0.9976118206977844], [0.9759465456008911, 0.024053417146205902], [0.9997973442077637, 0.00020274501002859324], [0.9998118877410889, 0.0001881234347820282], [0.008694970980286598, 0.9913050532341003], [0.9998540878295898, 0.0001459169725421816], [0.9997961521148682, 0.0002038547390839085], [0.9998899102210999, 0.0001100356166716665], [0.9997692108154297, 0.0002307160320924595], [0.9997725486755371, 0.00022739822452422231], [0.9995540976524353, 0.00044585546129383147], [0.9998478889465332, 0.0001520778314443305], [0.0025995320174843073, 0.9974005222320557], [0.9998636245727539, 0.00013644791033584625], [0.9996757507324219, 0.00032423672382719815], [0.9998281002044678, 0.00017191970255225897], [0.9997155666351318, 0.00028443007613532245], [0.9999534487724304, 4.6450248191831633e-05], [0.0023881590459495783, 0.9976118206977844], [0.9998815655708313, 0.00011832659947685897], [0.9999074339866638, 9.245188994100317e-05], [0.999840497970581, 0.00015945330960676074], [0.9999060034751892, 9.39619421842508e-05], [0.9999005198478699, 9.945537749445066e-05], [0.0023889243602752686, 0.9976109862327576], [0.9993097186088562, 0.0006902602035552263], [0.002388214459642768, 0.9976117014884949], [0.9989470839500427, 0.0010529677383601665], [0.9979851841926575, 0.0020147995091974735], [0.9998326301574707, 0.00016736269753891975], [0.9986489415168762, 0.0013511157594621181], [0.9997528791427612, 0.0002471784537192434], [0.987755298614502, 0.012244608253240585], [0.9997928142547607, 0.00020715889695566148], [0.39818209409713745, 0.6018178462982178], [0.9999291300773621, 7.07484723534435e-05], [0.9995436072349548, 0.00045641858014278114], [0.9545002579689026, 0.04549967125058174], [0.9998447895050049, 0.00015533184341620654], [0.9997519254684448, 0.0002481404226273298], [0.9964565634727478, 0.0035434055607765913], [0.9994996190071106, 0.0005003301193937659], [0.0023883951362222433, 0.9976115822792053], [0.9999428391456604, 5.7120931160170585e-05], [0.005658417008817196, 0.9943416118621826], [0.9517642855644226, 0.04823572188615799], [0.9997081756591797, 0.0002918669197242707], [0.9997875690460205, 0.0002125585888279602], [0.9986671209335327, 0.0013329098001122475], [0.9998807311058044, 0.00011921918485313654], [0.9999045729637146, 9.539763414068148e-05], [0.9998888373374939, 0.00011114638618892059], [0.00238857907243073, 0.9976113438606262], [0.9876165986061096, 0.012383423745632172], [0.9997551441192627, 0.000244888971792534], [0.9998774528503418, 0.00012247878476046026], [0.99993497133255, 6.501465395558625e-05], [0.9989814758300781, 0.0010184256825596094], [0.999573290348053, 0.00042669649701565504], [0.01203997153788805, 0.9879599809646606], [0.9979135990142822, 0.002086418913677335], [0.005557812284678221, 0.9944421648979187], [0.0025141944643110037, 0.9974857568740845], [0.9993708729743958, 0.0006291737081483006], [0.9996458292007446, 0.00035413558362051845], [0.9942106008529663, 0.005789304152131081], [0.9997832775115967, 0.00021667829423677176], [0.9996957778930664, 0.0003042394819203764], [0.31115853786468506, 0.6888415813446045], [0.99970543384552, 0.0002945530286524445], [0.999807596206665, 0.00019231365877203643], [0.0023881858214735985, 0.9976117014884949], [0.9997555017471313, 0.0002445208083372563], [0.9998884797096252, 0.00011150413047289476], [0.99944007396698, 0.0005599946016445756], [0.9998688697814941, 0.00013119721552357078], [0.9996984004974365, 0.0003016222908627242], [0.9998683929443359, 0.0001315370318479836], [0.9998345375061035, 0.0001654398365644738], [0.9997713565826416, 0.00022870374959893525], [0.999930202960968, 6.973537529120222e-05], [0.9999092221260071, 9.074656554730609e-05], [0.9997856616973877, 0.0002142996818292886], [0.9998569488525391, 0.00014302550698630512], [0.9996541738510132, 0.0003458303399384022], [0.9996059536933899, 0.00039410273893736303], [0.002388214459642768, 0.9976117014884949], [0.9994698762893677, 0.0005302596255205572], [0.9997355937957764, 0.00026444048853591084], [0.9999296069145203, 7.028515392448753e-05], [0.9999092221260071, 9.06962959561497e-05], [0.0095912991091609, 0.990408718585968], [0.02535123936831951, 0.9746487736701965], [0.9995264410972595, 0.0004734578833449632], [0.9998526573181152, 0.000147404643939808], [0.9999348521232605, 6.502853648271412e-05], [0.9555198550224304, 0.04448018968105316], [0.9999650120735168, 3.489326627459377e-05], [0.9992949962615967, 0.0007051072316244245], [0.9999616742134094, 3.821973950834945e-05], [0.9998033046722412, 0.0001967463322216645], [0.9995773434638977, 0.0004226416349411011], [0.9995918869972229, 0.0004081106453668326], [0.9995880722999573, 0.0004119588411413133], [0.9562307596206665, 0.043769195675849915], [0.9997236728668213, 0.0002763739030342549], [0.982168972492218, 0.017830975353717804], [0.9988809823989868, 0.001118939951993525], [0.9987704753875732, 0.001229544053785503], [0.9998366832733154, 0.00016336046974174678], [0.9995591044425964, 0.00044090751907788217], [0.9998942017555237, 0.00010575136548141018], [0.9997818470001221, 0.0002182589378207922], [0.9993399977684021, 0.0006599909975193441], [0.9997456073760986, 0.00025444128550589085], [0.007275444455444813, 0.992724597454071], [0.9998383522033691, 0.00016156936180777848], [0.9995855689048767, 0.0004143945116084069], [0.028644271194934845, 0.9713557362556458], [0.9993033409118652, 0.0006967747467570007], [0.9991229772567749, 0.0008770185522735119], [0.9999213814735413, 7.851811096770689e-05], [0.9998528957366943, 0.00014722737250849605], [0.9997563362121582, 0.00024368178856093436], [0.9999606013298035, 3.934472260880284e-05], [0.9995041489601135, 0.0004958000499755144], [0.009241797029972076, 0.9907581210136414], [0.2627970576286316, 0.7372028827667236], [0.999884307384491, 0.00011564839951461181], [0.9977729916572571, 0.002226967364549637], [0.9998161792755127, 0.00018392465426586568], [0.9951102137565613, 0.004889716859906912], [0.9998913407325745, 0.00010856346489163116], [0.9997273683547974, 0.00027273257728666067], [0.10384132713079453, 0.8961586356163025], [0.0032826086971908808, 0.9967174530029297], [0.9923447966575623, 0.007655265275388956], [0.0024704940151423216, 0.9975295066833496], [0.999765157699585, 0.00023487390717491508], [0.9997875690460205, 0.00021254218881949782], [0.9998140335083008, 0.0001859019830590114], [0.9998624324798584, 0.0001376172440359369], [0.9702144265174866, 0.029785605147480965], [0.9990673065185547, 0.0009326119325123727], [0.008550933562219143, 0.9914489984512329], [0.913151741027832, 0.08684832602739334], [0.9996055960655212, 0.0003943908086512238], [0.9998195171356201, 0.0001804087805794552], [0.9992485046386719, 0.0007515466422773898], [0.9996651411056519, 0.00033481247373856604], [0.10178108513355255, 0.8982188105583191], [0.9999025464057922, 9.741415124153718e-05], [0.9975500702857971, 0.002449824707582593], [0.9993788599967957, 0.0006212280131876469], [0.9997354745864868, 0.0002646016364451498], [0.9999030232429504, 9.695514745544642e-05], [0.9998762607574463, 0.00012380379484966397], [0.007354740519076586, 0.9926453232765198], [0.9998829960823059, 0.00011697487934725359], [0.004334176424890757, 0.9956658482551575], [0.00250206608325243, 0.9974980354309082], [0.999873161315918, 0.00012689655704889446], [0.002394551644101739, 0.9976053833961487], [0.9997380971908569, 0.00026198444538749754], [0.9984297752380371, 0.0015701078809797764], [0.9998828768730164, 0.00011708826059475541], [0.9970715641975403, 0.002928417641669512], [0.9999073147773743, 9.262122330255806e-05], [0.9998171329498291, 0.00018283810641150922], [0.9996800422668457, 0.0003199857601430267], [0.9987344145774841, 0.001265601604245603], [0.002388142980635166, 0.9976118206977844], [0.9998652935028076, 0.00013483133807312697], [0.99992436170578, 7.55652436055243e-05], [0.9994732737541199, 0.0005266786320134997], [0.9998610019683838, 0.00013896275777369738], [0.9986457228660583, 0.001354322419501841], [0.9999108910560608, 8.902547415345907e-05], [0.9998533725738525, 0.00014674705744255334], [0.002424628008157015, 0.9975752830505371], [0.9999276995658875, 7.223380816867575e-05], [0.37791600823402405, 0.6220839619636536], [0.9987027645111084, 0.0012971885735169053], [0.9994248151779175, 0.0005750589771196246], [0.9730296730995178, 0.026970215141773224], [0.9999544024467468, 4.548887227429077e-05], [0.0028321901336312294, 0.9971677660942078], [0.9999628663063049, 3.711492900038138e-05], [0.9997001886367798, 0.0002997874980792403], [0.9956619143486023, 0.004338029772043228], [0.9999068379402161, 9.314140334026888e-05], [0.9654325842857361, 0.034567344933748245], [0.9997514486312866, 0.0002485590521246195], [0.9957097768783569, 0.004290258977562189], [0.9998130798339844, 0.00018691136210691184], [0.9997823238372803, 0.00021761016978416592], [0.9997118711471558, 0.000288155279122293], [0.9996418952941895, 0.00035812583519145846], [0.9998899102210999, 0.00010998683865182102], [0.9995612502098083, 0.0004387754888739437], [0.9998211860656738, 0.00017895239579956979], [0.9997835159301758, 0.00021660872153006494], [0.31254103779792786, 0.6874589920043945], [0.9998835921287537, 0.00011629288201220334], [0.9913725256919861, 0.008627424016594887], [0.0023913916666060686, 0.997608482837677], [0.9960497617721558, 0.003950225654989481], [0.0023881657980382442, 0.9976118206977844], [0.002388142980635166, 0.9976118206977844], [0.999934732913971, 6.519506132462993e-05], [0.9999012351036072, 9.867921471595764e-05], [0.9994909167289734, 0.0005089676706120372], [0.9990605711936951, 0.0009394801454618573], [0.0023903183173388243, 0.9976096749305725], [0.002388142980635166, 0.9976118206977844], [0.9998916983604431, 0.00010824229684658349], [0.9997968673706055, 0.00020318197493907064], [0.999714732170105, 0.00028532586293295026], [0.9998729228973389, 0.0001272144727408886], [0.9995498061180115, 0.00045022377162240446], [0.004579425323754549, 0.995420515537262], [0.9993293881416321, 0.000670580833684653], [0.9999244809150696, 7.55082000978291e-05], [0.002388142980635166, 0.9976118206977844], [0.0023891860619187355, 0.9976107478141785], [0.9990151524543762, 0.0009848084300756454], [0.9997314214706421, 0.0002686551888473332], [0.9937459230422974, 0.006254072301089764], [0.9996936321258545, 0.0003064107440877706], [0.006133385002613068, 0.9938666224479675], [0.9787604808807373, 0.02123945951461792], [0.9993964433670044, 0.0006033739191479981], [0.07706328481435776, 0.922936737537384], [0.0023898452054709196, 0.9976100325584412], [0.9999642968177795, 3.5691973607754335e-05], [0.9998526573181152, 0.00014735461445525289], [0.9998650550842285, 0.00013502020738087595], [0.9981929659843445, 0.0018070990918204188], [0.997945249080658, 0.0020547015592455864], [0.0023881453089416027, 0.9976118206977844], [0.030743537470698357, 0.9692563414573669], [0.9999132752418518, 8.66172558744438e-05], [0.9982543587684631, 0.0017456631176173687], [0.007804035674780607, 0.9921959638595581], [0.002488653641194105, 0.9975113272666931], [0.9996598958969116, 0.0003401594585739076], [0.9998552799224854, 0.00014482827100437135], [0.9998137950897217, 0.00018628047837410122], [0.9999064803123474, 9.344556019641459e-05], [0.9999070763587952, 9.285291889682412e-05], [0.9998512268066406, 0.00014879649097565562], [0.9785149693489075, 0.021484985947608948], [0.9990366101264954, 0.0009633495355956256], [0.002388919936493039, 0.9976109862327576], [0.9996733665466309, 0.00032665152684785426], [0.9976790547370911, 0.0023210151121020317], [0.9997545480728149, 0.0002455688954796642], [0.0023884701076895, 0.9976114630699158], [0.9994274377822876, 0.0005725553492084146], [0.9998909831047058, 0.00010892120189964771], [0.003429960925132036, 0.9965699911117554], [0.9994004964828491, 0.0005995584651827812], [0.002848654752597213, 0.9971511960029602], [0.9992376565933228, 0.0007623030105605721], [0.9999193549156189, 8.059887477429584e-05], [0.9998173713684082, 0.00018272151646669954], [0.990358293056488, 0.00964172650128603], [0.9998736381530762, 0.00012634428276214749], [0.9998859763145447, 0.00011401057417970151], [0.999819278717041, 0.00018063047900795937], [0.0029965047724545, 0.9970034956932068], [0.9859210252761841, 0.014078907668590546], [0.9996365308761597, 0.0003634339664131403], [0.986600935459137, 0.013399070128798485], [0.999852180480957, 0.00014791956346016377], [0.9998767375946045, 0.00012339907698333263], [0.02280275709927082, 0.9771971702575684], [0.9711511135101318, 0.028848737478256226], [0.9998209476470947, 0.00017909934103954583], [0.9998486042022705, 0.00015153444837778807], [0.9997174739837646, 0.0002825317205861211], [0.9995442032814026, 0.0004557225329335779], [0.9996743202209473, 0.0003257096104789525], [0.9997668266296387, 0.00023325684014707804], [0.9001104831695557, 0.09988949447870255], [0.9998868107795715, 0.0001131760873249732], [0.9998257160186768, 0.00017439980001654476], [0.9998953938484192, 0.00010450230183778331], [0.9999256730079651, 7.426125375786796e-05], [0.9999186396598816, 8.127024193527177e-05], [0.999911367893219, 8.854093903210014e-05], [0.9810579419136047, 0.018942134454846382], [0.9997251033782959, 0.00027493078960105777], [0.9996905326843262, 0.000309489929350093], [0.9987067580223083, 0.0012931542005389929], [0.9998424053192139, 0.00015762944531161338], [0.9999273419380188, 7.256914250319824e-05], [0.998215913772583, 0.0017841606168076396], [0.9998106956481934, 0.00018931356316898018], [0.9989604949951172, 0.0010394734563305974], [0.9989102482795715, 0.0010897164465859532], [0.9859253764152527, 0.014074592851102352], [0.94886314868927, 0.05113682523369789], [0.9999125599861145, 8.732177957426757e-05], [0.9998762607574463, 0.00012375894584693015], [0.0023881508968770504, 0.9976118206977844], [0.999861478805542, 0.00013866880908608437], [0.01607520878314972, 0.9839247465133667], [0.9998921751976013, 0.00010776843555504456], [0.9997177124023438, 0.0002823631220962852], [0.00487927533686161, 0.9951207041740417], [0.1206241101026535, 0.8793758153915405], [0.0024045577738434076, 0.9975953102111816], [0.9997680187225342, 0.0002320704807061702], [0.999840259552002, 0.00015971854736562818], [0.9978970885276794, 0.0021029917988926172], [0.9985514283180237, 0.0014485456049442291], [0.9998788237571716, 0.00012105642963433638], [0.999575674533844, 0.0004242815193720162], [0.0024048129562288523, 0.9975950717926025], [0.9998988509178162, 0.00010112299787579104], [0.0023882610257714987, 0.9976117014884949], [0.9968023896217346, 0.0031975628808140755], [0.9956710338592529, 0.004328861832618713], [0.9844780564308167, 0.01552191935479641], [0.9995318055152893, 0.00046810979256406426], [0.999823808670044, 0.00017621710139792413], [0.9982190132141113, 0.0017809956334531307], [0.9985544085502625, 0.0014455801574513316], [0.9998440742492676, 0.00015598921163473278], [0.9997413158416748, 0.0002587081980891526], [0.9999168515205383, 8.304951916215941e-05], [0.9997521638870239, 0.00024793067132122815], [0.997774064540863, 0.0022259335964918137], [0.9999291300773621, 7.082232332322747e-05], [0.9997347593307495, 0.00026524849818088114], [0.0023897101636976004, 0.9976102709770203], [0.002388154389336705, 0.9976118206977844], [0.9995701909065247, 0.00042984189349226654], [0.0023883632384240627, 0.9976115822792053], [0.9965928792953491, 0.003407004987820983], [0.9998466968536377, 0.00015342820552177727], [0.9975929260253906, 0.0024069861974567175], [0.9998481273651123, 0.00015186771634034812], [0.9998641014099121, 0.00013598136138170958], [0.019082965329289436, 0.9809169769287109], [0.0024059147108346224, 0.9975939989089966], [0.9996343851089478, 0.00036561439628712833], [0.9999462962150574, 5.364355456549674e-05], [0.7942696809768677, 0.20573024451732635], [0.9995730519294739, 0.0004269795317668468], [0.0028787259943783283, 0.997121274471283], [0.9893054366111755, 0.010694550350308418], [0.9996726512908936, 0.0003273679467383772], [0.9999201893806458, 7.976347114890814e-05], [0.9997086524963379, 0.00029132506460882723], [0.9881952404975891, 0.011804724112153053], [0.9950333833694458, 0.0049665081314742565], [0.9998350143432617, 0.0001649106270633638], [0.9995611310005188, 0.0004388788074720651], [0.002444633049890399, 0.9975553154945374], [0.9997051954269409, 0.0002948368201032281], [0.9998049736022949, 0.0001949662691913545], [0.9998157024383545, 0.00018433196237310767], [0.9169519543647766, 0.08304800093173981], [0.9998271465301514, 0.00017290264077018946], [0.9996544122695923, 0.0003455963742453605], [0.9993371367454529, 0.0006628180271945894], [0.9919994473457336, 0.00800061784684658], [0.9998819231987, 0.00011802167136920616], [0.002396037569269538, 0.9976038336753845], [0.9984952211380005, 0.001504763844422996], [0.002388331340625882, 0.9976115822792053], [0.9997437000274658, 0.00025637212092988193], [0.9997823238372803, 0.00021774759807158262], [0.9972628355026245, 0.0027372115291655064], [0.9999365210533142, 6.338911771308631e-05], [0.9648929834365845, 0.035107050091028214], [0.9996745586395264, 0.00032550879404880106], [0.9998905062675476, 0.0001094542967621237], [0.9986243844032288, 0.0013755954569205642], [0.9999122023582458, 8.771009015617892e-05], [0.010106335394084454, 0.9898936152458191], [0.999561607837677, 0.0004384146595839411], [0.9998056888580322, 0.00019430651445873082], [0.9987697601318359, 0.0012303004041314125], [0.03862643986940384, 0.961373507976532], [0.0023903034161776304, 0.9976096749305725], [0.987567663192749, 0.012432360090315342], [0.202953040599823, 0.7970468401908875], [0.9986677169799805, 0.0013322796439751983], [0.9955184459686279, 0.004481554962694645], [0.9995942711830139, 0.0004057851911056787], [0.9998814463615417, 0.00011851688759634271], [0.9999474883079529, 5.2446463087107986e-05], [0.0023883040994405746, 0.9976115822792053], [0.9998247623443604, 0.0001752482494339347], [0.9995803236961365, 0.000419651682022959], [0.9997531175613403, 0.0002469673927407712], [0.9756209850311279, 0.024378972128033638], [0.9993814826011658, 0.0006185214733704925], [0.9995893836021423, 0.0004106406413484365], [0.9984185695648193, 0.001581396907567978], [0.9997198581695557, 0.00028015809948556125], [0.9992740154266357, 0.0007260023849084973], [0.9992833137512207, 0.0007166427094489336], [0.9998626708984375, 0.00013737585686612874], [0.9999071955680847, 9.269756992580369e-05], [0.9998655319213867, 0.0001344765623798594], [0.9999080300331116, 9.187325485982001e-05], [0.06387607008218765, 0.9361238479614258], [0.9996469020843506, 0.00035306898644194007], [0.9995889067649841, 0.0004110614536330104], [0.9995883107185364, 0.00041165182483382523], [0.9997442960739136, 0.0002557514817453921], [0.9998933672904968, 0.00010655162623152137], [0.9997904300689697, 0.00020953237253706902], [0.992053747177124, 0.007946214638650417], [0.9996367692947388, 0.0003631754079833627], [0.9998988509178162, 0.00010110736911883578], [0.9995208382606506, 0.0004790679085999727], [0.0023898121435195208, 0.9976101517677307], [0.9999309182167053, 6.898256106069311e-05], [0.9997751712799072, 0.00022492279822472483], [0.9998815655708313, 0.00011839975195471197], [0.9996942281723022, 0.00030582238105125725], [0.9998812079429626, 0.00011869081936310977], [0.9997333288192749, 0.00026670133229345083], [0.9998462200164795, 0.00015375579823739827], [0.0188443586230278, 0.9811555743217468], [0.9997203350067139, 0.0002797305351123214], [0.999904453754425, 9.548035450279713e-05], [0.7999341487884521, 0.20006580650806427], [0.9998133182525635, 0.00018667573749553412], [0.9998431205749512, 0.00015698162314947695], [0.9996362924575806, 0.0003636985784396529], [0.9986240267753601, 0.0013759026769548655], [0.23584656417369843, 0.7641534209251404], [0.9996408224105835, 0.0003592066641431302], [0.995806872844696, 0.004193164873868227], [0.999826192855835, 0.0001739427534630522], [0.002388900378718972, 0.9976109862327576], [0.99077969789505, 0.00922027975320816], [0.9994950890541077, 0.0005048101302236319], [0.9999464154243469, 5.358138878364116e-05], [0.9997471570968628, 0.0002528736658859998], [0.9846898913383484, 0.015310114249587059], [0.9996976852416992, 0.00030235821031965315], [0.9998945593833923, 0.00010539157665334642], [0.7419512271881104, 0.25804877281188965], [0.9989922046661377, 0.0010077586630359292], [0.999943196773529, 5.669519669027068e-05], [0.8978667855262756, 0.10213321447372437], [0.9998621940612793, 0.00013791347737424076], [0.9999578595161438, 4.209089820506051e-05], [0.999873161315918, 0.00012689582945313305], [0.0023881441447883844, 0.9976118206977844], [0.9996647834777832, 0.000335276301484555], [0.9998316764831543, 0.00016833208792377263], [0.9994205236434937, 0.0005793716991320252], [0.9987905025482178, 0.001209479058161378], [0.9928160905838013, 0.007183939218521118], [0.9999483227729797, 5.161360604688525e-05], [0.9994364976882935, 0.00056341482559219], [0.9991356134414673, 0.000864365603774786], [0.9998540878295898, 0.00014590138744097203], [0.999678373336792, 0.0003216149634681642], [0.020996933802962303, 0.9790030121803284], [0.9838216304779053, 0.016178401187062263], [0.9306742548942566, 0.0693257674574852], [0.9993166327476501, 0.0006833310471847653], [0.9998922944068909, 0.00010767609637696296], [0.9999238848686218, 7.604777056258172e-05], [0.9996114373207092, 0.00038855362799949944], [0.0024134996347129345, 0.9975864887237549], [0.9989176392555237, 0.0010822614422068], [0.999847412109375, 0.0001526635023765266], [0.0023884347174316645, 0.9976114630699158], [0.9999160170555115, 8.387565321754664e-05], [0.9992455244064331, 0.000754451029933989], [0.002388597233220935, 0.9976113438606262], [0.9386609196662903, 0.0613391250371933], [0.0029929582960903645, 0.9970070123672485], [0.9996505975723267, 0.00034941162448376417], [0.002388252876698971, 0.9976117014884949], [0.999821662902832, 0.0001784213091013953], [0.9944643974304199, 0.005535544827580452], [0.975351870059967, 0.024648042395710945], [0.007016007322818041, 0.9929840564727783], [0.9986007213592529, 0.0013992117019370198], [0.9999287724494934, 7.115110929589719e-05], [0.9997940063476562, 0.00020598305854946375], [0.9993816018104553, 0.000618448480963707], [0.9997901916503906, 0.00020988010510336608], [0.9999274611473083, 7.247737084981054e-05], [0.9920791387557983, 0.007920892909169197], [0.9997599124908447, 0.0002401823876425624], [0.9998540878295898, 0.00014602360897697508], [0.9998102188110352, 0.0001898153277579695], [0.9982357025146484, 0.0017642774619162083], [0.9990213513374329, 0.0009785438887774944], [0.0023896393831819296, 0.9976102709770203], [0.9995246529579163, 0.00047525204718112946], [0.003174493322148919, 0.9968255758285522], [0.992797315120697, 0.0072026681154966354], [0.999807596206665, 0.00019252726633567363], [0.9994486570358276, 0.0005512222414836287], [0.9996145367622375, 0.00038547153235413134], [0.9991996884346008, 0.0008002811227925122], [0.08605481684207916, 0.9139451384544373], [0.9998421669006348, 0.00015781306137796491], [0.9997780323028564, 0.00022198543592821807], [0.9999259114265442, 7.397444278467447e-05], [0.9999333024024963, 6.658857455477118e-05], [0.9998259544372559, 0.00017411682347301394], [0.9995353817939758, 0.00046457158168777823], [0.9998930096626282, 0.00010694148659240454], [0.9969639182090759, 0.003036094130948186], [0.017376024276018143, 0.9826240539550781], [0.9986433386802673, 0.0013566382694989443], [0.002501061651855707, 0.9974989891052246], [0.9980741739273071, 0.0019257517997175455], [0.9998896718025208, 0.00011020583042409271], [0.016045348718762398, 0.9839546084403992], [0.9820358753204346, 0.017964158207178116], [0.003436605678871274, 0.9965633153915405], [0.927047610282898, 0.07295236736536026], [0.9963476061820984, 0.0036522469017654657], [0.9998109340667725, 0.00018897539121098816], [0.9992082715034485, 0.0007917171460576355], [0.9997787475585938, 0.0002213638654211536], [0.9960953593254089, 0.0039046024903655052], [0.9998870491981506, 0.00011288205132586882], [0.9998390674591064, 0.0001609394239494577], [0.0023885893169790506, 0.9976113438606262], [0.9998495578765869, 0.00015053525567054749], [0.9879761338233948, 0.012023822404444218], [0.004508345853537321, 0.995491623878479], [0.9997196197509766, 0.00028043711790814996], [0.0049494230188429356, 0.9950506091117859], [0.046844806522130966, 0.9531551599502563], [0.993624210357666, 0.006375820841640234], [0.9981178641319275, 0.0018820550758391619], [0.999824047088623, 0.00017598303384147584], [0.996530294418335, 0.003469635033980012], [0.0023882396053522825, 0.9976117014884949], [0.9998595714569092, 0.00014049150922801346], [0.002388142980635166, 0.9976118206977844], [0.9998974204063416, 0.00010252876381855458], [0.9997925758361816, 0.00020736383157782257], [0.9999014735221863, 9.843505540629849e-05], [0.9988521933555603, 0.001147852628491819], [0.9996315836906433, 0.0003684654657263309], [0.9983536005020142, 0.0016464046202600002], [0.9988438487052917, 0.0011562014697119594], [0.002803070703521371, 0.9971968531608582], [0.999405026435852, 0.0005949685582891107], [0.9998469352722168, 0.00015298539074137807], [0.9987659454345703, 0.0012340506073087454], [0.002402146812528372, 0.9975978136062622], [0.0024537763092666864, 0.9975463151931763], [0.0026307019870728254, 0.9973694086074829], [0.9995059370994568, 0.0004940559156239033], [0.9998126029968262, 0.0001873629807960242], [0.002388179302215576, 0.9976118206977844], [0.002435975708067417, 0.9975640177726746], [0.999854564666748, 0.00014540224219672382], [0.9995009303092957, 0.0004989727749489248], [0.999520480632782, 0.00047947291750460863], [0.9999440312385559, 5.587799023487605e-05], [0.9981486797332764, 0.0018513933755457401], [0.9990504384040833, 0.0009495345875620842], [0.9993197321891785, 0.0006801817798987031], [0.9999222159385681, 7.775706035317853e-05], [0.002448408165946603, 0.9975515007972717], [0.0023882873356342316, 0.9976117014884949], [0.9535724520683289, 0.04642752557992935], [0.0023884994443506002, 0.9976114630699158], [0.9999176859855652, 8.220580639317632e-05], [0.9997971057891846, 0.0002028275339398533], [0.9997316598892212, 0.00026837026234716177], [0.8678449988365173, 0.13215495645999908], [0.9533102512359619, 0.0466897152364254], [0.9680984616279602, 0.03190157189965248], [0.9998581409454346, 0.00014184066094458103], [0.9997366666793823, 0.0002633329713717103], [0.9998447895050049, 0.00015531154349446297], [0.9999094605445862, 9.052400855580345e-05], [0.9999204277992249, 7.950526924105361e-05], [0.9996587038040161, 0.00034130807034671307], [0.989857017993927, 0.010142985731363297], [0.9989182353019714, 0.0010817244183272123], [0.9998793005943298, 0.00012060672452207655], [0.0023883746471256018, 0.9976115822792053], [0.3033517897129059, 0.696648120880127], [0.9948761463165283, 0.00512394355610013], [0.08319086581468582, 0.91680908203125], [0.9915732741355896, 0.008426683954894543], [0.002607690868899226, 0.9973922967910767], [0.0024603749625384808, 0.9975396394729614], [0.999012291431427, 0.0009876553667709231], [0.9993489384651184, 0.0006510122329927981], [0.9988400340080261, 0.0011600080179050565], [0.9999298453330994, 7.013064168859273e-05], [0.9998874068260193, 0.00011255863500991836], [0.002388142980635166, 0.9976118206977844], [0.9998059272766113, 0.00019412966503296047], [0.9990943670272827, 0.0009055936243385077], [0.9997990131378174, 0.0002009668096434325], [0.999871015548706, 0.0001289260690100491], [0.002388270106166601, 0.9976117014884949], [0.9992790222167969, 0.0007209451869130135], [0.9999043345451355, 9.556761506246403e-05], [0.9999464154243469, 5.35766885150224e-05], [0.9991344213485718, 0.0008655069977976382], [0.9992976188659668, 0.0007025370141491294], [0.9997687339782715, 0.0002312803262611851], [0.9997639656066895, 0.00023614801466464996], [0.9782726764678955, 0.02172747440636158], [0.9999784827232361, 2.1439056581584737e-05], [0.002388142980635166, 0.9976118206977844], [0.009078317321836948, 0.990921676158905], [0.9998619556427002, 0.00013818939623888582], [0.9997882843017578, 0.00021176903101149946], [0.9997434616088867, 0.0002566274197306484], [0.9996788501739502, 0.00032116699730977416], [0.9998719692230225, 0.00012808719475287944], [0.9998540878295898, 0.00014595621905755252], [0.05603286996483803, 0.9439671635627747], [0.9979733228683472, 0.0020266396459192038], [0.9995954632759094, 0.0004045517125632614], [0.9994919896125793, 0.0005079577094875276], [0.9998579025268555, 0.0001420308108208701], [0.9999120831489563, 8.780230564298108e-05], [0.9994484186172485, 0.0005516333621926606], [0.002388142980635166, 0.9976118206977844], [0.9757844805717468, 0.024215426295995712], [0.8216097354888916, 0.17839032411575317], [0.9976440668106079, 0.002355963923037052], [0.9998552799224854, 0.00014477732474915683], [0.9998581409454346, 0.00014184959582053125], [0.9996907711029053, 0.000309233320876956], [0.974548876285553, 0.025451118126511574], [0.9992759227752686, 0.0007241129642352462], [0.9999209046363831, 7.898521289462224e-05], [0.9999005198478699, 9.94182046269998e-05], [0.9976913928985596, 0.0023086394648998976], [0.9997278451919556, 0.0002722522185649723], [0.0023887017741799355, 0.9976112246513367], [0.9995489716529846, 0.0004510209837462753], [0.9987040758132935, 0.0012958741281181574], [0.0023893509060144424, 0.9976106286048889], [0.9993881583213806, 0.0006118369637988508], [0.9994262456893921, 0.000573751691263169], [0.002482203533872962, 0.9975177645683289], [0.9999261498451233, 7.383124466286972e-05], [0.9998813271522522, 0.00011862157407449558], [0.9994522333145142, 0.0005476986989378929], [0.9997978210449219, 0.00020230821974109858], [0.9994126558303833, 0.0005873593618161976], [0.9887438416481018, 0.011256134137511253], [0.9994747042655945, 0.000525146082509309], [0.9995649456977844, 0.0004351014504209161], [0.9998762607574463, 0.00012386852176859975], [0.9990931749343872, 0.0009068279759958386], [0.9960905909538269, 0.003909416496753693], [0.0783274695277214, 0.9216724634170532], [0.999890148639679, 0.00010973007010761648], [0.004881755914539099, 0.9951182007789612], [0.9998838305473328, 0.00011605703184613958], [0.998900294303894, 0.0010997075587511063], [0.9998433589935303, 0.00015671421715524048], [0.9999058842658997, 9.40867539611645e-05], [0.9999527335166931, 4.722698577097617e-05], [0.0023898622021079063, 0.9976100325584412], [0.999809980392456, 0.00019015064754057676], [0.999939501285553, 6.046769703971222e-05], [0.5955284237861633, 0.4044715464115143], [0.9997608661651611, 0.00023903984401840717], [0.10828790813684464, 0.8917120695114136], [0.99993497133255, 6.501800089608878e-05], [0.9997923374176025, 0.0002076909295283258], [0.9998804926872253, 0.00011941463890252635], [0.002388164633885026, 0.9976118206977844], [0.9996670484542847, 0.0003329796018078923], [0.9821234345436096, 0.01787654496729374], [0.0034159068018198013, 0.9965839982032776], [0.9798219203948975, 0.020178062841296196], [0.002388148568570614, 0.9976118206977844], [0.9992586374282837, 0.0007413617568090558], [0.9992398023605347, 0.0007602500263601542], [0.9999106526374817, 8.927276940084994e-05], [0.9998980164527893, 0.00010195248614763841], [0.0023881476372480392, 0.9976118206977844], [0.9993323683738708, 0.0006676000775769353], [0.9197356700897217, 0.08026435226202011], [0.9323614835739136, 0.06763854622840881], [0.9998502731323242, 0.00014970758638810366], [0.9988144040107727, 0.001185514614917338], [0.003987325355410576, 0.9960127472877502], [0.9995381236076355, 0.00046184155507944524], [0.9997057914733887, 0.0002942650462500751], [0.6061434149742126, 0.3938565254211426], [0.9995914101600647, 0.00040854618418961763], [0.9997906684875488, 0.00020933308405801654], [0.9988943338394165, 0.001105690491385758], [0.9997467994689941, 0.00025323941372334957], [0.0023884701076895, 0.9976114630699158], [0.9988208413124084, 0.0011791257420554757], [0.9670121669769287, 0.032987818121910095], [0.9997782707214355, 0.00022167641145642847], [0.9978968501091003, 0.002103162696585059], [0.9998228549957275, 0.00017721850599627942], [0.9982936382293701, 0.0017064023995772004], [0.9984971284866333, 0.001502861501649022], [0.08591724932193756, 0.9140827655792236], [0.002391108777374029, 0.9976088404655457], [0.002388142980635166, 0.9976118206977844], [0.9998988509178162, 0.00010108693822985515], [0.9998884797096252, 0.00011147414625156671], [0.0023889553267508745, 0.9976109862327576], [0.9996974468231201, 0.00030254709417931736], [0.9998703002929688, 0.0001296371192438528], [0.9884256720542908, 0.011574230156838894], [0.9997385740280151, 0.00026146392337977886], [0.9996789693832397, 0.00032107115839608014], [0.9998095035552979, 0.0001904959644889459], [0.9998087882995605, 0.00019120072829537094], [0.9997402429580688, 0.00025983122759498656], [0.9983943104743958, 0.0016056739259511232], [0.9997959136962891, 0.00020406261319294572], [0.0023883087560534477, 0.9976115822792053], [0.9996433258056641, 0.0003566182276699692], [0.002743029734119773, 0.9972570538520813], [0.0023892305325716734, 0.9976107478141785], [0.3321749269962311, 0.6678250432014465], [0.9983331561088562, 0.0016669061733409762], [0.9964526295661926, 0.003547478001564741], [0.9998095035552979, 0.00019063080253545195], [0.999731183052063, 0.0002688553067855537], [0.9998235702514648, 0.00017646190826781094], [0.002388142980635166, 0.9976118206977844], [0.9990799427032471, 0.0009199869818985462], [0.002388142980635166, 0.9976118206977844], [0.999809741973877, 0.00019019631145056337], [0.9990853071212769, 0.0009147095843218267], [0.9999344944953918, 6.541995389852673e-05], [0.9996579885482788, 0.0003419949789531529], [0.9998872876167297, 0.0001126661227317527], [0.9993173480033875, 0.0006826131138950586], [0.9990487694740295, 0.0009512378601357341], [0.999357283115387, 0.0006427722400985658], [0.9997551441192627, 0.00024492680677212775], [0.9982215166091919, 0.0017784787341952324], [0.7765114903450012, 0.22348855435848236], [0.07225009053945541, 0.9277498722076416], [0.9999520182609558, 4.7948989958968014e-05], [0.9997271299362183, 0.0002729089464992285], [0.9998137950897217, 0.00018612740677781403], [0.9994467496871948, 0.000553238030988723], [0.9997483491897583, 0.0002517344255466014], [0.002388295251876116, 0.9976117014884949], [0.9994925856590271, 0.0005073218489997089], [0.9997715950012207, 0.00022846268257126212], [0.004627980291843414, 0.9953719973564148], [0.9998664855957031, 0.00013345576007850468], [0.007255904842168093, 0.9927440285682678], [0.999788761138916, 0.00021129767992533743], [0.9994954466819763, 0.0005045345169492066], [0.99981689453125, 0.00018324077245779335], [0.9997596740722656, 0.0002403115649940446], [0.9999015927314758, 9.833926742430776e-05], [0.999378502368927, 0.0006214695167727768], [0.999875545501709, 0.0001244609447894618], [0.9974183440208435, 0.0025815570261329412], [0.9996404647827148, 0.0003595163580030203], [0.9999122023582458, 8.771970897214487e-05], [0.24292662739753723, 0.7570733428001404], [0.9951862096786499, 0.00481374841183424], [0.9997599124908447, 0.0002400639932602644], [0.9989933967590332, 0.0010065226815640926], [0.9996825456619263, 0.0003175293968524784], [0.9992997646331787, 0.0007003971259109676], [0.9998796582221985, 0.00012025406613247469], [0.01160111278295517, 0.9883989095687866], [0.9996347427368164, 0.00036524617462418973], [0.9997961521148682, 0.00020382557704579085], [0.9959605932235718, 0.004039344843477011], [0.9809441566467285, 0.019055768847465515], [0.999936044216156, 6.383674190146849e-05], [0.9998621940612793, 0.00013778003631159663], [0.999861478805542, 0.00013857996964361519], [0.9928034543991089, 0.007196622900664806], [0.9996664524078369, 0.00033353560138493776], [0.9976661801338196, 0.002333727665245533], [0.002388142980635166, 0.9976118206977844], [0.99994295835495, 5.698502354789525e-05], [0.9991970658302307, 0.0008029703749343753], [0.9990615248680115, 0.0009385340381413698], [0.9995149970054626, 0.00048494242946617305], [0.9996312260627747, 0.0003688105789478868], [0.9969402551651001, 0.0030597492586821318], [0.03418654575943947, 0.9658135175704956], [0.002445005113258958, 0.9975549578666687], [0.999607264995575, 0.0003927961806766689], [0.9997930526733398, 0.0002070230693789199], [0.9999265074729919, 7.343192555708811e-05], [0.9998936057090759, 0.00010635795479174703], [0.9996650218963623, 0.00033499705023132265], [0.998871922492981, 0.0011281188344582915], [0.9998090267181396, 0.00019107537809759378], [0.9918149709701538, 0.00818498246371746], [0.9996495246887207, 0.0003504526102915406], [0.9999272227287292, 7.274069503182545e-05], [0.9966217875480652, 0.0033781209494918585], [0.9749515056610107, 0.025048449635505676], [0.9991257190704346, 0.0008742835489101708], [0.9994653463363647, 0.0005345628596842289], [0.99991375207901, 8.614132093498483e-05], [0.9999192357063293, 8.068899478530511e-05], [0.9995101094245911, 0.0004898225888609886], [0.9977976083755493, 0.0022024258505553007], [0.9997594356536865, 0.00024047611805144697], [0.9998703002929688, 0.00012967285874765366], [0.9996296763420105, 0.0003703477850649506], [0.9998292922973633, 0.0001708385971141979], [0.9985820055007935, 0.0014180480502545834], [0.9998183250427246, 0.00018175192235503346], [0.9994598627090454, 0.0005402471870183945], [0.9999317526817322, 6.822674913564697e-05], [0.1542208045721054, 0.8457791209220886], [0.9997323751449585, 0.0002676665026228875], [0.999225914478302, 0.0007741913432255387], [0.9993098378181458, 0.000690053217113018], [0.9509972929954529, 0.04900279641151428], [0.9976747632026672, 0.002325221197679639], [0.9998669624328613, 0.00013313611270859838], [0.999880850315094, 0.00011910100874956697], [0.9999153017997742, 8.463749691145495e-05], [0.9998033046722412, 0.00019666060688905418], [0.9998114109039307, 0.0001885731180664152], [0.9998602867126465, 0.0001398705062456429], [0.005758000072091818, 0.9942420721054077], [0.9969910979270935, 0.003008980071172118], [0.9991809725761414, 0.0008190005319193006], [0.999741792678833, 0.00025823726900853217], [0.00367932696826756, 0.9963206648826599], [0.9989669322967529, 0.001033035689033568], [0.9999265074729919, 7.340636511798948e-05], [0.0023920333478599787, 0.9976078867912292], [0.9997625350952148, 0.00023736806178931147], [0.002388146473094821, 0.9976118206977844], [0.9986850023269653, 0.0013149486621841788], [0.9991516470909119, 0.0008483220008201897], [0.9989189505577087, 0.0010809956584125757], [0.002389628207311034, 0.9976102709770203], [0.999859094619751, 0.00014096104132477194], [0.9996618032455444, 0.0003381878195796162], [0.9996769428253174, 0.00032306669163517654], [0.9998211860656738, 0.00017872521129902452], [0.999535858631134, 0.0004641559789888561], [0.0024269591085612774, 0.9975730180740356], [0.011523401364684105, 0.988476574420929], [0.002388142980635166, 0.9976118206977844], [0.9998135566711426, 0.000186471501365304], [0.0023938720114529133, 0.997606098651886], [0.9998126029968262, 0.0001875215384643525], [0.002456348855048418, 0.9975436925888062], [0.986003577709198, 0.013996371999382973], [0.9995347857475281, 0.00046517825103364885], [0.9998369216918945, 0.00016301828145515174], [0.002388815628364682, 0.9976111054420471], [0.9999637007713318, 3.6286150134401396e-05], [0.0023909276351332664, 0.9976089596748352], [0.99785315990448, 0.002146876882761717], [0.9997856616973877, 0.00021445343736559153], [0.9997885227203369, 0.00021138670854270458], [0.8850942254066467, 0.11490578204393387], [0.9998626708984375, 0.0001373156119370833], [0.9252297878265381, 0.07477022707462311], [0.9989446997642517, 0.0010552795138210058], [0.9998612403869629, 0.0001386875519528985], [0.9996157288551331, 0.00038425199454650283], [0.999891459941864, 0.00010852186096599326], [0.9998967051506042, 0.00010326851042918861], [0.9998558759689331, 0.00014411644951906055], [0.9985558390617371, 0.001444122288376093], [0.9999042749404907, 9.570715337758884e-05]]\n",
            "[0, 0, 0, 0, 0, 0, 0, 0, 0, 1, 0, 0, 0, 1, 0, 1, 0, 1, 0, 1, 0, 1, 0, 0, 0, 0, 0, 0, 0, 1, 0, 0, 0, 0, 1, 1, 0, 1, 0, 1, 0, 0, 0, 0, 0, 0, 1, 1, 0, 1, 0, 1, 0, 0, 0, 0, 0, 0, 0, 0, 0, 1, 0, 0, 0, 0, 0, 0, 0, 0, 0, 0, 0, 0, 0, 0, 0, 0, 0, 1, 0, 0, 1, 0, 0, 0, 0, 0, 0, 0, 0, 1, 0, 1, 0, 1, 0, 0, 1, 1, 1, 0, 1, 0, 0, 0, 0, 0, 0, 0, 0, 1, 0, 0, 0, 0, 0, 0, 0, 0, 0, 0, 0, 0, 0, 1, 0, 0, 0, 0, 0, 0, 0, 0, 0, 1, 0, 0, 0, 0, 1, 0, 0, 0, 0, 0, 0, 0, 1, 1, 0, 0, 0, 1, 0, 0, 0, 0, 0, 1, 1, 0, 0, 0, 0, 0, 0, 1, 0, 0, 0, 0, 0, 0, 0, 1, 0, 0, 0, 0, 0, 0, 0, 0, 1, 0, 0, 0, 0, 1, 0, 0, 0, 0, 0, 0, 0, 0, 0, 1, 0, 1, 0, 1, 0, 0, 1, 0, 0, 0, 0, 0, 0, 0, 0, 0, 0, 0, 1, 0, 0, 0, 0, 0, 0, 0, 0, 0, 0, 0, 0, 0, 0, 1, 0, 0, 1, 0, 0, 0, 1, 0, 0, 0, 0, 0, 0, 0, 0, 1, 0, 1, 0, 1, 0, 1, 0, 1, 0, 1, 0, 0, 0, 1, 0, 1, 0, 0, 0, 0, 0, 0, 0, 0, 0, 0, 0, 0, 0, 1, 0, 0, 0, 1, 0, 0, 0, 0, 0, 1, 0, 0, 0, 0, 0, 1, 0, 1, 0, 0, 0, 1, 0, 0, 0, 0, 1, 1, 0, 1, 1, 1, 0, 0, 0, 1, 1, 0, 1, 0, 1, 0, 1, 0, 0, 0, 0, 0, 0, 0, 0, 0, 0, 0, 0, 0, 0, 0, 0, 1, 1, 1, 1, 0, 0, 0, 0, 1, 0, 0, 0, 1, 1, 0, 1, 0, 0, 0, 0, 1, 0, 1, 0, 0, 0, 0, 0, 0, 0, 0, 0, 0, 0, 0, 1, 0, 1, 0, 0, 0, 0, 1, 0, 0, 0, 0, 1, 0, 0, 0, 0, 0, 0, 0, 0, 0, 1, 0, 0, 0, 0, 0, 0, 0, 0, 0, 0, 0, 1, 0, 1, 0, 0, 0, 1, 0, 0, 0, 0, 0, 0, 0, 0, 0, 0, 1, 0, 0, 0, 0, 0, 0, 0, 0, 0, 0, 0, 0, 0, 0, 0, 0, 0, 0, 0, 1, 1, 1, 0, 0, 0, 0, 0, 0, 0, 0, 0, 0, 0, 0, 0, 1, 0, 0, 1, 0, 1, 0, 0, 0, 0, 0, 1, 0, 0, 0, 0, 0, 0, 0, 1, 0, 1, 1, 1, 0, 1, 0, 1, 0, 0, 0, 0, 0, 0, 0, 1, 0, 0, 0, 0, 0, 0, 0, 0, 0, 0, 0, 0, 0, 1, 0, 0, 0, 0, 0, 1, 1, 0, 1, 0, 0, 0, 0, 0, 0, 1, 0, 0, 0, 0, 1, 1, 0, 0, 0, 0, 1, 0, 0, 0, 0, 0, 1, 0, 0, 0, 1, 0, 1, 1, 0, 0, 0, 0, 1, 0, 0, 0, 0, 0, 1, 0, 1, 0, 1, 1, 0, 0, 0, 1, 0, 0, 0, 0, 0, 0, 0, 0, 0, 1, 0, 0, 0, 0, 0, 0, 0, 0, 0, 0, 0, 0, 0, 0, 0, 1, 0, 1, 0, 0, 0, 0, 0, 1, 0, 1, 0, 0, 0, 0, 1, 0, 0, 0, 1, 0, 0, 0, 1, 0, 1, 0, 0, 0, 1, 0, 1, 0, 0, 0, 1, 0, 0, 0, 0, 0, 0, 0, 0, 0, 1, 0, 1, 0, 0, 1, 0, 0, 0, 0, 0, 0, 0, 0, 1, 0, 0, 0, 0, 0, 0, 0, 0, 0, 1, 1, 0, 0, 1, 1, 0, 0, 0, 0, 0, 0, 0, 0, 0, 0, 0, 0, 0, 0, 0, 0, 0, 0, 0, 0, 0, 0, 0, 0, 0, 0, 0, 0, 0, 1, 0, 0, 0, 0, 0, 0, 0, 0, 0, 0, 0, 0, 0, 0, 0, 0, 0, 0, 0, 0, 0, 0, 0, 0, 0, 0, 0, 0, 0, 0, 0, 1, 0, 0, 0, 0, 0, 0, 0, 0, 0, 0, 0, 0, 0, 0, 0, 0, 0, 0, 0, 0, 0, 0, 0, 0, 0, 0, 0, 0, 1, 0, 0, 0, 0, 0, 0, 0, 1, 0, 0, 1, 0, 0, 0, 0, 0, 0, 0, 0, 0, 1, 0, 0, 0, 0, 0, 0, 0, 1, 0, 0, 0, 0, 0, 0, 0, 0, 0, 1, 0, 0, 0, 0, 0, 0, 1, 0, 0, 0, 0, 0, 0, 0, 0, 0, 0, 0, 0, 0, 0, 0, 1, 1, 0, 0, 0, 0, 0, 1, 1, 0, 0, 1, 0, 1, 0, 0, 0, 0, 0, 0, 0, 0, 0, 0, 0, 0, 1, 0, 0, 0, 1, 1, 1, 0, 0, 0, 0, 0, 0, 0, 1, 0, 1, 0, 1, 0, 0, 0, 0, 0, 1, 0, 1, 0, 1, 0, 0, 0, 0, 0, 1, 0, 0, 0, 0, 1, 0, 1, 0, 0, 0, 0, 0, 0, 0, 0, 0, 1, 0, 1, 0, 0, 0, 0, 0, 0, 0, 0, 1, 0, 0, 0, 1, 0, 0, 0, 0, 0, 0, 0, 0, 0, 0, 0, 0, 0, 0, 0, 0, 0, 1, 0, 0, 0, 0, 0, 0, 1, 0, 0, 1, 0, 0, 1, 1, 1, 0, 0, 0, 0, 0, 1, 0, 0, 0, 0, 0, 0, 0, 0, 1, 0, 0, 0, 0, 0, 0, 1, 0, 0, 1, 0, 0, 0, 1, 0, 0, 0, 0, 1, 0, 1, 0, 0, 0, 0, 0, 0, 0, 0, 1, 0, 1, 0, 1, 0, 0, 0, 0, 0, 0, 0, 0, 0, 0, 0, 0, 0, 0, 1, 0, 0, 0, 1, 0, 0, 0, 0, 0, 1, 0, 0, 0, 0, 0, 0, 0, 1, 0, 0, 1, 0, 0, 0, 0, 0, 0, 0, 0, 0, 0, 0, 0, 0, 0, 0, 1, 0, 0, 0, 0, 0, 0, 1, 0, 0, 1, 0, 0, 0, 0, 0, 0, 0, 0, 1, 0, 0, 0, 0, 0, 0, 0, 1, 0, 1, 0, 1, 0, 0, 0, 0, 0, 0, 0, 0, 0, 1, 0, 0, 1, 0, 0, 0, 1, 0, 0, 0, 0, 0, 1, 0, 1, 0, 0, 0, 1, 1, 0, 0, 0, 0, 0, 1, 0, 0, 0, 0, 0, 0, 0, 0, 0, 0, 0, 0, 0, 0, 1, 0, 0, 0, 0, 1, 0, 0, 0, 1, 0, 0, 0, 0, 0, 0, 0, 0, 0, 0, 0, 1, 0, 0, 0, 0, 1, 1, 0, 1, 0, 1, 0, 1, 0, 1, 1, 0, 0, 0, 0, 0, 0, 0, 0, 0, 0, 0, 0, 1, 1, 0, 0, 0, 0, 0, 1, 0, 0, 0, 0, 0, 0, 0, 0, 0, 1, 0, 0, 0, 0, 0, 0, 0, 1, 1, 0, 1, 1, 0, 0, 1, 0, 0, 1, 0, 0, 0, 0, 0, 0, 0, 0, 0, 0, 1, 0, 1, 0, 0, 0, 0, 1, 0, 0, 0, 0, 0, 0, 0, 0, 1, 0, 0, 0, 0, 0, 0, 1, 1, 0, 0, 0, 0, 0, 0, 0, 0, 0, 0, 0, 0, 0, 0, 1, 0, 1, 1, 0, 0, 0, 0, 0, 0, 0, 0, 0, 0, 0, 0, 0, 0, 0, 0, 0, 0, 0, 0, 0, 0, 0, 0, 1, 0, 0, 0, 0, 0, 0, 0, 0, 1, 1, 1, 1, 0, 0, 0, 1, 0, 0, 0, 0, 0, 0, 0, 1, 0, 1, 0, 0, 0, 0, 0, 0, 0, 0, 0, 0, 1, 0, 0, 0, 1, 0, 0, 1, 0, 0, 0, 0, 0, 1, 1, 0, 1, 0, 1, 0, 0, 0, 0, 0, 0, 0, 0, 1, 0, 1, 0, 1, 0, 0, 0, 1, 0, 1, 0, 0, 0, 0, 0, 0, 0, 0, 0, 0, 1, 1, 1, 0, 1, 0, 1, 0, 0, 0, 0, 0, 0, 0, 0, 1, 0, 1, 1, 0, 1, 0, 0, 0, 0, 0, 0, 0, 0, 0, 0, 0, 1, 0, 1, 1, 1, 0, 0, 1, 0, 0, 1, 0, 0, 0, 1, 0, 0, 0, 0, 0, 0, 0, 1, 1, 0, 0, 0, 0, 0, 0, 0, 0, 0, 0, 1, 0, 0, 1, 0, 0, 1, 0, 0, 0, 0, 0, 0, 1, 0, 0, 0, 0, 1, 0, 0, 0, 1, 0, 0, 0, 0, 0, 0, 0, 0, 0, 0, 1, 0, 0, 0, 0, 0, 0, 0, 0, 1, 1, 0, 0, 0, 0, 0, 0, 0, 0, 0, 0, 1, 1, 0, 0, 0, 0, 0, 0, 0, 0, 0, 0, 0, 0, 0, 0, 1, 0, 0, 0, 0, 0, 0, 0, 0, 0, 0, 0, 1, 1, 0, 0, 0, 0, 1, 0, 1, 0, 0, 0, 0, 0, 0, 0, 0, 0, 0, 0, 0, 0, 0, 1, 0, 0, 0, 1, 1, 0, 1, 0, 0, 0, 0, 1, 0, 0, 0, 0, 0, 0, 0, 0, 0, 0, 0, 0, 0, 0, 0, 0, 0, 0, 0, 0, 0, 0, 0, 0, 0, 0, 0, 0, 0, 0, 0, 0, 0, 0, 0, 1, 0, 0, 0, 0, 0, 0, 0, 0, 0, 0, 0, 0, 0, 0, 0, 1, 0, 1, 0, 1, 0, 0, 0, 0, 0, 0, 0, 0, 0, 0, 0, 1, 0, 0, 0, 0, 0, 1, 0, 0, 0, 0, 0, 0, 0, 0, 0, 0, 0, 0, 0, 1, 0, 1, 0, 0, 0, 0, 1, 0, 0, 1, 0, 0, 0, 1, 1, 0, 1, 0, 0, 0, 0, 0, 0, 1, 0, 0, 0, 0, 0, 0, 0, 0, 0, 0, 0, 0, 1, 1, 0, 1, 0, 0, 1, 0, 1, 0, 0, 0, 0, 0, 0, 0, 1, 1, 1, 0, 0, 0, 0, 0, 0, 0, 1, 0, 1, 1, 0, 0, 1, 0, 0, 0, 0, 0, 1, 0, 1, 0, 1, 0, 0, 1, 0, 0, 0, 1, 0, 0, 0, 0, 1, 0, 0, 0, 0, 0, 0, 0, 0, 1, 0, 0, 1, 0, 1, 0, 0, 1, 1, 0, 1, 0, 1, 0, 1, 0, 0, 0, 0, 0, 0, 0, 0, 0, 0, 0, 0, 0, 0, 0, 0, 1, 0, 0, 0, 1, 0, 0, 0, 0, 0, 0, 1, 0, 0, 0, 0, 0, 0, 1, 0, 0, 0, 0, 0, 1, 0, 0, 0, 1, 1, 0, 0, 1, 1, 0, 0, 0, 0, 0, 0, 0, 0, 0, 1, 1, 0, 0, 0, 0, 0, 0, 0, 0, 0, 0, 0, 1, 0, 0, 0, 0, 0, 0, 1, 0, 0, 0, 0, 0, 0, 0, 0, 1, 0, 1, 0, 1, 0, 0, 0, 1, 0, 0, 0, 1, 0, 0, 1, 0, 0, 0, 0, 1, 0, 0, 1, 0, 0, 0, 0, 1, 1, 1, 0, 0, 1, 0, 0, 0, 0, 0, 0, 0, 0, 0, 0, 0, 0, 0, 0, 1, 1, 0, 0, 0, 0, 0, 0, 0, 1, 0, 1, 0, 0, 0, 0, 0, 0, 0, 0, 0, 0, 1, 0, 0, 1, 0, 1, 0, 1, 0, 0, 0, 0, 0, 1, 1, 1, 0, 0, 0, 0, 0, 0, 1, 0, 0, 0, 1, 0, 0, 0, 1, 0, 0, 0, 0, 0, 0, 1, 0, 1, 1, 1, 0, 0, 0, 0, 1, 0, 0, 0, 0, 0, 0, 0, 0, 1, 0, 0, 0, 0, 0, 1, 0, 0, 0, 0, 0, 1, 1, 1, 1, 0, 0, 0, 0, 0, 0, 0, 0, 0, 0, 0, 0, 0, 0, 0, 0, 1, 1, 1, 0, 0, 0, 0, 0, 0, 0, 0, 0, 0, 0, 0, 1, 0, 0, 0, 0, 0, 1, 1, 0, 0, 0, 0, 0, 0, 0, 0, 0, 0, 0, 0, 0, 0, 0, 0, 0, 0, 0, 0, 0, 0, 0, 0, 1, 1, 0, 0, 0, 1, 0, 0, 0, 0, 0, 0, 1, 0, 1, 1, 0, 0, 1, 0, 0, 0, 0, 1, 1, 0, 0, 0, 1, 0, 0, 0, 0, 0, 0, 0, 0, 0, 0, 0, 0, 0, 0, 0, 0, 0, 1, 0, 0, 0, 0, 1, 0, 0, 1, 0, 0, 0, 0, 1, 1, 0, 0, 0, 0, 0, 0, 1, 0, 0, 1, 0, 0, 0, 0, 0, 0, 0, 0, 0, 0, 0, 0, 1, 0, 0, 0, 1, 0, 0, 0, 0, 1, 0, 0, 1, 0, 0, 0, 0, 0, 0, 0, 0, 1, 0, 0, 1, 0, 0, 0, 0, 0, 0, 0, 0, 0, 0, 0, 0, 1, 0, 1, 0, 0, 0, 0, 0, 0, 0, 0, 0, 1, 0, 1, 0, 0, 0, 0, 0, 0, 0, 0, 0, 1, 1, 0, 0, 1, 0, 0, 0, 0, 0, 1, 0, 0, 0, 0, 0, 0, 0, 1, 0, 0, 0, 0, 0, 1, 1, 0, 0, 0, 0, 1, 0, 0, 0, 0, 0, 0, 0, 0, 1, 0, 0, 0, 1, 0, 0, 0, 0, 0, 1, 0, 0, 0, 1, 0, 0, 0, 0, 1, 0, 1, 0, 0, 0, 0, 0, 1, 1, 1, 0, 0, 0, 0, 0, 1, 1, 1, 0, 0, 0, 0, 0, 0, 0, 1, 0, 0, 0, 1, 0, 1, 1, 0, 0, 0, 0, 0, 1, 0, 0, 0, 0, 1, 0, 0, 0, 1, 0, 1, 0, 0, 0, 0, 0, 1, 1, 0, 0, 1, 0, 1, 1, 1, 0, 0, 0, 1, 0, 0, 0, 0, 1, 0, 0, 0, 0, 0, 1, 0, 0, 1, 0, 0, 0, 0, 0, 0, 0, 0, 0, 1, 0, 0, 0, 0, 0, 0, 1, 1, 0, 0, 0, 0, 0, 0, 0, 0, 0, 0, 0, 0, 1, 0, 1, 0, 1, 0, 0, 1, 0, 0, 0, 1, 0, 0, 0, 1, 0, 1, 0, 1, 1, 0, 0, 0, 0, 0, 0, 0, 0, 1, 0, 1, 1, 0, 0, 0, 0, 0, 0, 1, 0, 0, 0, 0, 0, 1, 1, 0, 0, 0, 0, 0, 0, 1, 1, 0, 1, 0, 0, 0, 0, 0, 0, 0, 0, 0, 0, 0, 0, 0, 0, 1, 0, 0, 0, 0, 0, 0, 0, 0, 1, 0, 0, 0, 0, 0, 1, 0, 0, 0, 0, 1, 0, 1, 0, 0, 1, 0, 0, 1, 0, 0, 0, 1, 0, 1, 0, 0, 1, 0, 0, 1, 0, 0, 0, 0, 0, 0, 0, 1, 0, 0, 0, 0, 0, 1, 0, 0, 0, 0, 0, 0, 1, 0, 0, 0, 0, 1, 0, 0, 0, 1, 0, 0, 0, 0, 0, 0, 1, 0, 0, 0, 0, 0, 1, 0, 0, 0, 0, 1, 0, 0, 0, 0, 0, 0, 0, 0, 0, 0, 1, 0, 1, 0, 0, 0, 1, 1, 1, 0, 1, 0, 0, 0, 0, 0, 0, 1, 0, 0, 0, 1, 0, 1, 0, 0, 1, 0, 0, 1, 0, 0, 0, 1, 0, 0, 0, 0, 0, 0, 0, 0, 1, 0, 1, 0, 0, 0, 0, 0, 0, 0, 1, 0, 1, 0, 1, 1, 0, 0, 1, 1, 0, 0, 0, 0, 1, 0, 0, 0, 0, 0, 0, 0, 0, 1, 1, 1, 0, 0, 1, 0, 0, 0, 0, 0, 1, 0, 0, 0, 0, 0, 0, 0, 0, 0, 1, 1, 1, 0, 0, 0, 0, 1, 0, 0, 1, 1, 1, 0, 0, 0, 0, 0, 0, 1, 0, 0, 0, 0, 0, 1, 1, 0, 1, 0, 0, 1, 0, 0, 0, 1, 0, 0, 0, 0, 0, 0, 0, 0, 0, 1, 0, 0, 0, 0, 0, 0, 1, 0, 0, 0, 0, 0, 0, 0, 0, 0, 0, 0, 0, 0, 0, 0, 0, 0, 0, 0, 0, 0, 0, 0, 0, 0, 0, 0, 0, 0, 0, 0, 0, 1, 0, 0, 0, 0, 0, 1, 0, 0, 0, 0, 1, 0, 0, 0, 1, 0, 0, 0, 0, 1, 0, 0, 0, 0, 0, 0, 0, 0, 0, 0, 0, 1, 1, 0, 0, 0, 0, 0, 0, 0, 1, 0, 0, 0, 1, 0, 0, 0, 0, 0, 0, 1, 0, 0, 0, 0, 0, 0, 0, 1, 0, 0, 0, 0, 0, 0, 0, 0, 1, 0, 0, 0, 0, 1, 0, 0, 1, 0, 1, 0, 0, 0, 0, 0, 0, 1, 1, 1, 0, 1, 0, 0, 1, 0, 0, 0, 0, 0, 0, 0, 0, 0, 0, 1, 0, 0, 0, 0, 0, 0, 0, 0, 1, 0, 0, 0, 0, 0, 0, 0, 0, 0, 0, 0, 0, 0, 0, 0, 0, 0, 0, 0, 0, 0, 0, 0, 0, 0, 1, 0, 0, 0, 0, 0, 0, 0, 0, 0, 0, 0, 0, 1, 0, 0, 0, 0, 1, 0, 0, 0, 0, 1, 1, 1, 0, 0, 0, 0, 1, 0, 0, 0, 0, 0, 0, 0, 0, 0, 0, 0, 0, 0, 0, 1, 0, 0, 0, 1, 0, 0, 0, 0, 0, 0, 0, 1, 0, 0, 0, 0, 0, 1, 0, 0, 0, 0, 0, 1, 0, 1, 0, 0, 0, 0, 0, 0, 0, 1, 0, 0, 0, 0, 0, 0, 0, 1, 0, 1, 0, 0, 0, 0, 0, 0, 0, 1, 0, 0, 0, 0, 0, 0, 1, 0, 1, 1, 0, 0, 0, 0, 0, 1, 0, 0, 1, 0, 0, 0, 0, 0, 0, 0, 0, 0, 0, 0, 0, 0, 0, 1, 0, 0, 0, 0, 1, 1, 0, 0, 0, 0, 0, 0, 0, 0, 0, 0, 0, 0, 0, 0, 0, 0, 0, 0, 0, 0, 0, 0, 1, 0, 0, 1, 0, 0, 0, 0, 0, 0, 0, 1, 1, 0, 0, 0, 0, 0, 0, 1, 1, 0, 1, 0, 0, 0, 0, 0, 0, 1, 0, 0, 0, 0, 0, 1, 0, 0, 0, 0, 0, 0, 1, 0, 1, 1, 0, 1, 0, 0, 0, 0, 0, 0, 0, 0, 1, 0, 0, 0, 0, 0, 0, 0, 1, 0, 1, 0, 0, 0, 0, 1, 0, 0, 0, 0, 0, 0, 0, 0, 0, 0, 0, 0, 0, 0, 0, 1, 0, 0, 1, 0, 1, 1, 0, 0, 0, 0, 1, 1, 0, 0, 0, 0, 0, 1, 0, 0, 1, 1, 0, 0, 0, 0, 1, 0, 0, 1, 1, 0, 0, 0, 0, 0, 1, 1, 0, 0, 1, 1, 0, 0, 0, 0, 0, 0, 0, 0, 1, 0, 0, 0, 1, 0, 0, 1, 0, 1, 0, 0, 0, 0, 0, 0, 0, 1, 0, 0, 0, 0, 0, 1, 0, 0, 0, 0, 0, 0, 0, 0, 0, 0, 0, 0, 0, 0, 0, 0, 0, 0, 0, 0, 0, 0, 0, 0, 0, 0, 0, 0, 1, 0, 1, 0, 0, 1, 1, 1, 0, 0, 0, 0, 0, 0, 1, 0, 1, 0, 0, 0, 0, 0, 0, 0, 0, 0, 0, 0, 0, 0, 0, 1, 1, 0, 1, 0, 0, 0, 0, 0, 1, 1, 0, 0, 0, 0, 1, 0, 0, 0, 0, 0, 0, 0, 0, 1, 0, 0, 0, 0, 0, 0, 0, 0, 0, 1, 0, 1, 0, 0, 0, 0, 0, 0, 0, 0, 0, 1, 0, 0, 0, 1, 1, 0, 1, 0, 0, 0, 0, 0, 1, 0, 0, 0, 0, 0, 0, 0, 0, 0, 0, 0, 0, 0, 0, 1, 0, 0, 0, 0, 0, 0, 0, 0, 0, 0, 1, 0, 0, 0, 0, 0, 0, 0, 1, 0, 0, 0, 0, 0, 0, 0, 1, 0, 0, 0, 1, 0, 0, 0, 0, 0, 0, 0, 0, 0, 0, 0, 0, 0, 0, 1, 0, 0, 0, 0, 0, 0, 0, 0, 0, 0, 1, 0, 0, 0, 0, 0, 0, 1, 0, 0, 1, 0, 0, 1, 0, 1, 0, 1, 0, 0, 0, 1, 0, 0, 0, 0, 0, 0, 0, 0, 0, 0, 0, 0, 1, 0, 1, 0, 0, 0, 0, 0, 1, 0, 0, 0, 0, 0, 0, 0, 0, 1, 0, 1, 0, 0, 1, 0, 1, 0, 0, 0, 0, 0, 0, 0, 0, 1, 0, 0, 1, 0, 1, 1, 0, 0, 0, 0, 1, 0, 1, 0, 0, 0, 0, 0, 0, 0, 1, 0, 0, 0, 1, 1, 1, 0, 0, 1, 1, 0, 0, 0, 0, 0, 0, 0, 0, 1, 1, 0, 1, 0, 0, 0, 0, 0, 0, 0, 0, 0, 0, 0, 0, 0, 0, 0, 1, 1, 0, 1, 0, 1, 1, 0, 0, 0, 0, 0, 1, 0, 0, 0, 0, 1, 0, 0, 0, 0, 0, 0, 0, 0, 0, 1, 1, 0, 0, 0, 0, 0, 0, 1, 0, 0, 0, 0, 0, 0, 1, 0, 0, 0, 0, 0, 0, 0, 0, 0, 0, 0, 0, 1, 0, 0, 1, 0, 0, 1, 0, 0, 0, 0, 0, 0, 0, 0, 0, 0, 0, 1, 0, 1, 0, 0, 0, 0, 0, 1, 0, 0, 0, 0, 1, 0, 0, 0, 1, 0, 0, 1, 0, 1, 0, 0, 0, 0, 1, 0, 0, 0, 0, 0, 1, 0, 0, 0, 0, 0, 0, 0, 1, 0, 0, 0, 0, 0, 0, 0, 1, 1, 1, 0, 0, 1, 0, 0, 0, 0, 0, 0, 0, 0, 0, 0, 1, 0, 1, 1, 1, 0, 0, 0, 0, 0, 1, 0, 1, 0, 0, 0, 0, 0, 0, 0, 0, 0, 0, 0, 1, 0, 0, 0, 0, 0, 1, 0, 0, 1, 0, 1, 0, 0, 0, 0, 0, 0, 0, 0, 0, 0, 1, 0, 0, 0, 0, 0, 0, 1, 0, 0, 0, 0, 0, 0, 0, 0, 0, 0, 1, 0, 0, 0, 0, 0, 0, 1, 1, 0, 0, 0, 0, 0, 0, 0, 0, 0, 0, 0, 0, 0, 0, 0, 0, 0, 0, 0, 0, 0, 0, 0, 0, 0, 0, 1, 0, 0, 0, 0, 0, 0, 0, 0, 0, 0, 0, 1, 0, 0, 0, 1, 0, 0, 1, 0, 1, 0, 0, 0, 1, 0, 0, 0, 0, 0, 1, 1, 1, 0, 1, 0, 1, 0, 0, 0, 1, 0, 1, 0, 0, 0, 0, 0, 0, 0, 0, 0, 0, 0, 0, 0, 0]\n",
            "[[0.9999151825904846, 8.48101481096819e-05], [0.9998416900634766, 0.00015835618251003325], [0.9997369050979614, 0.000263118912698701], [0.9997307062149048, 0.00026934919878840446], [0.9997341632843018, 0.00026591599453240633], [0.9998397827148438, 0.0001601345429662615], [0.9994717240333557, 0.0005282341153360903], [0.9995250105857849, 0.0004749984946101904], [0.9998025894165039, 0.00019741227151826024], [0.011451223865151405, 0.9885486960411072], [0.9918886423110962, 0.008111312985420227], [0.9997460842132568, 0.0002539335691835731], [0.9998927712440491, 0.00010715677490225062], [0.006777600385248661, 0.9932222962379456], [0.9998902678489685, 0.0001096954511012882], [0.002420021453872323, 0.9975799322128296], [0.9999493956565857, 5.0562295655254275e-05], [0.002589904936030507, 0.9974100589752197], [0.9985926151275635, 0.0014073261991143227], [0.002388153225183487, 0.9976118206977844], [0.9997307062149048, 0.0002693260903470218], [0.0024008818436414003, 0.9975990056991577], [0.9996790885925293, 0.00032091111643239856], [0.9998459815979004, 0.00015406384773086756], [0.999926745891571, 7.3138129664585e-05], [0.9998846650123596, 0.00011528428149176762], [0.9989137053489685, 0.001086249016225338], [0.99989253282547, 0.00010736511467257515], [0.9999446272850037, 5.5328138842014596e-05], [0.0032437739428132772, 0.9967563152313232], [0.9996490478515625, 0.00035093925544060767], [0.9998362064361572, 0.00016371754463762045], [0.9997496604919434, 0.00025035213911905885], [0.996496319770813, 0.0035036865156143904], [0.015907928347587585, 0.9840919971466064], [0.003261737758293748, 0.9967382550239563], [0.9989165663719177, 0.001083425129763782], [0.002671773312613368, 0.9973282217979431], [0.9981934428215027, 0.001806592452339828], [0.002390331821516156, 0.997609555721283], [0.9998819231987, 0.00011801031359937042], [0.9957894086837769, 0.0042105307802557945], [0.9974204897880554, 0.0025793968234211206], [0.9999200701713562, 7.987162825884297e-05], [0.9970257878303528, 0.002974270610138774], [0.999800443649292, 0.0001995117636397481], [0.0062294285744428635, 0.9937705397605896], [0.0325617752969265, 0.9674381017684937], [0.9971904754638672, 0.0028094234876334667], [0.0023903546389192343, 0.997609555721283], [0.9849482774734497, 0.015051688998937607], [0.0024332806933671236, 0.9975666403770447], [0.9999518990516663, 4.8037778469733894e-05], [0.9997916221618652, 0.00020834682800341398], [0.9999244809150696, 7.549725705757737e-05], [0.9979090690612793, 0.0020909260492771864], [0.9998853802680969, 0.00011455981439212337], [0.9998988509178162, 0.00010102958913194016], [0.99983811378479, 0.00016202543338295072], [0.9997497797012329, 0.00025033162091858685], [0.9994379281997681, 0.0005620291922241449], [0.002388142980635166, 0.9976118206977844], [0.9972029328346252, 0.0027970727533102036], [0.9998445510864258, 0.0001554514019517228], [0.9999001622200012, 9.974923159461468e-05], [0.9991489052772522, 0.0008510699262842536], [0.999586284160614, 0.0004137724463362247], [0.9999213814735413, 7.857166929170489e-05], [0.9996190667152405, 0.00038101180689409375], [0.999835729598999, 0.00016440151375718415], [0.9996999502182007, 0.00030011124908924103], [0.999698281288147, 0.00030175145366229117], [0.9971142411231995, 0.00288567622192204], [0.9998593330383301, 0.00014080709661357105], [0.999946653842926, 5.332376895239577e-05], [0.9999096989631653, 9.024974860949442e-05], [0.9998214244842529, 0.00017852730525191873], [0.9998478889465332, 0.00015208682452794164], [0.9995949864387512, 0.0004050618736073375], [0.005402837414294481, 0.9945971965789795], [0.9998853802680969, 0.00011456287757027894], [0.9992644786834717, 0.0007356118294410408], [0.0023881567176431417, 0.9976118206977844], [0.9998803734779358, 0.00011958124377997592], [0.9998488426208496, 0.000151179832755588], [0.9621233344078064, 0.037876661866903305], [0.997755765914917, 0.002244157250970602], [0.999627411365509, 0.0003726792929228395], [0.9999273419380188, 7.255205127876252e-05], [0.9990382790565491, 0.0009617332834750414], [0.9998987317085266, 0.00010125045810127631], [0.0023881441447883844, 0.9976118206977844], [0.9998078346252441, 0.00019222569244448096], [0.2791846692562103, 0.7208153009414673], [0.9998190402984619, 0.00018088780052494258], [0.2669413983821869, 0.7330585718154907], [0.999767541885376, 0.0002324393717572093], [0.9996633529663086, 0.0003366379824001342], [0.0023946771398186684, 0.9976052641868591], [0.002948269946500659, 0.9970517158508301], [0.0023890859447419643, 0.997610867023468], [0.9999062418937683, 9.367842721985653e-05], [0.004590469412505627, 0.9954094886779785], [0.9997458457946777, 0.00025421116151846945], [0.9998648166656494, 0.00013519605272449553], [0.9996558427810669, 0.00034418777795508504], [0.9991277456283569, 0.0008721950580365956], [0.9998595714569092, 0.0001403527712682262], [0.9999315142631531, 6.84193437336944e-05], [0.9996041655540466, 0.0003958834568038583], [0.9999061226844788, 9.376878006150946e-05], [0.002388142980635166, 0.9976118206977844], [0.9988986253738403, 0.0011013078037649393], [0.9993261694908142, 0.0006737829535268247], [0.9990482926368713, 0.0009517346625216305], [0.9997252225875854, 0.0002748328261077404], [0.7019613981246948, 0.2980385720729828], [0.9999505877494812, 4.9327954911859706e-05], [0.999649167060852, 0.0003508343652356416], [0.999612033367157, 0.0003880487638525665], [0.9999114871025085, 8.849469304550439e-05], [0.9999149441719055, 8.493234781781211e-05], [0.9894766807556152, 0.010523340664803982], [0.9999914765357971, 8.480170436087064e-06], [0.9999217391014099, 7.816601282684132e-05], [0.005396233405917883, 0.9946038126945496], [0.9999554753303528, 4.450760752661154e-05], [0.9991278648376465, 0.0008720504702068865], [0.9999688267707825, 3.110902980552055e-05], [0.9999005198478699, 9.938900620909408e-05], [0.9999257922172546, 7.416706648655236e-05], [0.998986005783081, 0.0010138964280486107], [0.9997665882110596, 0.0002335260942345485], [0.778379499912262, 0.22162054479122162], [0.9990238547325134, 0.000976075476501137], [0.49572715163230896, 0.5042729377746582], [0.9996208548545837, 0.00037912678089924157], [0.9908823370933533, 0.00911766942590475], [0.997211754322052, 0.0027882298454642296], [0.9998794198036194, 0.00012052142847096547], [0.002389080123975873, 0.997610867023468], [0.9321904182434082, 0.06780949980020523], [0.9983640909194946, 0.001635885564610362], [0.9995511174201965, 0.0004488297563511878], [0.9996352195739746, 0.00036474232911132276], [0.9999228119850159, 7.714331150054932e-05], [0.9991320371627808, 0.0008678779122419655], [0.999802827835083, 0.00019714573863893747], [0.0032498228829354048, 0.9967502355575562], [0.05124980956315994, 0.9487501978874207], [0.9998776912689209, 0.00012238635099492967], [0.9994617700576782, 0.0005381501978263259], [0.9994021654129028, 0.0005977040273137391], [0.003709254087880254, 0.9962907433509827], [0.9997515678405762, 0.0002484931901562959], [0.9999112486839294, 8.868273289408535e-05], [0.9999435544013977, 5.635436900774948e-05], [0.9996638298034668, 0.00033619010355323553], [0.9998741149902344, 0.00012589643301907927], [0.005332532338798046, 0.9946675300598145], [0.0023882018867880106, 0.9976117014884949], [0.9996988773345947, 0.00030119300936348736], [0.9950367212295532, 0.004963352344930172], [0.998034656047821, 0.0019653853960335255], [0.999602735042572, 0.0003973421116825193], [0.9893184900283813, 0.010681403800845146], [0.9998323917388916, 0.00016758225683588535], [0.0024147822987288237, 0.9975851774215698], [0.9998593330383301, 0.00014078091771807522], [0.9994491338729858, 0.0005509009351953864], [0.9923969507217407, 0.007603015750646591], [0.9998779892921448, 0.00012191715359222144], [0.9994825720787048, 0.0005173863610252738], [0.9997668266296387, 0.0002331551950192079], [0.9994322061538696, 0.0005677459994331002], [0.0024046949110925198, 0.9975951910018921], [0.9996708631515503, 0.0003291250905022025], [0.9992995262145996, 0.0007005318766459823], [0.9998526573181152, 0.00014726231165695935], [0.9996781349182129, 0.00032193033257499337], [0.9999166131019592, 8.333448204211891e-05], [0.9998854994773865, 0.00011443709809100255], [0.9998292922973633, 0.00017071595357265323], [0.9999541640281677, 4.581136818160303e-05], [0.002553821075707674, 0.9974461793899536], [0.9953408241271973, 0.0046591926366090775], [0.9997808933258057, 0.00021909625502303243], [0.9999217391014099, 7.816668949089944e-05], [0.9997259378433228, 0.000274052785243839], [0.003604988567531109, 0.9963949918746948], [0.9998693466186523, 0.00013059121556580067], [0.9998197555541992, 0.00018033124797511846], [0.9997133016586304, 0.000286679103737697], [0.9999478459358215, 5.204077024245635e-05], [0.9998878836631775, 0.00011201223969692364], [0.9996672868728638, 0.00033277872717007995], [0.9993082880973816, 0.0006915985140949488], [0.9998681545257568, 0.00013194256462156773], [0.9998641014099121, 0.00013594090705737472], [0.0802960991859436, 0.9197038412094116], [0.9919422268867493, 0.008057856000959873], [0.03402029722929001, 0.9659796357154846], [0.999468207359314, 0.0005318165640346706], [0.0024511106312274933, 0.9975488781929016], [0.9763534665107727, 0.023646600544452667], [0.9985611438751221, 0.0014387626433745027], [0.0037139977794140577, 0.9962860941886902], [0.9997254610061646, 0.00027453608345240355], [0.999961793422699, 3.810964699368924e-05], [0.9998352527618408, 0.0001647523749852553], [0.9992274045944214, 0.0007726082112640142], [0.9998211860656738, 0.00017872742319013923], [0.9998988509178162, 0.00010108607239089906], [0.9998173713684082, 0.00018277119670528919], [0.9998753070831299, 0.00012463411258067936], [0.9996821880340576, 0.00031780105200596154], [0.9997889995574951, 0.00021113014372531325], [0.9997773170471191, 0.0002227353397756815], [0.002392775611951947, 0.9976071715354919], [0.9998314380645752, 0.00016866451187524945], [0.9992737770080566, 0.0007261303253471851], [0.9998207092285156, 0.0001793329429347068], [0.9997832775115967, 0.00021683250088244677], [0.9999606013298035, 3.9329079299932346e-05], [0.9999225735664368, 7.740527507849038e-05], [0.9991307258605957, 0.000869221577886492], [0.997471034526825, 0.0025289657060056925], [0.9999156594276428, 8.429774607066065e-05], [0.999896228313446, 0.00010375661076977849], [0.999786376953125, 0.00021367170847952366], [0.9999086260795593, 9.13573894649744e-05], [0.9926117062568665, 0.007388157304376364], [0.9997142553329468, 0.0002857475192286074], [0.0023883655667304993, 0.9976115822792053], [0.99866783618927, 0.0013321393635123968], [0.9998219013214111, 0.00017822781228460371], [0.002388222375884652, 0.9976117014884949], [0.9996532201766968, 0.00034677094663493335], [0.9998934864997864, 0.00010638694948283955], [0.9959585666656494, 0.004041389096528292], [0.002477070549502969, 0.9975228905677795], [0.9998757839202881, 0.0001242424186784774], [0.9990679025650024, 0.0009321168181486428], [0.9996417760848999, 0.0003582074132282287], [0.9994319677352905, 0.0005681079346686602], [0.9995619654655457, 0.0004380691971164197], [0.9995524287223816, 0.0004475811729207635], [0.9998595714569092, 0.0001403593341819942], [0.9995943903923035, 0.00040566857205703855], [0.002388227032497525, 0.9976117014884949], [0.9998877644538879, 0.00011221024033147842], [0.0023882610257714987, 0.9976117014884949], [0.9990485310554504, 0.0009514381526969373], [0.002388570923358202, 0.9976113438606262], [0.9907451272010803, 0.009254910051822662], [0.002388142980635166, 0.9976118206977844], [0.9998791813850403, 0.00012070509546902031], [0.18163606524467468, 0.8183638453483582], [0.9990617632865906, 0.0009382349671795964], [0.002409896347671747, 0.9975900650024414], [0.9998667240142822, 0.000133297304273583], [0.9998987317085266, 0.00010120653314515948], [0.9999427199363708, 5.720428089261986e-05], [0.0024019421543926, 0.9975980520248413], [0.9990694522857666, 0.0009304698323830962], [0.0025040896143764257, 0.9974958896636963], [0.9997247457504272, 0.00027528806822374463], [0.999936044216156, 6.3835468608886e-05], [0.9999306797981262, 6.931484676897526e-05], [0.9058352112770081, 0.09416474401950836], [0.9989503622055054, 0.0010495720198377967], [0.9993453621864319, 0.0006545705255120993], [0.999911367893219, 8.859550871420652e-05], [0.9993442893028259, 0.0006557144806720316], [0.9998269081115723, 0.00017315770674031228], [0.999896228313446, 0.00010368796210968867], [0.9986753463745117, 0.0013246843591332436], [0.9999411702156067, 5.879510717932135e-05], [0.9992324113845825, 0.000767650839406997], [0.006290349178016186, 0.9937096238136292], [0.9999296069145203, 7.031023415038362e-05], [0.998846709728241, 0.0011532920179888606], [0.9984326362609863, 0.0015672962181270123], [0.002408028347417712, 0.9975918531417847], [0.9997639656066895, 0.000236145977396518], [0.9998176097869873, 0.00018242730584461242], [0.9992525577545166, 0.0007475013844668865], [0.9997968673706055, 0.0002031102922046557], [0.999912679195404, 8.731212437851354e-05], [0.002390845911577344, 0.9976090788841248], [0.9994801878929138, 0.0005197182763367891], [0.9989138245582581, 0.0010861674090847373], [0.9999319911003113, 6.792747444706038e-05], [0.9995877146720886, 0.0004123187100049108], [0.9999538064002991, 4.6190823923097923e-05], [0.0023881476372480392, 0.9976118206977844], [0.9995538592338562, 0.00044611096382141113], [0.004662353545427322, 0.9953376054763794], [0.9997763633728027, 0.0002236970904050395], [0.9901115894317627, 0.009888323955237865], [0.9982427954673767, 0.001757118385285139], [0.0024247607216238976, 0.9975751638412476], [0.9998969435691833, 0.00010294630192220211], [0.996078372001648, 0.003921575378626585], [0.9994417428970337, 0.000558287079911679], [0.999845027923584, 0.00015506531053688377], [0.0027276508044451475, 0.9972723722457886], [0.008862612769007683, 0.9911373257637024], [0.999513566493988, 0.00048643388436175883], [0.003063602140173316, 0.9969364404678345], [0.359624445438385, 0.640375554561615], [0.0025183246470987797, 0.9974815845489502], [0.9842901825904846, 0.015709850937128067], [0.9993700385093689, 0.0006299987435340881], [0.9998533725738525, 0.00014668423682451248], [0.0023887224961072206, 0.9976112246513367], [0.004677043296396732, 0.9953230023384094], [0.9998930096626282, 0.00010690825001802295], [0.002388142980635166, 0.9976118206977844], [0.9998102188110352, 0.0001897856272989884], [0.0024314967449754477, 0.9975684285163879], [0.9997298717498779, 0.0002702235069591552], [0.0023882235400378704, 0.9976117014884949], [0.9998385906219482, 0.00016141646483447403], [0.998325526714325, 0.0016744567546993494], [0.9985472559928894, 0.0014526635641232133], [0.9997037649154663, 0.00029624506714753807], [0.9995772242546082, 0.0004228318575769663], [0.9989957809448242, 0.0010042585199698806], [0.9999008774757385, 9.908448555506766e-05], [0.9997797012329102, 0.00022041253396309912], [0.9997051954269409, 0.00029488292057067156], [0.9957718253135681, 0.004228177014738321], [0.9955217242240906, 0.004478230606764555], [0.9991226196289062, 0.0008772901492193341], [0.9972986578941345, 0.0027013279031962156], [0.9999873042106628, 1.2694595170614775e-05], [0.9999273419380188, 7.257668767124414e-05], [0.9993329644203186, 0.0006669596768915653], [0.0023883883841335773, 0.9976115822792053], [0.01715545542538166, 0.9828445315361023], [0.0029100023675709963, 0.9970899820327759], [0.0030183468479663134, 0.9969816207885742], [0.6302816271781921, 0.36971840262413025], [0.9981181025505066, 0.001881902921013534], [0.9994508028030396, 0.0005492640193551779], [0.9994965195655823, 0.0005033835186623037], [0.0023924512788653374, 0.9976075291633606], [0.9998295307159424, 0.00017053651390597224], [0.9999352097511292, 6.472520180977881e-05], [0.9996370077133179, 0.0003629912680480629], [0.007460558321326971, 0.9925394058227539], [0.00239440705627203, 0.9976055026054382], [0.9997942447662354, 0.0002058419049717486], [0.02560770884156227, 0.974392294883728], [0.9998464584350586, 0.00015354322385974228], [0.9996501207351685, 0.0003498551086522639], [0.9998235702514648, 0.00017653849499765784], [0.9998995661735535, 0.00010033765283878893], [0.002388154389336705, 0.9976118206977844], [0.999821662902832, 0.0001783007028279826], [0.003031608648598194, 0.9969683885574341], [0.9996635913848877, 0.0003364390868227929], [0.9999112486839294, 8.867766155162826e-05], [0.9999282956123352, 7.167049625422806e-05], [0.9998555183410645, 0.00014463522529695183], [0.9470228552818298, 0.05297718197107315], [0.9984564185142517, 0.0015435662353411317], [0.9997495412826538, 0.00025052143610082567], [0.876589834690094, 0.12341012060642242], [0.9988481402397156, 0.0011518460232764482], [0.9996713399887085, 0.00032866510446183383], [0.9998550415039062, 0.00014503432612400502], [0.8748500943183899, 0.1251499056816101], [0.0023925616405904293, 0.997607409954071], [0.9998409748077393, 0.00015914742834866047], [0.0024370094761252403, 0.9975629448890686], [0.9999273419380188, 7.264358282554895e-05], [0.9997670650482178, 0.0002329367707716301], [0.9998517036437988, 0.00014845312398392707], [0.9998624324798584, 0.00013767210475634784], [0.039040062576532364, 0.9609599709510803], [0.9975918531417847, 0.0024080327711999416], [0.9998149871826172, 0.00018502028251532465], [0.9994720816612244, 0.0005278223543427885], [0.9995948672294617, 0.0004051267169415951], [0.002388440305367112, 0.9976114630699158], [0.9988260865211487, 0.0011739145265892148], [0.9998838305473328, 0.00011611648369580507], [0.7290893793106079, 0.2709106504917145], [0.9999449849128723, 5.4928277677390724e-05], [0.9997587203979492, 0.00024135819694492966], [0.9996781349182129, 0.0003218898200429976], [0.9993845820426941, 0.000615499506238848], [0.8005934953689575, 0.1994064897298813], [0.9998776912689209, 0.00012240280921105295], [0.06518768519163132, 0.9348122477531433], [0.9998466968536377, 0.0001534043694846332], [0.9981960654258728, 0.0018039185088127851], [0.9998378753662109, 0.00016207763110287488], [0.9994271993637085, 0.0005728326505050063], [0.9998164176940918, 0.00018368297605775297], [0.9998509883880615, 0.00014915148494765162], [0.9948140978813171, 0.005185866262763739], [0.9993742108345032, 0.0006257732748053968], [0.9994443655014038, 0.0005556936957873404], [0.9995775818824768, 0.0004224646254442632], [0.9998600482940674, 0.00013998856593389064], [0.002388142980635166, 0.9976118206977844], [0.9984591603279114, 0.0015408400213345885], [0.009409718215465546, 0.9905903339385986], [0.9986454844474792, 0.0013545505935326219], [0.9997577667236328, 0.00024231302086263895], [0.9998779892921448, 0.00012197995238238946], [0.0023881441447883844, 0.9976118206977844], [0.9997797012329102, 0.0002202051691710949], [0.9998512268066406, 0.00014883550466038287], [0.9987978935241699, 0.001202126033604145], [0.9982770681381226, 0.0017229649238288403], [0.998855710029602, 0.0011443328112363815], [0.999774694442749, 0.0002254232531413436], [0.9998345375061035, 0.0001654336811043322], [0.9999009966850281, 9.889493958326057e-05], [0.9980919361114502, 0.0019080279162153602], [0.9995954632759094, 0.000404543214244768], [0.0023897462524473667, 0.9976101517677307], [0.9998976588249207, 0.00010226824815617874], [0.9999187588691711, 8.11829449958168e-05], [0.9995562434196472, 0.00044375492143444717], [0.999873161315918, 0.00012690018047578633], [0.998763918876648, 0.0012360976543277502], [0.9996235966682434, 0.0003764252469409257], [0.9964554905891418, 0.003544562729075551], [0.9983856081962585, 0.0016143441898748279], [0.8310436010360718, 0.16895638406276703], [0.9817086458206177, 0.01829138584434986], [0.9986011981964111, 0.0013987753773108125], [0.9998536109924316, 0.00014653160178568214], [0.9998219013214111, 0.00017816222680266947], [0.9980776309967041, 0.00192231812980026], [0.9996311068534851, 0.00036890656338073313], [0.9991109371185303, 0.0008890425669960678], [0.9666174054145813, 0.033382583409547806], [0.9969469308853149, 0.0030530758667737246], [0.9997985363006592, 0.00020151982607785612], [0.002388142980635166, 0.9976118206977844], [0.002394028939306736, 0.9976058602333069], [0.014755438081920147, 0.9852445721626282], [0.999260663986206, 0.0007393527776002884], [0.9987831115722656, 0.0012168990215286613], [0.9997603893280029, 0.0002395975316176191], [0.7694259285926819, 0.23057401180267334], [0.9998085498809814, 0.0001915414322866127], [0.9996252655982971, 0.0003747431037481874], [0.9991228580474854, 0.0008770849090069532], [0.9996488094329834, 0.0003511813993100077], [0.9998863339424133, 0.00011361140786902979], [0.9860027432441711, 0.013997307978570461], [0.9997715950012207, 0.00022844156774226576], [0.9999433159828186, 5.661728937411681e-05], [0.9999508261680603, 4.913799784844741e-05], [0.002388142980635166, 0.9976118206977844], [0.9999058842658997, 9.402656723977998e-05], [0.9998757839202881, 0.00012433879601303488], [0.002389088273048401, 0.997610867023468], [0.9999011158943176, 9.880237485049292e-05], [0.002388142980635166, 0.9976118206977844], [0.9984467029571533, 0.0015533847035840154], [0.9994762539863586, 0.0005235981661826372], [0.999875545501709, 0.00012456403055693954], [0.999744176864624, 0.00025585124967619777], [0.9997591972351074, 0.00024068598577287048], [0.002388142980635166, 0.9976118206977844], [0.9997555017471313, 0.00024457211839035153], [0.9989869594573975, 0.0010129971196874976], [0.9998894333839417, 0.00011043652921216562], [0.99983811378479, 0.00016199593665078282], [0.9998056888580322, 0.0001942579838214442], [0.999127984046936, 0.0008719615871086717], [0.9969910979270935, 0.0030088541097939014], [0.002388142980635166, 0.9976118206977844], [0.9987264275550842, 0.001273584901355207], [0.00693355081602931, 0.9930664300918579], [0.017996370792388916, 0.9820036888122559], [0.0023919332306832075, 0.9976080060005188], [0.9999282956123352, 7.159479719121009e-05], [0.002388379303738475, 0.9976115822792053], [0.9999036192893982, 9.628806583350524e-05], [0.0023888894356787205, 0.9976111054420471], [0.9998593330383301, 0.00014074963110033423], [0.9998971819877625, 0.00010271792416460812], [0.9997735023498535, 0.00022643804550170898], [0.9997577667236328, 0.0002422178367851302], [0.9997649192810059, 0.000235178682487458], [0.9994560480117798, 0.0005440333625301719], [0.9999223351478577, 7.757841376587749e-05], [0.0033870809711515903, 0.9966128468513489], [0.9989394545555115, 0.0010605950374156237], [0.999523937702179, 0.00047598197124898434], [0.9998106956481934, 0.0001893066946649924], [0.9998502731323242, 0.00014980883861426264], [0.9991744160652161, 0.0008255981374531984], [0.9955720901489258, 0.004427941050380468], [0.9978032112121582, 0.0021968360524624586], [0.9999253153800964, 7.460785855073482e-05], [0.999854326248169, 0.00014562270371243358], [0.9932659864425659, 0.006734067108482122], [0.999774694442749, 0.0002253063430543989], [0.9998757839202881, 0.0001241449499502778], [0.999883234500885, 0.0001166433867183514], [0.006718822289258242, 0.9932811260223389], [0.8462930917739868, 0.1537068784236908], [0.9988378882408142, 0.0011621287558227777], [0.9996569156646729, 0.00034306885208934546], [0.9997420310974121, 0.0002580630243755877], [0.9981178641319275, 0.0018821627600118518], [0.002388295251876116, 0.9976117014884949], [0.3520422577857971, 0.6479577422142029], [0.9925809502601624, 0.007419001776725054], [0.0023900249507278204, 0.9976099133491516], [0.999916136264801, 8.373946911888197e-05], [0.9999038577079773, 9.605055674910545e-05], [0.9997618198394775, 0.00023816537577658892], [0.9998964667320251, 0.00010343614121666178], [0.9999729990959167, 2.699245851545129e-05], [0.9999249577522278, 7.495457248296589e-05], [0.0033035522792488337, 0.996696412563324], [0.9998919367790222, 0.00010797189315780997], [0.9762858748435974, 0.02371412143111229], [0.9998359680175781, 0.00016394906560890377], [0.9990492463111877, 0.0009507222566753626], [0.10960546135902405, 0.8903944492340088], [0.03672606125473976, 0.9632739424705505], [0.9993739724159241, 0.0006260650116018951], [0.9998455047607422, 0.00015461618022527546], [0.9999197125434875, 8.023492409847677e-05], [0.9999533295631409, 4.65927914774511e-05], [0.0026845885440707207, 0.9973154067993164], [0.9999452233314514, 5.4765721870353445e-05], [0.9999238848686218, 7.601275865454227e-05], [0.9999142289161682, 8.569913916289806e-05], [0.9998672008514404, 0.0001329588849330321], [0.9997603893280029, 0.00023966106527950615], [0.006185936275869608, 0.9938141107559204], [0.9981648921966553, 0.0018351139733567834], [0.9998409748077393, 0.00015894690295681357], [0.9997215270996094, 0.00027849420439451933], [0.002450227038934827, 0.997549831867218], [0.9999037384986877, 9.616171882953495e-05], [0.010995889082551003, 0.9890040159225464], [0.36615869402885437, 0.6338412761688232], [0.8851973414421082, 0.11480267345905304], [0.9997844696044922, 0.00021553883561864495], [0.9998018741607666, 0.00019810220692306757], [0.9997937679290771, 0.00020618365670088679], [0.014240802265703678, 0.9857591986656189], [0.9863723516464233, 0.01362777128815651], [0.9999075531959534, 9.23261686693877e-05], [0.9992562532424927, 0.0007437780150212348], [0.9998833537101746, 0.00011654666013782844], [0.999708890914917, 0.0002911840274464339], [0.12967118620872498, 0.8703286647796631], [0.9699111580848694, 0.030088897794485092], [0.0023882132954895496, 0.9976117014884949], [0.9998335838317871, 0.00016649127064738423], [0.002467237412929535, 0.9975327253341675], [0.0023888552095741034, 0.9976111054420471], [0.9998462200164795, 0.00015379261458292603], [0.9985212683677673, 0.0014786665560677648], [0.9998035430908203, 0.00019638851517811418], [0.00241245049983263, 0.9975875616073608], [0.9569547772407532, 0.04304526746273041], [0.9997457265853882, 0.00025436782743781805], [0.9999057650566101, 9.415199019713327e-05], [0.999762773513794, 0.0002372214657953009], [0.9999107718467712, 8.91926174517721e-05], [0.9965813755989075, 0.003418493550270796], [0.9998676776885986, 0.00013232204946689308], [0.9999386668205261, 6.12620497122407e-05], [0.999006450176239, 0.0009934550616890192], [0.002388142980635166, 0.9976118206977844], [0.9998629093170166, 0.0001372483529848978], [0.9989176392555237, 0.0010822692420333624], [0.9998889565467834, 0.00011092412751168013], [0.5614071488380432, 0.4385928213596344], [0.9999392628669739, 6.070874587749131e-05], [0.9998691082000732, 0.00013097560440655798], [0.9993216395378113, 0.0006783310091122985], [0.9999473690986633, 5.251006587059237e-05], [0.9543326497077942, 0.0456673726439476], [0.9940645098686218, 0.0059353942051529884], [0.999638557434082, 0.0003613817098084837], [0.9996602535247803, 0.0003397931868676096], [0.9999092221260071, 9.074543777387589e-05], [0.9833433628082275, 0.01665661856532097], [0.8491657972335815, 0.15083417296409607], [0.002388188149780035, 0.9976117014884949], [0.9998719692230225, 0.00012806997983716428], [0.007443893700838089, 0.992556095123291], [0.9998354911804199, 0.00016452600539196283], [0.9997529983520508, 0.0002470799663569778], [0.9989429116249084, 0.0010571138700470328], [0.9964885115623474, 0.003511580405756831], [0.9988085627555847, 0.0011913921916857362], [0.0023922747932374477, 0.9976076483726501], [0.9995289444923401, 0.000471056264359504], [0.12093258649110794, 0.8790673613548279], [0.999923050403595, 7.691845530644059e-05], [0.9998173713684082, 0.00018260272918269038], [0.9988962411880493, 0.0011037624208256602], [0.9982839822769165, 0.0017161008436232805], [0.0023881567176431417, 0.9976118206977844], [0.9613956212997437, 0.03860432654619217], [0.999793291091919, 0.000206753597012721], [0.999626100063324, 0.0003739968524314463], [0.0034616137854754925, 0.9965384006500244], [0.9994718432426453, 0.000528078293427825], [0.9999030232429504, 9.696374763734639e-05], [0.9997949600219727, 0.00020497600780799985], [0.0027517355047166348, 0.9972482323646545], [0.9998838305473328, 0.0001160697647719644], [0.0023898009676486254, 0.9976101517677307], [0.9998605251312256, 0.00013940232747700065], [0.9991852641105652, 0.0008147621410898864], [0.9999157786369324, 8.409524889430031e-05], [0.07756154239177704, 0.9224385023117065], [0.9995148777961731, 0.000485082040540874], [0.0023881769739091396, 0.9976118206977844], [0.9999106526374817, 8.92496173037216e-05], [0.9998066425323486, 0.00019326273468323052], [0.9997037649154663, 0.0002962151193059981], [0.002388227032497525, 0.9976117014884949], [0.9999033808708191, 9.657700138632208e-05], [0.9908498525619507, 0.009150025434792042], [0.9457714557647705, 0.0542285330593586], [0.9999043345451355, 9.562641935190186e-05], [0.9999060034751892, 9.395907545695081e-05], [0.9731743335723877, 0.02682565338909626], [0.9995827078819275, 0.00041734345722943544], [0.9999343752861023, 6.561957707162946e-05], [0.9976806044578552, 0.0023194323293864727], [0.002463782439008355, 0.9975360631942749], [0.9998083114624023, 0.00019171189342159778], [0.002994717564433813, 0.9970052242279053], [0.9994975924491882, 0.0005023079575039446], [0.9998681545257568, 0.00013182032853364944], [0.00238879956305027, 0.9976111054420471], [0.9989290833473206, 0.0010709143243730068], [0.9999205470085144, 7.940193609101698e-05], [0.9997773170471191, 0.0002226183278253302], [0.9985291361808777, 0.0014707811642438173], [0.9982907772064209, 0.0017093161586672068], [0.9999223351478577, 7.754127727821469e-05], [0.9996684789657593, 0.0003315709182061255], [0.9998481273651123, 0.00015202014765236527], [0.0023884952533990145, 0.9976114630699158], [0.9999123215675354, 8.760234049987048e-05], [0.9996829032897949, 0.00031713067437522113], [0.9999460577964783, 5.393254468799569e-05], [0.9997172355651855, 0.0002827947319019586], [0.9999225735664368, 7.736830593785271e-05], [0.9999275803565979, 7.23741904948838e-05], [0.999755859375, 0.0002441126707708463], [0.9997494220733643, 0.00025067722890526056], [0.9994751811027527, 0.0005246727960184216], [0.018060235306620598, 0.9819397926330566], [0.00272966455668211, 0.9972703456878662], [0.9958146810531616, 0.004185199737548828], [0.9998902678489685, 0.00010962203668896109], [0.002393267350271344, 0.9976066946983337], [0.0023895155172795057, 0.9976103901863098], [0.9996059536933899, 0.0003940362366847694], [0.9971268177032471, 0.002873167162761092], [0.9995371699333191, 0.0004627930175047368], [0.9999313950538635, 6.857257540104911e-05], [0.999404788017273, 0.0005952601204626262], [0.9994605779647827, 0.0005394521285779774], [0.9998321533203125, 0.00016793067334219813], [0.9998505115509033, 0.00014960671251174062], [0.9997925758361816, 0.00020737707382068038], [0.9999107718467712, 8.919669926399365e-05], [0.9998197555541992, 0.0001801717298803851], [0.9984161853790283, 0.0015837165992707014], [0.9998466968536377, 0.00015345249266829342], [0.999888002872467, 0.00011187240306753665], [0.9956385493278503, 0.004361508879810572], [0.9999162554740906, 8.365598478121683e-05], [0.9994855523109436, 0.0005144068854860961], [0.9985076189041138, 0.0014924444258213043], [0.9982854127883911, 0.0017145787132903934], [0.9998288154602051, 0.0001711883523967117], [0.9997028112411499, 0.0002971830836031586], [0.9998655319213867, 0.00013458431931212544], [0.9997217655181885, 0.0002783015079330653], [0.9992113709449768, 0.0007887111860327423], [0.9999222159385681, 7.776996062602848e-05], [0.9999628663063049, 3.703742186189629e-05], [0.9998323917388916, 0.00016763084568083286], [0.9997799396514893, 0.00022004650963936], [0.9999036192893982, 9.629082342144102e-05], [0.0023883020039647818, 0.9976117014884949], [0.999626100063324, 0.0003739300009328872], [0.9947742819786072, 0.00522578926756978], [0.9976555705070496, 0.002344307256862521], [0.999407172203064, 0.0005927734891884029], [0.9996647834777832, 0.0003352082276251167], [0.9970768094062805, 0.00292314519174397], [0.9998576641082764, 0.00014232935791369528], [0.9999074339866638, 9.247093112207949e-05], [0.9892996549606323, 0.010700195096433163], [0.9998219013214111, 0.00017817497428040951], [0.9998033046722412, 0.0001966521522263065], [0.9997156858444214, 0.00028434034902602434], [0.9994450807571411, 0.0005548837943933904], [0.9995148777961731, 0.0004851123667322099], [0.9999430775642395, 5.690981197403744e-05], [0.9998849034309387, 0.00011502260895213112], [0.9998648166656494, 0.00013521513028535992], [0.9998825192451477, 0.00011738998728105798], [0.9999119639396667, 8.792999869911e-05], [0.9118145108222961, 0.0881853997707367], [0.9999600052833557, 3.998853571829386e-05], [0.9998875260353088, 0.0001123962429119274], [0.9996721744537354, 0.0003278536314610392], [0.9987733364105225, 0.001226765918545425], [0.9999160170555115, 8.392670133616775e-05], [0.9988566637039185, 0.0011433385079726577], [0.9997959136962891, 0.00020402291556820273], [0.9984300136566162, 0.001569848507642746], [0.999879777431488, 0.00012018207780783996], [0.9990620017051697, 0.0009379980619996786], [0.9851590394973755, 0.014840953052043915], [0.0023884358815848827, 0.9976114630699158], [0.9998982548713684, 0.00010163593833567575], [0.9683599472045898, 0.031639985740184784], [0.9966439008712769, 0.0033561126329004765], [0.99958735704422, 0.00041266297921538353], [0.9998871684074402, 0.00011275532597210258], [0.9994481801986694, 0.0005518757971003652], [0.9998641014099121, 0.00013582324027083814], [0.9985294938087463, 0.0014704366913065314], [0.9996210932731628, 0.0003788982576224953], [0.9994894862174988, 0.0005104627343825996], [0.9995152354240417, 0.0004847208329010755], [0.9997074604034424, 0.0002926027518697083], [0.9999107718467712, 8.912017074180767e-05], [0.9997180700302124, 0.00028201768873259425], [0.9999398589134216, 6.002503141644411e-05], [0.9999048113822937, 9.50923640630208e-05], [0.9987037181854248, 0.00129628274589777], [0.9999602437019348, 3.969661702285521e-05], [0.9999147057533264, 8.52768644108437e-05], [0.9997718334197998, 0.00022806850029155612], [0.9999086260795593, 9.12767427507788e-05], [0.997693657875061, 0.002306367037817836], [0.999126672744751, 0.0008732511196285486], [0.9999539256095886, 4.5995657274033874e-05], [0.9991572499275208, 0.0008426683489233255], [0.99959796667099, 0.00040202890522778034], [0.5882147550582886, 0.4117853045463562], [0.9998893141746521, 0.00011059091775678098], [0.0023921565152704716, 0.9976077675819397], [0.9990306496620178, 0.0009693455649539828], [0.9942787885665894, 0.005721204448491335], [0.9998369216918945, 0.000163217555382289], [0.9996873140335083, 0.0003127198724541813], [0.9997899532318115, 0.00021003864821977913], [0.9998350143432617, 0.00016500816855113953], [0.9995785355567932, 0.00042144148028455675], [0.005418199580162764, 0.9945817589759827], [0.9998295307159424, 0.00017055017815437168], [0.9994169473648071, 0.0005830711452290416], [0.002388142980635166, 0.9976118206977844], [0.9987403750419617, 0.0012595981825143099], [0.9995399117469788, 0.0004600146203301847], [0.9988943338394165, 0.0011057916563004255], [0.9998641014099121, 0.00013585822307504714], [0.7903734445571899, 0.20962652564048767], [0.9967077970504761, 0.003292167093604803], [0.99981689453125, 0.0001832187408581376], [0.9999306797981262, 6.92254543537274e-05], [0.9992066025733948, 0.0007934694294817746], [0.002388142980635166, 0.9976118206977844], [0.9997161626815796, 0.0002838888030964881], [0.9991905093193054, 0.0008094743825495243], [0.9997315406799316, 0.0002685168874450028], [0.9996985197067261, 0.00030156626598909497], [0.9998969435691833, 0.00010295140964444727], [0.9981009364128113, 0.0018990121316164732], [0.999891459941864, 0.00010851109982468188], [0.002388222375884652, 0.9976117014884949], [0.9999573826789856, 4.2538529669400305e-05], [0.9983029365539551, 0.0016970183933153749], [0.956527054309845, 0.043472860008478165], [0.999961793422699, 3.8093803595984355e-05], [0.9996209740638733, 0.00037906915531493723], [0.9998722076416016, 0.00012787034211214632], [0.9999580979347229, 4.188173625152558e-05], [0.9998490810394287, 0.00015089049702510238], [0.9997513294219971, 0.0002487617894075811], [0.0023889541625976562, 0.9976109862327576], [0.9974124431610107, 0.0025874990969896317], [0.9998524188995361, 0.00014753654249943793], [0.999687671661377, 0.00031233459594659507], [0.999886691570282, 0.00011327595711918548], [0.9991810917854309, 0.0008188772480934858], [0.9993857741355896, 0.0006142940255813301], [0.0024056604597717524, 0.9975942373275757], [0.9996497631072998, 0.0003502338659018278], [0.9996981620788574, 0.0003018797724507749], [0.9980237483978271, 0.001976094441488385], [0.9998481273651123, 0.0001518490316811949], [0.9999427199363708, 5.726994641008787e-05], [0.9978091716766357, 0.002190936589613557], [0.9987804889678955, 0.0012194807641208172], [0.9996697902679443, 0.0003302434051875025], [0.9998750686645508, 0.00012504923506639898], [0.9993708729743958, 0.0006291772588156164], [0.9997804164886475, 0.00021954395924694836], [0.9998714923858643, 0.00012853769294451922], [0.9998995661735535, 0.00010034741717390716], [0.9997854232788086, 0.00021469587227329612], [0.9990227818489075, 0.0009771846234798431], [0.002396506955847144, 0.9976033568382263], [0.0076539283618330956, 0.9923461079597473], [0.9997204542160034, 0.00027960442821495235], [0.9995004534721375, 0.0004994571208953857], [0.9969431161880493, 0.0030568023212254047], [0.9981245398521423, 0.0018754578195512295], [0.999873161315918, 0.00012694326869677752], [0.0472804456949234, 0.9527196288108826], [0.002409806940704584, 0.997590184211731], [0.9992415904998779, 0.000758398266043514], [0.9996347427368164, 0.0003651841834653169], [0.002388142980635166, 0.9976118206977844], [0.9995786547660828, 0.000421293661929667], [0.002390083856880665, 0.9976097941398621], [0.9984945058822632, 0.0015055184485390782], [0.9992583990097046, 0.0007416200242005289], [0.9992281198501587, 0.0007719319546595216], [0.9948312044143677, 0.0051687113009393215], [0.9983356595039368, 0.0016643195413053036], [0.9998071193695068, 0.00019285058078821748], [0.9996004700660706, 0.0003995336883235723], [0.99994295835495, 5.695672007277608e-05], [0.9998900294303894, 0.00010993021714966744], [0.9988349080085754, 0.0011650831438601017], [0.999175488948822, 0.0008244801429100335], [0.9973263144493103, 0.0026736902073025703], [0.0023882200475782156, 0.9976117014884949], [0.9992343187332153, 0.0007656789384782314], [0.9998476505279541, 0.0001524021354271099], [0.9997272491455078, 0.00027275466709397733], [0.002388565568253398, 0.9976113438606262], [0.005246154963970184, 0.9947538375854492], [0.0023892042227089405, 0.9976107478141785], [0.9998970627784729, 0.00010283150913892314], [0.9993698000907898, 0.0006302783731371164], [0.9998950362205505, 0.00010491948341950774], [0.9997245073318481, 0.0002755598397925496], [0.9998478889465332, 0.00015209190314635634], [0.9997870922088623, 0.00021281732188072056], [0.9999392628669739, 6.067922731745057e-05], [0.002388494089245796, 0.9976114630699158], [0.9999647736549377, 3.518007724778727e-05], [0.002388142980635166, 0.9976118206977844], [0.9988754987716675, 0.001124500297009945], [0.3209284842014313, 0.6790715456008911], [0.9987814426422119, 0.0012186610838398337], [0.9997159242630005, 0.00028416013810783625], [0.9997191429138184, 0.00028088424005545676], [0.9996104836463928, 0.0003895424015354365], [0.9997727870941162, 0.00022722224821336567], [0.002513880142942071, 0.9974861145019531], [0.9997240304946899, 0.0002760255301836878], [0.0023903672117739916, 0.997609555721283], [0.9997866153717041, 0.0002133927628165111], [0.017291057854890823, 0.9827088713645935], [0.9995130896568298, 0.0004867989046033472], [0.9999040961265564, 9.577871969668195e-05], [0.9997156858444214, 0.0002843162219505757], [0.9969098567962646, 0.0030901844147592783], [0.9982003569602966, 0.001799729885533452], [0.0023881508968770504, 0.9976118206977844], [0.9998865723609924, 0.00011334056034684181], [0.7484250664710999, 0.25157490372657776], [0.9997603893280029, 0.00023965946456883103], [0.9998025894165039, 0.00019741529831662774], [0.002388142980635166, 0.9976118206977844], [0.7001270055770874, 0.29987308382987976], [0.002388142980635166, 0.9976118206977844], [0.9724903106689453, 0.027509724721312523], [0.9999120831489563, 8.781487122178078e-05], [0.999588668346405, 0.00041133331251330674], [0.9999029040336609, 9.696881897980347e-05], [0.999720573425293, 0.00027941519510932267], [0.9991785883903503, 0.0008213733090087771], [0.9997507333755493, 0.00024936874979175627], [0.9990812540054321, 0.0009187055402435362], [0.9998300075531006, 0.00017008831491693854], [0.0032782230991870165, 0.9967218637466431], [0.9996839761734009, 0.0003160995547659695], [0.0023915579076856375, 0.9976083636283875], [0.9997751712799072, 0.00022488141257781535], [0.9997718334197998, 0.0002282060158904642], [0.9996125102043152, 0.0003875131078530103], [0.9999364018440247, 6.35117685305886e-05], [0.9991975426673889, 0.0008024249691516161], [0.9997421503067017, 0.0002579476567916572], [0.9805800914764404, 0.019419953227043152], [0.9997828006744385, 0.00021732387540396303], [0.14112624526023865, 0.858873724937439], [0.9993230700492859, 0.0006769448518753052], [0.9995771050453186, 0.0004228418692946434], [0.9997502565383911, 0.00024983304319903255], [0.0023896724451333284, 0.9976102709770203], [0.9996172785758972, 0.0003827008476946503], [0.9998745918273926, 0.00012550711107905954], [0.9997414350509644, 0.0002585686161182821], [0.9853463768959045, 0.014653515070676804], [0.9997497797012329, 0.00025026575895026326], [0.9998383522033691, 0.00016168804722838104], [0.9997001886367798, 0.0002998195413965732], [0.9998831152915955, 0.0001167591181001626], [0.9999273419380188, 7.263208681251854e-05], [0.9821365475654602, 0.01786349155008793], [0.999946653842926, 5.332915679900907e-05], [0.9996961355209351, 0.000303841196000576], [0.9993595480918884, 0.0006404072628356516], [0.9999592900276184, 4.064198583364487e-05], [0.9998794198036194, 0.00012054361286573112], [0.9982917308807373, 0.0017082080012187362], [0.9997117519378662, 0.0002882945991586894], [0.0024005312006920576, 0.9975993633270264], [0.999849796295166, 0.000150306208524853], [0.9986409544944763, 0.001358997542411089], [0.9997708797454834, 0.00022908912796992809], [0.9997916221618652, 0.0002083637227769941], [0.9979764223098755, 0.002023687120527029], [0.9971955418586731, 0.002804367570206523], [0.0024501837324351072, 0.997549831867218], [0.9997968673706055, 0.00020319224859122187], [0.9948624968528748, 0.005137529224157333], [0.002388142980635166, 0.9976118206977844], [0.9997951984405518, 0.0002049250470008701], [0.9997973442077637, 0.00020255619892850518], [0.002480562776327133, 0.9975194334983826], [0.0026385318487882614, 0.9973615407943726], [0.002388142980635166, 0.9976118206977844], [0.9997715950012207, 0.0002284426591359079], [0.9998438358306885, 0.00015610553964506835], [0.9995110630989075, 0.000488847668748349], [0.9990766048431396, 0.0009234084864147007], [0.9995599389076233, 0.00044006016105413437], [0.04222654178738594, 0.9577734470367432], [0.9998820424079895, 0.00011785489186877385], [0.9656583070755005, 0.03434169664978981], [0.9996078610420227, 0.00039221940096467733], [0.9999149441719055, 8.496856753481552e-05], [0.9999157786369324, 8.419596269959584e-05], [0.9982287883758545, 0.0017711474793031812], [0.9996885061264038, 0.00031156226759776473], [0.9978852868080139, 0.00211469572968781], [0.002392977010458708, 0.9976069331169128], [0.9998986124992371, 0.00010137643403140828], [0.999868631362915, 0.00013137435598764569], [0.9994831681251526, 0.0005167879862710834], [0.993305504322052, 0.006694468203932047], [0.9997320175170898, 0.00026797904865816236], [0.9998633861541748, 0.0001366326614515856], [0.002388868946582079, 0.9976111054420471], [0.9995985627174377, 0.0004014540754724294], [0.9993426203727722, 0.0006573381251655519], [0.0023881453089416027, 0.9976118206977844], [0.9994997382164001, 0.0005001798854209483], [0.999707818031311, 0.00029219628777354956], [0.9995884299278259, 0.00041154882637783885], [0.002640936989337206, 0.9973591566085815], [0.9999057650566101, 9.417731780558825e-05], [0.9993557333946228, 0.0006442447192966938], [0.9996837377548218, 0.00031625686096958816], [0.9993681311607361, 0.0006318474770523608], [0.0024147273506969213, 0.9975852966308594], [0.9795370697975159, 0.020462898537516594], [0.002388149732723832, 0.9976118206977844], [0.9978526830673218, 0.0021473949309438467], [0.9998300075531006, 0.0001700195571174845], [0.9970468282699585, 0.0029531139880418777], [0.9998428821563721, 0.00015721455565653741], [0.9998455047607422, 0.00015461411385331303], [0.9979493021965027, 0.002050774870440364], [0.9990929365158081, 0.000907059118617326], [0.9951611757278442, 0.004838734399527311], [0.0024038576520979404, 0.997596025466919], [0.9998986124992371, 0.00010129187285201624], [0.1669800877571106, 0.8330199122428894], [0.999783992767334, 0.0002161146403523162], [0.002661818638443947, 0.9973381161689758], [0.9886167049407959, 0.011383303441107273], [0.9996197819709778, 0.00038025304093025625], [0.9923062324523926, 0.007693677209317684], [0.981259822845459, 0.018740125000476837], [0.9998466968536377, 0.0001532679161755368], [0.9999026656150818, 9.72965281107463e-05], [0.9971905946731567, 0.0028093326836824417], [0.9994620084762573, 0.0005380928632803261], [0.9998292922973633, 0.00017079460667446256], [0.9995576739311218, 0.00044235613313503563], [0.999576985836029, 0.00042299507185816765], [0.9878802299499512, 0.012119700200855732], [0.9993888735771179, 0.0006111807306297123], [0.9997011423110962, 0.0002989230561070144], [0.00238879956305027, 0.9976111054420471], [0.9997247457504272, 0.00027533085085451603], [0.9983226656913757, 0.0016773134702816606], [0.9805712103843689, 0.019428811967372894], [0.19446875154972076, 0.8055313229560852], [0.9998884797096252, 0.00011147117038490251], [0.9982576966285706, 0.00174229359254241], [0.9978058338165283, 0.002194071887061], [0.9977813363075256, 0.0022186399437487125], [0.9998288154602051, 0.00017120549455285072], [0.33837735652923584, 0.6616226434707642], [0.9997596740722656, 0.0002402345708105713], [0.9992120862007141, 0.0007879080949351192], [0.998302698135376, 0.0016973328310996294], [0.9998971819877625, 0.0001027354592224583], [0.999828577041626, 0.00017145625315606594], [0.8927045464515686, 0.10729546844959259], [0.9998629093170166, 0.00013703804870601743], [0.3334963917732239, 0.6665036678314209], [0.9998940825462341, 0.00010590173042146489], [0.9999582171440125, 4.1673643863759935e-05], [0.0023894519545137882, 0.9976105093955994], [0.9998579025268555, 0.00014202823513187468], [0.9998883605003357, 0.00011155378888361156], [0.9996497631072998, 0.0003502455656416714], [0.9991520047187805, 0.0008479902753606439], [0.999896228313446, 0.00010372357064625248], [0.9994224309921265, 0.0005776470643468201], [0.9987117648124695, 0.001288238214328885], [0.9998118877410889, 0.0001881401112768799], [0.9998838305473328, 0.00011613863171078265], [0.999679446220398, 0.0003205992397852242], [0.9999257922172546, 7.409912359435111e-05], [0.9996784925460815, 0.00032151839695870876], [0.9514756798744202, 0.04852433130145073], [0.8674312829971313, 0.13256873190402985], [0.9996858835220337, 0.0003141416236758232], [0.0023916978389024734, 0.9976082444190979], [0.999821662902832, 0.00017834339814726263], [0.9997152090072632, 0.00028483933419920504], [0.9994214773178101, 0.0005784337408840656], [0.9997507333755493, 0.000249295262619853], [0.9998667240142822, 0.0001331988169113174], [0.9998714923858643, 0.00012855167733505368], [0.030742499977350235, 0.9692575335502625], [0.9998283386230469, 0.00017160343122668564], [0.9997599124908447, 0.00024020163982640952], [0.002388142980635166, 0.9976118206977844], [0.9998512268066406, 0.00014872881001792848], [0.9991105794906616, 0.0008893780177459121], [0.9997632503509521, 0.00023670679365750402], [0.9997601509094238, 0.00023989379405975342], [0.9159314036369324, 0.08406858891248703], [0.9999056458473206, 9.424200106877834e-05], [0.9997861385345459, 0.00021380964608397335], [0.9998782277107239, 0.00012168335524620488], [0.002839979249984026, 0.997160017490387], [0.9998221397399902, 0.00017779259360395372], [0.9997808933258057, 0.00021901499712839723], [0.999972403049469, 2.749795385170728e-05], [0.9996756315231323, 0.00032444021780975163], [0.9995728135108948, 0.0004272189107723534], [0.9835740327835083, 0.016425911337137222], [0.8438950181007385, 0.15610496699810028], [0.00239088898524642, 0.9976090788841248], [0.9976592659950256, 0.0023406289983540773], [0.038364097476005554, 0.9616360068321228], [0.9995965361595154, 0.0004034648591186851], [0.0048254928551614285, 0.9951745867729187], [0.9997961521148682, 0.00020395663159433752], [0.9977262616157532, 0.0022737407125532627], [0.9999187588691711, 8.120494021568447e-05], [0.9997545480728149, 0.0002454846107866615], [0.9998176097869873, 0.000182359479367733], [0.9997069835662842, 0.00029308602097444236], [0.9974863529205322, 0.0025136335752904415], [0.9998180866241455, 0.0001819473400246352], [0.999847412109375, 0.00015261430235113949], [0.0031249765306711197, 0.9968751072883606], [0.9998976588249207, 0.00010233020293526351], [0.9999389052391052, 6.107859371695668e-05], [0.0023881453089416027, 0.9976118206977844], [0.9997307062149048, 0.00026936951326206326], [0.9999455809593201, 5.43741844012402e-05], [0.9987772703170776, 0.0012227812549099326], [0.0023882018867880106, 0.9976117014884949], [0.9998688697814941, 0.00013122135715093464], [0.9983254075050354, 0.0016745259054005146], [0.992093563079834, 0.007906525395810604], [0.9999164938926697, 8.33840822451748e-05], [0.9998035430908203, 0.00019636997603811324], [0.0029406938701868057, 0.9970593452453613], [0.9997692108154297, 0.00023088903981260955], [0.0023881441447883844, 0.9976118206977844], [0.9995145201683044, 0.00048537319526076317], [0.9971690773963928, 0.0028309584595263004], [0.9964303970336914, 0.003569516586139798], [0.0023996729869395494, 0.997600257396698], [0.002403541002422571, 0.9975963830947876], [0.9998326301574707, 0.00016737706027925014], [0.9997411966323853, 0.000258852553088218], [0.9995564818382263, 0.0004435346054378897], [0.999861478805542, 0.0001385783834848553], [0.9999250769615173, 7.486406684620306e-05], [0.0023884179536253214, 0.9976115822792053], [0.9995281100273132, 0.000471877574454993], [0.9999372363090515, 6.27589033683762e-05], [0.9999057650566101, 9.420517017133534e-05], [0.999204695224762, 0.0007953376625664532], [0.9998273849487305, 0.00017254719568882138], [0.9998897910118103, 0.00011014805204467848], [0.9986680746078491, 0.0013319954741746187], [0.9996159672737122, 0.0003841011202894151], [0.9999191164970398, 8.079432882368565e-05], [0.9993533492088318, 0.0006466603954322636], [0.9998166561126709, 0.00018331238243263215], [0.9998488426208496, 0.0001511579321231693], [0.9981701970100403, 0.0018297395436093211], [0.9999342560768127, 6.562276394106448e-05], [0.0026328980457037687, 0.9973670244216919], [0.9973765015602112, 0.0026234514079988003], [0.9459686875343323, 0.05403117462992668], [0.9999083876609802, 9.15033306227997e-05], [0.9991022348403931, 0.000897807243745774], [0.002408447675406933, 0.997591495513916], [0.9999263882637024, 7.354973786277696e-05], [0.9997454881668091, 0.0002545126189943403], [0.9996156096458435, 0.00038440441130660474], [0.0023882384411990643, 0.9976117014884949], [0.9994823336601257, 0.0005175807164050639], [0.9999099373817444, 9.001321450341493e-05], [0.9999662041664124, 3.368899706401862e-05], [0.9997061491012573, 0.00029382712091319263], [0.9999657273292542, 3.421767905820161e-05], [0.9982905387878418, 0.0017094934592023492], [0.9983102679252625, 0.001689713797532022], [0.9976699948310852, 0.0023299548774957657], [0.9989473223686218, 0.0010527331614866853], [0.9992219805717468, 0.0007780348532833159], [0.9998006820678711, 0.00019943782535847276], [0.01345980167388916, 0.9865402579307556], [0.9945583343505859, 0.005441713612526655], [0.9986668825149536, 0.0013331001391634345], [0.9998593330383301, 0.00014064805873204023], [0.9998283386230469, 0.00017161358846351504], [0.278039813041687, 0.721960186958313], [0.0023923679254949093, 0.9976075291633606], [0.9999051690101624, 9.47400985751301e-05], [0.011569883674383163, 0.9884301424026489], [0.9946754574775696, 0.005324418656527996], [0.002388142980635166, 0.9976118206977844], [0.9986506104469299, 0.0013494124868884683], [0.0023881453089416027, 0.9976118206977844], [0.9928038120269775, 0.00719616562128067], [0.0023901292588561773, 0.9976097941398621], [0.0023881476372480392, 0.9976118206977844], [0.9998705387115479, 0.00012962159235030413], [0.9947476983070374, 0.00525227515026927], [0.9998871684074402, 0.00011280394392088056], [0.9997823238372803, 0.00021763736731372774], [0.9999470114707947, 5.287179374136031e-05], [0.9997395277023315, 0.0002605501504149288], [0.9994229078292847, 0.0005770622519776225], [0.9993566870689392, 0.0006432753289118409], [0.9998311996459961, 0.00016871387197170407], [0.9998920559883118, 0.00010782886965898797], [0.9998023509979248, 0.00019757100380957127], [0.9998776912689209, 0.00012233361485414207], [0.0023948035668581724, 0.9976051449775696], [0.002388142980635166, 0.9976118206977844], [0.9946619272232056, 0.005338091403245926], [0.9997061491012573, 0.0002939355908893049], [0.9995278716087341, 0.000472090148832649], [0.9998555183410645, 0.00014447406283579767], [0.995623767375946, 0.004376107361167669], [0.002388276858255267, 0.9976117014884949], [0.9998772144317627, 0.0001229274203069508], [0.7435445189476013, 0.2564553916454315], [0.9490634799003601, 0.050936508923769], [0.9980731010437012, 0.0019269254989922047], [0.9999502301216125, 4.975883712177165e-05], [0.9998883605003357, 0.00011152453953400254], [0.8663833737373352, 0.1336165815591812], [0.9998882412910461, 0.00011169184290338308], [0.9993558526039124, 0.0006441127043217421], [0.006747775711119175, 0.9932522177696228], [0.999666690826416, 0.0003332771884743124], [0.9998951554298401, 0.00010472716530784965], [0.9662606716156006, 0.033739328384399414], [0.9998378753662109, 0.0001621980918571353], [0.9991911053657532, 0.0008089531329460442], [0.999933660030365, 6.63054597680457e-05], [0.9998316764831543, 0.0001682807196630165], [0.006043370813131332, 0.9939566850662231], [0.0025291424244642258, 0.9974707961082458], [0.9996674060821533, 0.0003325474972371012], [0.11469845473766327, 0.8853015899658203], [0.0025343731977045536, 0.9974655508995056], [0.9998853802680969, 0.00011455544154159725], [0.9542564749717712, 0.04574351757764816], [0.002432322595268488, 0.9975675940513611], [0.999870777130127, 0.00012918253196403384], [0.999854564666748, 0.00014541194832418114], [0.002388142980635166, 0.9976118206977844], [0.9973971843719482, 0.002602771855890751], [0.9997596740722656, 0.0002402620593784377], [0.9999541640281677, 4.5714830775978044e-05], [0.9973526000976562, 0.0026474043261259794], [0.9999679923057556, 3.198522608727217e-05], [0.9978970885276794, 0.0021029808558523655], [0.9999406933784485, 5.9222882555332035e-05], [0.9996660947799683, 0.00033386421273462474], [0.9998073577880859, 0.0001926021504914388], [0.9989199042320251, 0.0010800043819472194], [0.009248030371963978, 0.9907519817352295], [0.9962469339370728, 0.0037531580310314894], [0.002388142980635166, 0.9976118206977844], [0.9998130798339844, 0.0001868676918093115], [0.999098539352417, 0.0009014630923047662], [0.9982242584228516, 0.0017757897730916739], [0.9997625350952148, 0.0002374099422013387], [0.058171048760414124, 0.9418290257453918], [0.9999507069587708, 4.9248475988861173e-05], [0.9975100159645081, 0.002489920239895582], [0.9999324679374695, 6.744112761225551e-05], [0.9998795390129089, 0.00012039943976560608], [0.9998748302459717, 0.00012533132394310087], [0.9998040199279785, 0.00019608599541243166], [0.9989350438117981, 0.001064965734258294], [0.9995548129081726, 0.00044511654414236546], [0.3354357182979584, 0.6645642518997192], [0.9999428391456604, 5.713733480661176e-05], [0.9999293684959412, 7.050889689708129e-05], [0.9996036887168884, 0.00039630517130717635], [0.9997169971466064, 0.00028300294070504606], [0.9997599124908447, 0.0002400571247562766], [0.9998438358306885, 0.00015619609621353447], [0.0023896724451333284, 0.9976102709770203], [0.26727768778800964, 0.732722282409668], [0.9878026247024536, 0.012197268195450306], [0.9988132119178772, 0.0011867128778249025], [0.9994069337844849, 0.0005931098130531609], [0.999873161315918, 0.0001268875930691138], [0.8912269473075867, 0.10877300798892975], [0.9984537959098816, 0.0015461558941751719], [0.9997514486312866, 0.00024861263227649033], [0.9986644983291626, 0.0013354815309867263], [0.9998471736907959, 0.00015278931823559105], [0.996705174446106, 0.0032947463914752007], [0.999912679195404, 8.727375097805634e-05], [0.9914422631263733, 0.008557761088013649], [0.8072282075881958, 0.1927717924118042], [0.9979459643363953, 0.0020539897959679365], [0.0023967979941517115, 0.9976031184196472], [0.9998147487640381, 0.00018521922174841166], [0.002458309754729271, 0.9975415468215942], [0.01090396847575903, 0.9890961050987244], [0.9992501735687256, 0.000749887665733695], [0.9999536871910095, 4.624768189387396e-05], [0.998811662197113, 0.0011882925173267722], [0.9996546506881714, 0.0003453998942859471], [0.9995402693748474, 0.00045973542728461325], [0.8076533675193787, 0.19234661757946014], [0.9998488426208496, 0.00015117536531761289], [0.9998552799224854, 0.0001446917449356988], [0.9998154640197754, 0.00018462254956830293], [0.9997156858444214, 0.0002843078109435737], [0.9998605251312256, 0.0001394019345752895], [0.999652624130249, 0.0003473923425190151], [0.9978215098381042, 0.0021784105338156223], [0.9999225735664368, 7.74115469539538e-05], [0.9998056888580322, 0.00019438288290984929], [0.8414173126220703, 0.15858258306980133], [0.9992672204971313, 0.0007328451611101627], [0.958002507686615, 0.041997525840997696], [0.9997591972351074, 0.00024072593078017235], [0.9998800158500671, 0.00011989705672021955], [0.9999447464942932, 5.5199445341713727e-05], [0.9997992515563965, 0.00020070331811439246], [0.9998023509979248, 0.0001975934428628534], [0.988808810710907, 0.011191178113222122], [0.002392333000898361, 0.9976076483726501], [0.9997367858886719, 0.000263205700321123], [0.9998559951782227, 0.00014404997637029737], [0.9998352527618408, 0.00016473619325552136], [0.9996850490570068, 0.0003149333060719073], [0.9997433423995972, 0.0002567429328337312], [0.999687671661377, 0.00031234504422172904], [0.9998459815979004, 0.00015415130474139005], [0.9997451305389404, 0.00025486957747489214], [0.0023883143439888954, 0.9976115822792053], [0.15523755550384521, 0.84476238489151], [0.0038914200849831104, 0.9961085319519043], [0.002389989560469985, 0.9976099133491516], [0.9999409317970276, 5.894583955523558e-05], [0.9998981356620789, 0.0001017575414152816], [0.9999111294746399, 8.878570952219889e-05], [0.011167041957378387, 0.988832950592041], [0.9883834719657898, 0.011616574600338936], [0.9999247193336487, 7.51709594624117e-05], [0.9998295307159424, 0.00017042124818544835], [0.9994369745254517, 0.0005630565574392676], [0.9997599124908447, 0.00024008484615478665], [0.9998211860656738, 0.0001787378132576123], [0.9990744590759277, 0.0009255039039999247], [0.05365742743015289, 0.9463424682617188], [0.9995363354682922, 0.00046365539310500026], [0.002388173481449485, 0.9976118206977844], [0.9997837543487549, 0.00021618591563310474], [0.9980790615081787, 0.0019209033343940973], [0.9998624324798584, 0.00013757668784819543], [0.9997035264968872, 0.0002965024905279279], [0.9959089756011963, 0.004090976435691118], [0.943097710609436, 0.05690232664346695], [0.9861303567886353, 0.013869627378880978], [0.9992669820785522, 0.0007330183289013803], [0.9996427297592163, 0.00035720583400689065], [0.9923202991485596, 0.007679619360715151], [0.002388142980635166, 0.9976118206977844], [0.9998149871826172, 0.0001849525433499366], [0.9998833537101746, 0.00011657000868581235], [0.9976829290390015, 0.002317036734893918], [0.0023881441447883844, 0.9976118206977844], [0.9998814463615417, 0.0001184437787742354], [0.9993166327476501, 0.000683322548866272], [0.002388142980635166, 0.9976118206977844], [0.9997751712799072, 0.00022487304522655904], [0.9999366402626038, 6.326351285679266e-05], [0.999842643737793, 0.0001574368798173964], [0.9994795918464661, 0.0005203731707297266], [0.9235637187957764, 0.07643632590770721], [0.0023919607046991587, 0.9976080060005188], [0.0023915772326290607, 0.9976083636283875], [0.9998371601104736, 0.00016298038826789707], [0.002388142980635166, 0.9976118206977844], [0.999732255935669, 0.0002678179007489234], [0.0042749070562422276, 0.9957250952720642], [0.999748945236206, 0.0002511465863790363], [0.9998872876167297, 0.00011264807835686952], [0.999871015548706, 0.00012901093577966094], [0.9998409748077393, 0.00015905532927718014], [0.9998610019683838, 0.00013898516772314906], [0.9997224807739258, 0.00027754579787142575], [0.9942030310630798, 0.005796917248517275], [0.9569374322891235, 0.04306263476610184], [0.002667055930942297, 0.9973328709602356], [0.9995447993278503, 0.0004551486053969711], [0.0028442926704883575, 0.9971556067466736], [0.9998912215232849, 0.00010873877181438729], [0.006491686217486858, 0.9935083985328674], [0.9983648061752319, 0.0016350874211639166], [0.9878302216529846, 0.012169740162789822], [0.999904215335846, 9.567064262228087e-05], [0.0033276756294071674, 0.9966722726821899], [0.9932254552841187, 0.006774416659027338], [0.0023881441447883844, 0.9976118206977844], [0.9997751712799072, 0.00022494039149023592], [0.9999285340309143, 7.134726183721796e-05], [0.9986989498138428, 0.001301049836911261], [0.9996621608734131, 0.0003378544352017343], [0.9966698884963989, 0.0033300407230854034], [0.9999642968177795, 3.561763878678903e-05], [0.9998085498809814, 0.00019149795116391033], [0.6068305373191833, 0.3931693732738495], [0.9995315670967102, 0.0004683916922658682], [0.9997799396514893, 0.0002201804454671219], [0.0023882563691586256, 0.9976117014884949], [0.002388268942013383, 0.9976117014884949], [0.0023881476372480392, 0.9976118206977844], [0.9997255802154541, 0.0002744703961070627], [0.002388142980635166, 0.9976118206977844], [0.9997711181640625, 0.00022880751930642873], [0.003107198514044285, 0.9968928098678589], [0.9998726844787598, 0.000127371764392592], [0.9992754459381104, 0.000724464247468859], [0.9952213168144226, 0.004778681788593531], [0.9999119639396667, 8.800625801086426e-05], [0.9990615248680115, 0.0009384289151057601], [0.9986810684204102, 0.0013190335594117641], [0.9997369050979614, 0.00026315305149182677], [0.9997040033340454, 0.0002960090641863644], [0.020518364384770393, 0.97948157787323], [0.9998818039894104, 0.00011811072909040377], [0.003605110105127096, 0.9963948726654053], [0.002527888398617506, 0.9974721074104309], [0.9744721055030823, 0.02552802674472332], [0.0023883029352873564, 0.9976115822792053], [0.9997668266296387, 0.0002331171854166314], [0.9832900166511536, 0.01670999825000763], [0.9984084963798523, 0.0015915025724098086], [0.979900598526001, 0.020099319517612457], [0.588165819644928, 0.411834180355072], [0.9997522830963135, 0.0002477286325301975], [0.9993988275527954, 0.0006011875229887664], [0.9998878836631775, 0.0001119857479352504], [0.9967318177223206, 0.003268137341365218], [0.9999274611473083, 7.248137990245596e-05], [0.9998724460601807, 0.00012762889673467726], [0.003750578500330448, 0.9962493777275085], [0.999230146408081, 0.0007698492263443768], [0.003039746545255184, 0.9969602227210999], [0.002458409406244755, 0.9975415468215942], [0.0024196025915443897, 0.9975804090499878], [0.9998264312744141, 0.00017369564739055932], [0.9998433589935303, 0.00015659215569030493], [0.18812687695026398, 0.811873197555542], [0.9995494484901428, 0.00045056809904053807], [0.9996753931045532, 0.0003245951666031033], [0.17448361217975616, 0.8255163431167603], [0.9994916319847107, 0.0005083214491605759], [0.9998278617858887, 0.00017215903790201992], [0.996529221534729, 0.003470738185569644], [0.03418075293302536, 0.9658192992210388], [0.9988709688186646, 0.00112895667552948], [0.9997665882110596, 0.00023344505461864173], [0.9984897375106812, 0.001510104164481163], [0.9846809506416321, 0.015318927355110645], [0.9998936057090759, 0.00010627855954226106], [0.99931401014328, 0.0006858984124846756], [0.9994186162948608, 0.0005813569878228009], [0.0023883883841335773, 0.9976115822792053], [0.0023881441447883844, 0.9976118206977844], [0.9986053705215454, 0.0013946135295554996], [0.9996716976165771, 0.000328262074617669], [0.9990008473396301, 0.0009990136604756117], [0.9998672008514404, 0.0001327888312516734], [0.9997315406799316, 0.00026848388370126486], [0.9995842576026917, 0.00041579571552574635], [0.9995599389076233, 0.00044007317046634853], [0.9995610117912292, 0.00043898719013668597], [0.9998278617858887, 0.00017213572573382407], [0.9992075562477112, 0.000792493112385273], [0.02768719755113125, 0.9723128080368042], [0.9534357190132141, 0.0465642511844635], [0.9998922944068909, 0.00010769119398901239], [0.002965396037325263, 0.99703449010849], [0.9998900294303894, 0.0001099168075597845], [0.9940478801727295, 0.005952039267867804], [0.0023881441447883844, 0.9976118206977844], [0.999938428401947, 6.151546403998509e-05], [0.9998936057090759, 0.0001063638337654993], [0.9998281002044678, 0.00017203138850163668], [0.999870777130127, 0.00012917304411530495], [0.9959771037101746, 0.004022923298180103], [0.9990587830543518, 0.0009412074577994645], [0.0023881476372480392, 0.9976118206977844], [0.9995643496513367, 0.0004356014833319932], [0.9998700618743896, 0.00013000828039366752], [0.9998600482940674, 0.0001400206092512235], [0.9995058178901672, 0.0004941750667057931], [0.0023890086449682713, 0.9976109862327576], [0.9945708513259888, 0.0054290383122861385], [0.9993200898170471, 0.0006798817776143551], [0.9998152256011963, 0.0001849115069489926], [0.0023883404210209846, 0.9976115822792053], [0.9998695850372314, 0.00013047797256149352], [0.9996189475059509, 0.00038113261689431965], [0.9998111724853516, 0.0001887691905722022], [0.9999073147773743, 9.264896652894095e-05], [0.9999358057975769, 6.416589894797653e-05], [0.9992256760597229, 0.0007744274917058647], [0.9814229011535645, 0.018577134236693382], [0.9999200701713562, 7.984520198078826e-05], [0.9999558329582214, 4.413928400026634e-05], [0.9998371601104736, 0.0001629909675102681], [0.12330346554517746, 0.8766964673995972], [0.9984790682792664, 0.00152096978854388], [0.9996911287307739, 0.00030886117019690573], [0.9998569488525391, 0.00014301514602266252], [0.9998326301574707, 0.00016732215590309352], [0.9993983507156372, 0.0006017012055963278], [0.999902069568634, 9.782382403500378e-05], [0.9995409846305847, 0.00045900981058366597], [0.9998881220817566, 0.00011186377378180623], [0.0023887406568974257, 0.9976112246513367], [0.0023881657980382442, 0.9976118206977844], [0.9999273419380188, 7.260659913299605e-05], [0.9997975826263428, 0.00020237144781276584], [0.9996020197868347, 0.0003979981120210141], [0.9964720010757446, 0.0035280506126582623], [0.9985717535018921, 0.00142819678876549], [0.9949561953544617, 0.005043854005634785], [0.9999043345451355, 9.564548236085102e-05], [0.9997851848602295, 0.00021482053853105754], [0.9999163746833801, 8.357298065675423e-05], [0.9987459778785706, 0.0012540670577436686], [0.007813521660864353, 0.992186427116394], [0.0023978562094271183, 0.9976020455360413], [0.9999405741691589, 5.9338151913834736e-05], [0.9957911968231201, 0.004208725411444902], [0.9997711181640625, 0.0002288954856339842], [0.9963266253471375, 0.003673320170491934], [0.9998054504394531, 0.00019462915952317417], [0.9997186660766602, 0.0002813677419908345], [0.9998810887336731, 0.00011880585952894762], [0.9999282956123352, 7.16016220394522e-05], [0.9992423057556152, 0.0007576816715300083], [0.9998109340667725, 0.00018920007278211415], [0.9991415739059448, 0.000858370796777308], [0.9609260559082031, 0.039073921740055084], [0.9946584105491638, 0.005341570824384689], [0.9993995428085327, 0.000600327446591109], [0.002390878740698099, 0.9976090788841248], [0.9994763731956482, 0.000523479888215661], [0.9999644160270691, 3.550014298525639e-05], [0.9979268908500671, 0.0020730984397232533], [0.9997673034667969, 0.00023281024186871946], [0.9998128414154053, 0.00018713159079197794], [0.9998490810394287, 0.00015092705143615603], [0.9993588328361511, 0.0006411863141693175], [0.9998802542686462, 0.00011971279309364036], [0.9993519186973572, 0.0006480980082415044], [0.9997637271881104, 0.00023621958098374307], [0.99932461977005, 0.0006753361085429788], [0.0023881441447883844, 0.9976118206977844], [0.006737017072737217, 0.9932628870010376], [0.9990091919898987, 0.0009907344356179237], [0.999833345413208, 0.0001666581811150536], [0.9991788268089294, 0.0008211302920244634], [0.935015857219696, 0.06498415768146515], [0.002867019735276699, 0.9971330165863037], [0.9999083876609802, 9.156731539405882e-05], [0.0023918289225548506, 0.9976081252098083], [0.9996737241744995, 0.0003262814716435969], [0.9990256428718567, 0.0009742957772687078], [0.9998893141746521, 0.00011057541996706277], [0.997723400592804, 0.0022766427136957645], [0.9997434616088867, 0.00025664479471743107], [0.9972473978996277, 0.002752620493993163], [0.99983811378479, 0.00016200271784327924], [0.9998538494110107, 0.0001462037325836718], [0.9974257349967957, 0.0025742033030837774], [0.9994043111801147, 0.0005955789820291102], [0.9807429909706116, 0.019256938248872757], [0.9997799396514893, 0.00022014894057065248], [0.9999327063560486, 6.719634984619915e-05], [0.9993547797203064, 0.0006452383240684867], [0.0023951646871864796, 0.9976047873497009], [0.9998703002929688, 0.0001296356349484995], [0.9990683794021606, 0.0009315405040979385], [0.9997309446334839, 0.00026913921465165913], [0.0023913076147437096, 0.9976086020469666], [0.14381276071071625, 0.856187105178833], [0.999873161315918, 0.00012683423119597137], [0.017285743728280067, 0.9827142357826233], [0.9994909167289734, 0.0005090473568998277], [0.9992856979370117, 0.000714401772711426], [0.9986353516578674, 0.0013646763982251287], [0.9989408850669861, 0.0010590814054012299], [0.0023904612753540277, 0.9976094365119934], [0.9991447925567627, 0.000855147372931242], [0.9998971819877625, 0.00010270000348100439], [0.9996387958526611, 0.0003612165746744722], [0.9972751140594482, 0.002724903868511319], [0.9998772144317627, 0.0001228404580615461], [0.9998040199279785, 0.00019597625941969454], [0.9999290108680725, 7.087285484885797e-05], [0.9999179244041443, 8.197722490876913e-05], [0.9997920989990234, 0.00020796418539248407], [0.9999893307685852, 1.0603992450342048e-05], [0.9996916055679321, 0.00030837158556096256], [0.9998288154602051, 0.00017115389346145093], [0.9999099373817444, 8.994208474177867e-05], [0.999888002872467, 0.00011187187192263082], [0.9997830390930176, 0.00021705693507101387], [0.999504029750824, 0.0004959574434906244], [0.9997808933258057, 0.00021922102314420044], [0.9997092485427856, 0.00029081114917062223], [0.9997502565383911, 0.00024982160539366305], [0.9998583793640137, 0.0001416794111719355], [0.9998760223388672, 0.00012404461449477822], [0.9998219013214111, 0.00017806827963795513], [0.9911912083625793, 0.008808835409581661], [0.9998693466186523, 0.0001307749334955588], [0.9988507628440857, 0.001149228890426457], [0.99981689453125, 0.00018315586203243583], [0.9997801780700684, 0.00021986407227814198], [0.9950791597366333, 0.0049207634292542934], [0.9987715482711792, 0.0012285023694857955], [0.9999489188194275, 5.100483031128533e-05], [0.9997594356536865, 0.00024057176779024303], [0.9998300075531006, 0.00016998955106828362], [0.9997801780700684, 0.0002197873400291428], [0.9988824129104614, 0.0011176618281751871], [0.9994774460792542, 0.0005224149790592492], [0.4663357436656952, 0.5336642265319824], [0.9998837113380432, 0.0001162472108262591], [0.9992368221282959, 0.0007631497574038804], [0.9997390508651733, 0.0002609941584523767], [0.9999261498451233, 7.38109738449566e-05], [0.9998440742492676, 0.00015590860857628286], [0.9988002777099609, 0.0011998284608125687], [0.9989886283874512, 0.0010113375028595328], [0.999781608581543, 0.00021842046407982707], [0.9998378753662109, 0.00016211179899983108], [0.999190628528595, 0.0008093381766229868], [0.9988495707511902, 0.0011504457797855139], [0.9998421669006348, 0.00015780403919052333], [0.9998657703399658, 0.00013427129306364805], [0.9998352527618408, 0.00016466283705085516], [0.9997897148132324, 0.00021030115021858364], [0.0023881590459495783, 0.9976118206977844], [0.9998540878295898, 0.00014591182116419077], [0.002388142980635166, 0.9976118206977844], [0.9998431205749512, 0.00015697024355176836], [0.002388142980635166, 0.9976118206977844], [0.9995730519294739, 0.0004268850607331842], [0.9999521374702454, 4.781998723046854e-05], [0.9998889565467834, 0.00011101355630671605], [0.9780113101005554, 0.021988604217767715], [0.9998750686645508, 0.00012501596938818693], [0.9999478459358215, 5.206534478929825e-05], [0.9997518062591553, 0.00024828762980178], [0.999380886554718, 0.0006191437714733183], [0.9809570908546448, 0.019042881205677986], [0.9997978210449219, 0.00020217378914821893], [0.9954663515090942, 0.004533600062131882], [0.002388330176472664, 0.9976115822792053], [0.9994907975196838, 0.0005091016064397991], [0.9998946785926819, 0.00010525206744205207], [0.9997813701629639, 0.00021874728554394096], [0.999840259552002, 0.0001598248927621171], [0.9996837377548218, 0.0003162402717862278], [0.0023882791865617037, 0.9976117014884949], [0.9998135566711426, 0.00018648004333954304], [0.9952426552772522, 0.004757280927151442], [0.9997730255126953, 0.00022687111049890518], [0.9998907446861267, 0.0001091882586479187], [0.9981738924980164, 0.001826027175411582], [0.9998459815979004, 0.000154158056830056], [0.9997550249099731, 0.00024505925830453634], [0.9999532103538513, 4.670943599194288e-05], [0.954357922077179, 0.04564208164811134], [0.9208958745002747, 0.07910414040088654], [0.9998371601104736, 0.00016288793995045125], [0.9998266696929932, 0.00017331841809209436], [0.9998818039894104, 0.00011808550334535539], [0.0193870197981596, 0.9806130528450012], [0.9992007613182068, 0.0007992343744263053], [0.0024454703088849783, 0.9975544810295105], [0.99992436170578, 7.55826840759255e-05], [0.9993016719818115, 0.0006982942577451468], [0.9998371601104736, 0.00016286494792439044], [0.9999342560768127, 6.568850949406624e-05], [0.019101064652204514, 0.9808988571166992], [0.9996645450592041, 0.0003354687651153654], [0.9998486042022705, 0.00015153807180467993], [0.002388148568570614, 0.9976118206977844], [0.9997572898864746, 0.0002427998260827735], [0.9109792113304138, 0.08902076631784439], [0.999034583568573, 0.0009653483284637332], [0.008967039175331593, 0.9910328388214111], [0.00541265681385994, 0.994587242603302], [0.9998526573181152, 0.00014745006046723574], [0.011554265394806862, 0.9884456992149353], [0.9996282458305359, 0.00037174782482907176], [0.9998102188110352, 0.00018988321244250983], [0.8603911399841309, 0.13960881531238556], [0.9999046921730042, 9.5287716249004e-05], [0.9997618198394775, 0.00023820785281714052], [0.9998602867126465, 0.000139640731504187], [0.00262458180077374, 0.9973753094673157], [0.9998366832733154, 0.00016329131904058158], [0.999812126159668, 0.00018797445227392018], [0.9944530725479126, 0.005546991713345051], [0.9999595284461975, 4.043165245093405e-05], [0.9997303485870361, 0.0002696894225664437], [0.9997127056121826, 0.00028734432999044657], [0.9998787045478821, 0.0001212157221743837], [0.9995760321617126, 0.0004239546542521566], [0.9989282488822937, 0.0010716832475736737], [0.999842643737793, 0.0001574227644596249], [0.9998813271522522, 0.00011863718827953562], [0.9995120167732239, 0.00048794454778544605], [0.0025610451120883226, 0.997438907623291], [0.004086517263203859, 0.9959135055541992], [0.9998776912689209, 0.00012239381612744182], [0.0029809288680553436, 0.9970189332962036], [0.9284901022911072, 0.07150990515947342], [0.9998717308044434, 0.0001282570738112554], [0.002388142980635166, 0.9976118206977844], [0.5119115710258484, 0.488088458776474], [0.002391277812421322, 0.9976086020469666], [0.9997632503509521, 0.00023679033620283008], [0.99916011095047, 0.00083986233221367], [0.9991441965103149, 0.0008558048284612596], [0.9998946785926819, 0.00010522778757149354], [0.9997227191925049, 0.000277304818155244], [0.9998013973236084, 0.00019872958364430815], [0.999970018863678, 2.990668872371316e-05], [0.009415427222847939, 0.9905845522880554], [0.00266479910351336, 0.9973351359367371], [0.002388142980635166, 0.9976118206977844], [0.9980199337005615, 0.0019800523295998573], [0.9996064305305481, 0.00039360488881357014], [0.9998364448547363, 0.00016356963897123933], [0.9939372539520264, 0.00606286246329546], [0.9993738532066345, 0.0006261664675548673], [0.9996469020843506, 0.0003531134279910475], [0.9999237656593323, 7.61240953579545e-05], [0.0023882132954895496, 0.9976117014884949], [0.9997847080230713, 0.00021532337996177375], [0.0023881623055785894, 0.9976118206977844], [0.002388146473094821, 0.9976118206977844], [0.999733567237854, 0.0002664529893081635], [0.9989457726478577, 0.0010542671661823988], [0.009743462316691875, 0.9902565479278564], [0.9990884065628052, 0.0009115517605096102], [0.9998016357421875, 0.0001984783011721447], [0.9996589422225952, 0.00034112005960196257], [0.9997445344924927, 0.0002555625978857279], [0.9998531341552734, 0.00014691239630337805], [0.0024000403936952353, 0.9975998997688293], [0.9997491836547852, 0.00025084480876103044], [0.1264132708311081, 0.8735868334770203], [0.9994837641716003, 0.0005161957815289497], [0.011950541287660599, 0.9880493879318237], [0.9997215270996094, 0.000278553954558447], [0.9998562335968018, 0.00014375564933288842], [0.002388179302215576, 0.9976118206977844], [0.9998214244842529, 0.00017868434952106327], [0.9929400682449341, 0.007059899624437094], [0.9999256730079651, 7.431623816955835e-05], [0.002731118816882372, 0.9972689151763916], [0.9997859001159668, 0.00021411178749985993], [0.9985567927360535, 0.001443148241378367], [0.9986281991004944, 0.0013718068366870284], [0.9997110366821289, 0.0002890087489504367], [0.005864298436790705, 0.9941356778144836], [0.999765157699585, 0.00023484142730012536], [0.9998621940612793, 0.00013794569531455636], [0.999941885471344, 5.8110555983148515e-05], [0.9990789890289307, 0.0009210114949382842], [0.9998869299888611, 0.00011300548067083582], [0.9996594190597534, 0.00034062578924931586], [0.9999272227287292, 7.267738692462444e-05], [0.99968421459198, 0.00031577330082654953], [0.0023967830929905176, 0.9976031184196472], [0.9998447895050049, 0.000155195317347534], [0.9999386668205261, 6.127214874140918e-05], [0.043964605778455734, 0.9560354351997375], [0.9996322989463806, 0.00036769453436136246], [0.02009386010468006, 0.9799061417579651], [0.6128489971160889, 0.3871510624885559], [0.9992499351501465, 0.0007500408682972193], [0.0023881804663687944, 0.9976118206977844], [0.002388146473094821, 0.9976118206977844], [0.9986782073974609, 0.0013218335807323456], [0.002388142980635166, 0.9976118206977844], [0.9998466968536377, 0.00015343332779593766], [0.011131051927804947, 0.9888688921928406], [0.9997899532318115, 0.00021001300774514675], [0.0025502501521259546, 0.9974497556686401], [0.999884307384491, 0.00011564399028429762], [0.9992097020149231, 0.0007902940269559622], [0.999883234500885, 0.00011673374683596194], [0.9996752738952637, 0.0003247025888413191], [0.9995656609535217, 0.0004342863103374839], [0.8888763189315796, 0.11112357676029205], [0.9998087882995605, 0.00019134045578539371], [0.9998726844787598, 0.00012743397383019328], [0.9999081492424011, 9.183419751934707e-05], [0.9998860955238342, 0.00011379691568436101], [0.9998851418495178, 0.00011480171087896451], [0.9175865650177002, 0.08241349458694458], [0.999097466468811, 0.0009025929030030966], [0.9998838305473328, 0.00011609057401074097], [0.9998328685760498, 0.0001672655635047704], [0.9997085332870483, 0.00029147675377316773], [0.36709246039390564, 0.6329076290130615], [0.999791145324707, 0.00020877177303191274], [0.9999449849128723, 5.499148755916394e-05], [0.9989133477210999, 0.0010865807998925447], [0.09624439477920532, 0.9037555456161499], [0.9996953010559082, 0.0003046702186111361], [0.999643087387085, 0.00035693251993507147], [0.9975922107696533, 0.0024077328853309155], [0.9990383982658386, 0.0009615123271942139], [0.9998154640197754, 0.00018457925762049854], [0.9993413090705872, 0.0006586286472156644], [0.0023881669621914625, 0.9976118206977844], [0.9991061687469482, 0.0008938036626204848], [0.9650382399559021, 0.03496173769235611], [0.9999063611030579, 9.358744136989117e-05], [0.9997978210449219, 0.00020212751405779272], [0.9999571442604065, 4.276985418982804e-05], [0.9995772242546082, 0.0004227226017974317], [0.04617013782262802, 0.9538297057151794], [0.9372349977493286, 0.06276493519544601], [0.9961119890213013, 0.0038880095817148685], [0.9998700618743896, 0.00013001373736187816], [0.9995447993278503, 0.0004551138845272362], [0.9961069822311401, 0.003892906242981553], [0.0023884312249720097, 0.9976114630699158], [0.9995713829994202, 0.0004286241892259568], [0.9998555183410645, 0.00014446275599766523], [0.9979515671730042, 0.0020484935957938433], [0.0036380242090672255, 0.996362030506134], [0.0026721772737801075, 0.9973277449607849], [0.9997483491897583, 0.00025168544379994273], [0.9998939633369446, 0.00010596859647193924], [0.0023881441447883844, 0.9976118206977844], [0.002388306427747011, 0.9976115822792053], [0.9998247623443604, 0.00017521867994219065], [0.9999173283576965, 8.255979628302157e-05], [0.9997680187225342, 0.00023208950005937368], [0.9999076724052429, 9.230407886207104e-05], [0.9996933937072754, 0.00030661793425679207], [0.9993365406990051, 0.0006634838646277785], [0.9999276995658875, 7.223959255497903e-05], [0.9997202157974243, 0.0002798225323203951], [0.9998040199279785, 0.0001960409281309694], [0.04534772038459778, 0.9546523094177246], [0.002400537021458149, 0.9975993633270264], [0.9992249608039856, 0.0007750556687824428], [0.9998762607574463, 0.00012387984315864742], [0.6531375050544739, 0.34686246514320374], [0.9998359680175781, 0.00016414649144280702], [0.9995352625846863, 0.0004647155583370477], [0.999612033367157, 0.00038795513682998717], [0.9997639656066895, 0.000235960484133102], [0.9910793900489807, 0.008920645341277122], [0.9997493028640747, 0.00025072693824768066], [0.9997376203536987, 0.0002623986511025578], [0.9991920590400696, 0.0008079689578153193], [0.46086016297340393, 0.5391399264335632], [0.9992371797561646, 0.0007628829916939139], [0.9998276233673096, 0.00017251564713660628], [0.999276876449585, 0.0007230506162159145], [0.999883234500885, 0.00011670769890770316], [0.9859962463378906, 0.014003664255142212], [0.9996380805969238, 0.00036187126534059644], [0.0023881816305220127, 0.9976118206977844], [0.9883632063865662, 0.011636649258434772], [0.9999491572380066, 5.0762890168698505e-05], [0.9995883107185364, 0.00041173386853188276], [0.9998557567596436, 0.00014430691953748465], [0.9994186162948608, 0.0005813714233227074], [0.9997901916503906, 0.00020980364934075624], [0.9989021420478821, 0.001097910339012742], [0.934955894947052, 0.06504403799772263], [0.0023885779082775116, 0.9976113438606262], [0.9999228119850159, 7.708109478699043e-05], [0.002388142980635166, 0.9976118206977844], [0.999454140663147, 0.0005458996747620404], [0.002388142980635166, 0.9976118206977844], [0.9999669194221497, 3.3078653359552845e-05], [0.9997342824935913, 0.0002657887525856495], [0.999366819858551, 0.000633228337392211], [0.0023881804663687944, 0.9976118206977844], [0.9989898204803467, 0.0010101618245244026], [0.999886691570282, 0.00011326310050208122], [0.9990845918655396, 0.000915396143682301], [0.0024434933438897133, 0.9975563883781433], [0.9602903723716736, 0.0397096648812294], [0.9998049736022949, 0.00019494356820359826], [0.0034571571741253138, 0.9965428709983826], [0.9999485611915588, 5.1358932978473604e-05], [0.9996625185012817, 0.0003375405794940889], [0.9998495578765869, 0.00015045260079205036], [0.9998171329498291, 0.0001828926760936156], [0.002407624153420329, 0.9975923299789429], [0.9998533725738525, 0.00014665444905404001], [0.9999262690544128, 7.371882384177297e-05], [0.002910605864599347, 0.9970893859863281], [0.9998610019683838, 0.00013910385314375162], [0.9996873140335083, 0.00031269213650375605], [0.9965519309043884, 0.0034479659516364336], [0.9987218976020813, 0.0012780651450157166], [0.279096782207489, 0.7209032773971558], [0.002388142980635166, 0.9976118206977844], [0.0023881634697318077, 0.9976118206977844], [0.987371027469635, 0.0126289501786232], [0.9997920989990234, 0.00020791581482626498], [0.004704057704657316, 0.9952959418296814], [0.9998852610588074, 0.00011461116082500666], [0.9985182881355286, 0.0014815493486821651], [0.9996007084846497, 0.0003993583668489009], [0.9997565746307373, 0.00024336716160178185], [0.9998230934143066, 0.00017682014731690288], [0.9996925592422485, 0.0003074512933380902], [0.9998899102210999, 0.000110023764136713], [0.9998393058776855, 0.0001607537124073133], [0.9991856217384338, 0.0008143896120600402], [0.9951064586639404, 0.004893598146736622], [0.9998803734779358, 0.00011952081695199013], [0.9996282458305359, 0.00037181517109274864], [0.999975860118866, 2.4096312699839473e-05], [0.9997493028640747, 0.0002507936442270875], [0.0032225381582975388, 0.9967774748802185], [0.0023881520610302687, 0.9976118206977844], [0.9997951984405518, 0.00020491235773079097], [0.9992612600326538, 0.0007387695950455964], [0.99990314245224, 9.674890316091478e-05], [0.999912440776825, 8.7456610344816e-05], [0.9998812079429626, 0.00011870825255755335], [0.9985590577125549, 0.0014409751165658236], [0.9998228549957275, 0.00017717947775963694], [0.002388142980635166, 0.9976118206977844], [0.9991791844367981, 0.0008207833743654191], [0.002388159977272153, 0.9976118206977844], [0.9977850317955017, 0.0022149549331516027], [0.9088379740715027, 0.0911620557308197], [0.9997446537017822, 0.0002553981903474778], [0.9998838305473328, 0.00011607839405769482], [0.9998047351837158, 0.00019523898663464934], [0.9998981356620789, 0.00010182170808548108], [0.9939111471176147, 0.006088710390031338], [0.9974765181541443, 0.0025235179346054792], [0.997134804725647, 0.0028652141336351633], [0.9997497797012329, 0.00025026549701578915], [0.00238868803717196, 0.9976112246513367], [0.9998447895050049, 0.00015529421216342598], [0.9991199970245361, 0.0008799347560852766], [0.0024206731468439102, 0.9975793361663818], [0.9996447563171387, 0.00035526262945495546], [0.0023883029352873564, 0.9976115822792053], [0.999842643737793, 0.00015746541612315923], [0.0029192925430834293, 0.9970806241035461], [0.999637246131897, 0.00036271935096010566], [0.9992117285728455, 0.0007883204380050302], [0.9995636343955994, 0.0004362975596450269], [0.9997944831848145, 0.00020552634669002146], [0.9994860291481018, 0.0005139320273883641], [0.002388164633885026, 0.9976118206977844], [0.0023890710435807705, 0.997610867023468], [0.008669610135257244, 0.9913303256034851], [0.9994419813156128, 0.0005580087890848517], [0.9998953938484192, 0.00010455873416503891], [0.9974884986877441, 0.002511389320716262], [0.9999013543128967, 9.860698628472164e-05], [0.9987189173698425, 0.0012810510816052556], [0.9997427463531494, 0.00025735836243256927], [0.0023881804663687944, 0.9976118206977844], [0.9999300837516785, 6.98613075655885e-05], [0.999933660030365, 6.622608634643257e-05], [0.998501181602478, 0.001498722587712109], [0.02649342454969883, 0.973506510257721], [0.9999039769172668, 9.591655543772504e-05], [0.999883234500885, 0.00011664783960441127], [0.9996905326843262, 0.00030943413730710745], [0.0023886915296316147, 0.9976112246513367], [0.9996944665908813, 0.000305594177916646], [0.9994159936904907, 0.0005840010708197951], [0.9998876452445984, 0.00011232628457946703], [0.999722957611084, 0.0002771293220575899], [0.9999536871910095, 4.6228586143115535e-05], [0.9996531009674072, 0.0003468542417977005], [0.00238819164223969, 0.9976117014884949], [0.9997634887695312, 0.00023644015891477466], [0.002388142980635166, 0.9976118206977844], [0.002393601927906275, 0.9976063370704651], [0.029351383447647095, 0.9706485867500305], [0.9997875690460205, 0.00021245889365673065], [0.9834659695625305, 0.016534006223082542], [0.9993589520454407, 0.000641029269900173], [0.9993860125541687, 0.0006139904726296663], [0.04855597764253616, 0.9514440298080444], [0.9993336796760559, 0.0006663179956376553], [0.9998321533203125, 0.00016790152585599571], [0.9999471306800842, 5.275198054732755e-05], [0.9996258616447449, 0.0003741352120414376], [0.999748945236206, 0.0002511322090867907], [0.9785182476043701, 0.02148178033530712], [0.9927724599838257, 0.0072275204584002495], [0.999986469745636, 1.349228659819346e-05], [0.002388325519859791, 0.9976115822792053], [0.9997830390930176, 0.0002170883963117376], [0.9999318718910217, 6.810116610722616e-05], [0.9998447895050049, 0.0001553124311612919], [0.9984725117683411, 0.0015274996403604746], [0.9998154640197754, 0.0001846310042310506], [0.0023882496170699596, 0.9976117014884949], [0.9995332360267639, 0.00046671187737956643], [0.999606192111969, 0.0003938770096283406], [0.9995338320732117, 0.00046613524318672717], [0.9997402429580688, 0.0002597506972961128], [0.9997847080230713, 0.00021524206385947764], [0.00238819164223969, 0.9976117014884949], [0.002388142980635166, 0.9976118206977844], [0.0024073123931884766, 0.997592568397522], [0.002388192806392908, 0.9976117014884949], [0.9975079894065857, 0.002492086496204138], [0.9970631003379822, 0.0029367238748818636], [0.9997415542602539, 0.00025845327763818204], [0.9999008774757385, 9.904008766170591e-05], [0.9991198778152466, 0.0008800785872153938], [0.9996981620788574, 0.00030191606492735445], [0.9998359680175781, 0.0001640871778363362], [0.9997540712356567, 0.0002459834504406899], [0.9998943209648132, 0.00010560927330516279], [0.9996927976608276, 0.00030727608827874064], [0.9997477531433105, 0.00025230267783626914], [0.9998388290405273, 0.00016129031428135931], [0.9953408241271973, 0.0046591307036578655], [0.999914824962616, 8.510869520250708e-05], [0.9998816847801208, 0.00011829964932985604], [0.9997572898864746, 0.00024264682724606246], [0.007165387272834778, 0.9928346872329712], [0.002388251945376396, 0.9976117014884949], [0.4683709740638733, 0.5316290855407715], [0.8758895397186279, 0.12411046773195267], [0.9993788599967957, 0.0006211645668372512], [0.9833751320838928, 0.016624797135591507], [0.9996918439865112, 0.00030822932603769004], [0.9953528046607971, 0.004647275898605585], [0.9980534911155701, 0.0019465208752080798], [0.9992961883544922, 0.0007037423201836646], [0.9996538162231445, 0.00034616878838278353], [0.9999149441719055, 8.493851055391133e-05], [0.9983314871788025, 0.0016685558948665857], [0.9970762133598328, 0.0029237151611596346], [0.9999192357063293, 8.065914880717173e-05], [0.002388142980635166, 0.9976118206977844], [0.9990609288215637, 0.0009390536579303443], [0.998605489730835, 0.0013944667298346758], [0.9974038600921631, 0.0025960139464586973], [0.9995793700218201, 0.00042063475120812654], [0.9995473027229309, 0.0004526917764451355], [0.004873583093285561, 0.9951263666152954], [0.0023894747719168663, 0.9976105093955994], [0.9992697238922119, 0.0007303011952899396], [0.9996803998947144, 0.00031963756191544235], [0.999870777130127, 0.0001293274835916236], [0.9997940063476562, 0.0002059867838397622], [0.9998307228088379, 0.0001691940997261554], [0.9997323751449585, 0.00026769613032229245], [0.9998350143432617, 0.00016493312432430685], [0.8922865986824036, 0.107713483273983], [0.9991204738616943, 0.0008794653695076704], [0.9998813271522522, 0.00011858809739351273], [0.9988370537757874, 0.0011629726504907012], [0.9998583793640137, 0.0001416994200553745], [0.9996275305747986, 0.00037253720802254975], [0.9997258186340332, 0.000274172198260203], [0.9996931552886963, 0.0003068457299377769], [0.9999375939369202, 6.239274080144241e-05], [0.9999465346336365, 5.3404066420625895e-05], [0.9997421503067017, 0.00025795650435611606], [0.9964724779129028, 0.0035275830887258053], [0.9860783815383911, 0.013921472243964672], [0.9998743534088135, 0.00012576636800076813], [0.9998959898948669, 0.0001039764829329215], [0.9989012479782104, 0.0010988651774823666], [0.9998562335968018, 0.00014380020729731768], [0.002397925825789571, 0.9976019263267517], [0.002608890412375331, 0.9973911643028259], [0.9887358546257019, 0.011264177970588207], [0.9962794780731201, 0.003720605745911598], [0.9488806128501892, 0.05111945793032646], [0.0024144379422068596, 0.9975855350494385], [0.9997701644897461, 0.0002299526968272403], [0.9997401237487793, 0.0002599647850729525], [0.9905475378036499, 0.009452433325350285], [0.9998779296875, 0.00012200891796965152], [0.9996591806411743, 0.0003408349584788084], [0.9983388781547546, 0.0016611820319667459], [0.06625384837388992, 0.9337460994720459], [0.9957680702209473, 0.004231949336826801], [0.00238859374076128, 0.9976113438606262], [0.0024091925006359816, 0.9975907802581787], [0.9998002052307129, 0.0001997055223910138], [0.9985085725784302, 0.0014913908671587706], [0.002613601041957736, 0.9973863959312439], [0.9997601509094238, 0.00023989401233848184], [0.9998586177825928, 0.0001413646969012916], [0.9998878836631775, 0.00011204194015590474], [0.9997222423553467, 0.00027785002021119], [0.002388164633885026, 0.9976118206977844], [0.022914430126547813, 0.977085530757904], [0.9998829960823059, 0.00011689258099067956], [0.9999023079872131, 9.767897427082062e-05], [0.9997818470001221, 0.00021826685406267643], [0.0023883008398115635, 0.9976117014884949], [0.9995463490486145, 0.00045361617230810225], [0.9996726512908936, 0.0003273198672104627], [0.9998056888580322, 0.0001943871466210112], [0.9998787045478821, 0.00012126139336032793], [0.999554455280304, 0.0004455054004210979], [0.9994381666183472, 0.0005618191789835691], [0.9996747970581055, 0.0003252302121836692], [0.9996570348739624, 0.0003429980715736747], [0.9991401433944702, 0.0008597832056693733], [0.9999164938926697, 8.342687215190381e-05], [0.9998846650123596, 0.0001152140466729179], [0.999960720539093, 3.9192345866467804e-05], [0.9913814067840576, 0.008618475869297981], [0.9998688697814941, 0.00013116330956108868], [0.999125599861145, 0.000874354736879468], [0.9997313022613525, 0.00026874945615418255], [0.9999186396598816, 8.128706394927576e-05], [0.002388203050941229, 0.9976117014884949], [0.9998839497566223, 0.00011592364171519876], [0.9999497532844543, 5.015065471525304e-05], [0.9997203350067139, 0.00027971825329586864], [0.9995279908180237, 0.00047200106200762093], [0.002388142980635166, 0.9976118206977844], [0.9998083114624023, 0.00019161280943080783], [0.9997751712799072, 0.00022478062601294369], [0.01322584692388773, 0.986774206161499], [0.9986579418182373, 0.0013420038158074021], [0.9997735023498535, 0.00022658469970338047], [0.9992482662200928, 0.0007517331978306174], [0.9997193813323975, 0.0002806021075230092], [0.0025362474843859673, 0.9974637627601624], [0.0023881476372480392, 0.9976118206977844], [0.999875545501709, 0.00012441063881851733], [0.9998207092285156, 0.00017940632824320346], [0.9999392628669739, 6.062601460143924e-05], [0.9999240040779114, 7.597036164952442e-05], [0.9321255087852478, 0.06787452101707458], [0.9999247193336487, 7.522941450588405e-05], [0.002388250781223178, 0.9976117014884949], [0.9992215037345886, 0.0007786012720316648], [0.9998619556427002, 0.00013804818445350975], [0.0032335000578314066, 0.9967663884162903], [0.9998230934143066, 0.00017681997269392014], [0.9998104572296143, 0.0001895962777780369], [0.9999009966850281, 9.897325071506202e-05], [0.9986550211906433, 0.001345027587376535], [0.9996079802513123, 0.00039206387009471655], [0.9997668266296387, 0.00023311206314247102], [0.9996616840362549, 0.00033837647060863674], [0.9941230416297913, 0.005876915995031595], [0.9996923208236694, 0.0003077328437939286], [0.9995959401130676, 0.00040405875188298523], [0.9996539354324341, 0.0003460930602159351], [0.9998519420623779, 0.00014800899953115731], [0.002413385082036257, 0.9975866079330444], [0.9998199939727783, 0.00017993446090258658], [0.9997080564498901, 0.0002919971593655646], [0.999826192855835, 0.00017379932978656143], [0.002390330657362938, 0.997609555721283], [0.9997847080230713, 0.00021523694158531725], [0.9994596242904663, 0.0005403720424510539], [0.9999081492424011, 9.179277549264953e-05], [0.9964904189109802, 0.0035096118226647377], [0.0023881804663687944, 0.9976118206977844], [0.9998624324798584, 0.00013761264563072473], [0.998023271560669, 0.001976753119379282], [0.019771449267864227, 0.9802284836769104], [0.9999683499336243, 3.155765443807468e-05], [0.9998111724853516, 0.00018881600408349186], [0.999907910823822, 9.204390516970307e-05], [0.9995273947715759, 0.0004726027837023139], [0.9999242424964905, 7.574041228508577e-05], [0.9998869299888611, 0.00011301561607979238], [0.9998918175697327, 0.00010808253136929125], [0.9989776611328125, 0.0010222078999504447], [0.0023903069086372852, 0.9976096749305725], [0.9984754920005798, 0.0015245520044118166], [0.999904215335846, 9.572668932378292e-05], [0.002388142980635166, 0.9976118206977844], [0.999737024307251, 0.0002629804366733879], [0.9992916584014893, 0.0007083488162606955], [0.9995293021202087, 0.0004706258187070489], [0.9946643114089966, 0.005335663445293903], [0.9998078346252441, 0.00019220002286601812], [0.9998645782470703, 0.000135447146021761], [0.9997488260269165, 0.0002511757775209844], [0.999546229839325, 0.0004537866043392569], [0.9999551177024841, 4.4775679270969704e-05], [0.9996383190155029, 0.0003616358735598624], [0.9999459385871887, 5.401726593845524e-05], [0.999928891658783, 7.0990550739225e-05], [0.002388142980635166, 0.9976118206977844], [0.9998767375946045, 0.00012331365724094212], [0.1790134310722351, 0.8209865689277649], [0.9997217655181885, 0.0002782861120067537], [0.9997994899749756, 0.00020050840976182371], [0.9992491006851196, 0.0007508833659812808], [0.9997801780700684, 0.00021973473485559225], [0.9998919367790222, 0.0001079893991118297], [0.9998223781585693, 0.00017768889665603638], [0.9998869299888611, 0.00011297326273052022], [0.9996201395988464, 0.00037993330624885857], [0.9991309642791748, 0.0008690078975632787], [0.002388192806392908, 0.9976117014884949], [0.9994674921035767, 0.0005325845559127629], [0.0023882086388766766, 0.9976117014884949], [0.9999104142189026, 8.955712837632746e-05], [0.9984492659568787, 0.001550739980302751], [0.9998940825462341, 0.0001058504349202849], [0.9995835423469543, 0.00041647962643764913], [0.9961547255516052, 0.0038452569860965014], [0.9998300075531006, 0.0001699151616776362], [0.9996558427810669, 0.0003441936569288373], [0.9998486042022705, 0.00015138322487473488], [0.9997601509094238, 0.00023994458024390042], [0.008564040996134281, 0.9914358854293823], [0.0023927458096295595, 0.9976071715354919], [0.9996998310089111, 0.000300143234198913], [0.9982221126556396, 0.001777899800799787], [0.0024782114196568727, 0.9975218176841736], [0.9997155666351318, 0.0002844645350705832], [0.9999131560325623, 8.680795144755393e-05], [0.9995418190956116, 0.00045813771430402994], [0.9998528957366943, 0.00014715452562086284], [0.9993579983711243, 0.0006420473218895495], [0.002388471271842718, 0.9976114630699158], [0.9996808767318726, 0.0003190831048414111], [0.9992538690567017, 0.0007461601635441184], [0.8548969030380249, 0.14510317146778107], [0.9977599382400513, 0.0022400058805942535], [0.9752146601676941, 0.024785276502370834], [0.9999019503593445, 9.793302888283506e-05], [0.9999211430549622, 7.875777373556048e-05], [0.3505983054637909, 0.6494016647338867], [0.9994341135025024, 0.0005659701419062912], [0.9979546070098877, 0.0020453589968383312], [0.9996519088745117, 0.0003481390012893826], [0.9999397397041321, 6.025380571372807e-05], [0.9993484616279602, 0.0006515258573926985], [0.004296808037906885, 0.9957031011581421], [0.0024041805882006884, 0.9975957870483398], [0.9996566772460938, 0.0003433666133787483], [0.9999344944953918, 6.538545858347788e-05], [0.9996362924575806, 0.00036372095928527415], [0.9998359680175781, 0.0001640424452489242], [0.0023881441447883844, 0.9976118206977844], [0.9999293684959412, 7.061912765493616e-05], [0.9986585378646851, 0.0013414121931418777], [0.9998593330383301, 0.00014063181879464537], [0.9995903372764587, 0.0004097104538232088], [0.9987659454345703, 0.0012340612011030316], [0.9996852874755859, 0.0003147610113956034], [0.9996644258499146, 0.00033559257281012833], [0.9997570514678955, 0.00024292785383295268], [0.019795237109065056, 0.9802047610282898], [0.9998061656951904, 0.0001939679787028581], [0.9997470378875732, 0.0002529655466787517], [0.9988857507705688, 0.0011141871800646186], [0.002388142980635166, 0.9976118206977844], [0.9998652935028076, 0.00013474200386554003], [0.9997994899749756, 0.00020046328427270055], [0.9998990893363953, 0.00010088606359204277], [0.9811837673187256, 0.018816282972693443], [0.9998803734779358, 0.00011960359552176669], [0.002650825772434473, 0.9973491430282593], [0.9994198083877563, 0.0005802139057777822], [0.9939263463020325, 0.0060736811719834805], [0.9997754096984863, 0.00022457883460447192], [0.0023881769739091396, 0.9976118206977844], [0.9997459650039673, 0.0002541178837418556], [0.9988295435905457, 0.001170503324829042], [0.9998342990875244, 0.00016578251961618662], [0.9998211860656738, 0.00017872742319013923], [0.019162574782967567, 0.980837345123291], [0.9998302459716797, 0.00016971470904536545], [0.01661882922053337, 0.9833812117576599], [0.999800443649292, 0.00019966441323049366], [0.9999328255653381, 6.714524351991713e-05], [0.9966637492179871, 0.003336194669827819], [0.997610867023468, 0.0023890542797744274], [0.999783992767334, 0.00021610618568956852], [0.002954726340249181, 0.9970452785491943], [0.003158645238727331, 0.9968413710594177], [0.0023932126350700855, 0.9976066946983337], [0.8105806112289429, 0.18941938877105713], [0.9998536109924316, 0.00014639903383795172], [0.999828577041626, 0.00017147538892459124], [0.999284029006958, 0.0007158966036513448], [0.9981405735015869, 0.0018594576977193356], [0.0032669040374457836, 0.9967330098152161], [0.0033960165455937386, 0.9966039657592773], [0.006557471118867397, 0.9934425354003906], [0.9990295767784119, 0.0009703211835585535], [0.9977347254753113, 0.0022653178311884403], [0.9995433688163757, 0.0004565423587337136], [0.9999067187309265, 9.32499096961692e-05], [0.9997192621231079, 0.0002807897108141333], [0.9996732473373413, 0.0003267166030127555], [0.9992168545722961, 0.0007831765105947852], [0.0023896759375929832, 0.9976102709770203], [0.9993602633476257, 0.0006397502729669213], [0.9972943663597107, 0.00270561664365232], [0.9994860291481018, 0.000513927370775491], [0.002388565568253398, 0.9976113438606262], [0.9996923208236694, 0.0003076967259403318], [0.0028998993802815676, 0.9971001148223877], [0.0024117380380630493, 0.9975882768630981], [0.999840497970581, 0.00015949241060297936], [0.9997813701629639, 0.00021858775289729238], [0.9542428255081177, 0.04575718566775322], [0.9990223050117493, 0.0009776027873158455], [0.9983827471733093, 0.0016172071918845177], [0.0024326408747583628, 0.997567355632782], [0.9998729228973389, 0.0001270905340788886], [0.9978422522544861, 0.0021578441374003887], [0.9999306797981262, 6.93124602548778e-05], [0.9994897246360779, 0.0005102184950374067], [0.003326829755678773, 0.9966731071472168], [0.9994672536849976, 0.0005326702957972884], [0.9996116757392883, 0.00038835848681628704], [0.9998230934143066, 0.00017684594786260277], [0.4140320420265198, 0.5859679579734802], [0.999883234500885, 0.00011666696809697896], [0.0023885471746325493, 0.9976113438606262], [0.9950357675552368, 0.004964272957295179], [0.9998235702514648, 0.00017656460113357753], [0.9996314644813538, 0.0003686009149532765], [0.9997074604034424, 0.0002925776061601937], [0.9800659418106079, 0.01993401348590851], [0.002390519483014941, 0.9976094365119934], [0.0023882826790213585, 0.9976117014884949], [0.9992479085922241, 0.0007521348306909204], [0.9999070763587952, 9.283644612878561e-05], [0.017192848026752472, 0.9828071594238281], [0.9999502301216125, 4.971989255864173e-05], [0.005059350281953812, 0.9949406385421753], [0.0034239464439451694, 0.9965758919715881], [0.002388142980635166, 0.9976118206977844], [0.9998557567596436, 0.0001443803048459813], [0.9999118447303772, 8.814265311229974e-05], [0.9821532964706421, 0.01784668117761612], [0.008976482786238194, 0.9910235404968262], [0.9991927742958069, 0.0008072243654169142], [0.9995548129081726, 0.000445196550572291], [0.9860533475875854, 0.013946558348834515], [0.999894917011261, 0.00010502758959773928], [0.0023881453089416027, 0.9976118206977844], [0.9998512268066406, 0.0001487584668211639], [0.9999106526374817, 8.924927533371374e-05], [0.9996503591537476, 0.0003495796991046518], [0.99961918592453, 0.0003808258625213057], [0.9998049736022949, 0.00019497517496347427], [0.002877018181607127, 0.9971229434013367], [0.9996482133865356, 0.0003517402510624379], [0.9996548891067505, 0.00034513408900238574], [0.002388142980635166, 0.9976118206977844], [0.9993708729743958, 0.0006291287136264145], [0.9995214343070984, 0.0004784839693456888], [0.9892807602882385, 0.01071928907185793], [0.9968646764755249, 0.0031352574005723], [0.9999249577522278, 7.492255826946348e-05], [0.9996166825294495, 0.00038331246469169855], [0.9996678829193115, 0.00033214481663890183], [0.9999174475669861, 8.25335955596529e-05], [0.9449589252471924, 0.05504097416996956], [0.0023947281297296286, 0.9976051449775696], [0.9999108910560608, 8.909010648494586e-05], [0.9996720552444458, 0.000327927409671247], [0.9997227191925049, 0.0002773188170976937], [0.9999887347221375, 1.1222472494409885e-05], [0.9999307990074158, 6.908163049956784e-05], [0.9995353817939758, 0.0004645640728995204], [0.006489954423159361, 0.9935100674629211], [0.002388142980635166, 0.9976118206977844], [0.9998073577880859, 0.00019267342577222735], [0.9997861385345459, 0.00021395855583250523], [0.9999189972877502, 8.093251381069422e-05], [0.9997997283935547, 0.0002003436820814386], [0.9999069571495056, 9.298157237935811e-05], [0.9997341632843018, 0.000265847280388698], [0.9999054074287415, 9.456572297494859e-05], [0.9999316334724426, 6.826449680374935e-05], [0.9998837113380432, 0.0001161669788416475], [0.9999403357505798, 5.9651389165082946e-05], [0.9997892379760742, 0.00021078475401736796], [0.9997556209564209, 0.00024443177971988916], [0.2213377058506012, 0.7786622643470764], [0.9994426965713501, 0.0005573784001171589], [0.002390750451013446, 0.9976091980934143], [0.999894917011261, 0.00010497241601115093], [0.003565496066585183, 0.9964344501495361], [0.9993836283683777, 0.0006163632497191429], [0.9982497096061707, 0.0017503168201074004], [0.003423471236601472, 0.9965763688087463], [0.999669075012207, 0.00033096392871811986], [0.999905526638031, 9.444028546568006e-05], [0.9996498823165894, 0.000350067944964394], [0.002424753736704588, 0.9975751638412476], [0.9982486367225647, 0.0017512916820123792], [0.7402440905570984, 0.2597559094429016], [0.999499499797821, 0.0005004353006370366], [0.002388986060395837, 0.9976109862327576], [0.9371187090873718, 0.06288128346204758], [0.0024107573553919792, 0.9975892305374146], [0.9995773434638977, 0.00042265531374141574], [0.0023890745360404253, 0.997610867023468], [0.002391930902376771, 0.9976080060005188], [0.9998424053192139, 0.00015765846183057874], [0.9998714923858643, 0.00012862464063800871], [0.999859094619751, 0.00014098039537202567], [0.9987888336181641, 0.0012111796531826258], [0.9998395442962646, 0.0001604325807420537], [0.9999176859855652, 8.224430348491296e-05], [0.999945342540741, 5.459890599013306e-05], [0.9997432231903076, 0.0002568312920629978], [0.01747955195605755, 0.9825204014778137], [0.9995396733283997, 0.0004602624394465238], [0.002388142980635166, 0.9976118206977844], [0.002388142980635166, 0.9976118206977844], [0.9994403123855591, 0.0005596839473582804], [0.9999129176139832, 8.69605501065962e-05], [0.9999387860298157, 6.111832044553012e-05], [0.999950110912323, 4.979666482540779e-05], [0.9997897148132324, 0.00021027309412602335], [0.9999114871025085, 8.841168892104179e-05], [0.0026964263524860144, 0.9973036050796509], [0.999861478805542, 0.00013865347136743367], [0.9996647834777832, 0.000335231568897143], [0.9996004700660706, 0.0003995739098172635], [0.9998550415039062, 0.00014508677122648805], [0.9989562034606934, 0.0010436775628477335], [0.003401110414415598, 0.9965988397598267], [0.0024193355347961187, 0.9975806474685669], [0.9997137784957886, 0.0002862192050088197], [0.9993301033973694, 0.0006698216893710196], [0.9997937679290771, 0.00020634004613384604], [0.9999374747276306, 6.242695963010192e-05], [0.9996195435523987, 0.00038051887531764805], [0.9998161792755127, 0.00018382366397418082], [0.05876096338033676, 0.9412389397621155], [0.0033243184443563223, 0.9966757297515869], [0.9997656345367432, 0.000234461112995632], [0.0023882018867880106, 0.9976117014884949], [0.9954906702041626, 0.004509280901402235], [0.9997471570968628, 0.00025293685030192137], [0.9998745918273926, 0.00012556555157061666], [0.9961115121841431, 0.003888415638357401], [0.9998975396156311, 0.00010239803668810055], [0.9997847080230713, 0.00021534513507504016], [0.9994586706161499, 0.0005412769387476146], [0.9999127984046936, 8.717767923371866e-05], [0.999718189239502, 0.0002818136417772621], [0.9996756315231323, 0.0003244213294237852], [0.9997715950012207, 0.0002283535577589646], [0.9991791844367981, 0.0008208365761674941], [0.9997369050979614, 0.00026313873240724206], [0.9999023079872131, 9.75635412032716e-05], [0.0026891054585576057, 0.9973108768463135], [0.7099599838256836, 0.2900400459766388], [0.9992161393165588, 0.0007838528836145997], [0.9983700513839722, 0.0016300319693982601], [0.9595432281494141, 0.04045678302645683], [0.9999197125434875, 8.02187787485309e-05], [0.9997540712356567, 0.0002459311217535287], [0.9998433589935303, 0.0001567382860230282], [0.99944007396698, 0.0005600260919891298], [0.002424438949674368, 0.9975755214691162], [0.99977707862854, 0.00022303922742139548], [0.9998803734779358, 0.0001195191071019508], [0.9997546672821045, 0.0002453683118801564], [0.999592125415802, 0.0004078356723766774], [0.9997289180755615, 0.0002711318957153708], [0.005141837056726217, 0.9948580861091614], [0.9998307228088379, 0.00016929271805565804], [0.9995114207267761, 0.0004884740919806063], [0.9997484683990479, 0.00025159932556562126], [0.9999157786369324, 8.419113873969764e-05], [0.002388964407145977, 0.9976109862327576], [0.9998631477355957, 0.00013683892029803246], [0.002388313179835677, 0.9976115822792053], [0.9998087882995605, 0.00019128480926156044], [0.999868631362915, 0.0001314990659011528], [0.0023882940877228975, 0.9976117014884949], [0.9998102188110352, 0.00018991327669937164], [0.9994238615036011, 0.0005760019412264228], [0.002388142980635166, 0.9976118206977844], [0.999781608581543, 0.00021839297551196069], [0.999912679195404, 8.730396803002805e-05], [0.99995356798172, 4.631078991224058e-05], [0.3774653673171997, 0.6225346326828003], [0.9673837423324585, 0.032616179436445236], [0.0023910212330520153, 0.9976089596748352], [0.9999082684516907, 9.161857451545075e-05], [0.9997808933258057, 0.0002190695086028427], [0.002388142980635166, 0.9976118206977844], [0.9996656179428101, 0.0003343697462696582], [0.9999373555183411, 6.259309884626418e-05], [0.10816580802202225, 0.8918341398239136], [0.9999479651451111, 5.202772808843292e-05], [0.9992976188659668, 0.0007024090155027807], [0.999845027923584, 0.00015508424257859588], [0.9999526143074036, 4.738158168038353e-05], [0.9997940063476562, 0.00020592784858308733], [0.9998502731323242, 0.00014969274343457073], [0.9996711015701294, 0.0003288518637418747], [0.002388142980635166, 0.9976118206977844], [0.8911781311035156, 0.10882172733545303], [0.9870863556861877, 0.012913701124489307], [0.9998992085456848, 0.00010067558469017968], [0.9931581616401672, 0.0068417321890592575], [0.9997971057891846, 0.00020300208416301757], [0.002388142980635166, 0.9976118206977844], [0.999906599521637, 9.338285599369556e-05], [0.9998300075531006, 0.00017004337860271335], [0.9995589852333069, 0.0004410168039612472], [0.9998944401741028, 0.00010552532330621034], [0.9980571866035461, 0.0019427763763815165], [0.9999006390571594, 9.931814565788954e-05], [0.0024081473238766193, 0.9975917339324951], [0.9981940388679504, 0.0018059907015413046], [0.999912679195404, 8.727632666705176e-05], [0.9814726114273071, 0.018527409061789513], [0.9997339248657227, 0.0002660729514900595], [0.0023922838736325502, 0.9976076483726501], [0.9995042681694031, 0.0004956109914928675], [0.998579740524292, 0.001420311164110899], [0.9983557462692261, 0.0016442436026409268], [0.01697179675102234, 0.9830281734466553], [0.9997063875198364, 0.0002936935634352267], [0.9998722076416016, 0.00012780196266248822], [0.9997018575668335, 0.000298182392725721], [0.9998571872711182, 0.00014283812197390944], [0.9998459815979004, 0.00015406562306452543], [0.9998383522033691, 0.00016161204257514328], [0.0024000494740903378, 0.9975997805595398], [0.9998762607574463, 0.00012380615225993097], [0.9996941089630127, 0.0003059227019548416], [0.9992266297340393, 0.0007733809179626405], [0.9997519254684448, 0.0002481337869539857], [0.9996943473815918, 0.00030570197850465775], [0.0031367228366434574, 0.9968632459640503], [0.999517023563385, 0.00048293740837834775], [0.9999563097953796, 4.368460213299841e-05], [0.9817335605621338, 0.01826646737754345], [0.9999323487281799, 6.755338836228475e-05], [0.002388142980635166, 0.9976118206977844], [0.9999189972877502, 8.08947006589733e-05], [0.9706397652626038, 0.02936013787984848], [0.9999211430549622, 7.87489116191864e-05], [0.9989209771156311, 0.0010789529187604785], [0.9999005198478699, 9.937800496118143e-05], [0.9990906715393066, 0.0009093449334613979], [0.9996486902236938, 0.0003512607072480023], [0.9990856647491455, 0.0009143140050582588], [0.9997889995574951, 0.00021089731308165938], [0.995099663734436, 0.004900294356048107], [0.006044713780283928, 0.9939552545547485], [0.9987496733665466, 0.0012503924081102014], [0.1553160399198532, 0.8446839451789856], [0.9980893135070801, 0.0019105812534689903], [0.9995569586753845, 0.0004429696418810636], [0.9992926120758057, 0.0007073665619827807], [0.0023885087575763464, 0.9976114630699158], [0.0110018914565444, 0.9889981150627136], [0.002414318500086665, 0.997585654258728], [0.9924415946006775, 0.007558504585176706], [0.24465960264205933, 0.7553403973579407], [0.9998667240142822, 0.00013334880350157619], [0.9999448657035828, 5.507666355697438e-05], [0.9997159242630005, 0.0002840753295458853], [0.9998788237571716, 0.0001210859845741652], [0.999849796295166, 0.00015029589121695608], [0.9999281764030457, 7.178875966928899e-05], [0.022217193618416786, 0.9777828454971313], [0.9985616207122803, 0.001438306411728263], [0.9998433589935303, 0.00015663309022784233], [0.9990038275718689, 0.0009960836032405496], [0.3637845516204834, 0.6362154483795166], [0.9996158480644226, 0.00038419064367190003], [0.0024121077731251717, 0.9975879192352295], [0.9997909069061279, 0.00020918785594403744], [0.9996802806854248, 0.0003197908808942884], [0.002662103623151779, 0.9973378777503967], [0.9999012351036072, 9.874718671198934e-05], [0.999928891658783, 7.109549915185198e-05], [0.002388268942013383, 0.9976117014884949], [0.999690055847168, 0.00030996030545793474], [0.9808071851730347, 0.019192788749933243], [0.9997849464416504, 0.00021513109095394611], [0.03405879810452461, 0.9659411907196045], [0.9979897141456604, 0.002010267460718751], [0.9996656179428101, 0.00033439366961829364], [0.9997889995574951, 0.0002109759661834687], [0.9998500347137451, 0.00014993273362051696], [0.9995817542076111, 0.00041826325468719006], [0.9998373985290527, 0.00016253264038823545], [0.9997940063476562, 0.0002059791295323521], [0.9999350905418396, 6.482280150521547e-05], [0.00238980446010828, 0.9976101517677307], [0.9996219277381897, 0.00037805252941325307], [0.002388142980635166, 0.9976118206977844], [0.9998937249183655, 0.00010620035754982382], [0.9994417428970337, 0.0005582513986155391], [0.9959613084793091, 0.004038595128804445], [0.9997009038925171, 0.00029906697454862297], [0.9968165755271912, 0.0031835006084293127], [0.9994391202926636, 0.0005607972852885723], [0.9985308051109314, 0.0014691476244479418], [0.0023881520610302687, 0.9976118206977844], [0.9994455575942993, 0.0005544291925616562], [0.0027517182752490044, 0.9972482323646545], [0.9992947578430176, 0.0007052274304442108], [0.00459826597943902, 0.9954017996788025], [0.11734075844287872, 0.8826592564582825], [0.999943196773529, 5.6684330047573894e-05], [0.9997951984405518, 0.00020490610040724277], [0.00899244099855423, 0.9910074472427368], [0.0031317572575062513, 0.9968682527542114], [0.7408405542373657, 0.2591594457626343], [0.9999315142631531, 6.838972331024706e-05], [0.9999131560325623, 8.676863217260689e-05], [0.9994086027145386, 0.0005913114291615784], [0.00240353518165648, 0.9975963830947876], [0.9723501205444336, 0.02764981985092163], [0.9993351101875305, 0.0006648729904554784], [0.9995906949043274, 0.0004093413008376956], [0.999779462814331, 0.00022056809393689036], [0.9997859001159668, 0.00021407096937764436], [0.999631941318512, 0.000368092063581571], [0.9998364448547363, 0.00016361659800168127], [0.9999623894691467, 3.749529423657805e-05], [0.08220218867063522, 0.9177979230880737], [0.0023887723218649626, 0.9976112246513367], [0.0023881567176431417, 0.9976118206977844], [0.9998657703399658, 0.0001341791357845068], [0.9998023509979248, 0.0001975719496840611], [0.002399526536464691, 0.9976003766059875], [0.9849081039428711, 0.015091881155967712], [0.9998223781585693, 0.00017758843023329973], [0.9992082715034485, 0.0007917420007288456], [0.9215915203094482, 0.07840846478939056], [0.9997291564941406, 0.00027094301185570657], [0.002423442667350173, 0.9975764751434326], [0.9950423836708069, 0.004957547411322594], [0.9986914396286011, 0.001308456645347178], [0.9704427719116211, 0.029557298868894577], [0.999596893787384, 0.00040310193435288966], [0.9946209192276001, 0.005379010457545519], [0.9998016357421875, 0.00019843004702124745], [0.9996777772903442, 0.0003222874947823584], [0.999830961227417, 0.00016911703278310597], [0.839212954044342, 0.1607869565486908], [0.0023881476372480392, 0.9976118206977844], [0.0024097999557852745, 0.997590184211731], [0.0023885720875114202, 0.9976113438606262], [0.999904453754425, 9.547962690703571e-05], [0.9991881251335144, 0.0008118543191812932], [0.9998314380645752, 0.0001686566392891109], [0.9996938705444336, 0.00030616458388976753], [0.0023881590459495783, 0.9976118206977844], [0.9979226589202881, 0.0020772803109139204], [0.9999082684516907, 9.166113886749372e-05], [0.22238071262836456, 0.7776191830635071], [0.002388443797826767, 0.9976114630699158], [0.0023881508968770504, 0.9976118206977844], [0.999925434589386, 7.453341095242649e-05], [0.9996539354324341, 0.0003460070875007659], [0.9981325268745422, 0.001867528771981597], [0.9962876439094543, 0.003712268313392997], [0.999220073223114, 0.0007799199665896595], [0.999907910823822, 9.198853513225913e-05], [0.002388142980635166, 0.9976118206977844], [0.9990736246109009, 0.0009263521642424166], [0.9998013973236084, 0.00019852860714308918], [0.9992661476135254, 0.0007339649018831551], [0.997767984867096, 0.002231983467936516], [0.9994639158248901, 0.0005360512295737863], [0.0024277581833302975, 0.9975722432136536], [0.0053664096631109715, 0.9946334362030029], [0.9998486042022705, 0.0001514919858891517], [0.20426766574382782, 0.7957323789596558], [0.9992030262947083, 0.0007969873840920627], [0.9998714923858643, 0.00012858894478995353], [0.002388250781223178, 0.9976117014884949], [0.9999085068702698, 9.137654706137255e-05], [0.9998852610588074, 0.00011468288721516728], [0.9998185634613037, 0.00018151414406020194], [0.0027340154629200697, 0.9972660541534424], [0.999419093132019, 0.0005808729329146445], [0.9988547563552856, 0.0011451549362391233], [0.9998984932899475, 0.00010138725338038057], [0.9999231696128845, 7.673076470382512e-05], [0.9998600482940674, 0.00013990582374390215], [0.9999337792396545, 6.618878251174465e-05], [0.9981103539466858, 0.0018895656103268266], [0.9998087882995605, 0.0001912545267259702], [0.9996288418769836, 0.00037118548061698675], [0.0023884654510766268, 0.9976114630699158], [0.9998729228973389, 0.00012714449258055538], [0.9997422695159912, 0.00025782323791645467], [0.9997249841690063, 0.0002750535204540938], [0.9998528957366943, 0.00014703458873555064], [0.9996340274810791, 0.0003659481299109757], [0.999830961227417, 0.00016896662418730557], [0.002394427778199315, 0.9976055026054382], [0.9998447895050049, 0.00015513006655965], [0.9999639391899109, 3.599773481255397e-05], [0.99985671043396, 0.0001433659199392423], [0.9998798966407776, 0.00012001144204987213], [0.9970139265060425, 0.0029861293733119965], [0.9997613430023193, 0.0002387685963185504], [0.9979523420333862, 0.0020476211793720722], [0.9992344379425049, 0.0007656016387045383], [0.9856830835342407, 0.014316841959953308], [0.999828577041626, 0.00017139839474111795], [0.9998877644538879, 0.00011221451859455556], [0.9834774732589722, 0.016522441059350967], [0.9997780323028564, 0.00022203645494300872], [0.9998018741607666, 0.00019823979528155178], [0.9997618198394775, 0.00023827305994927883], [0.9945977926254272, 0.005402225069701672], [0.9998581409454346, 0.00014178399578668177], [0.9998016357421875, 0.0001982968533411622], [0.9997830390930176, 0.00021698656200896949], [0.981975793838501, 0.01802421733736992], [0.9999546408653259, 4.530457954388112e-05], [0.9998507499694824, 0.00014937166997697204], [0.999809741973877, 0.0001903147785924375], [0.9992659091949463, 0.000734134519007057], [0.998745858669281, 0.0012542003532871604], [0.9938793182373047, 0.006120608188211918], [0.9868994951248169, 0.013100465759634972], [0.9995377659797668, 0.0004621876869350672], [0.9995331168174744, 0.0004668830370064825], [0.9993777871131897, 0.0006222151569090784], [0.8062105774879456, 0.1937893033027649], [0.9935674667358398, 0.0064325169660151005], [0.0046623824164271355, 0.9953376054763794], [0.9997131824493408, 0.00028681251569651067], [0.9998741149902344, 0.00012601281923707575], [0.9996283650398254, 0.0003716762294061482], [0.9998066425323486, 0.0001934487809194252], [0.9974024295806885, 0.002597436774522066], [0.002388142980635166, 0.9976118206977844], [0.9999287724494934, 7.112349703675136e-05], [0.9981903433799744, 0.0018097002757713199], [0.9998414516448975, 0.00015857255493756384], [0.9995846152305603, 0.0004153590998612344], [0.002398796146735549, 0.9976010918617249], [0.9211922287940979, 0.0788077563047409], [0.9991951584815979, 0.000804872892331332], [0.9999275803565979, 7.236570672830567e-05], [0.002407381311058998, 0.997592568397522], [0.9998538494110107, 0.00014620360161643475], [0.9841941595077515, 0.015805836766958237], [0.9977914094924927, 0.0022085884120315313], [0.9997365474700928, 0.00026356082526035607], [0.3238220512866974, 0.676177978515625], [0.9996840953826904, 0.00031592597952112556], [0.9999449849128723, 5.496296944329515e-05], [0.9998835921287537, 0.00011637398711172864], [0.9997354745864868, 0.0002645446511451155], [0.9998641014099121, 0.00013602183025795966], [0.9998912215232849, 0.00010865501099033281], [0.9999517798423767, 4.8124664317583665e-05], [0.9995844960212708, 0.0004155395436100662], [0.9958621859550476, 0.00413772277534008], [0.9995976090431213, 0.0004024591762572527], [0.9950782060623169, 0.00492175854742527], [0.002389290602877736, 0.9976106286048889], [0.0071615371853113174, 0.9928383827209473], [0.9999198317527771, 8.015272032935172e-05], [0.9988417029380798, 0.0011583379236981273], [0.9999515414237976, 4.840699693886563e-05], [0.9990641474723816, 0.0009359283722005785], [0.9993830323219299, 0.0006169489352032542], [0.8868365287780762, 0.11316348612308502], [0.9984961748123169, 0.0015036650002002716], [0.003945785574615002, 0.9960541725158691], [0.998802661895752, 0.0011973937507718801], [0.9999287724494934, 7.118368375813589e-05], [0.9998395442962646, 0.0001604509452590719], [0.0023884461261332035, 0.9976114630699158], [0.999600350856781, 0.00039965444011613727], [0.9998185634613037, 0.0001814764109440148], [0.9971723556518555, 0.0028276192024350166], [0.9998271465301514, 0.0001728134520817548], [0.9998395442962646, 0.0001604852150194347], [0.9999507069587708, 4.928812995785847e-05], [0.005241454113274813, 0.9947586059570312], [0.9998552799224854, 0.0001448106049792841], [0.9997897148132324, 0.00021026186004746705], [0.9997923374176025, 0.00020765764929819852], [0.9996054768562317, 0.0003945869393646717], [0.999891459941864, 0.00010842244955711067], [0.9997493028640747, 0.0002506992022972554], [0.9999002814292908, 9.965986100723967e-05], [0.002388598397374153, 0.9976113438606262], [0.9998540878295898, 0.00014588385238312185], [0.9999068379402161, 9.31386457523331e-05], [0.9999485611915588, 5.134125240147114e-05], [0.9999503493309021, 4.961237937095575e-05], [0.9996557235717773, 0.0003442297747824341], [0.9996689558029175, 0.0003310434112790972], [0.9979813694953918, 0.002018716186285019], [0.9992818832397461, 0.0007181474938988686], [0.044078607112169266, 0.955921471118927], [0.999899685382843, 0.00010029422992374748], [0.9790281057357788, 0.020971884950995445], [0.999293327331543, 0.0007066496764309704], [0.9995681643486023, 0.00043178521445952356], [0.002388142980635166, 0.9976118206977844], [0.9983469247817993, 0.001653095125220716], [0.9997951984405518, 0.0002047115413006395], [0.0023881657980382442, 0.9976118206977844], [0.9997859001159668, 0.00021420166012831032], [0.002476976253092289, 0.9975230097770691], [0.9998648166656494, 0.00013517632032744586], [0.9987647533416748, 0.0012352584162726998], [0.9999131560325623, 8.673843694850802e-05], [0.9999446272850037, 5.5319695093203336e-05], [0.9990500807762146, 0.0009499114821664989], [0.9997104406356812, 0.0002895973448175937], [0.00240135146304965, 0.9975986480712891], [0.003247883403673768, 0.996752142906189], [0.0025378582067787647, 0.9974620938301086], [0.9997541904449463, 0.00024589247186668217], [0.002388161141425371, 0.9976118206977844], [0.9993976354598999, 0.0006022070883773267], [0.9998915791511536, 0.00010837087756954134], [0.09485255926847458, 0.9051474928855896], [0.9890897274017334, 0.01091023813933134], [0.9997761249542236, 0.00022392308164853603], [0.9996542930603027, 0.0003456497215665877], [0.9997280836105347, 0.00027201120974496007], [0.9998965859413147, 0.00010332356032449752], [0.9999598860740662, 4.003516005468555e-05], [0.9994312524795532, 0.0005686666117981076], [0.9865499138832092, 0.01345009170472622], [0.9990412592887878, 0.0009586721425876021], [0.9986501336097717, 0.0013498937478289008], [0.47570157051086426, 0.5242984294891357], [0.9990657567977905, 0.0009342573466710746], [0.9998619556427002, 0.00013797645806334913], [0.999937117099762, 6.287559517659247e-05], [0.9965347051620483, 0.0034652871545404196], [0.9997608661651611, 0.00023924760171212256], [0.5709068179130554, 0.42909324169158936], [0.9997426271438599, 0.00025742556317709386], [0.9998953938484192, 0.00010450409899931401], [0.0023883541580289602, 0.9976115822792053], [0.9995301365852356, 0.00046982214553281665], [0.9989709854125977, 0.0010289085330441594], [0.9997837543487549, 0.00021620899497065693], [0.9999228119850159, 7.708881457801908e-05], [0.9992907047271729, 0.0007092633750289679], [0.9979948401451111, 0.0020051023457199335], [0.9999491572380066, 5.081025665276684e-05], [0.9998137950897217, 0.00018631760030984879], [0.9984689354896545, 0.001531022135168314], [0.9978681802749634, 0.002131801098585129], [0.9988110661506653, 0.001188902766443789], [0.9998939633369446, 0.00010597223445074633], [0.9993507266044617, 0.0006492345710285008], [0.9652426242828369, 0.03475739806890488], [0.9998674392700195, 0.00013267886242829263], [0.9999350905418396, 6.480839510913938e-05], [0.99989253282547, 0.00010743312304839492], [0.9998610019683838, 0.0001390517281834036], [0.9999075531959534, 9.235830657416955e-05], [0.9993131756782532, 0.0006867500487715006], [0.9997603893280029, 0.00023972621420398355], [0.9994763731956482, 0.0005235250573605299], [0.9819415211677551, 0.01805843599140644], [0.9994574785232544, 0.0005424420814961195], [0.9999513030052185, 4.858199099544436e-05], [0.0023883357644081116, 0.9976115822792053], [0.999849796295166, 0.0001502341328887269], [0.9996281266212463, 0.000371869740774855], [0.9993276000022888, 0.0006723306723870337], [0.9995717406272888, 0.0004283056186977774], [0.9997718334197998, 0.00022823779727332294], [0.9971436262130737, 0.0028563900850713253], [0.9999282956123352, 7.167213334469125e-05], [0.9994586706161499, 0.0005412206519395113], [0.9809986352920532, 0.019001267850399017], [0.9998569488525391, 0.00014318941975943744], [0.9979197978973389, 0.002080167643725872], [0.9982625842094421, 0.001737396465614438], [0.002388142980635166, 0.9976118206977844], [0.9953064918518066, 0.004693473223596811], [0.9998700618743896, 0.0001299883151659742], [0.9998626708984375, 0.00013743116869591177], [0.9998975396156311, 0.00010244491568300873], [0.007303876802325249, 0.9926960468292236], [0.9993962049484253, 0.0006036120466887951], [0.9996795654296875, 0.00032044886029325426], [0.9989041686058044, 0.0010957885533571243], [0.9997947216033936, 0.00020527938613668084], [0.0031606697011739016, 0.9968392252922058], [0.005225080531090498, 0.9947749376296997], [0.007316116243600845, 0.9926838874816895], [0.999859094619751, 0.0001410075492458418], [0.999582827091217, 0.00041718053398653865], [0.9998562335968018, 0.00014377592015080154], [0.9996603727340698, 0.00033963771420530975], [0.0028704076539725065, 0.9971295595169067], [0.7274736166000366, 0.2725263833999634], [0.9993545413017273, 0.0006454825634136796], [0.9987278580665588, 0.0012721737148240209], [0.9998939633369446, 0.00010598810331430286], [0.999781608581543, 0.00021831176127307117], [0.9998909831047058, 0.00010893959552049637], [0.9997410774230957, 0.000258995481999591], [0.9997272491455078, 0.00027283738018013537], [0.9999238848686218, 7.603870471939445e-05], [0.9986357092857361, 0.0013642390258610249], [0.9998147487640381, 0.0001853589783422649], [0.9995030760765076, 0.0004968323046341538], [0.9995660185813904, 0.00043401154107414186], [0.734455943107605, 0.2655441164970398], [0.002388142980635166, 0.9976118206977844], [0.9759465456008911, 0.024053417146205902], [0.9997973442077637, 0.00020274501002859324], [0.9998118877410889, 0.0001881234347820282], [0.008694970980286598, 0.9913050532341003], [0.9998540878295898, 0.0001459169725421816], [0.9997961521148682, 0.0002038547390839085], [0.9998899102210999, 0.0001100356166716665], [0.9997692108154297, 0.0002307160320924595], [0.9997725486755371, 0.00022739822452422231], [0.9995540976524353, 0.00044585546129383147], [0.9998478889465332, 0.0001520778314443305], [0.0025995320174843073, 0.9974005222320557], [0.9998636245727539, 0.00013644791033584625], [0.9996757507324219, 0.00032423672382719815], [0.9998281002044678, 0.00017191970255225897], [0.9997155666351318, 0.00028443007613532245], [0.9999534487724304, 4.6450248191831633e-05], [0.0023881590459495783, 0.9976118206977844], [0.9998815655708313, 0.00011832659947685897], [0.9999074339866638, 9.245188994100317e-05], [0.999840497970581, 0.00015945330960676074], [0.9999060034751892, 9.39619421842508e-05], [0.9999005198478699, 9.945537749445066e-05], [0.0023889243602752686, 0.9976109862327576], [0.9993097186088562, 0.0006902602035552263], [0.002388214459642768, 0.9976117014884949], [0.9989470839500427, 0.0010529677383601665], [0.9979851841926575, 0.0020147995091974735], [0.9998326301574707, 0.00016736269753891975], [0.9986489415168762, 0.0013511157594621181], [0.9997528791427612, 0.0002471784537192434], [0.987755298614502, 0.012244608253240585], [0.9997928142547607, 0.00020715889695566148], [0.39818209409713745, 0.6018178462982178], [0.9999291300773621, 7.07484723534435e-05], [0.9995436072349548, 0.00045641858014278114], [0.9545002579689026, 0.04549967125058174], [0.9998447895050049, 0.00015533184341620654], [0.9997519254684448, 0.0002481404226273298], [0.9964565634727478, 0.0035434055607765913], [0.9994996190071106, 0.0005003301193937659], [0.0023883951362222433, 0.9976115822792053], [0.9999428391456604, 5.7120931160170585e-05], [0.005658417008817196, 0.9943416118621826], [0.9517642855644226, 0.04823572188615799], [0.9997081756591797, 0.0002918669197242707], [0.9997875690460205, 0.0002125585888279602], [0.9986671209335327, 0.0013329098001122475], [0.9998807311058044, 0.00011921918485313654], [0.9999045729637146, 9.539763414068148e-05], [0.9998888373374939, 0.00011114638618892059], [0.00238857907243073, 0.9976113438606262], [0.9876165986061096, 0.012383423745632172], [0.9997551441192627, 0.000244888971792534], [0.9998774528503418, 0.00012247878476046026], [0.99993497133255, 6.501465395558625e-05], [0.9989814758300781, 0.0010184256825596094], [0.999573290348053, 0.00042669649701565504], [0.01203997153788805, 0.9879599809646606], [0.9979135990142822, 0.002086418913677335], [0.005557812284678221, 0.9944421648979187], [0.0025141944643110037, 0.9974857568740845], [0.9993708729743958, 0.0006291737081483006], [0.9996458292007446, 0.00035413558362051845], [0.9942106008529663, 0.005789304152131081], [0.9997832775115967, 0.00021667829423677176], [0.9996957778930664, 0.0003042394819203764], [0.31115853786468506, 0.6888415813446045], [0.99970543384552, 0.0002945530286524445], [0.999807596206665, 0.00019231365877203643], [0.0023881858214735985, 0.9976117014884949], [0.9997555017471313, 0.0002445208083372563], [0.9998884797096252, 0.00011150413047289476], [0.99944007396698, 0.0005599946016445756], [0.9998688697814941, 0.00013119721552357078], [0.9996984004974365, 0.0003016222908627242], [0.9998683929443359, 0.0001315370318479836], [0.9998345375061035, 0.0001654398365644738], [0.9997713565826416, 0.00022870374959893525], [0.999930202960968, 6.973537529120222e-05], [0.9999092221260071, 9.074656554730609e-05], [0.9997856616973877, 0.0002142996818292886], [0.9998569488525391, 0.00014302550698630512], [0.9996541738510132, 0.0003458303399384022], [0.9996059536933899, 0.00039410273893736303], [0.002388214459642768, 0.9976117014884949], [0.9994698762893677, 0.0005302596255205572], [0.9997355937957764, 0.00026444048853591084], [0.9999296069145203, 7.028515392448753e-05], [0.9999092221260071, 9.06962959561497e-05], [0.0095912991091609, 0.990408718585968], [0.02535123936831951, 0.9746487736701965], [0.9995264410972595, 0.0004734578833449632], [0.9998526573181152, 0.000147404643939808], [0.9999348521232605, 6.502853648271412e-05], [0.9555198550224304, 0.04448018968105316], [0.9999650120735168, 3.489326627459377e-05], [0.9992949962615967, 0.0007051072316244245], [0.9999616742134094, 3.821973950834945e-05], [0.9998033046722412, 0.0001967463322216645], [0.9995773434638977, 0.0004226416349411011], [0.9995918869972229, 0.0004081106453668326], [0.9995880722999573, 0.0004119588411413133], [0.9562307596206665, 0.043769195675849915], [0.9997236728668213, 0.0002763739030342549], [0.982168972492218, 0.017830975353717804], [0.9988809823989868, 0.001118939951993525], [0.9987704753875732, 0.001229544053785503], [0.9998366832733154, 0.00016336046974174678], [0.9995591044425964, 0.00044090751907788217], [0.9998942017555237, 0.00010575136548141018], [0.9997818470001221, 0.0002182589378207922], [0.9993399977684021, 0.0006599909975193441], [0.9997456073760986, 0.00025444128550589085], [0.007275444455444813, 0.992724597454071], [0.9998383522033691, 0.00016156936180777848], [0.9995855689048767, 0.0004143945116084069], [0.028644271194934845, 0.9713557362556458], [0.9993033409118652, 0.0006967747467570007], [0.9991229772567749, 0.0008770185522735119], [0.9999213814735413, 7.851811096770689e-05], [0.9998528957366943, 0.00014722737250849605], [0.9997563362121582, 0.00024368178856093436], [0.9999606013298035, 3.934472260880284e-05], [0.9995041489601135, 0.0004958000499755144], [0.009241797029972076, 0.9907581210136414], [0.2627970576286316, 0.7372028827667236], [0.999884307384491, 0.00011564839951461181], [0.9977729916572571, 0.002226967364549637], [0.9998161792755127, 0.00018392465426586568], [0.9951102137565613, 0.004889716859906912], [0.9998913407325745, 0.00010856346489163116], [0.9997273683547974, 0.00027273257728666067], [0.10384132713079453, 0.8961586356163025], [0.0032826086971908808, 0.9967174530029297], [0.9923447966575623, 0.007655265275388956], [0.0024704940151423216, 0.9975295066833496], [0.999765157699585, 0.00023487390717491508], [0.9997875690460205, 0.00021254218881949782], [0.9998140335083008, 0.0001859019830590114], [0.9998624324798584, 0.0001376172440359369], [0.9702144265174866, 0.029785605147480965], [0.9990673065185547, 0.0009326119325123727], [0.008550933562219143, 0.9914489984512329], [0.913151741027832, 0.08684832602739334], [0.9996055960655212, 0.0003943908086512238], [0.9998195171356201, 0.0001804087805794552], [0.9992485046386719, 0.0007515466422773898], [0.9996651411056519, 0.00033481247373856604], [0.10178108513355255, 0.8982188105583191], [0.9999025464057922, 9.741415124153718e-05], [0.9975500702857971, 0.002449824707582593], [0.9993788599967957, 0.0006212280131876469], [0.9997354745864868, 0.0002646016364451498], [0.9999030232429504, 9.695514745544642e-05], [0.9998762607574463, 0.00012380379484966397], [0.007354740519076586, 0.9926453232765198], [0.9998829960823059, 0.00011697487934725359], [0.004334176424890757, 0.9956658482551575], [0.00250206608325243, 0.9974980354309082], [0.999873161315918, 0.00012689655704889446], [0.002394551644101739, 0.9976053833961487], [0.9997380971908569, 0.00026198444538749754], [0.9984297752380371, 0.0015701078809797764], [0.9998828768730164, 0.00011708826059475541], [0.9970715641975403, 0.002928417641669512], [0.9999073147773743, 9.262122330255806e-05], [0.9998171329498291, 0.00018283810641150922], [0.9996800422668457, 0.0003199857601430267], [0.9987344145774841, 0.001265601604245603], [0.002388142980635166, 0.9976118206977844], [0.9998652935028076, 0.00013483133807312697], [0.99992436170578, 7.55652436055243e-05], [0.9994732737541199, 0.0005266786320134997], [0.9998610019683838, 0.00013896275777369738], [0.9986457228660583, 0.001354322419501841], [0.9999108910560608, 8.902547415345907e-05], [0.9998533725738525, 0.00014674705744255334], [0.002424628008157015, 0.9975752830505371], [0.9999276995658875, 7.223380816867575e-05], [0.37791600823402405, 0.6220839619636536], [0.9987027645111084, 0.0012971885735169053], [0.9994248151779175, 0.0005750589771196246], [0.9730296730995178, 0.026970215141773224], [0.9999544024467468, 4.548887227429077e-05], [0.0028321901336312294, 0.9971677660942078], [0.9999628663063049, 3.711492900038138e-05], [0.9997001886367798, 0.0002997874980792403], [0.9956619143486023, 0.004338029772043228], [0.9999068379402161, 9.314140334026888e-05], [0.9654325842857361, 0.034567344933748245], [0.9997514486312866, 0.0002485590521246195], [0.9957097768783569, 0.004290258977562189], [0.9998130798339844, 0.00018691136210691184], [0.9997823238372803, 0.00021761016978416592], [0.9997118711471558, 0.000288155279122293], [0.9996418952941895, 0.00035812583519145846], [0.9998899102210999, 0.00010998683865182102], [0.9995612502098083, 0.0004387754888739437], [0.9998211860656738, 0.00017895239579956979], [0.9997835159301758, 0.00021660872153006494], [0.31254103779792786, 0.6874589920043945], [0.9998835921287537, 0.00011629288201220334], [0.9913725256919861, 0.008627424016594887], [0.0023913916666060686, 0.997608482837677], [0.9960497617721558, 0.003950225654989481], [0.0023881657980382442, 0.9976118206977844], [0.002388142980635166, 0.9976118206977844], [0.999934732913971, 6.519506132462993e-05], [0.9999012351036072, 9.867921471595764e-05], [0.9994909167289734, 0.0005089676706120372], [0.9990605711936951, 0.0009394801454618573], [0.0023903183173388243, 0.9976096749305725], [0.002388142980635166, 0.9976118206977844], [0.9998916983604431, 0.00010824229684658349], [0.9997968673706055, 0.00020318197493907064], [0.999714732170105, 0.00028532586293295026], [0.9998729228973389, 0.0001272144727408886], [0.9995498061180115, 0.00045022377162240446], [0.004579425323754549, 0.995420515537262], [0.9993293881416321, 0.000670580833684653], [0.9999244809150696, 7.55082000978291e-05], [0.002388142980635166, 0.9976118206977844], [0.0023891860619187355, 0.9976107478141785], [0.9990151524543762, 0.0009848084300756454], [0.9997314214706421, 0.0002686551888473332], [0.9937459230422974, 0.006254072301089764], [0.9996936321258545, 0.0003064107440877706], [0.006133385002613068, 0.9938666224479675], [0.9787604808807373, 0.02123945951461792], [0.9993964433670044, 0.0006033739191479981], [0.07706328481435776, 0.922936737537384], [0.0023898452054709196, 0.9976100325584412], [0.9999642968177795, 3.5691973607754335e-05], [0.9998526573181152, 0.00014735461445525289], [0.9998650550842285, 0.00013502020738087595], [0.9981929659843445, 0.0018070990918204188], [0.997945249080658, 0.0020547015592455864], [0.0023881453089416027, 0.9976118206977844], [0.030743537470698357, 0.9692563414573669], [0.9999132752418518, 8.66172558744438e-05], [0.9982543587684631, 0.0017456631176173687], [0.007804035674780607, 0.9921959638595581], [0.002488653641194105, 0.9975113272666931], [0.9996598958969116, 0.0003401594585739076], [0.9998552799224854, 0.00014482827100437135], [0.9998137950897217, 0.00018628047837410122], [0.9999064803123474, 9.344556019641459e-05], [0.9999070763587952, 9.285291889682412e-05], [0.9998512268066406, 0.00014879649097565562], [0.9785149693489075, 0.021484985947608948], [0.9990366101264954, 0.0009633495355956256], [0.002388919936493039, 0.9976109862327576], [0.9996733665466309, 0.00032665152684785426], [0.9976790547370911, 0.0023210151121020317], [0.9997545480728149, 0.0002455688954796642], [0.0023884701076895, 0.9976114630699158], [0.9994274377822876, 0.0005725553492084146], [0.9998909831047058, 0.00010892120189964771], [0.003429960925132036, 0.9965699911117554], [0.9994004964828491, 0.0005995584651827812], [0.002848654752597213, 0.9971511960029602], [0.9992376565933228, 0.0007623030105605721], [0.9999193549156189, 8.059887477429584e-05], [0.9998173713684082, 0.00018272151646669954], [0.990358293056488, 0.00964172650128603], [0.9998736381530762, 0.00012634428276214749], [0.9998859763145447, 0.00011401057417970151], [0.999819278717041, 0.00018063047900795937], [0.0029965047724545, 0.9970034956932068], [0.9859210252761841, 0.014078907668590546], [0.9996365308761597, 0.0003634339664131403], [0.986600935459137, 0.013399070128798485], [0.999852180480957, 0.00014791956346016377], [0.9998767375946045, 0.00012339907698333263], [0.02280275709927082, 0.9771971702575684], [0.9711511135101318, 0.028848737478256226], [0.9998209476470947, 0.00017909934103954583], [0.9998486042022705, 0.00015153444837778807], [0.9997174739837646, 0.0002825317205861211], [0.9995442032814026, 0.0004557225329335779], [0.9996743202209473, 0.0003257096104789525], [0.9997668266296387, 0.00023325684014707804], [0.9001104831695557, 0.09988949447870255], [0.9998868107795715, 0.0001131760873249732], [0.9998257160186768, 0.00017439980001654476], [0.9998953938484192, 0.00010450230183778331], [0.9999256730079651, 7.426125375786796e-05], [0.9999186396598816, 8.127024193527177e-05], [0.999911367893219, 8.854093903210014e-05], [0.9810579419136047, 0.018942134454846382], [0.9997251033782959, 0.00027493078960105777], [0.9996905326843262, 0.000309489929350093], [0.9987067580223083, 0.0012931542005389929], [0.9998424053192139, 0.00015762944531161338], [0.9999273419380188, 7.256914250319824e-05], [0.998215913772583, 0.0017841606168076396], [0.9998106956481934, 0.00018931356316898018], [0.9989604949951172, 0.0010394734563305974], [0.9989102482795715, 0.0010897164465859532], [0.9859253764152527, 0.014074592851102352], [0.94886314868927, 0.05113682523369789], [0.9999125599861145, 8.732177957426757e-05], [0.9998762607574463, 0.00012375894584693015], [0.0023881508968770504, 0.9976118206977844], [0.999861478805542, 0.00013866880908608437], [0.01607520878314972, 0.9839247465133667], [0.9998921751976013, 0.00010776843555504456], [0.9997177124023438, 0.0002823631220962852], [0.00487927533686161, 0.9951207041740417], [0.1206241101026535, 0.8793758153915405], [0.0024045577738434076, 0.9975953102111816], [0.9997680187225342, 0.0002320704807061702], [0.999840259552002, 0.00015971854736562818], [0.9978970885276794, 0.0021029917988926172], [0.9985514283180237, 0.0014485456049442291], [0.9998788237571716, 0.00012105642963433638], [0.999575674533844, 0.0004242815193720162], [0.0024048129562288523, 0.9975950717926025], [0.9998988509178162, 0.00010112299787579104], [0.0023882610257714987, 0.9976117014884949], [0.9968023896217346, 0.0031975628808140755], [0.9956710338592529, 0.004328861832618713], [0.9844780564308167, 0.01552191935479641], [0.9995318055152893, 0.00046810979256406426], [0.999823808670044, 0.00017621710139792413], [0.9982190132141113, 0.0017809956334531307], [0.9985544085502625, 0.0014455801574513316], [0.9998440742492676, 0.00015598921163473278], [0.9997413158416748, 0.0002587081980891526], [0.9999168515205383, 8.304951916215941e-05], [0.9997521638870239, 0.00024793067132122815], [0.997774064540863, 0.0022259335964918137], [0.9999291300773621, 7.082232332322747e-05], [0.9997347593307495, 0.00026524849818088114], [0.0023897101636976004, 0.9976102709770203], [0.002388154389336705, 0.9976118206977844], [0.9995701909065247, 0.00042984189349226654], [0.0023883632384240627, 0.9976115822792053], [0.9965928792953491, 0.003407004987820983], [0.9998466968536377, 0.00015342820552177727], [0.9975929260253906, 0.0024069861974567175], [0.9998481273651123, 0.00015186771634034812], [0.9998641014099121, 0.00013598136138170958], [0.019082965329289436, 0.9809169769287109], [0.0024059147108346224, 0.9975939989089966], [0.9996343851089478, 0.00036561439628712833], [0.9999462962150574, 5.364355456549674e-05], [0.7942696809768677, 0.20573024451732635], [0.9995730519294739, 0.0004269795317668468], [0.0028787259943783283, 0.997121274471283], [0.9893054366111755, 0.010694550350308418], [0.9996726512908936, 0.0003273679467383772], [0.9999201893806458, 7.976347114890814e-05], [0.9997086524963379, 0.00029132506460882723], [0.9881952404975891, 0.011804724112153053], [0.9950333833694458, 0.0049665081314742565], [0.9998350143432617, 0.0001649106270633638], [0.9995611310005188, 0.0004388788074720651], [0.002444633049890399, 0.9975553154945374], [0.9997051954269409, 0.0002948368201032281], [0.9998049736022949, 0.0001949662691913545], [0.9998157024383545, 0.00018433196237310767], [0.9169519543647766, 0.08304800093173981], [0.9998271465301514, 0.00017290264077018946], [0.9996544122695923, 0.0003455963742453605], [0.9993371367454529, 0.0006628180271945894], [0.9919994473457336, 0.00800061784684658], [0.9998819231987, 0.00011802167136920616], [0.002396037569269538, 0.9976038336753845], [0.9984952211380005, 0.001504763844422996], [0.002388331340625882, 0.9976115822792053], [0.9997437000274658, 0.00025637212092988193], [0.9997823238372803, 0.00021774759807158262], [0.9972628355026245, 0.0027372115291655064], [0.9999365210533142, 6.338911771308631e-05], [0.9648929834365845, 0.035107050091028214], [0.9996745586395264, 0.00032550879404880106], [0.9998905062675476, 0.0001094542967621237], [0.9986243844032288, 0.0013755954569205642], [0.9999122023582458, 8.771009015617892e-05], [0.010106335394084454, 0.9898936152458191], [0.999561607837677, 0.0004384146595839411], [0.9998056888580322, 0.00019430651445873082], [0.9987697601318359, 0.0012303004041314125], [0.03862643986940384, 0.961373507976532], [0.0023903034161776304, 0.9976096749305725], [0.987567663192749, 0.012432360090315342], [0.202953040599823, 0.7970468401908875], [0.9986677169799805, 0.0013322796439751983], [0.9955184459686279, 0.004481554962694645], [0.9995942711830139, 0.0004057851911056787], [0.9998814463615417, 0.00011851688759634271], [0.9999474883079529, 5.2446463087107986e-05], [0.0023883040994405746, 0.9976115822792053], [0.9998247623443604, 0.0001752482494339347], [0.9995803236961365, 0.000419651682022959], [0.9997531175613403, 0.0002469673927407712], [0.9756209850311279, 0.024378972128033638], [0.9993814826011658, 0.0006185214733704925], [0.9995893836021423, 0.0004106406413484365], [0.9984185695648193, 0.001581396907567978], [0.9997198581695557, 0.00028015809948556125], [0.9992740154266357, 0.0007260023849084973], [0.9992833137512207, 0.0007166427094489336], [0.9998626708984375, 0.00013737585686612874], [0.9999071955680847, 9.269756992580369e-05], [0.9998655319213867, 0.0001344765623798594], [0.9999080300331116, 9.187325485982001e-05], [0.06387607008218765, 0.9361238479614258], [0.9996469020843506, 0.00035306898644194007], [0.9995889067649841, 0.0004110614536330104], [0.9995883107185364, 0.00041165182483382523], [0.9997442960739136, 0.0002557514817453921], [0.9998933672904968, 0.00010655162623152137], [0.9997904300689697, 0.00020953237253706902], [0.992053747177124, 0.007946214638650417], [0.9996367692947388, 0.0003631754079833627], [0.9998988509178162, 0.00010110736911883578], [0.9995208382606506, 0.0004790679085999727], [0.0023898121435195208, 0.9976101517677307], [0.9999309182167053, 6.898256106069311e-05], [0.9997751712799072, 0.00022492279822472483], [0.9998815655708313, 0.00011839975195471197], [0.9996942281723022, 0.00030582238105125725], [0.9998812079429626, 0.00011869081936310977], [0.9997333288192749, 0.00026670133229345083], [0.9998462200164795, 0.00015375579823739827], [0.0188443586230278, 0.9811555743217468], [0.9997203350067139, 0.0002797305351123214], [0.999904453754425, 9.548035450279713e-05], [0.7999341487884521, 0.20006580650806427], [0.9998133182525635, 0.00018667573749553412], [0.9998431205749512, 0.00015698162314947695], [0.9996362924575806, 0.0003636985784396529], [0.9986240267753601, 0.0013759026769548655], [0.23584656417369843, 0.7641534209251404], [0.9996408224105835, 0.0003592066641431302], [0.995806872844696, 0.004193164873868227], [0.999826192855835, 0.0001739427534630522], [0.002388900378718972, 0.9976109862327576], [0.99077969789505, 0.00922027975320816], [0.9994950890541077, 0.0005048101302236319], [0.9999464154243469, 5.358138878364116e-05], [0.9997471570968628, 0.0002528736658859998], [0.9846898913383484, 0.015310114249587059], [0.9996976852416992, 0.00030235821031965315], [0.9998945593833923, 0.00010539157665334642], [0.7419512271881104, 0.25804877281188965], [0.9989922046661377, 0.0010077586630359292], [0.999943196773529, 5.669519669027068e-05], [0.8978667855262756, 0.10213321447372437], [0.9998621940612793, 0.00013791347737424076], [0.9999578595161438, 4.209089820506051e-05], [0.999873161315918, 0.00012689582945313305], [0.0023881441447883844, 0.9976118206977844], [0.9996647834777832, 0.000335276301484555], [0.9998316764831543, 0.00016833208792377263], [0.9994205236434937, 0.0005793716991320252], [0.9987905025482178, 0.001209479058161378], [0.9928160905838013, 0.007183939218521118], [0.9999483227729797, 5.161360604688525e-05], [0.9994364976882935, 0.00056341482559219], [0.9991356134414673, 0.000864365603774786], [0.9998540878295898, 0.00014590138744097203], [0.999678373336792, 0.0003216149634681642], [0.020996933802962303, 0.9790030121803284], [0.9838216304779053, 0.016178401187062263], [0.9306742548942566, 0.0693257674574852], [0.9993166327476501, 0.0006833310471847653], [0.9998922944068909, 0.00010767609637696296], [0.9999238848686218, 7.604777056258172e-05], [0.9996114373207092, 0.00038855362799949944], [0.0024134996347129345, 0.9975864887237549], [0.9989176392555237, 0.0010822614422068], [0.999847412109375, 0.0001526635023765266], [0.0023884347174316645, 0.9976114630699158], [0.9999160170555115, 8.387565321754664e-05], [0.9992455244064331, 0.000754451029933989], [0.002388597233220935, 0.9976113438606262], [0.9386609196662903, 0.0613391250371933], [0.0029929582960903645, 0.9970070123672485], [0.9996505975723267, 0.00034941162448376417], [0.002388252876698971, 0.9976117014884949], [0.999821662902832, 0.0001784213091013953], [0.9944643974304199, 0.005535544827580452], [0.975351870059967, 0.024648042395710945], [0.007016007322818041, 0.9929840564727783], [0.9986007213592529, 0.0013992117019370198], [0.9999287724494934, 7.115110929589719e-05], [0.9997940063476562, 0.00020598305854946375], [0.9993816018104553, 0.000618448480963707], [0.9997901916503906, 0.00020988010510336608], [0.9999274611473083, 7.247737084981054e-05], [0.9920791387557983, 0.007920892909169197], [0.9997599124908447, 0.0002401823876425624], [0.9998540878295898, 0.00014602360897697508], [0.9998102188110352, 0.0001898153277579695], [0.9982357025146484, 0.0017642774619162083], [0.9990213513374329, 0.0009785438887774944], [0.0023896393831819296, 0.9976102709770203], [0.9995246529579163, 0.00047525204718112946], [0.003174493322148919, 0.9968255758285522], [0.992797315120697, 0.0072026681154966354], [0.999807596206665, 0.00019252726633567363], [0.9994486570358276, 0.0005512222414836287], [0.9996145367622375, 0.00038547153235413134], [0.9991996884346008, 0.0008002811227925122], [0.08605481684207916, 0.9139451384544373], [0.9998421669006348, 0.00015781306137796491], [0.9997780323028564, 0.00022198543592821807], [0.9999259114265442, 7.397444278467447e-05], [0.9999333024024963, 6.658857455477118e-05], [0.9998259544372559, 0.00017411682347301394], [0.9995353817939758, 0.00046457158168777823], [0.9998930096626282, 0.00010694148659240454], [0.9969639182090759, 0.003036094130948186], [0.017376024276018143, 0.9826240539550781], [0.9986433386802673, 0.0013566382694989443], [0.002501061651855707, 0.9974989891052246], [0.9980741739273071, 0.0019257517997175455], [0.9998896718025208, 0.00011020583042409271], [0.016045348718762398, 0.9839546084403992], [0.9820358753204346, 0.017964158207178116], [0.003436605678871274, 0.9965633153915405], [0.927047610282898, 0.07295236736536026], [0.9963476061820984, 0.0036522469017654657], [0.9998109340667725, 0.00018897539121098816], [0.9992082715034485, 0.0007917171460576355], [0.9997787475585938, 0.0002213638654211536], [0.9960953593254089, 0.0039046024903655052], [0.9998870491981506, 0.00011288205132586882], [0.9998390674591064, 0.0001609394239494577], [0.0023885893169790506, 0.9976113438606262], [0.9998495578765869, 0.00015053525567054749], [0.9879761338233948, 0.012023822404444218], [0.004508345853537321, 0.995491623878479], [0.9997196197509766, 0.00028043711790814996], [0.0049494230188429356, 0.9950506091117859], [0.046844806522130966, 0.9531551599502563], [0.993624210357666, 0.006375820841640234], [0.9981178641319275, 0.0018820550758391619], [0.999824047088623, 0.00017598303384147584], [0.996530294418335, 0.003469635033980012], [0.0023882396053522825, 0.9976117014884949], [0.9998595714569092, 0.00014049150922801346], [0.002388142980635166, 0.9976118206977844], [0.9998974204063416, 0.00010252876381855458], [0.9997925758361816, 0.00020736383157782257], [0.9999014735221863, 9.843505540629849e-05], [0.9988521933555603, 0.001147852628491819], [0.9996315836906433, 0.0003684654657263309], [0.9983536005020142, 0.0016464046202600002], [0.9988438487052917, 0.0011562014697119594], [0.002803070703521371, 0.9971968531608582], [0.999405026435852, 0.0005949685582891107], [0.9998469352722168, 0.00015298539074137807], [0.9987659454345703, 0.0012340506073087454], [0.002402146812528372, 0.9975978136062622], [0.0024537763092666864, 0.9975463151931763], [0.0026307019870728254, 0.9973694086074829], [0.9995059370994568, 0.0004940559156239033], [0.9998126029968262, 0.0001873629807960242], [0.002388179302215576, 0.9976118206977844], [0.002435975708067417, 0.9975640177726746], [0.999854564666748, 0.00014540224219672382], [0.9995009303092957, 0.0004989727749489248], [0.999520480632782, 0.00047947291750460863], [0.9999440312385559, 5.587799023487605e-05], [0.9981486797332764, 0.0018513933755457401], [0.9990504384040833, 0.0009495345875620842], [0.9993197321891785, 0.0006801817798987031], [0.9999222159385681, 7.775706035317853e-05], [0.002448408165946603, 0.9975515007972717], [0.0023882873356342316, 0.9976117014884949], [0.9535724520683289, 0.04642752557992935], [0.0023884994443506002, 0.9976114630699158], [0.9999176859855652, 8.220580639317632e-05], [0.9997971057891846, 0.0002028275339398533], [0.9997316598892212, 0.00026837026234716177], [0.8678449988365173, 0.13215495645999908], [0.9533102512359619, 0.0466897152364254], [0.9680984616279602, 0.03190157189965248], [0.9998581409454346, 0.00014184066094458103], [0.9997366666793823, 0.0002633329713717103], [0.9998447895050049, 0.00015531154349446297], [0.9999094605445862, 9.052400855580345e-05], [0.9999204277992249, 7.950526924105361e-05], [0.9996587038040161, 0.00034130807034671307], [0.989857017993927, 0.010142985731363297], [0.9989182353019714, 0.0010817244183272123], [0.9998793005943298, 0.00012060672452207655], [0.0023883746471256018, 0.9976115822792053], [0.3033517897129059, 0.696648120880127], [0.9948761463165283, 0.00512394355610013], [0.08319086581468582, 0.91680908203125], [0.9915732741355896, 0.008426683954894543], [0.002607690868899226, 0.9973922967910767], [0.0024603749625384808, 0.9975396394729614], [0.999012291431427, 0.0009876553667709231], [0.9993489384651184, 0.0006510122329927981], [0.9988400340080261, 0.0011600080179050565], [0.9999298453330994, 7.013064168859273e-05], [0.9998874068260193, 0.00011255863500991836], [0.002388142980635166, 0.9976118206977844], [0.9998059272766113, 0.00019412966503296047], [0.9990943670272827, 0.0009055936243385077], [0.9997990131378174, 0.0002009668096434325], [0.999871015548706, 0.0001289260690100491], [0.002388270106166601, 0.9976117014884949], [0.9992790222167969, 0.0007209451869130135], [0.9999043345451355, 9.556761506246403e-05], [0.9999464154243469, 5.35766885150224e-05], [0.9991344213485718, 0.0008655069977976382], [0.9992976188659668, 0.0007025370141491294], [0.9997687339782715, 0.0002312803262611851], [0.9997639656066895, 0.00023614801466464996], [0.9782726764678955, 0.02172747440636158], [0.9999784827232361, 2.1439056581584737e-05], [0.002388142980635166, 0.9976118206977844], [0.009078317321836948, 0.990921676158905], [0.9998619556427002, 0.00013818939623888582], [0.9997882843017578, 0.00021176903101149946], [0.9997434616088867, 0.0002566274197306484], [0.9996788501739502, 0.00032116699730977416], [0.9998719692230225, 0.00012808719475287944], [0.9998540878295898, 0.00014595621905755252], [0.05603286996483803, 0.9439671635627747], [0.9979733228683472, 0.0020266396459192038], [0.9995954632759094, 0.0004045517125632614], [0.9994919896125793, 0.0005079577094875276], [0.9998579025268555, 0.0001420308108208701], [0.9999120831489563, 8.780230564298108e-05], [0.9994484186172485, 0.0005516333621926606], [0.002388142980635166, 0.9976118206977844], [0.9757844805717468, 0.024215426295995712], [0.8216097354888916, 0.17839032411575317], [0.9976440668106079, 0.002355963923037052], [0.9998552799224854, 0.00014477732474915683], [0.9998581409454346, 0.00014184959582053125], [0.9996907711029053, 0.000309233320876956], [0.974548876285553, 0.025451118126511574], [0.9992759227752686, 0.0007241129642352462], [0.9999209046363831, 7.898521289462224e-05], [0.9999005198478699, 9.94182046269998e-05], [0.9976913928985596, 0.0023086394648998976], [0.9997278451919556, 0.0002722522185649723], [0.0023887017741799355, 0.9976112246513367], [0.9995489716529846, 0.0004510209837462753], [0.9987040758132935, 0.0012958741281181574], [0.0023893509060144424, 0.9976106286048889], [0.9993881583213806, 0.0006118369637988508], [0.9994262456893921, 0.000573751691263169], [0.002482203533872962, 0.9975177645683289], [0.9999261498451233, 7.383124466286972e-05], [0.9998813271522522, 0.00011862157407449558], [0.9994522333145142, 0.0005476986989378929], [0.9997978210449219, 0.00020230821974109858], [0.9994126558303833, 0.0005873593618161976], [0.9887438416481018, 0.011256134137511253], [0.9994747042655945, 0.000525146082509309], [0.9995649456977844, 0.0004351014504209161], [0.9998762607574463, 0.00012386852176859975], [0.9990931749343872, 0.0009068279759958386], [0.9960905909538269, 0.003909416496753693], [0.0783274695277214, 0.9216724634170532], [0.999890148639679, 0.00010973007010761648], [0.004881755914539099, 0.9951182007789612], [0.9998838305473328, 0.00011605703184613958], [0.998900294303894, 0.0010997075587511063], [0.9998433589935303, 0.00015671421715524048], [0.9999058842658997, 9.40867539611645e-05], [0.9999527335166931, 4.722698577097617e-05], [0.0023898622021079063, 0.9976100325584412], [0.999809980392456, 0.00019015064754057676], [0.999939501285553, 6.046769703971222e-05], [0.5955284237861633, 0.4044715464115143], [0.9997608661651611, 0.00023903984401840717], [0.10828790813684464, 0.8917120695114136], [0.99993497133255, 6.501800089608878e-05], [0.9997923374176025, 0.0002076909295283258], [0.9998804926872253, 0.00011941463890252635], [0.002388164633885026, 0.9976118206977844], [0.9996670484542847, 0.0003329796018078923], [0.9821234345436096, 0.01787654496729374], [0.0034159068018198013, 0.9965839982032776], [0.9798219203948975, 0.020178062841296196], [0.002388148568570614, 0.9976118206977844], [0.9992586374282837, 0.0007413617568090558], [0.9992398023605347, 0.0007602500263601542], [0.9999106526374817, 8.927276940084994e-05], [0.9998980164527893, 0.00010195248614763841], [0.0023881476372480392, 0.9976118206977844], [0.9993323683738708, 0.0006676000775769353], [0.9197356700897217, 0.08026435226202011], [0.9323614835739136, 0.06763854622840881], [0.9998502731323242, 0.00014970758638810366], [0.9988144040107727, 0.001185514614917338], [0.003987325355410576, 0.9960127472877502], [0.9995381236076355, 0.00046184155507944524], [0.9997057914733887, 0.0002942650462500751], [0.6061434149742126, 0.3938565254211426], [0.9995914101600647, 0.00040854618418961763], [0.9997906684875488, 0.00020933308405801654], [0.9988943338394165, 0.001105690491385758], [0.9997467994689941, 0.00025323941372334957], [0.0023884701076895, 0.9976114630699158], [0.9988208413124084, 0.0011791257420554757], [0.9670121669769287, 0.032987818121910095], [0.9997782707214355, 0.00022167641145642847], [0.9978968501091003, 0.002103162696585059], [0.9998228549957275, 0.00017721850599627942], [0.9982936382293701, 0.0017064023995772004], [0.9984971284866333, 0.001502861501649022], [0.08591724932193756, 0.9140827655792236], [0.002391108777374029, 0.9976088404655457], [0.002388142980635166, 0.9976118206977844], [0.9998988509178162, 0.00010108693822985515], [0.9998884797096252, 0.00011147414625156671], [0.0023889553267508745, 0.9976109862327576], [0.9996974468231201, 0.00030254709417931736], [0.9998703002929688, 0.0001296371192438528], [0.9884256720542908, 0.011574230156838894], [0.9997385740280151, 0.00026146392337977886], [0.9996789693832397, 0.00032107115839608014], [0.9998095035552979, 0.0001904959644889459], [0.9998087882995605, 0.00019120072829537094], [0.9997402429580688, 0.00025983122759498656], [0.9983943104743958, 0.0016056739259511232], [0.9997959136962891, 0.00020406261319294572], [0.0023883087560534477, 0.9976115822792053], [0.9996433258056641, 0.0003566182276699692], [0.002743029734119773, 0.9972570538520813], [0.0023892305325716734, 0.9976107478141785], [0.3321749269962311, 0.6678250432014465], [0.9983331561088562, 0.0016669061733409762], [0.9964526295661926, 0.003547478001564741], [0.9998095035552979, 0.00019063080253545195], [0.999731183052063, 0.0002688553067855537], [0.9998235702514648, 0.00017646190826781094], [0.002388142980635166, 0.9976118206977844], [0.9990799427032471, 0.0009199869818985462], [0.002388142980635166, 0.9976118206977844], [0.999809741973877, 0.00019019631145056337], [0.9990853071212769, 0.0009147095843218267], [0.9999344944953918, 6.541995389852673e-05], [0.9996579885482788, 0.0003419949789531529], [0.9998872876167297, 0.0001126661227317527], [0.9993173480033875, 0.0006826131138950586], [0.9990487694740295, 0.0009512378601357341], [0.999357283115387, 0.0006427722400985658], [0.9997551441192627, 0.00024492680677212775], [0.9982215166091919, 0.0017784787341952324], [0.7765114903450012, 0.22348855435848236], [0.07225009053945541, 0.9277498722076416], [0.9999520182609558, 4.7948989958968014e-05], [0.9997271299362183, 0.0002729089464992285], [0.9998137950897217, 0.00018612740677781403], [0.9994467496871948, 0.000553238030988723], [0.9997483491897583, 0.0002517344255466014], [0.002388295251876116, 0.9976117014884949], [0.9994925856590271, 0.0005073218489997089], [0.9997715950012207, 0.00022846268257126212], [0.004627980291843414, 0.9953719973564148], [0.9998664855957031, 0.00013345576007850468], [0.007255904842168093, 0.9927440285682678], [0.999788761138916, 0.00021129767992533743], [0.9994954466819763, 0.0005045345169492066], [0.99981689453125, 0.00018324077245779335], [0.9997596740722656, 0.0002403115649940446], [0.9999015927314758, 9.833926742430776e-05], [0.999378502368927, 0.0006214695167727768], [0.999875545501709, 0.0001244609447894618], [0.9974183440208435, 0.0025815570261329412], [0.9996404647827148, 0.0003595163580030203], [0.9999122023582458, 8.771970897214487e-05], [0.24292662739753723, 0.7570733428001404], [0.9951862096786499, 0.00481374841183424], [0.9997599124908447, 0.0002400639932602644], [0.9989933967590332, 0.0010065226815640926], [0.9996825456619263, 0.0003175293968524784], [0.9992997646331787, 0.0007003971259109676], [0.9998796582221985, 0.00012025406613247469], [0.01160111278295517, 0.9883989095687866], [0.9996347427368164, 0.00036524617462418973], [0.9997961521148682, 0.00020382557704579085], [0.9959605932235718, 0.004039344843477011], [0.9809441566467285, 0.019055768847465515], [0.999936044216156, 6.383674190146849e-05], [0.9998621940612793, 0.00013778003631159663], [0.999861478805542, 0.00013857996964361519], [0.9928034543991089, 0.007196622900664806], [0.9996664524078369, 0.00033353560138493776], [0.9976661801338196, 0.002333727665245533], [0.002388142980635166, 0.9976118206977844], [0.99994295835495, 5.698502354789525e-05], [0.9991970658302307, 0.0008029703749343753], [0.9990615248680115, 0.0009385340381413698], [0.9995149970054626, 0.00048494242946617305], [0.9996312260627747, 0.0003688105789478868], [0.9969402551651001, 0.0030597492586821318], [0.03418654575943947, 0.9658135175704956], [0.002445005113258958, 0.9975549578666687], [0.999607264995575, 0.0003927961806766689], [0.9997930526733398, 0.0002070230693789199], [0.9999265074729919, 7.343192555708811e-05], [0.9998936057090759, 0.00010635795479174703], [0.9996650218963623, 0.00033499705023132265], [0.998871922492981, 0.0011281188344582915], [0.9998090267181396, 0.00019107537809759378], [0.9918149709701538, 0.00818498246371746], [0.9996495246887207, 0.0003504526102915406], [0.9999272227287292, 7.274069503182545e-05], [0.9966217875480652, 0.0033781209494918585], [0.9749515056610107, 0.025048449635505676], [0.9991257190704346, 0.0008742835489101708], [0.9994653463363647, 0.0005345628596842289], [0.99991375207901, 8.614132093498483e-05], [0.9999192357063293, 8.068899478530511e-05], [0.9995101094245911, 0.0004898225888609886], [0.9977976083755493, 0.0022024258505553007], [0.9997594356536865, 0.00024047611805144697], [0.9998703002929688, 0.00012967285874765366], [0.9996296763420105, 0.0003703477850649506], [0.9998292922973633, 0.0001708385971141979], [0.9985820055007935, 0.0014180480502545834], [0.9998183250427246, 0.00018175192235503346], [0.9994598627090454, 0.0005402471870183945], [0.9999317526817322, 6.822674913564697e-05], [0.1542208045721054, 0.8457791209220886], [0.9997323751449585, 0.0002676665026228875], [0.999225914478302, 0.0007741913432255387], [0.9993098378181458, 0.000690053217113018], [0.9509972929954529, 0.04900279641151428], [0.9976747632026672, 0.002325221197679639], [0.9998669624328613, 0.00013313611270859838], [0.999880850315094, 0.00011910100874956697], [0.9999153017997742, 8.463749691145495e-05], [0.9998033046722412, 0.00019666060688905418], [0.9998114109039307, 0.0001885731180664152], [0.9998602867126465, 0.0001398705062456429], [0.005758000072091818, 0.9942420721054077], [0.9969910979270935, 0.003008980071172118], [0.9991809725761414, 0.0008190005319193006], [0.999741792678833, 0.00025823726900853217], [0.00367932696826756, 0.9963206648826599], [0.9989669322967529, 0.001033035689033568], [0.9999265074729919, 7.340636511798948e-05], [0.0023920333478599787, 0.9976078867912292], [0.9997625350952148, 0.00023736806178931147], [0.002388146473094821, 0.9976118206977844], [0.9986850023269653, 0.0013149486621841788], [0.9991516470909119, 0.0008483220008201897], [0.9989189505577087, 0.0010809956584125757], [0.002389628207311034, 0.9976102709770203], [0.999859094619751, 0.00014096104132477194], [0.9996618032455444, 0.0003381878195796162], [0.9996769428253174, 0.00032306669163517654], [0.9998211860656738, 0.00017872521129902452], [0.999535858631134, 0.0004641559789888561], [0.0024269591085612774, 0.9975730180740356], [0.011523401364684105, 0.988476574420929], [0.002388142980635166, 0.9976118206977844], [0.9998135566711426, 0.000186471501365304], [0.0023938720114529133, 0.997606098651886], [0.9998126029968262, 0.0001875215384643525], [0.002456348855048418, 0.9975436925888062], [0.986003577709198, 0.013996371999382973], [0.9995347857475281, 0.00046517825103364885], [0.9998369216918945, 0.00016301828145515174], [0.002388815628364682, 0.9976111054420471], [0.9999637007713318, 3.6286150134401396e-05], [0.0023909276351332664, 0.9976089596748352], [0.99785315990448, 0.002146876882761717], [0.9997856616973877, 0.00021445343736559153], [0.9997885227203369, 0.00021138670854270458], [0.8850942254066467, 0.11490578204393387], [0.9998626708984375, 0.0001373156119370833], [0.9252297878265381, 0.07477022707462311], [0.9989446997642517, 0.0010552795138210058], [0.9998612403869629, 0.0001386875519528985], [0.9996157288551331, 0.00038425199454650283], [0.999891459941864, 0.00010852186096599326], [0.9998967051506042, 0.00010326851042918861], [0.9998558759689331, 0.00014411644951906055], [0.9985558390617371, 0.001444122288376093], [0.9999042749404907, 9.570715337758884e-05]]\n",
            "[0, 0, 0, 0, 0, 0, 0, 0, 0, 1, 0, 0, 0, 1, 0, 1, 0, 1, 0, 1, 0, 1, 0, 0, 0, 0, 0, 0, 0, 1, 0, 0, 0, 0, 0, 1, 0, 1, 0, 1, 0, 0, 0, 0, 0, 0, 1, 1, 1, 1, 0, 1, 0, 0, 0, 0, 0, 0, 0, 0, 0, 1, 0, 0, 0, 0, 0, 0, 0, 0, 0, 0, 0, 0, 0, 0, 0, 0, 0, 1, 0, 0, 1, 0, 0, 0, 0, 0, 0, 0, 0, 1, 0, 1, 0, 1, 0, 0, 1, 1, 1, 0, 1, 0, 0, 0, 0, 0, 0, 0, 0, 1, 0, 0, 0, 0, 0, 0, 0, 0, 0, 0, 0, 0, 0, 1, 0, 0, 0, 0, 0, 0, 0, 1, 0, 1, 0, 0, 0, 0, 1, 0, 0, 0, 0, 0, 0, 0, 1, 1, 0, 0, 0, 1, 0, 0, 0, 0, 0, 1, 1, 0, 0, 0, 0, 0, 0, 1, 0, 0, 0, 0, 0, 0, 0, 1, 0, 0, 0, 0, 0, 0, 0, 0, 1, 0, 0, 0, 0, 1, 0, 0, 0, 0, 0, 0, 0, 0, 0, 1, 0, 1, 0, 1, 0, 0, 1, 0, 0, 0, 1, 0, 0, 0, 0, 0, 0, 0, 1, 0, 0, 0, 0, 0, 0, 0, 0, 0, 0, 0, 0, 0, 0, 1, 0, 0, 1, 0, 0, 0, 1, 0, 0, 0, 0, 0, 0, 0, 0, 1, 0, 1, 0, 1, 0, 1, 0, 0, 0, 1, 0, 0, 0, 1, 0, 1, 0, 0, 0, 0, 0, 0, 0, 0, 0, 0, 0, 0, 0, 1, 0, 0, 1, 1, 0, 0, 0, 0, 0, 1, 0, 0, 0, 0, 0, 1, 0, 1, 0, 0, 0, 1, 0, 0, 0, 0, 1, 1, 0, 1, 1, 1, 0, 0, 0, 1, 1, 0, 1, 0, 1, 0, 1, 0, 0, 0, 0, 0, 0, 0, 0, 0, 0, 1, 0, 0, 1, 0, 0, 1, 1, 1, 1, 1, 0, 0, 0, 1, 0, 0, 0, 1, 1, 0, 0, 0, 0, 0, 0, 1, 0, 1, 0, 0, 0, 0, 0, 0, 0, 0, 0, 0, 0, 0, 1, 0, 1, 0, 0, 0, 0, 0, 0, 0, 0, 0, 1, 0, 0, 0, 0, 0, 0, 0, 1, 0, 1, 0, 0, 0, 0, 0, 0, 0, 0, 0, 0, 0, 1, 0, 1, 0, 0, 0, 1, 0, 0, 0, 0, 0, 0, 0, 0, 0, 0, 1, 0, 0, 0, 0, 0, 0, 0, 0, 1, 0, 0, 0, 0, 0, 0, 0, 0, 0, 0, 1, 1, 1, 0, 0, 0, 0, 0, 0, 0, 0, 0, 0, 0, 0, 0, 1, 0, 0, 1, 0, 1, 0, 0, 0, 0, 0, 1, 0, 0, 0, 0, 0, 0, 0, 1, 0, 1, 1, 1, 0, 1, 0, 1, 0, 0, 0, 0, 0, 0, 0, 1, 0, 0, 0, 0, 0, 0, 0, 0, 0, 0, 0, 0, 0, 1, 0, 0, 0, 0, 0, 1, 0, 0, 1, 0, 0, 0, 0, 0, 0, 1, 0, 0, 0, 0, 1, 1, 0, 0, 0, 0, 1, 0, 0, 0, 0, 0, 1, 0, 0, 0, 1, 0, 1, 1, 0, 0, 0, 0, 1, 0, 0, 0, 0, 0, 1, 0, 1, 0, 1, 1, 0, 0, 0, 1, 1, 0, 0, 0, 0, 1, 0, 0, 0, 1, 0, 0, 0, 0, 0, 0, 0, 0, 0, 0, 0, 0, 0, 0, 1, 1, 0, 1, 0, 0, 0, 0, 0, 1, 0, 1, 0, 0, 0, 0, 1, 0, 0, 0, 1, 0, 0, 0, 1, 0, 1, 0, 0, 0, 1, 0, 1, 0, 0, 0, 1, 0, 0, 0, 0, 0, 0, 0, 0, 0, 1, 0, 1, 0, 0, 1, 0, 0, 0, 0, 0, 0, 0, 0, 1, 0, 0, 0, 0, 0, 0, 0, 0, 0, 1, 1, 0, 0, 1, 1, 0, 0, 0, 0, 0, 0, 0, 0, 0, 0, 0, 0, 0, 0, 0, 0, 0, 0, 0, 0, 0, 0, 0, 0, 0, 0, 0, 0, 0, 1, 0, 0, 0, 0, 0, 0, 0, 0, 0, 0, 0, 0, 0, 0, 1, 0, 0, 0, 0, 0, 0, 0, 0, 0, 0, 0, 0, 0, 0, 0, 0, 1, 0, 0, 0, 0, 0, 0, 0, 0, 0, 0, 0, 0, 0, 0, 0, 0, 0, 0, 0, 0, 0, 0, 0, 0, 0, 0, 1, 0, 1, 0, 0, 0, 0, 0, 0, 0, 1, 0, 0, 1, 0, 0, 0, 0, 0, 0, 0, 0, 0, 1, 0, 0, 0, 0, 0, 0, 0, 1, 0, 0, 0, 0, 0, 0, 0, 0, 0, 1, 0, 0, 0, 0, 0, 0, 1, 0, 0, 0, 0, 0, 0, 0, 0, 0, 1, 0, 0, 0, 0, 0, 1, 1, 0, 0, 0, 0, 0, 1, 1, 0, 0, 1, 0, 1, 0, 0, 0, 0, 0, 0, 0, 0, 0, 0, 0, 0, 1, 0, 0, 0, 1, 1, 1, 0, 0, 0, 0, 0, 0, 0, 1, 0, 1, 0, 0, 0, 0, 0, 0, 0, 1, 0, 1, 0, 1, 0, 0, 0, 0, 0, 1, 0, 1, 0, 0, 1, 0, 1, 0, 0, 0, 0, 0, 0, 0, 0, 0, 1, 0, 1, 0, 0, 0, 0, 0, 0, 0, 0, 1, 0, 1, 0, 1, 0, 0, 0, 0, 0, 0, 0, 0, 0, 0, 0, 0, 0, 0, 0, 0, 0, 1, 0, 0, 0, 0, 0, 0, 1, 0, 0, 1, 0, 0, 1, 1, 1, 0, 0, 0, 1, 0, 1, 0, 0, 0, 0, 0, 0, 0, 1, 1, 0, 0, 0, 0, 0, 0, 1, 0, 0, 1, 0, 0, 0, 1, 0, 0, 0, 0, 1, 0, 1, 0, 0, 0, 0, 0, 0, 0, 0, 1, 0, 1, 0, 1, 1, 0, 0, 0, 0, 0, 0, 0, 0, 0, 0, 0, 0, 0, 1, 0, 0, 0, 1, 0, 0, 0, 1, 0, 0, 0, 1, 0, 0, 0, 1, 0, 0, 0, 0, 1, 0, 0, 0, 0, 0, 0, 0, 0, 0, 0, 0, 0, 0, 1, 0, 1, 0, 0, 0, 0, 0, 0, 1, 0, 0, 1, 0, 0, 0, 0, 0, 0, 0, 0, 1, 0, 0, 0, 0, 0, 0, 0, 1, 0, 1, 0, 1, 0, 0, 0, 0, 0, 0, 0, 0, 0, 1, 0, 0, 1, 0, 0, 0, 1, 0, 0, 0, 0, 0, 1, 0, 1, 0, 0, 0, 1, 1, 0, 0, 0, 0, 0, 1, 0, 0, 0, 0, 0, 0, 0, 0, 0, 0, 0, 0, 0, 0, 1, 0, 0, 0, 0, 1, 0, 0, 0, 1, 0, 0, 0, 0, 0, 0, 0, 0, 0, 0, 0, 1, 1, 0, 0, 0, 1, 1, 0, 1, 0, 1, 0, 1, 0, 1, 1, 0, 0, 0, 0, 0, 0, 0, 0, 0, 0, 0, 0, 1, 1, 0, 0, 0, 0, 0, 1, 0, 0, 0, 0, 0, 0, 1, 0, 0, 1, 0, 0, 0, 0, 0, 0, 0, 1, 1, 0, 1, 1, 0, 0, 1, 0, 0, 1, 0, 0, 0, 0, 0, 0, 0, 0, 0, 0, 1, 0, 1, 0, 0, 0, 0, 1, 0, 0, 0, 0, 0, 0, 0, 0, 1, 0, 0, 0, 0, 0, 0, 1, 0, 0, 0, 0, 0, 0, 0, 0, 0, 0, 0, 0, 1, 0, 0, 1, 0, 1, 1, 0, 0, 0, 0, 0, 1, 0, 0, 0, 0, 0, 0, 0, 0, 0, 0, 0, 0, 0, 0, 0, 0, 0, 0, 1, 0, 0, 0, 0, 0, 0, 0, 0, 1, 0, 1, 1, 0, 0, 0, 1, 0, 0, 0, 0, 0, 0, 0, 0, 0, 1, 0, 0, 0, 0, 0, 0, 0, 0, 0, 0, 1, 0, 0, 0, 1, 0, 0, 1, 0, 0, 0, 0, 0, 1, 1, 0, 1, 0, 1, 0, 0, 0, 0, 0, 0, 0, 0, 1, 0, 1, 0, 1, 0, 0, 0, 1, 0, 1, 0, 0, 0, 0, 0, 0, 0, 0, 0, 0, 1, 1, 1, 0, 1, 0, 1, 0, 0, 0, 0, 0, 0, 0, 0, 1, 0, 1, 1, 0, 1, 0, 0, 0, 0, 0, 0, 0, 0, 0, 0, 0, 1, 0, 1, 1, 1, 0, 0, 1, 0, 0, 1, 0, 0, 0, 1, 0, 0, 0, 0, 0, 0, 0, 1, 1, 0, 0, 0, 0, 0, 0, 0, 0, 0, 0, 1, 0, 0, 1, 0, 0, 1, 0, 0, 0, 0, 0, 0, 1, 0, 0, 0, 0, 1, 0, 0, 0, 1, 0, 0, 0, 0, 0, 0, 0, 0, 0, 0, 1, 0, 0, 0, 0, 0, 0, 0, 0, 1, 1, 0, 0, 0, 0, 0, 0, 0, 0, 0, 0, 1, 1, 0, 0, 0, 0, 0, 0, 0, 0, 0, 0, 0, 0, 0, 0, 1, 0, 0, 0, 0, 0, 0, 0, 0, 0, 0, 0, 1, 1, 0, 0, 0, 1, 1, 0, 1, 0, 0, 0, 0, 0, 0, 0, 0, 0, 0, 0, 0, 0, 0, 1, 0, 0, 0, 1, 1, 0, 1, 0, 0, 0, 0, 1, 0, 0, 0, 0, 0, 0, 0, 0, 0, 0, 0, 0, 0, 0, 0, 0, 0, 0, 0, 0, 0, 0, 0, 0, 0, 0, 0, 0, 0, 0, 0, 0, 0, 0, 0, 1, 0, 0, 0, 0, 0, 0, 0, 0, 0, 0, 0, 0, 0, 0, 0, 1, 0, 1, 0, 1, 0, 0, 0, 0, 0, 0, 0, 0, 0, 0, 0, 1, 0, 0, 0, 0, 0, 1, 0, 0, 0, 0, 0, 0, 0, 0, 1, 0, 0, 0, 0, 1, 0, 1, 0, 0, 0, 0, 1, 0, 0, 1, 0, 0, 0, 0, 1, 0, 1, 0, 0, 0, 0, 0, 0, 1, 0, 0, 0, 0, 0, 0, 0, 0, 0, 0, 0, 0, 1, 1, 0, 1, 0, 0, 1, 1, 1, 0, 0, 0, 0, 0, 0, 0, 1, 1, 1, 0, 0, 0, 0, 0, 0, 0, 1, 0, 1, 1, 0, 0, 1, 0, 0, 0, 0, 0, 1, 0, 1, 0, 1, 0, 0, 1, 0, 0, 0, 1, 0, 0, 0, 0, 1, 0, 0, 0, 0, 0, 0, 0, 0, 1, 0, 0, 1, 0, 1, 1, 0, 1, 1, 0, 1, 0, 1, 0, 1, 0, 0, 0, 0, 0, 1, 0, 0, 0, 0, 0, 0, 0, 0, 0, 0, 1, 0, 0, 0, 1, 0, 0, 0, 0, 0, 0, 1, 0, 1, 0, 0, 0, 0, 0, 0, 0, 0, 0, 0, 1, 0, 0, 0, 1, 1, 0, 0, 1, 1, 0, 0, 0, 0, 0, 0, 0, 0, 0, 1, 1, 0, 0, 0, 0, 0, 0, 0, 0, 0, 0, 0, 0, 0, 0, 0, 0, 0, 0, 1, 0, 0, 0, 0, 0, 0, 0, 0, 1, 0, 1, 0, 1, 0, 0, 0, 1, 0, 0, 0, 1, 0, 0, 1, 0, 0, 0, 0, 1, 0, 0, 1, 0, 0, 0, 0, 0, 1, 1, 0, 0, 1, 0, 0, 0, 0, 0, 0, 0, 0, 0, 0, 0, 0, 0, 0, 1, 1, 0, 1, 0, 0, 0, 0, 0, 1, 0, 1, 0, 1, 0, 0, 0, 0, 0, 0, 0, 0, 1, 0, 0, 1, 0, 1, 0, 1, 0, 0, 0, 0, 0, 1, 1, 1, 0, 0, 0, 0, 0, 0, 1, 0, 0, 0, 1, 0, 0, 0, 1, 0, 0, 0, 0, 0, 0, 1, 0, 1, 1, 1, 0, 0, 0, 0, 0, 0, 0, 0, 0, 0, 0, 0, 0, 1, 0, 0, 0, 0, 0, 1, 0, 0, 0, 0, 0, 1, 1, 1, 1, 0, 0, 0, 0, 0, 0, 0, 0, 0, 0, 0, 0, 0, 0, 0, 0, 1, 1, 1, 1, 0, 0, 0, 0, 0, 0, 0, 0, 0, 0, 0, 1, 0, 0, 0, 0, 0, 0, 1, 0, 0, 0, 0, 0, 0, 0, 0, 0, 0, 0, 0, 0, 0, 0, 0, 0, 0, 0, 0, 0, 0, 0, 0, 1, 1, 0, 0, 0, 1, 0, 0, 0, 0, 0, 0, 0, 0, 1, 1, 0, 0, 1, 0, 0, 0, 0, 1, 1, 0, 0, 0, 1, 0, 0, 0, 0, 0, 0, 0, 0, 0, 0, 0, 0, 0, 0, 0, 0, 0, 1, 0, 0, 0, 0, 1, 0, 0, 1, 0, 0, 0, 0, 1, 1, 0, 0, 0, 0, 0, 0, 1, 0, 0, 1, 0, 0, 0, 0, 0, 0, 0, 0, 0, 0, 0, 0, 1, 0, 0, 0, 1, 0, 0, 0, 0, 1, 0, 0, 1, 0, 0, 0, 0, 0, 0, 0, 0, 1, 0, 0, 1, 0, 0, 0, 0, 0, 0, 0, 0, 0, 0, 0, 0, 1, 0, 0, 0, 0, 0, 0, 0, 0, 0, 0, 0, 1, 0, 1, 0, 0, 0, 0, 0, 0, 0, 0, 0, 1, 1, 0, 0, 1, 0, 0, 0, 0, 0, 1, 0, 0, 0, 0, 0, 0, 0, 1, 0, 0, 0, 0, 0, 1, 1, 0, 0, 0, 0, 1, 0, 0, 0, 0, 0, 0, 0, 0, 1, 0, 0, 0, 1, 0, 0, 0, 0, 0, 1, 0, 0, 0, 1, 0, 0, 0, 0, 1, 0, 1, 0, 0, 0, 0, 0, 1, 1, 1, 0, 0, 0, 0, 0, 1, 1, 1, 0, 0, 0, 0, 0, 0, 0, 1, 0, 0, 0, 1, 0, 1, 1, 0, 0, 1, 0, 0, 1, 0, 1, 0, 0, 1, 0, 0, 0, 1, 0, 1, 0, 0, 0, 0, 0, 1, 1, 0, 0, 1, 0, 1, 1, 1, 0, 0, 0, 1, 0, 0, 0, 0, 1, 0, 0, 0, 0, 0, 1, 0, 0, 1, 1, 0, 0, 0, 0, 0, 0, 0, 1, 1, 0, 0, 0, 1, 0, 0, 1, 1, 0, 0, 0, 0, 0, 0, 0, 0, 0, 0, 0, 0, 1, 0, 1, 0, 1, 0, 0, 1, 0, 0, 0, 1, 0, 1, 0, 1, 0, 1, 0, 1, 1, 0, 0, 0, 0, 0, 0, 0, 0, 1, 0, 1, 1, 0, 0, 0, 0, 0, 0, 1, 0, 0, 0, 0, 0, 1, 1, 0, 0, 0, 0, 0, 0, 1, 1, 0, 1, 0, 0, 0, 0, 0, 0, 0, 0, 0, 0, 0, 0, 0, 0, 1, 1, 0, 0, 0, 0, 0, 0, 0, 1, 0, 0, 0, 0, 0, 1, 0, 0, 0, 0, 1, 0, 1, 0, 0, 1, 0, 0, 1, 0, 0, 0, 1, 0, 1, 0, 0, 1, 0, 0, 1, 0, 0, 0, 0, 0, 0, 0, 1, 1, 0, 0, 0, 0, 1, 0, 0, 0, 0, 0, 0, 1, 0, 0, 0, 0, 1, 0, 0, 0, 0, 0, 0, 0, 0, 0, 0, 1, 0, 0, 0, 0, 0, 1, 0, 0, 0, 0, 1, 0, 0, 0, 0, 0, 0, 0, 0, 0, 0, 1, 0, 1, 0, 0, 0, 1, 1, 1, 0, 1, 0, 0, 0, 0, 0, 0, 1, 0, 0, 0, 1, 0, 1, 0, 0, 1, 0, 0, 1, 0, 0, 0, 0, 0, 0, 0, 0, 0, 0, 0, 0, 1, 0, 1, 0, 0, 0, 0, 0, 0, 0, 1, 0, 1, 0, 1, 0, 0, 0, 1, 1, 0, 0, 0, 0, 1, 0, 0, 0, 0, 0, 0, 0, 0, 1, 1, 1, 0, 0, 1, 0, 0, 0, 0, 0, 1, 0, 0, 0, 0, 0, 0, 0, 0, 0, 1, 1, 1, 0, 0, 0, 0, 1, 0, 0, 0, 1, 1, 0, 0, 0, 0, 0, 0, 1, 0, 0, 0, 0, 0, 1, 1, 0, 1, 0, 0, 1, 0, 0, 0, 1, 0, 0, 0, 0, 0, 0, 0, 0, 0, 1, 0, 0, 0, 0, 0, 0, 1, 0, 0, 0, 0, 0, 0, 0, 0, 1, 0, 0, 0, 0, 0, 0, 0, 0, 0, 0, 0, 0, 0, 0, 0, 0, 0, 0, 1, 0, 0, 1, 0, 1, 0, 0, 0, 0, 0, 1, 0, 0, 0, 0, 1, 0, 0, 0, 1, 0, 0, 0, 0, 0, 0, 0, 0, 0, 0, 0, 0, 0, 0, 0, 0, 1, 0, 0, 0, 0, 0, 0, 0, 1, 1, 0, 0, 0, 1, 0, 0, 0, 0, 0, 0, 1, 0, 0, 0, 0, 0, 0, 0, 1, 0, 0, 0, 0, 0, 0, 1, 0, 1, 0, 0, 0, 0, 1, 0, 0, 1, 0, 1, 0, 0, 0, 0, 0, 0, 1, 1, 1, 0, 1, 0, 0, 1, 0, 0, 0, 0, 0, 0, 0, 0, 0, 0, 1, 0, 0, 0, 0, 0, 0, 0, 0, 1, 0, 0, 0, 0, 0, 0, 0, 0, 0, 0, 0, 0, 0, 0, 0, 0, 0, 0, 0, 0, 0, 0, 1, 0, 0, 1, 0, 0, 1, 0, 0, 0, 0, 0, 0, 0, 0, 0, 1, 0, 0, 0, 0, 1, 0, 0, 0, 0, 1, 1, 1, 0, 0, 0, 0, 1, 0, 0, 0, 0, 0, 0, 0, 0, 0, 0, 0, 0, 0, 0, 1, 0, 0, 0, 1, 0, 0, 0, 0, 0, 0, 0, 1, 0, 0, 0, 0, 0, 1, 0, 0, 0, 0, 0, 1, 0, 1, 0, 0, 0, 0, 0, 0, 0, 1, 0, 0, 0, 0, 0, 0, 0, 1, 0, 1, 0, 0, 0, 0, 0, 0, 0, 1, 0, 0, 0, 0, 0, 0, 1, 0, 1, 1, 0, 0, 0, 0, 0, 1, 0, 0, 1, 0, 0, 0, 0, 0, 0, 0, 0, 0, 0, 0, 0, 0, 0, 1, 0, 0, 0, 0, 1, 0, 0, 0, 0, 0, 0, 0, 0, 0, 0, 0, 0, 0, 0, 0, 0, 0, 0, 0, 0, 0, 0, 0, 1, 0, 0, 1, 0, 0, 0, 0, 0, 0, 0, 1, 1, 0, 0, 0, 0, 0, 0, 1, 1, 0, 1, 0, 0, 0, 0, 0, 0, 1, 0, 0, 0, 0, 0, 1, 0, 0, 0, 0, 0, 0, 1, 0, 1, 1, 0, 1, 0, 0, 0, 0, 0, 0, 0, 0, 1, 0, 0, 0, 0, 0, 0, 0, 1, 0, 1, 0, 0, 0, 0, 1, 0, 0, 0, 0, 0, 0, 0, 0, 0, 0, 0, 0, 0, 0, 0, 0, 0, 0, 1, 0, 1, 1, 0, 0, 0, 0, 1, 1, 0, 0, 0, 0, 0, 1, 0, 0, 1, 1, 0, 0, 0, 0, 1, 0, 0, 1, 1, 0, 0, 0, 0, 0, 1, 1, 0, 0, 1, 1, 0, 0, 0, 0, 0, 0, 0, 0, 1, 0, 0, 0, 1, 0, 0, 1, 0, 1, 0, 0, 0, 0, 0, 0, 0, 1, 0, 0, 0, 0, 0, 1, 0, 0, 0, 0, 0, 0, 0, 0, 0, 0, 0, 0, 0, 0, 0, 0, 0, 0, 0, 0, 0, 0, 0, 0, 0, 0, 0, 0, 1, 0, 1, 0, 0, 0, 1, 1, 0, 0, 0, 0, 0, 0, 1, 0, 1, 0, 0, 0, 0, 0, 0, 0, 0, 0, 0, 0, 0, 0, 0, 1, 1, 0, 1, 0, 0, 0, 0, 0, 1, 1, 0, 0, 0, 0, 1, 0, 0, 0, 0, 0, 0, 0, 0, 1, 0, 0, 0, 0, 0, 0, 0, 0, 0, 1, 0, 1, 0, 0, 0, 0, 0, 0, 0, 1, 0, 1, 0, 0, 0, 1, 1, 0, 1, 0, 0, 0, 0, 0, 1, 0, 0, 0, 0, 0, 0, 0, 0, 0, 1, 0, 0, 0, 0, 0, 0, 0, 0, 0, 0, 0, 0, 0, 0, 0, 1, 0, 0, 0, 0, 0, 0, 0, 1, 0, 0, 1, 0, 0, 0, 0, 1, 0, 0, 0, 1, 0, 0, 0, 0, 0, 0, 0, 0, 0, 0, 0, 0, 0, 0, 1, 0, 0, 0, 0, 0, 0, 0, 0, 0, 0, 1, 0, 0, 0, 0, 0, 0, 1, 0, 0, 1, 0, 0, 1, 0, 1, 0, 1, 0, 0, 0, 1, 0, 0, 0, 0, 0, 0, 0, 0, 0, 0, 0, 0, 1, 0, 1, 0, 0, 0, 0, 0, 0, 0, 0, 0, 0, 0, 0, 0, 0, 1, 0, 1, 0, 0, 1, 0, 1, 1, 0, 0, 0, 0, 0, 0, 0, 1, 0, 1, 1, 0, 1, 1, 0, 0, 0, 0, 1, 0, 1, 0, 0, 0, 0, 0, 0, 0, 1, 0, 0, 0, 1, 1, 1, 0, 0, 1, 1, 0, 0, 0, 0, 0, 0, 0, 0, 1, 1, 0, 1, 0, 0, 0, 0, 1, 0, 0, 0, 0, 0, 0, 0, 1, 0, 0, 1, 0, 0, 1, 0, 1, 1, 0, 1, 0, 0, 0, 1, 0, 0, 0, 0, 1, 0, 0, 0, 0, 0, 0, 0, 1, 0, 1, 1, 0, 0, 0, 0, 0, 0, 0, 1, 0, 0, 0, 0, 0, 1, 0, 1, 0, 0, 0, 0, 0, 0, 0, 0, 0, 0, 1, 0, 0, 1, 0, 0, 1, 0, 0, 0, 0, 0, 0, 0, 0, 0, 0, 0, 1, 0, 1, 0, 0, 0, 0, 0, 1, 0, 0, 0, 0, 1, 0, 0, 0, 1, 0, 0, 1, 0, 1, 0, 0, 0, 0, 1, 0, 0, 0, 0, 0, 1, 0, 0, 0, 0, 0, 0, 0, 1, 0, 1, 0, 0, 0, 0, 0, 1, 1, 1, 0, 0, 1, 0, 0, 0, 0, 0, 1, 0, 0, 0, 0, 1, 0, 1, 1, 0, 0, 0, 0, 0, 0, 1, 0, 1, 0, 0, 0, 0, 0, 0, 0, 0, 0, 0, 0, 1, 0, 0, 0, 0, 0, 1, 0, 0, 1, 0, 1, 0, 0, 0, 0, 0, 0, 0, 0, 0, 0, 1, 0, 0, 0, 0, 0, 0, 1, 0, 0, 0, 0, 0, 0, 0, 0, 0, 0, 1, 0, 0, 0, 0, 0, 0, 0, 1, 0, 0, 0, 0, 0, 0, 0, 0, 0, 0, 0, 0, 0, 0, 0, 0, 0, 0, 0, 0, 0, 0, 0, 0, 0, 0, 1, 0, 0, 0, 0, 0, 0, 0, 0, 0, 0, 0, 1, 0, 0, 0, 1, 0, 0, 1, 0, 1, 0, 0, 0, 1, 0, 0, 0, 0, 0, 1, 1, 1, 0, 1, 0, 1, 0, 0, 0, 1, 0, 1, 0, 0, 0, 1, 0, 0, 0, 0, 0, 0, 0, 0, 0, 0]\n"
          ]
        }
      ]
    },
    {
      "cell_type": "code",
      "source": [
        "\n",
        "cf_matrix = confusion_matrix(y_act_lstm, y_pred_lstm)\n",
        "\n",
        "print(cf_matrix)"
      ],
      "metadata": {
        "colab": {
          "base_uri": "https://localhost:8080/"
        },
        "id": "t2nKoUG19U2P",
        "outputId": "062dc503-926e-4131-d4f2-b5b75ee4c5fe"
      },
      "execution_count": null,
      "outputs": [
        {
          "output_type": "stream",
          "name": "stdout",
          "text": [
            "[[2991   34]\n",
            " [  66  704]]\n"
          ]
        }
      ]
    },
    {
      "cell_type": "code",
      "source": [
        "\n",
        "group_names = ['True Neg','False Pos','False Neg','True Pos']\n",
        "group_counts = [\"{0:0.0f}\".format(value) for value in\n",
        "                cf_matrix.flatten()]\n",
        "group_percentages = [\"{0:.2%}\".format(value) for value in\n",
        "                     cf_matrix.flatten()/np.sum(cf_matrix)]\n",
        "labels = [f\"{v1}\\n{v2}\\n{v3}\" for v1, v2, v3 in\n",
        "          zip(group_names,group_counts,group_percentages)]\n",
        "labels = np.asarray(labels).reshape(2,2)\n",
        "ax = plt.axes() # label\n",
        "sns.heatmap(cf_matrix, annot=labels, fmt='', cmap='Blues',ax=ax)\n",
        "ax.set_title('LSTM')\n",
        "plt.show()"
      ],
      "metadata": {
        "colab": {
          "base_uri": "https://localhost:8080/",
          "height": 281
        },
        "id": "HWhX7Q179qy5",
        "outputId": "661810fd-0044-4a55-c27c-a98b7d82d6bc"
      },
      "execution_count": null,
      "outputs": [
        {
          "output_type": "display_data",
          "data": {
            "text/plain": [
              "<Figure size 432x288 with 2 Axes>"
            ],
            "image/png": "[encoded data removed]"
          },
          "metadata": {
            "needs_background": "light"
          }
        }
      ]
    },
    {
      "cell_type": "code",
      "source": [
        "print(classification_report(y_act_lstm, y_pred_lstm))"
      ],
      "metadata": {
        "colab": {
          "base_uri": "https://localhost:8080/"
        },
        "id": "FvbQnM8e92Mn",
        "outputId": "9155478b-0516-423b-f343-064cdea29c13"
      },
      "execution_count": null,
      "outputs": [
        {
          "output_type": "stream",
          "name": "stdout",
          "text": [
            "              precision    recall  f1-score   support\n",
            "\n",
            "           0       0.98      0.99      0.98      3025\n",
            "           1       0.95      0.91      0.93       770\n",
            "\n",
            "    accuracy                           0.97      3795\n",
            "   macro avg       0.97      0.95      0.96      3795\n",
            "weighted avg       0.97      0.97      0.97      3795\n",
            "\n"
          ]
        }
      ]
    }
  ]
}